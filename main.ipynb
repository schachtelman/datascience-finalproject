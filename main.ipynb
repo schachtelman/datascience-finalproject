{
 "cells": [
  {
   "cell_type": "code",
   "execution_count": 1,
   "metadata": {},
   "outputs": [],
   "source": [
    "import pandas as pd\n",
    "import numpy as np\n",
    "import plotly.express as px\n",
    "import pycountry as pc\n",
    "from sklearn.model_selection import train_test_split\n",
    "from sklearn.linear_model import LinearRegression\n",
    "from sklearn.linear_model import SGDRegressor\n",
    "from sklearn.tree import DecisionTreeRegressor\n",
    "from sklearn.metrics import mean_squared_error\n",
    "from sklearn.metrics import r2_score\n",
    "from sklearn.svm import SVR\n",
    "from sklearn.ensemble import RandomForestRegressor\n",
    "from sklearn.isotonic import IsotonicRegression\n",
    "\n",
    "from sklearn.gaussian_process import GaussianProcessRegressor\n",
    "from sklearn.gaussian_process.kernels import DotProduct, WhiteKernel\n",
    "\n",
    "from sklearn import preprocessing\n",
    "\n",
    "from sklearn.neural_network import MLPRegressor\n",
    "\n",
    "from ipywidgets import widgets\n",
    "\n",
    "from IPython.display import display, HTML, clear_output\n",
    "\n",
    "from fast_autocomplete import AutoComplete\n",
    "\n",
    "from tqdm.notebook import tqdm\n",
    "\n",
    "import warnings"
   ]
  },
  {
   "cell_type": "markdown",
   "metadata": {},
   "source": [
    "#### Load and Clean Dataset"
   ]
  },
  {
   "cell_type": "code",
   "execution_count": 2,
   "metadata": {},
   "outputs": [],
   "source": [
    "df = pd.read_csv(\"beer_reviews_countries.csv\")"
   ]
  },
  {
   "cell_type": "code",
   "execution_count": 3,
   "metadata": {},
   "outputs": [],
   "source": [
    "dic = {\"1930\": \"USA\", \"18968\": \"USA\", \"1953\": \"USA\", \"9343\": \"USA\", \"10099\": \"USA\", \"3817\": \"NZL\", \"1549\": \"USA\", \"10097\": \"USA\", \"1548\": \"USA\", \"5379\": \"USA\", \"5318\": \"USA\", \"3257\": \"CAN\", \"23980\": \"USA\"}\n",
    "for brew_id, country_code in dic.items():\n",
    "    country = pc.countries.get(alpha_3 = country_code)\n",
    "    df.loc[df.brewery_id == int(brew_id), \"country_alpha_3\"] = country_code\n",
    "    df.loc[df.brewery_id == int(brew_id), \"country_plain\"] = country.name"
   ]
  },
  {
   "cell_type": "code",
   "execution_count": 4,
   "metadata": {},
   "outputs": [],
   "source": [
    "df = df.drop([\"Unnamed: 0\", \"country_numeric\", \"country_alpha_2\"], axis=1)\n",
    "df = df.dropna()"
   ]
  },
  {
   "cell_type": "code",
   "execution_count": 5,
   "metadata": {},
   "outputs": [],
   "source": [
    "df[[\"brewery_id\", \"beer_beerid\"]] = df[[\"brewery_id\", \"beer_beerid\"]].astype(object)\n",
    "df[\"review_time\"] = pd.to_datetime(df[\"review_time\"], unit='s')"
   ]
  },
  {
   "cell_type": "code",
   "execution_count": 6,
   "metadata": {},
   "outputs": [
    {
     "data": {
      "text/plain": [
       "brewery_id                    object\n",
       "brewery_name                  object\n",
       "review_time           datetime64[ns]\n",
       "review_overall               float64\n",
       "review_aroma                 float64\n",
       "review_appearance            float64\n",
       "review_profilename            object\n",
       "beer_style                    object\n",
       "review_palate                float64\n",
       "review_taste                 float64\n",
       "beer_name                     object\n",
       "beer_abv                     float64\n",
       "beer_beerid                   object\n",
       "country_plain                 object\n",
       "country_alpha_3               object\n",
       "dtype: object"
      ]
     },
     "execution_count": 6,
     "metadata": {},
     "output_type": "execute_result"
    }
   ],
   "source": [
    "df.dtypes"
   ]
  },
  {
   "cell_type": "markdown",
   "metadata": {},
   "source": [
    "#### Add Mean of Reviews and Number of Reviews per Beer"
   ]
  },
  {
   "cell_type": "code",
   "execution_count": 7,
   "metadata": {},
   "outputs": [],
   "source": [
    "df['review_mean'] = (df['review_overall'] + df['review_aroma'] + df['review_appearance'] + df['review_palate'] + df['review_taste']) / 5\n",
    "number_of_beer_reviews = df.beer_beerid.value_counts().rename('review_count')\n",
    "df = df.merge(number_of_beer_reviews.to_frame(), left_on='beer_beerid', right_index=True)"
   ]
  },
  {
   "cell_type": "code",
   "execution_count": 8,
   "metadata": {},
   "outputs": [
    {
     "data": {
      "text/html": [
       "<div>\n",
       "<style scoped>\n",
       "    .dataframe tbody tr th:only-of-type {\n",
       "        vertical-align: middle;\n",
       "    }\n",
       "\n",
       "    .dataframe tbody tr th {\n",
       "        vertical-align: top;\n",
       "    }\n",
       "\n",
       "    .dataframe thead th {\n",
       "        text-align: right;\n",
       "    }\n",
       "</style>\n",
       "<table border=\"1\" class=\"dataframe\">\n",
       "  <thead>\n",
       "    <tr style=\"text-align: right;\">\n",
       "      <th></th>\n",
       "      <th>brewery_id</th>\n",
       "      <th>brewery_name</th>\n",
       "      <th>review_time</th>\n",
       "      <th>review_overall</th>\n",
       "      <th>review_aroma</th>\n",
       "      <th>review_appearance</th>\n",
       "      <th>review_profilename</th>\n",
       "      <th>beer_style</th>\n",
       "      <th>review_palate</th>\n",
       "      <th>review_taste</th>\n",
       "      <th>beer_name</th>\n",
       "      <th>beer_abv</th>\n",
       "      <th>beer_beerid</th>\n",
       "      <th>country_plain</th>\n",
       "      <th>country_alpha_3</th>\n",
       "      <th>review_mean</th>\n",
       "      <th>review_count</th>\n",
       "    </tr>\n",
       "  </thead>\n",
       "  <tbody>\n",
       "    <tr>\n",
       "      <th>0</th>\n",
       "      <td>10325</td>\n",
       "      <td>Vecchio Birraio</td>\n",
       "      <td>2009-02-16 20:57:03</td>\n",
       "      <td>1.5</td>\n",
       "      <td>2.0</td>\n",
       "      <td>2.5</td>\n",
       "      <td>stcules</td>\n",
       "      <td>Hefeweizen</td>\n",
       "      <td>1.5</td>\n",
       "      <td>1.5</td>\n",
       "      <td>Sausa Weizen</td>\n",
       "      <td>5.0</td>\n",
       "      <td>47986</td>\n",
       "      <td>Italy</td>\n",
       "      <td>ITA</td>\n",
       "      <td>1.8</td>\n",
       "      <td>1</td>\n",
       "    </tr>\n",
       "    <tr>\n",
       "      <th>1</th>\n",
       "      <td>10325</td>\n",
       "      <td>Vecchio Birraio</td>\n",
       "      <td>2009-03-01 13:44:57</td>\n",
       "      <td>3.0</td>\n",
       "      <td>2.5</td>\n",
       "      <td>3.0</td>\n",
       "      <td>stcules</td>\n",
       "      <td>English Strong Ale</td>\n",
       "      <td>3.0</td>\n",
       "      <td>3.0</td>\n",
       "      <td>Red Moon</td>\n",
       "      <td>6.2</td>\n",
       "      <td>48213</td>\n",
       "      <td>Italy</td>\n",
       "      <td>ITA</td>\n",
       "      <td>2.9</td>\n",
       "      <td>1</td>\n",
       "    </tr>\n",
       "    <tr>\n",
       "      <th>2</th>\n",
       "      <td>10325</td>\n",
       "      <td>Vecchio Birraio</td>\n",
       "      <td>2009-03-01 14:10:04</td>\n",
       "      <td>3.0</td>\n",
       "      <td>2.5</td>\n",
       "      <td>3.0</td>\n",
       "      <td>stcules</td>\n",
       "      <td>Foreign / Export Stout</td>\n",
       "      <td>3.0</td>\n",
       "      <td>3.0</td>\n",
       "      <td>Black Horse Black Beer</td>\n",
       "      <td>6.5</td>\n",
       "      <td>48215</td>\n",
       "      <td>Italy</td>\n",
       "      <td>ITA</td>\n",
       "      <td>2.9</td>\n",
       "      <td>1</td>\n",
       "    </tr>\n",
       "    <tr>\n",
       "      <th>3</th>\n",
       "      <td>10325</td>\n",
       "      <td>Vecchio Birraio</td>\n",
       "      <td>2009-02-15 19:12:25</td>\n",
       "      <td>3.0</td>\n",
       "      <td>3.0</td>\n",
       "      <td>3.5</td>\n",
       "      <td>stcules</td>\n",
       "      <td>German Pilsener</td>\n",
       "      <td>2.5</td>\n",
       "      <td>3.0</td>\n",
       "      <td>Sausa Pils</td>\n",
       "      <td>5.0</td>\n",
       "      <td>47969</td>\n",
       "      <td>Italy</td>\n",
       "      <td>ITA</td>\n",
       "      <td>3.0</td>\n",
       "      <td>1</td>\n",
       "    </tr>\n",
       "    <tr>\n",
       "      <th>4</th>\n",
       "      <td>1075</td>\n",
       "      <td>Caldera Brewing Company</td>\n",
       "      <td>2010-12-30 18:53:26</td>\n",
       "      <td>4.0</td>\n",
       "      <td>4.5</td>\n",
       "      <td>4.0</td>\n",
       "      <td>johnmichaelsen</td>\n",
       "      <td>American Double / Imperial IPA</td>\n",
       "      <td>4.0</td>\n",
       "      <td>4.5</td>\n",
       "      <td>Cauldron DIPA</td>\n",
       "      <td>7.7</td>\n",
       "      <td>64883</td>\n",
       "      <td>United States</td>\n",
       "      <td>USA</td>\n",
       "      <td>4.2</td>\n",
       "      <td>1</td>\n",
       "    </tr>\n",
       "  </tbody>\n",
       "</table>\n",
       "</div>"
      ],
      "text/plain": [
       "  brewery_id             brewery_name         review_time  review_overall  \\\n",
       "0      10325          Vecchio Birraio 2009-02-16 20:57:03             1.5   \n",
       "1      10325          Vecchio Birraio 2009-03-01 13:44:57             3.0   \n",
       "2      10325          Vecchio Birraio 2009-03-01 14:10:04             3.0   \n",
       "3      10325          Vecchio Birraio 2009-02-15 19:12:25             3.0   \n",
       "4       1075  Caldera Brewing Company 2010-12-30 18:53:26             4.0   \n",
       "\n",
       "   review_aroma  review_appearance review_profilename  \\\n",
       "0           2.0                2.5            stcules   \n",
       "1           2.5                3.0            stcules   \n",
       "2           2.5                3.0            stcules   \n",
       "3           3.0                3.5            stcules   \n",
       "4           4.5                4.0     johnmichaelsen   \n",
       "\n",
       "                       beer_style  review_palate  review_taste  \\\n",
       "0                      Hefeweizen            1.5           1.5   \n",
       "1              English Strong Ale            3.0           3.0   \n",
       "2          Foreign / Export Stout            3.0           3.0   \n",
       "3                 German Pilsener            2.5           3.0   \n",
       "4  American Double / Imperial IPA            4.0           4.5   \n",
       "\n",
       "                beer_name  beer_abv beer_beerid  country_plain  \\\n",
       "0            Sausa Weizen       5.0       47986          Italy   \n",
       "1                Red Moon       6.2       48213          Italy   \n",
       "2  Black Horse Black Beer       6.5       48215          Italy   \n",
       "3              Sausa Pils       5.0       47969          Italy   \n",
       "4           Cauldron DIPA       7.7       64883  United States   \n",
       "\n",
       "  country_alpha_3  review_mean  review_count  \n",
       "0             ITA          1.8             1  \n",
       "1             ITA          2.9             1  \n",
       "2             ITA          2.9             1  \n",
       "3             ITA          3.0             1  \n",
       "4             USA          4.2             1  "
      ]
     },
     "execution_count": 8,
     "metadata": {},
     "output_type": "execute_result"
    }
   ],
   "source": [
    "df.head()"
   ]
  },
  {
   "cell_type": "markdown",
   "metadata": {},
   "source": [
    "### Correlation between alcohol content and all ratings."
   ]
  },
  {
   "cell_type": "markdown",
   "metadata": {},
   "source": [
    "Q1: How do the different ratings and the alcohol content correlate?"
   ]
  },
  {
   "cell_type": "code",
   "execution_count": null,
   "metadata": {},
   "outputs": [],
   "source": [
    "df_beer_abv = df.groupby([\"beer_abv\"]).mean().reset_index()\n",
    "fig = px.scatter_matrix(df_beer_abv, dimensions=[\"beer_abv\", \"review_overall\", \"review_aroma\", \"review_appearance\", \"review_palate\", \"review_taste\"], height=1000)\n",
    "fig.show()"
   ]
  },
  {
   "cell_type": "code",
   "execution_count": 14,
   "metadata": {},
   "outputs": [
    {
     "data": {
      "text/html": [
       "<div>\n",
       "<style scoped>\n",
       "    .dataframe tbody tr th:only-of-type {\n",
       "        vertical-align: middle;\n",
       "    }\n",
       "\n",
       "    .dataframe tbody tr th {\n",
       "        vertical-align: top;\n",
       "    }\n",
       "\n",
       "    .dataframe thead th {\n",
       "        text-align: right;\n",
       "    }\n",
       "</style>\n",
       "<table border=\"1\" class=\"dataframe\">\n",
       "  <thead>\n",
       "    <tr style=\"text-align: right;\">\n",
       "      <th></th>\n",
       "      <th>review_overall</th>\n",
       "      <th>review_aroma</th>\n",
       "      <th>review_appearance</th>\n",
       "      <th>review_palate</th>\n",
       "      <th>review_taste</th>\n",
       "      <th>beer_abv</th>\n",
       "      <th>review_mean</th>\n",
       "      <th>review_count</th>\n",
       "    </tr>\n",
       "  </thead>\n",
       "  <tbody>\n",
       "    <tr>\n",
       "      <th>review_overall</th>\n",
       "      <td>1.00</td>\n",
       "      <td>0.55</td>\n",
       "      <td>0.45</td>\n",
       "      <td>0.65</td>\n",
       "      <td>0.73</td>\n",
       "      <td>0.17</td>\n",
       "      <td>0.83</td>\n",
       "      <td>0.17</td>\n",
       "    </tr>\n",
       "    <tr>\n",
       "      <th>review_aroma</th>\n",
       "      <td>0.55</td>\n",
       "      <td>1.00</td>\n",
       "      <td>0.49</td>\n",
       "      <td>0.56</td>\n",
       "      <td>0.67</td>\n",
       "      <td>0.38</td>\n",
       "      <td>0.80</td>\n",
       "      <td>0.19</td>\n",
       "    </tr>\n",
       "    <tr>\n",
       "      <th>review_appearance</th>\n",
       "      <td>0.45</td>\n",
       "      <td>0.49</td>\n",
       "      <td>1.00</td>\n",
       "      <td>0.51</td>\n",
       "      <td>0.49</td>\n",
       "      <td>0.31</td>\n",
       "      <td>0.69</td>\n",
       "      <td>0.19</td>\n",
       "    </tr>\n",
       "    <tr>\n",
       "      <th>review_palate</th>\n",
       "      <td>0.65</td>\n",
       "      <td>0.56</td>\n",
       "      <td>0.51</td>\n",
       "      <td>1.00</td>\n",
       "      <td>0.68</td>\n",
       "      <td>0.33</td>\n",
       "      <td>0.83</td>\n",
       "      <td>0.19</td>\n",
       "    </tr>\n",
       "    <tr>\n",
       "      <th>review_taste</th>\n",
       "      <td>0.73</td>\n",
       "      <td>0.67</td>\n",
       "      <td>0.49</td>\n",
       "      <td>0.68</td>\n",
       "      <td>1.00</td>\n",
       "      <td>0.35</td>\n",
       "      <td>0.88</td>\n",
       "      <td>0.22</td>\n",
       "    </tr>\n",
       "    <tr>\n",
       "      <th>beer_abv</th>\n",
       "      <td>0.17</td>\n",
       "      <td>0.38</td>\n",
       "      <td>0.31</td>\n",
       "      <td>0.33</td>\n",
       "      <td>0.35</td>\n",
       "      <td>1.00</td>\n",
       "      <td>0.37</td>\n",
       "      <td>0.16</td>\n",
       "    </tr>\n",
       "    <tr>\n",
       "      <th>review_mean</th>\n",
       "      <td>0.83</td>\n",
       "      <td>0.80</td>\n",
       "      <td>0.69</td>\n",
       "      <td>0.83</td>\n",
       "      <td>0.88</td>\n",
       "      <td>0.37</td>\n",
       "      <td>1.00</td>\n",
       "      <td>0.24</td>\n",
       "    </tr>\n",
       "    <tr>\n",
       "      <th>review_count</th>\n",
       "      <td>0.17</td>\n",
       "      <td>0.19</td>\n",
       "      <td>0.19</td>\n",
       "      <td>0.19</td>\n",
       "      <td>0.22</td>\n",
       "      <td>0.16</td>\n",
       "      <td>0.24</td>\n",
       "      <td>1.00</td>\n",
       "    </tr>\n",
       "  </tbody>\n",
       "</table>\n",
       "</div>"
      ],
      "text/plain": [
       "                   review_overall  review_aroma  review_appearance  \\\n",
       "review_overall               1.00          0.55               0.45   \n",
       "review_aroma                 0.55          1.00               0.49   \n",
       "review_appearance            0.45          0.49               1.00   \n",
       "review_palate                0.65          0.56               0.51   \n",
       "review_taste                 0.73          0.67               0.49   \n",
       "beer_abv                     0.17          0.38               0.31   \n",
       "review_mean                  0.83          0.80               0.69   \n",
       "review_count                 0.17          0.19               0.19   \n",
       "\n",
       "                   review_palate  review_taste  beer_abv  review_mean  \\\n",
       "review_overall              0.65          0.73      0.17         0.83   \n",
       "review_aroma                0.56          0.67      0.38         0.80   \n",
       "review_appearance           0.51          0.49      0.31         0.69   \n",
       "review_palate               1.00          0.68      0.33         0.83   \n",
       "review_taste                0.68          1.00      0.35         0.88   \n",
       "beer_abv                    0.33          0.35      1.00         0.37   \n",
       "review_mean                 0.83          0.88      0.37         1.00   \n",
       "review_count                0.19          0.22      0.16         0.24   \n",
       "\n",
       "                   review_count  \n",
       "review_overall             0.17  \n",
       "review_aroma               0.19  \n",
       "review_appearance          0.19  \n",
       "review_palate              0.19  \n",
       "review_taste               0.22  \n",
       "beer_abv                   0.16  \n",
       "review_mean                0.24  \n",
       "review_count               1.00  "
      ]
     },
     "execution_count": 14,
     "metadata": {},
     "output_type": "execute_result"
    }
   ],
   "source": [
    "df.corr(method='spearman').round(decimals=2)"
   ]
  },
  {
   "cell_type": "markdown",
   "metadata": {},
   "source": [
    "# ABV"
   ]
  },
  {
   "cell_type": "markdown",
   "metadata": {},
   "source": [
    "Q2: What is the mean alcohol content?"
   ]
  },
  {
   "cell_type": "code",
   "execution_count": 16,
   "metadata": {},
   "outputs": [
    {
     "data": {
      "text/plain": [
       "count    1.518451e+06\n",
       "mean     7.042527e+00\n",
       "std      2.322569e+00\n",
       "min      1.000000e-02\n",
       "25%      5.200000e+00\n",
       "50%      6.500000e+00\n",
       "75%      8.500000e+00\n",
       "max      5.770000e+01\n",
       "Name: beer_abv, dtype: float64"
      ]
     },
     "execution_count": 16,
     "metadata": {},
     "output_type": "execute_result"
    }
   ],
   "source": [
    "df.beer_abv.describe()"
   ]
  },
  {
   "cell_type": "markdown",
   "metadata": {},
   "source": [
    "## Distribution of the beer strength"
   ]
  },
  {
   "cell_type": "markdown",
   "metadata": {},
   "source": [
    "Q3: How does the detailed distribution of the alcohol content look like?"
   ]
  },
  {
   "cell_type": "code",
   "execution_count": null,
   "metadata": {},
   "outputs": [],
   "source": [
    "fig = px.histogram(data_frame=df[df['beer_abv']<20], x=\"beer_abv\", title='How strong is the beer???', nbins=50)\n",
    "fig.show()"
   ]
  },
  {
   "cell_type": "code",
   "execution_count": null,
   "metadata": {},
   "outputs": [],
   "source": [
    "fig = px.box(df[df['beer_abv']<20], x=\"beer_abv\", orientation=\"h\", title='How strong is the beer??? - as Boxplot')\n",
    "fig.show()"
   ]
  },
  {
   "cell_type": "markdown",
   "metadata": {},
   "source": [
    "## ABV vs. Country"
   ]
  },
  {
   "cell_type": "code",
   "execution_count": 19,
   "metadata": {},
   "outputs": [],
   "source": [
    "df_country = df.groupby([\"country_plain\", \"country_alpha_3\"]).mean().reset_index().round(4)"
   ]
  },
  {
   "cell_type": "markdown",
   "metadata": {},
   "source": [
    "Q4: Which countries produce the strongest/weakest beer?"
   ]
  },
  {
   "cell_type": "code",
   "execution_count": 20,
   "metadata": {},
   "outputs": [
    {
     "data": {
      "text/html": [
       "<div>\n",
       "<style scoped>\n",
       "    .dataframe tbody tr th:only-of-type {\n",
       "        vertical-align: middle;\n",
       "    }\n",
       "\n",
       "    .dataframe tbody tr th {\n",
       "        vertical-align: top;\n",
       "    }\n",
       "\n",
       "    .dataframe thead th {\n",
       "        text-align: right;\n",
       "    }\n",
       "</style>\n",
       "<table border=\"1\" class=\"dataframe\">\n",
       "  <thead>\n",
       "    <tr style=\"text-align: right;\">\n",
       "      <th></th>\n",
       "      <th>country_plain</th>\n",
       "      <th>country_alpha_3</th>\n",
       "      <th>review_overall</th>\n",
       "      <th>review_aroma</th>\n",
       "      <th>review_appearance</th>\n",
       "      <th>review_palate</th>\n",
       "      <th>review_taste</th>\n",
       "      <th>beer_abv</th>\n",
       "      <th>review_mean</th>\n",
       "      <th>review_count</th>\n",
       "    </tr>\n",
       "  </thead>\n",
       "  <tbody>\n",
       "    <tr>\n",
       "      <th>95</th>\n",
       "      <td>Norway</td>\n",
       "      <td>NOR</td>\n",
       "      <td>3.8726</td>\n",
       "      <td>3.9261</td>\n",
       "      <td>4.0079</td>\n",
       "      <td>3.8962</td>\n",
       "      <td>3.9540</td>\n",
       "      <td>8.7841</td>\n",
       "      <td>3.9314</td>\n",
       "      <td>149.8517</td>\n",
       "    </tr>\n",
       "    <tr>\n",
       "      <th>119</th>\n",
       "      <td>Sri Lanka</td>\n",
       "      <td>LKA</td>\n",
       "      <td>3.8077</td>\n",
       "      <td>3.6963</td>\n",
       "      <td>3.9720</td>\n",
       "      <td>3.7637</td>\n",
       "      <td>3.7967</td>\n",
       "      <td>8.4667</td>\n",
       "      <td>3.8073</td>\n",
       "      <td>661.4136</td>\n",
       "    </tr>\n",
       "    <tr>\n",
       "      <th>7</th>\n",
       "      <td>Austria</td>\n",
       "      <td>AUT</td>\n",
       "      <td>3.6219</td>\n",
       "      <td>3.6260</td>\n",
       "      <td>3.6575</td>\n",
       "      <td>3.6556</td>\n",
       "      <td>3.6879</td>\n",
       "      <td>8.4279</td>\n",
       "      <td>3.6498</td>\n",
       "      <td>292.4105</td>\n",
       "    </tr>\n",
       "    <tr>\n",
       "      <th>32</th>\n",
       "      <td>Denmark</td>\n",
       "      <td>DNK</td>\n",
       "      <td>3.7131</td>\n",
       "      <td>3.7594</td>\n",
       "      <td>3.9284</td>\n",
       "      <td>3.7460</td>\n",
       "      <td>3.7566</td>\n",
       "      <td>8.3297</td>\n",
       "      <td>3.7807</td>\n",
       "      <td>179.0097</td>\n",
       "    </tr>\n",
       "    <tr>\n",
       "      <th>64</th>\n",
       "      <td>Jordan</td>\n",
       "      <td>JOR</td>\n",
       "      <td>2.0000</td>\n",
       "      <td>2.3000</td>\n",
       "      <td>2.6000</td>\n",
       "      <td>2.2000</td>\n",
       "      <td>1.9000</td>\n",
       "      <td>8.2000</td>\n",
       "      <td>2.2000</td>\n",
       "      <td>1.8000</td>\n",
       "    </tr>\n",
       "  </tbody>\n",
       "</table>\n",
       "</div>"
      ],
      "text/plain": [
       "    country_plain country_alpha_3  review_overall  review_aroma  \\\n",
       "95         Norway             NOR          3.8726        3.9261   \n",
       "119     Sri Lanka             LKA          3.8077        3.6963   \n",
       "7         Austria             AUT          3.6219        3.6260   \n",
       "32        Denmark             DNK          3.7131        3.7594   \n",
       "64         Jordan             JOR          2.0000        2.3000   \n",
       "\n",
       "     review_appearance  review_palate  review_taste  beer_abv  review_mean  \\\n",
       "95              4.0079         3.8962        3.9540    8.7841       3.9314   \n",
       "119             3.9720         3.7637        3.7967    8.4667       3.8073   \n",
       "7               3.6575         3.6556        3.6879    8.4279       3.6498   \n",
       "32              3.9284         3.7460        3.7566    8.3297       3.7807   \n",
       "64              2.6000         2.2000        1.9000    8.2000       2.2000   \n",
       "\n",
       "     review_count  \n",
       "95       149.8517  \n",
       "119      661.4136  \n",
       "7        292.4105  \n",
       "32       179.0097  \n",
       "64         1.8000  "
      ]
     },
     "execution_count": 20,
     "metadata": {},
     "output_type": "execute_result"
    }
   ],
   "source": [
    "df_country.sort_values(by=['beer_abv'], ascending=False).head()"
   ]
  },
  {
   "cell_type": "code",
   "execution_count": 21,
   "metadata": {},
   "outputs": [
    {
     "data": {
      "text/html": [
       "<div>\n",
       "<style scoped>\n",
       "    .dataframe tbody tr th:only-of-type {\n",
       "        vertical-align: middle;\n",
       "    }\n",
       "\n",
       "    .dataframe tbody tr th {\n",
       "        vertical-align: top;\n",
       "    }\n",
       "\n",
       "    .dataframe thead th {\n",
       "        text-align: right;\n",
       "    }\n",
       "</style>\n",
       "<table border=\"1\" class=\"dataframe\">\n",
       "  <thead>\n",
       "    <tr style=\"text-align: right;\">\n",
       "      <th></th>\n",
       "      <th>country_plain</th>\n",
       "      <th>country_alpha_3</th>\n",
       "      <th>review_overall</th>\n",
       "      <th>review_aroma</th>\n",
       "      <th>review_appearance</th>\n",
       "      <th>review_palate</th>\n",
       "      <th>review_taste</th>\n",
       "      <th>beer_abv</th>\n",
       "      <th>review_mean</th>\n",
       "      <th>review_count</th>\n",
       "    </tr>\n",
       "  </thead>\n",
       "  <tbody>\n",
       "    <tr>\n",
       "      <th>130</th>\n",
       "      <td>Turkmenistan</td>\n",
       "      <td>TKM</td>\n",
       "      <td>3.0000</td>\n",
       "      <td>3.5000</td>\n",
       "      <td>3.5000</td>\n",
       "      <td>3.0000</td>\n",
       "      <td>3.5000</td>\n",
       "      <td>3.5000</td>\n",
       "      <td>3.300</td>\n",
       "      <td>1.0000</td>\n",
       "    </tr>\n",
       "    <tr>\n",
       "      <th>123</th>\n",
       "      <td>Syrian Arab Republic</td>\n",
       "      <td>SYR</td>\n",
       "      <td>1.5000</td>\n",
       "      <td>2.5000</td>\n",
       "      <td>3.0000</td>\n",
       "      <td>1.5000</td>\n",
       "      <td>1.5000</td>\n",
       "      <td>3.5000</td>\n",
       "      <td>2.000</td>\n",
       "      <td>1.0000</td>\n",
       "    </tr>\n",
       "    <tr>\n",
       "      <th>76</th>\n",
       "      <td>Macao</td>\n",
       "      <td>MAC</td>\n",
       "      <td>2.5000</td>\n",
       "      <td>2.3333</td>\n",
       "      <td>2.4583</td>\n",
       "      <td>2.3333</td>\n",
       "      <td>2.5000</td>\n",
       "      <td>4.0000</td>\n",
       "      <td>2.425</td>\n",
       "      <td>12.0000</td>\n",
       "    </tr>\n",
       "    <tr>\n",
       "      <th>71</th>\n",
       "      <td>Lebanon</td>\n",
       "      <td>LBN</td>\n",
       "      <td>3.0074</td>\n",
       "      <td>2.8529</td>\n",
       "      <td>3.1507</td>\n",
       "      <td>2.8640</td>\n",
       "      <td>2.8199</td>\n",
       "      <td>4.1382</td>\n",
       "      <td>2.939</td>\n",
       "      <td>88.2500</td>\n",
       "    </tr>\n",
       "    <tr>\n",
       "      <th>35</th>\n",
       "      <td>Ecuador</td>\n",
       "      <td>ECU</td>\n",
       "      <td>3.1667</td>\n",
       "      <td>2.6250</td>\n",
       "      <td>2.8750</td>\n",
       "      <td>2.7083</td>\n",
       "      <td>2.7500</td>\n",
       "      <td>4.1667</td>\n",
       "      <td>2.825</td>\n",
       "      <td>10.5833</td>\n",
       "    </tr>\n",
       "  </tbody>\n",
       "</table>\n",
       "</div>"
      ],
      "text/plain": [
       "            country_plain country_alpha_3  review_overall  review_aroma  \\\n",
       "130          Turkmenistan             TKM          3.0000        3.5000   \n",
       "123  Syrian Arab Republic             SYR          1.5000        2.5000   \n",
       "76                  Macao             MAC          2.5000        2.3333   \n",
       "71                Lebanon             LBN          3.0074        2.8529   \n",
       "35                Ecuador             ECU          3.1667        2.6250   \n",
       "\n",
       "     review_appearance  review_palate  review_taste  beer_abv  review_mean  \\\n",
       "130             3.5000         3.0000        3.5000    3.5000        3.300   \n",
       "123             3.0000         1.5000        1.5000    3.5000        2.000   \n",
       "76              2.4583         2.3333        2.5000    4.0000        2.425   \n",
       "71              3.1507         2.8640        2.8199    4.1382        2.939   \n",
       "35              2.8750         2.7083        2.7500    4.1667        2.825   \n",
       "\n",
       "     review_count  \n",
       "130        1.0000  \n",
       "123        1.0000  \n",
       "76        12.0000  \n",
       "71        88.2500  \n",
       "35        10.5833  "
      ]
     },
     "execution_count": 21,
     "metadata": {},
     "output_type": "execute_result"
    }
   ],
   "source": [
    "df_country.sort_values(by=['beer_abv']).head()"
   ]
  },
  {
   "cell_type": "markdown",
   "metadata": {},
   "source": [
    "### Map that shows an overview of the mean beer strength for the different countries"
   ]
  },
  {
   "cell_type": "code",
   "execution_count": null,
   "metadata": {},
   "outputs": [],
   "source": [
    "fig = px.choropleth(df_country, locations=\"country_alpha_3\",\n",
    "                    color=\"beer_abv\",\n",
    "                    hover_name=\"country_plain\",\n",
    "                    color_continuous_scale=px.colors.sequential.OrRd,\n",
    "                   height = 1000)\n",
    "fig.show()"
   ]
  },
  {
   "cell_type": "markdown",
   "metadata": {},
   "source": [
    "# Beer Style"
   ]
  },
  {
   "cell_type": "markdown",
   "metadata": {},
   "source": [
    "Q5: What is the most common beer style? <br>\n",
    "Q6: How many different beer styles are there?"
   ]
  },
  {
   "cell_type": "code",
   "execution_count": 22,
   "metadata": {},
   "outputs": [
    {
     "data": {
      "text/plain": [
       "count          1518451\n",
       "unique             104\n",
       "top       American IPA\n",
       "freq            113144\n",
       "Name: beer_style, dtype: object"
      ]
     },
     "execution_count": 22,
     "metadata": {},
     "output_type": "execute_result"
    }
   ],
   "source": [
    "df.beer_style.describe()"
   ]
  },
  {
   "cell_type": "markdown",
   "metadata": {},
   "source": [
    "## Beer Style vs. Rating"
   ]
  },
  {
   "cell_type": "markdown",
   "metadata": {},
   "source": [
    "Q7: What are the best rated beer styles?"
   ]
  },
  {
   "cell_type": "code",
   "execution_count": 23,
   "metadata": {},
   "outputs": [
    {
     "data": {
      "text/plain": [
       "(104, 9)"
      ]
     },
     "execution_count": 23,
     "metadata": {},
     "output_type": "execute_result"
    }
   ],
   "source": [
    "df_beer_style = df.groupby([\"beer_style\"]).mean().reset_index().round(4)\n",
    "df_beer_style.shape"
   ]
  },
  {
   "cell_type": "code",
   "execution_count": 24,
   "metadata": {},
   "outputs": [
    {
     "data": {
      "text/html": [
       "<div>\n",
       "<style scoped>\n",
       "    .dataframe tbody tr th:only-of-type {\n",
       "        vertical-align: middle;\n",
       "    }\n",
       "\n",
       "    .dataframe tbody tr th {\n",
       "        vertical-align: top;\n",
       "    }\n",
       "\n",
       "    .dataframe thead th {\n",
       "        text-align: right;\n",
       "    }\n",
       "</style>\n",
       "<table border=\"1\" class=\"dataframe\">\n",
       "  <thead>\n",
       "    <tr style=\"text-align: right;\">\n",
       "      <th></th>\n",
       "      <th>beer_style</th>\n",
       "      <th>review_overall</th>\n",
       "      <th>review_aroma</th>\n",
       "      <th>review_appearance</th>\n",
       "      <th>review_palate</th>\n",
       "      <th>review_taste</th>\n",
       "      <th>beer_abv</th>\n",
       "      <th>review_mean</th>\n",
       "      <th>review_count</th>\n",
       "    </tr>\n",
       "  </thead>\n",
       "  <tbody>\n",
       "    <tr>\n",
       "      <th>86</th>\n",
       "      <td>Quadrupel (Quad)</td>\n",
       "      <td>4.0732</td>\n",
       "      <td>4.1335</td>\n",
       "      <td>4.1199</td>\n",
       "      <td>4.1270</td>\n",
       "      <td>4.2125</td>\n",
       "      <td>10.4615</td>\n",
       "      <td>4.1332</td>\n",
       "      <td>990.0421</td>\n",
       "    </tr>\n",
       "    <tr>\n",
       "      <th>11</th>\n",
       "      <td>American Double / Imperial Stout</td>\n",
       "      <td>4.0305</td>\n",
       "      <td>4.1615</td>\n",
       "      <td>4.1642</td>\n",
       "      <td>4.0997</td>\n",
       "      <td>4.1885</td>\n",
       "      <td>10.6055</td>\n",
       "      <td>4.1289</td>\n",
       "      <td>736.1714</td>\n",
       "    </tr>\n",
       "    <tr>\n",
       "      <th>89</th>\n",
       "      <td>Russian Imperial Stout</td>\n",
       "      <td>4.0247</td>\n",
       "      <td>4.0777</td>\n",
       "      <td>4.2127</td>\n",
       "      <td>4.0899</td>\n",
       "      <td>4.1516</td>\n",
       "      <td>9.9868</td>\n",
       "      <td>4.1113</td>\n",
       "      <td>1015.6329</td>\n",
       "    </tr>\n",
       "    <tr>\n",
       "      <th>20</th>\n",
       "      <td>American Wild Ale</td>\n",
       "      <td>4.1004</td>\n",
       "      <td>4.1347</td>\n",
       "      <td>4.0113</td>\n",
       "      <td>4.0477</td>\n",
       "      <td>4.1610</td>\n",
       "      <td>7.7136</td>\n",
       "      <td>4.0910</td>\n",
       "      <td>300.9826</td>\n",
       "    </tr>\n",
       "    <tr>\n",
       "      <th>41</th>\n",
       "      <td>Eisbock</td>\n",
       "      <td>3.9754</td>\n",
       "      <td>4.1573</td>\n",
       "      <td>3.9630</td>\n",
       "      <td>4.1124</td>\n",
       "      <td>4.2112</td>\n",
       "      <td>11.3929</td>\n",
       "      <td>4.0839</td>\n",
       "      <td>507.1148</td>\n",
       "    </tr>\n",
       "  </tbody>\n",
       "</table>\n",
       "</div>"
      ],
      "text/plain": [
       "                          beer_style  review_overall  review_aroma  \\\n",
       "86                  Quadrupel (Quad)          4.0732        4.1335   \n",
       "11  American Double / Imperial Stout          4.0305        4.1615   \n",
       "89            Russian Imperial Stout          4.0247        4.0777   \n",
       "20                 American Wild Ale          4.1004        4.1347   \n",
       "41                           Eisbock          3.9754        4.1573   \n",
       "\n",
       "    review_appearance  review_palate  review_taste  beer_abv  review_mean  \\\n",
       "86             4.1199         4.1270        4.2125   10.4615       4.1332   \n",
       "11             4.1642         4.0997        4.1885   10.6055       4.1289   \n",
       "89             4.2127         4.0899        4.1516    9.9868       4.1113   \n",
       "20             4.0113         4.0477        4.1610    7.7136       4.0910   \n",
       "41             3.9630         4.1124        4.2112   11.3929       4.0839   \n",
       "\n",
       "    review_count  \n",
       "86      990.0421  \n",
       "11      736.1714  \n",
       "89     1015.6329  \n",
       "20      300.9826  \n",
       "41      507.1148  "
      ]
     },
     "execution_count": 24,
     "metadata": {},
     "output_type": "execute_result"
    }
   ],
   "source": [
    "df_beer_style_sorted = df_beer_style.sort_values(by=['review_mean'])\n",
    "df_beer_style_sorted.sort_values(by=['review_mean'], ascending=False).head()"
   ]
  },
  {
   "cell_type": "markdown",
   "metadata": {},
   "source": [
    "### Overview of all beer styles by rating"
   ]
  },
  {
   "cell_type": "markdown",
   "metadata": {},
   "source": [
    "Q8: How do the beer styles differ in the individual ratings?"
   ]
  },
  {
   "cell_type": "code",
   "execution_count": 25,
   "metadata": {},
   "outputs": [
    {
     "data": {
      "application/vnd.plotly.v1+json": {
       "config": {
        "plotlyServerURL": "https://plot.ly"
       },
       "data": [
        {
         "hovertemplate": "beer_style=%{x}<br>review_mean=%{y}<extra></extra>",
         "legendgroup": "",
         "marker": {
          "color": "#636efa",
          "symbol": "circle"
         },
         "mode": "markers",
         "name": "",
         "showlegend": false,
         "type": "scatter",
         "x": [
          "Light Lager",
          "Low Alcohol Beer",
          "American Malt Liquor",
          "American Adjunct Lager",
          "Happoshu",
          "Japanese Rice Lager",
          "Euro Strong Lager",
          "Euro Pale Lager",
          "American Pale Lager",
          "Chile Beer",
          "Kvass",
          "Euro Dark Lager",
          "American Amber / Red Lager",
          "Black & Tan",
          "Fruit / Vegetable Beer",
          "American Blonde Ale",
          "Cream Ale",
          "English Pale Mild Ale",
          "American Pale Wheat Ale",
          "Herbed / Spiced Beer",
          "German Pilsener",
          "Kristalweizen",
          "Bock",
          "English Pale Ale",
          "Kölsch",
          "Irish Red Ale",
          "Munich Dunkel Lager",
          "American Dark Wheat Ale",
          "Czech Pilsener",
          "Vienna Lager",
          "Pumpkin Ale",
          "English Bitter",
          "Munich Helles Lager",
          "Faro",
          "English Brown Ale",
          "Märzen / Oktoberfest",
          "English Dark Mild Ale",
          "Dortmunder / Export Lager",
          "English India Pale Ale (IPA)",
          "Witbier",
          "Scottish Gruit / Ancient Herbed Ale",
          "English Stout",
          "Scottish Ale",
          "Winter Warmer",
          "California Common / Steam Beer",
          "Braggot",
          "American Amber / Red Ale",
          "Irish Dry Stout",
          "Belgian Dark Ale",
          "Sahti",
          "Berliner Weissbier",
          "Schwarzbier",
          "Altbier",
          "American Pale Ale (APA)",
          "Maibock / Helles Bock",
          "Extra Special / Strong Bitter (ESB)",
          "Bière de Champagne / Bière Brut",
          "Belgian Pale Ale",
          "Smoked Beer",
          "English Strong Ale",
          "Dunkelweizen",
          "Hefeweizen",
          "Keller Bier / Zwickel Bier",
          "American Brown Ale",
          "Bière de Garde",
          "Rauchbier",
          "Roggenbier",
          "Milk / Sweet Stout",
          "English Porter",
          "American Porter",
          "Gose",
          "American Stout",
          "Foreign / Export Stout",
          "Doppelbock",
          "Scotch Ale / Wee Heavy",
          "Flanders Oud Bruin",
          "American Double / Imperial Pilsner",
          "Belgian Strong Pale Ale",
          "Oatmeal Stout",
          "Wheatwine",
          "American IPA",
          "English Barleywine",
          "Tripel",
          "Lambic - Fruit",
          "Dubbel",
          "Saison / Farmhouse Ale",
          "Old Ale",
          "Rye Beer",
          "Belgian Strong Dark Ale",
          "American Black Ale",
          "American Strong Ale",
          "Baltic Porter",
          "Belgian IPA",
          "American Barleywine",
          "Flanders Red Ale",
          "Weizenbock",
          "Lambic - Unblended",
          "American Double / Imperial IPA",
          "Gueuze",
          "Eisbock",
          "American Wild Ale",
          "Russian Imperial Stout",
          "American Double / Imperial Stout",
          "Quadrupel (Quad)"
         ],
         "xaxis": "x",
         "y": [
          2.3602,
          2.5635,
          2.6232,
          2.7396,
          2.7646,
          2.9038,
          2.9497,
          3.0573,
          3.2416,
          3.2571,
          3.3681,
          3.3712,
          3.4159,
          3.4253,
          3.456,
          3.4648,
          3.4758,
          3.5096,
          3.5206,
          3.5365,
          3.559,
          3.5694,
          3.5743,
          3.5775,
          3.5792,
          3.5964,
          3.6005,
          3.6059,
          3.6165,
          3.6226,
          3.6486,
          3.657,
          3.6594,
          3.6617,
          3.6631,
          3.6632,
          3.6649,
          3.6672,
          3.68,
          3.6836,
          3.6922,
          3.7196,
          3.7232,
          3.7295,
          3.7304,
          3.7305,
          3.7369,
          3.7392,
          3.7427,
          3.7443,
          3.747,
          3.7501,
          3.7519,
          3.7558,
          3.7571,
          3.7647,
          3.7811,
          3.7887,
          3.7921,
          3.8012,
          3.8019,
          3.8362,
          3.8385,
          3.8433,
          3.8583,
          3.866,
          3.8767,
          3.8771,
          3.8822,
          3.8866,
          3.8867,
          3.8949,
          3.897,
          3.9015,
          3.9016,
          3.9133,
          3.9184,
          3.9214,
          3.9264,
          3.9271,
          3.9305,
          3.9309,
          3.9349,
          3.9377,
          3.9378,
          3.9477,
          3.9713,
          3.9718,
          3.9732,
          3.9747,
          3.9762,
          3.9857,
          3.9981,
          4.0015,
          4.0227,
          4.0299,
          4.0416,
          4.0601,
          4.0835,
          4.0839,
          4.091,
          4.1113,
          4.1289,
          4.1332
         ],
         "yaxis": "y"
        },
        {
         "name": "Overall",
         "type": "scatter",
         "x": [
          "Light Lager",
          "Low Alcohol Beer",
          "American Malt Liquor",
          "American Adjunct Lager",
          "Happoshu",
          "Japanese Rice Lager",
          "Euro Strong Lager",
          "Euro Pale Lager",
          "American Pale Lager",
          "Chile Beer",
          "Kvass",
          "Euro Dark Lager",
          "American Amber / Red Lager",
          "Black & Tan",
          "Fruit / Vegetable Beer",
          "American Blonde Ale",
          "Cream Ale",
          "English Pale Mild Ale",
          "American Pale Wheat Ale",
          "Herbed / Spiced Beer",
          "German Pilsener",
          "Kristalweizen",
          "Bock",
          "English Pale Ale",
          "Kölsch",
          "Irish Red Ale",
          "Munich Dunkel Lager",
          "American Dark Wheat Ale",
          "Czech Pilsener",
          "Vienna Lager",
          "Pumpkin Ale",
          "English Bitter",
          "Munich Helles Lager",
          "Faro",
          "English Brown Ale",
          "Märzen / Oktoberfest",
          "English Dark Mild Ale",
          "Dortmunder / Export Lager",
          "English India Pale Ale (IPA)",
          "Witbier",
          "Scottish Gruit / Ancient Herbed Ale",
          "English Stout",
          "Scottish Ale",
          "Winter Warmer",
          "California Common / Steam Beer",
          "Braggot",
          "American Amber / Red Ale",
          "Irish Dry Stout",
          "Belgian Dark Ale",
          "Sahti",
          "Berliner Weissbier",
          "Schwarzbier",
          "Altbier",
          "American Pale Ale (APA)",
          "Maibock / Helles Bock",
          "Extra Special / Strong Bitter (ESB)",
          "Bière de Champagne / Bière Brut",
          "Belgian Pale Ale",
          "Smoked Beer",
          "English Strong Ale",
          "Dunkelweizen",
          "Hefeweizen",
          "Keller Bier / Zwickel Bier",
          "American Brown Ale",
          "Bière de Garde",
          "Rauchbier",
          "Roggenbier",
          "Milk / Sweet Stout",
          "English Porter",
          "American Porter",
          "Gose",
          "American Stout",
          "Foreign / Export Stout",
          "Doppelbock",
          "Scotch Ale / Wee Heavy",
          "Flanders Oud Bruin",
          "American Double / Imperial Pilsner",
          "Belgian Strong Pale Ale",
          "Oatmeal Stout",
          "Wheatwine",
          "American IPA",
          "English Barleywine",
          "Tripel",
          "Lambic - Fruit",
          "Dubbel",
          "Saison / Farmhouse Ale",
          "Old Ale",
          "Rye Beer",
          "Belgian Strong Dark Ale",
          "American Black Ale",
          "American Strong Ale",
          "Baltic Porter",
          "Belgian IPA",
          "American Barleywine",
          "Flanders Red Ale",
          "Weizenbock",
          "Lambic - Unblended",
          "American Double / Imperial IPA",
          "Gueuze",
          "Eisbock",
          "American Wild Ale",
          "Russian Imperial Stout",
          "American Double / Imperial Stout",
          "Quadrupel (Quad)"
         ],
         "y": [
          2.6869,
          2.552,
          2.6778,
          3.0105,
          2.9135,
          3.1197,
          2.8604,
          3.2039,
          3.4106,
          3.1084,
          3.369,
          3.4024,
          3.5774,
          3.5068,
          3.4186,
          3.609,
          3.6095,
          3.6489,
          3.6605,
          3.47,
          3.7392,
          3.7326,
          3.6507,
          3.69,
          3.797,
          3.6905,
          3.7241,
          3.6683,
          3.7932,
          3.7762,
          3.6218,
          3.7868,
          3.8758,
          3.6003,
          3.7743,
          3.7819,
          3.8375,
          3.8364,
          3.7445,
          3.7842,
          3.6898,
          3.7501,
          3.7881,
          3.7052,
          3.8711,
          3.653,
          3.803,
          3.8006,
          3.7482,
          3.6972,
          3.8795,
          3.8365,
          3.8316,
          3.8708,
          3.8327,
          3.8527,
          3.6451,
          3.8237,
          3.7535,
          3.7857,
          3.8669,
          3.9537,
          3.9877,
          3.8689,
          3.8806,
          3.7999,
          3.9506,
          3.8917,
          3.9211,
          3.9091,
          3.9618,
          3.8804,
          3.8789,
          3.8761,
          3.8749,
          3.9043,
          3.8601,
          3.8957,
          3.9522,
          3.8195,
          3.9722,
          3.8497,
          3.9178,
          3.8906,
          3.9291,
          3.9652,
          3.8996,
          3.9891,
          3.9142,
          3.9352,
          3.8747,
          3.9574,
          3.9635,
          3.8989,
          3.9958,
          4.0112,
          4.0606,
          4.0003,
          4.0874,
          3.9754,
          4.1004,
          4.0247,
          4.0305,
          4.0732
         ]
        },
        {
         "name": "Aroma",
         "type": "scatter",
         "x": [
          "Light Lager",
          "Low Alcohol Beer",
          "American Malt Liquor",
          "American Adjunct Lager",
          "Happoshu",
          "Japanese Rice Lager",
          "Euro Strong Lager",
          "Euro Pale Lager",
          "American Pale Lager",
          "Chile Beer",
          "Kvass",
          "Euro Dark Lager",
          "American Amber / Red Lager",
          "Black & Tan",
          "Fruit / Vegetable Beer",
          "American Blonde Ale",
          "Cream Ale",
          "English Pale Mild Ale",
          "American Pale Wheat Ale",
          "Herbed / Spiced Beer",
          "German Pilsener",
          "Kristalweizen",
          "Bock",
          "English Pale Ale",
          "Kölsch",
          "Irish Red Ale",
          "Munich Dunkel Lager",
          "American Dark Wheat Ale",
          "Czech Pilsener",
          "Vienna Lager",
          "Pumpkin Ale",
          "English Bitter",
          "Munich Helles Lager",
          "Faro",
          "English Brown Ale",
          "Märzen / Oktoberfest",
          "English Dark Mild Ale",
          "Dortmunder / Export Lager",
          "English India Pale Ale (IPA)",
          "Witbier",
          "Scottish Gruit / Ancient Herbed Ale",
          "English Stout",
          "Scottish Ale",
          "Winter Warmer",
          "California Common / Steam Beer",
          "Braggot",
          "American Amber / Red Ale",
          "Irish Dry Stout",
          "Belgian Dark Ale",
          "Sahti",
          "Berliner Weissbier",
          "Schwarzbier",
          "Altbier",
          "American Pale Ale (APA)",
          "Maibock / Helles Bock",
          "Extra Special / Strong Bitter (ESB)",
          "Bière de Champagne / Bière Brut",
          "Belgian Pale Ale",
          "Smoked Beer",
          "English Strong Ale",
          "Dunkelweizen",
          "Hefeweizen",
          "Keller Bier / Zwickel Bier",
          "American Brown Ale",
          "Bière de Garde",
          "Rauchbier",
          "Roggenbier",
          "Milk / Sweet Stout",
          "English Porter",
          "American Porter",
          "Gose",
          "American Stout",
          "Foreign / Export Stout",
          "Doppelbock",
          "Scotch Ale / Wee Heavy",
          "Flanders Oud Bruin",
          "American Double / Imperial Pilsner",
          "Belgian Strong Pale Ale",
          "Oatmeal Stout",
          "Wheatwine",
          "American IPA",
          "English Barleywine",
          "Tripel",
          "Lambic - Fruit",
          "Dubbel",
          "Saison / Farmhouse Ale",
          "Old Ale",
          "Rye Beer",
          "Belgian Strong Dark Ale",
          "American Black Ale",
          "American Strong Ale",
          "Baltic Porter",
          "Belgian IPA",
          "American Barleywine",
          "Flanders Red Ale",
          "Weizenbock",
          "Lambic - Unblended",
          "American Double / Imperial IPA",
          "Gueuze",
          "Eisbock",
          "American Wild Ale",
          "Russian Imperial Stout",
          "American Double / Imperial Stout",
          "Quadrupel (Quad)"
         ],
         "y": [
          2.1443,
          2.4382,
          2.4109,
          2.4787,
          2.597,
          2.6474,
          2.8705,
          2.8486,
          3.0485,
          3.2802,
          3.3188,
          3.2642,
          3.22,
          3.2849,
          3.5303,
          3.3281,
          3.2942,
          3.385,
          3.4154,
          3.5716,
          3.3939,
          3.4499,
          3.4454,
          3.4233,
          3.3939,
          3.4258,
          3.4562,
          3.5235,
          3.4427,
          3.442,
          3.7544,
          3.5207,
          3.4744,
          3.6793,
          3.5568,
          3.5113,
          3.5364,
          3.4723,
          3.5742,
          3.6468,
          3.7429,
          3.6543,
          3.6203,
          3.7058,
          3.5446,
          3.7596,
          3.6532,
          3.5654,
          3.6895,
          3.8372,
          3.6474,
          3.6199,
          3.6351,
          3.6746,
          3.6254,
          3.6458,
          3.7315,
          3.7483,
          3.8408,
          3.7527,
          3.7527,
          3.7827,
          3.6896,
          3.7939,
          3.8195,
          3.96,
          3.8532,
          3.8346,
          3.8448,
          3.8475,
          3.7806,
          3.9009,
          3.8295,
          3.8613,
          3.8794,
          3.9396,
          3.873,
          3.9123,
          3.8635,
          3.9768,
          3.902,
          3.9726,
          3.917,
          3.978,
          3.907,
          3.9354,
          4.0092,
          3.9082,
          3.9726,
          3.9343,
          3.9817,
          3.9479,
          3.9844,
          4.0222,
          4.0457,
          4.0495,
          4.1266,
          4.1,
          4.1165,
          4.1573,
          4.1347,
          4.0777,
          4.1615,
          4.1335
         ]
        },
        {
         "name": "Appearance",
         "type": "scatter",
         "x": [
          "Light Lager",
          "Low Alcohol Beer",
          "American Malt Liquor",
          "American Adjunct Lager",
          "Happoshu",
          "Japanese Rice Lager",
          "Euro Strong Lager",
          "Euro Pale Lager",
          "American Pale Lager",
          "Chile Beer",
          "Kvass",
          "Euro Dark Lager",
          "American Amber / Red Lager",
          "Black & Tan",
          "Fruit / Vegetable Beer",
          "American Blonde Ale",
          "Cream Ale",
          "English Pale Mild Ale",
          "American Pale Wheat Ale",
          "Herbed / Spiced Beer",
          "German Pilsener",
          "Kristalweizen",
          "Bock",
          "English Pale Ale",
          "Kölsch",
          "Irish Red Ale",
          "Munich Dunkel Lager",
          "American Dark Wheat Ale",
          "Czech Pilsener",
          "Vienna Lager",
          "Pumpkin Ale",
          "English Bitter",
          "Munich Helles Lager",
          "Faro",
          "English Brown Ale",
          "Märzen / Oktoberfest",
          "English Dark Mild Ale",
          "Dortmunder / Export Lager",
          "English India Pale Ale (IPA)",
          "Witbier",
          "Scottish Gruit / Ancient Herbed Ale",
          "English Stout",
          "Scottish Ale",
          "Winter Warmer",
          "California Common / Steam Beer",
          "Braggot",
          "American Amber / Red Ale",
          "Irish Dry Stout",
          "Belgian Dark Ale",
          "Sahti",
          "Berliner Weissbier",
          "Schwarzbier",
          "Altbier",
          "American Pale Ale (APA)",
          "Maibock / Helles Bock",
          "Extra Special / Strong Bitter (ESB)",
          "Bière de Champagne / Bière Brut",
          "Belgian Pale Ale",
          "Smoked Beer",
          "English Strong Ale",
          "Dunkelweizen",
          "Hefeweizen",
          "Keller Bier / Zwickel Bier",
          "American Brown Ale",
          "Bière de Garde",
          "Rauchbier",
          "Roggenbier",
          "Milk / Sweet Stout",
          "English Porter",
          "American Porter",
          "Gose",
          "American Stout",
          "Foreign / Export Stout",
          "Doppelbock",
          "Scotch Ale / Wee Heavy",
          "Flanders Oud Bruin",
          "American Double / Imperial Pilsner",
          "Belgian Strong Pale Ale",
          "Oatmeal Stout",
          "Wheatwine",
          "American IPA",
          "English Barleywine",
          "Tripel",
          "Lambic - Fruit",
          "Dubbel",
          "Saison / Farmhouse Ale",
          "Old Ale",
          "Rye Beer",
          "Belgian Strong Dark Ale",
          "American Black Ale",
          "American Strong Ale",
          "Baltic Porter",
          "Belgian IPA",
          "American Barleywine",
          "Flanders Red Ale",
          "Weizenbock",
          "Lambic - Unblended",
          "American Double / Imperial IPA",
          "Gueuze",
          "Eisbock",
          "American Wild Ale",
          "Russian Imperial Stout",
          "American Double / Imperial Stout",
          "Quadrupel (Quad)"
         ],
         "y": [
          2.4056,
          2.8961,
          2.8365,
          2.7856,
          2.9198,
          2.9941,
          3.2282,
          3.1711,
          3.2886,
          3.3422,
          3.5524,
          3.596,
          3.5332,
          3.6482,
          3.5208,
          3.5253,
          3.5232,
          3.5347,
          3.5551,
          3.6017,
          3.576,
          3.6422,
          3.6923,
          3.699,
          3.5655,
          3.7706,
          3.6902,
          3.6805,
          3.6401,
          3.7071,
          3.675,
          3.7487,
          3.621,
          3.7558,
          3.7434,
          3.7268,
          3.747,
          3.6965,
          3.7681,
          3.6945,
          3.6469,
          3.8876,
          3.8104,
          3.845,
          3.7895,
          3.768,
          3.8293,
          4.0506,
          3.8941,
          3.6524,
          3.6656,
          3.8747,
          3.8156,
          3.7948,
          3.7831,
          3.8372,
          4.0466,
          3.8782,
          3.82,
          3.8559,
          3.8876,
          3.8511,
          3.8486,
          3.8964,
          3.9059,
          3.8778,
          3.8342,
          3.9646,
          3.9374,
          3.9655,
          3.906,
          3.9944,
          4.0411,
          3.9134,
          3.8961,
          3.9023,
          4.012,
          3.9622,
          4.0208,
          3.9079,
          3.974,
          3.909,
          3.9567,
          3.9765,
          4.0086,
          4.0025,
          3.943,
          4.014,
          4.0105,
          4.1163,
          4.0298,
          4.0408,
          4.0811,
          4.0402,
          4.0035,
          4.0133,
          3.9182,
          4.0806,
          4.0375,
          3.963,
          4.0113,
          4.2127,
          4.1642,
          4.1199
         ]
        },
        {
         "name": "Palate",
         "type": "scatter",
         "x": [
          "Light Lager",
          "Low Alcohol Beer",
          "American Malt Liquor",
          "American Adjunct Lager",
          "Happoshu",
          "Japanese Rice Lager",
          "Euro Strong Lager",
          "Euro Pale Lager",
          "American Pale Lager",
          "Chile Beer",
          "Kvass",
          "Euro Dark Lager",
          "American Amber / Red Lager",
          "Black & Tan",
          "Fruit / Vegetable Beer",
          "American Blonde Ale",
          "Cream Ale",
          "English Pale Mild Ale",
          "American Pale Wheat Ale",
          "Herbed / Spiced Beer",
          "German Pilsener",
          "Kristalweizen",
          "Bock",
          "English Pale Ale",
          "Kölsch",
          "Irish Red Ale",
          "Munich Dunkel Lager",
          "American Dark Wheat Ale",
          "Czech Pilsener",
          "Vienna Lager",
          "Pumpkin Ale",
          "English Bitter",
          "Munich Helles Lager",
          "Faro",
          "English Brown Ale",
          "Märzen / Oktoberfest",
          "English Dark Mild Ale",
          "Dortmunder / Export Lager",
          "English India Pale Ale (IPA)",
          "Witbier",
          "Scottish Gruit / Ancient Herbed Ale",
          "English Stout",
          "Scottish Ale",
          "Winter Warmer",
          "California Common / Steam Beer",
          "Braggot",
          "American Amber / Red Ale",
          "Irish Dry Stout",
          "Belgian Dark Ale",
          "Sahti",
          "Berliner Weissbier",
          "Schwarzbier",
          "Altbier",
          "American Pale Ale (APA)",
          "Maibock / Helles Bock",
          "Extra Special / Strong Bitter (ESB)",
          "Bière de Champagne / Bière Brut",
          "Belgian Pale Ale",
          "Smoked Beer",
          "English Strong Ale",
          "Dunkelweizen",
          "Hefeweizen",
          "Keller Bier / Zwickel Bier",
          "American Brown Ale",
          "Bière de Garde",
          "Rauchbier",
          "Roggenbier",
          "Milk / Sweet Stout",
          "English Porter",
          "American Porter",
          "Gose",
          "American Stout",
          "Foreign / Export Stout",
          "Doppelbock",
          "Scotch Ale / Wee Heavy",
          "Flanders Oud Bruin",
          "American Double / Imperial Pilsner",
          "Belgian Strong Pale Ale",
          "Oatmeal Stout",
          "Wheatwine",
          "American IPA",
          "English Barleywine",
          "Tripel",
          "Lambic - Fruit",
          "Dubbel",
          "Saison / Farmhouse Ale",
          "Old Ale",
          "Rye Beer",
          "Belgian Strong Dark Ale",
          "American Black Ale",
          "American Strong Ale",
          "Baltic Porter",
          "Belgian IPA",
          "American Barleywine",
          "Flanders Red Ale",
          "Weizenbock",
          "Lambic - Unblended",
          "American Double / Imperial IPA",
          "Gueuze",
          "Eisbock",
          "American Wild Ale",
          "Russian Imperial Stout",
          "American Double / Imperial Stout",
          "Quadrupel (Quad)"
         ],
         "y": [
          2.3156,
          2.4961,
          2.6519,
          2.7366,
          2.7447,
          2.9139,
          2.9661,
          3.0637,
          3.2579,
          3.2573,
          3.2533,
          3.2755,
          3.3628,
          3.3161,
          3.3992,
          3.4467,
          3.5193,
          3.5023,
          3.5007,
          3.51,
          3.545,
          3.5175,
          3.5219,
          3.5428,
          3.5897,
          3.542,
          3.5336,
          3.5683,
          3.6043,
          3.5711,
          3.5586,
          3.5947,
          3.6529,
          3.6447,
          3.5722,
          3.6432,
          3.5635,
          3.669,
          3.6558,
          3.633,
          3.6341,
          3.601,
          3.6715,
          3.6715,
          3.7112,
          3.727,
          3.6775,
          3.6251,
          3.6595,
          3.7246,
          3.7572,
          3.6672,
          3.7206,
          3.6991,
          3.764,
          3.7226,
          3.7915,
          3.7356,
          3.7288,
          3.7782,
          3.7237,
          3.7719,
          3.8161,
          3.7772,
          3.8234,
          3.7905,
          3.8278,
          3.7995,
          3.793,
          3.7984,
          3.8861,
          3.7927,
          3.8214,
          3.8929,
          3.8818,
          3.859,
          3.9079,
          3.8934,
          3.8538,
          3.9466,
          3.8739,
          3.9314,
          3.9165,
          3.8719,
          3.8885,
          3.8988,
          3.9464,
          3.9341,
          3.9384,
          3.9133,
          3.9585,
          3.946,
          3.9488,
          3.9999,
          3.9745,
          3.9938,
          3.9697,
          4.0255,
          4.0497,
          4.1124,
          4.0477,
          4.0899,
          4.0997,
          4.127
         ]
        },
        {
         "name": "Taste",
         "type": "scatter",
         "x": [
          "Light Lager",
          "Low Alcohol Beer",
          "American Malt Liquor",
          "American Adjunct Lager",
          "Happoshu",
          "Japanese Rice Lager",
          "Euro Strong Lager",
          "Euro Pale Lager",
          "American Pale Lager",
          "Chile Beer",
          "Kvass",
          "Euro Dark Lager",
          "American Amber / Red Lager",
          "Black & Tan",
          "Fruit / Vegetable Beer",
          "American Blonde Ale",
          "Cream Ale",
          "English Pale Mild Ale",
          "American Pale Wheat Ale",
          "Herbed / Spiced Beer",
          "German Pilsener",
          "Kristalweizen",
          "Bock",
          "English Pale Ale",
          "Kölsch",
          "Irish Red Ale",
          "Munich Dunkel Lager",
          "American Dark Wheat Ale",
          "Czech Pilsener",
          "Vienna Lager",
          "Pumpkin Ale",
          "English Bitter",
          "Munich Helles Lager",
          "Faro",
          "English Brown Ale",
          "Märzen / Oktoberfest",
          "English Dark Mild Ale",
          "Dortmunder / Export Lager",
          "English India Pale Ale (IPA)",
          "Witbier",
          "Scottish Gruit / Ancient Herbed Ale",
          "English Stout",
          "Scottish Ale",
          "Winter Warmer",
          "California Common / Steam Beer",
          "Braggot",
          "American Amber / Red Ale",
          "Irish Dry Stout",
          "Belgian Dark Ale",
          "Sahti",
          "Berliner Weissbier",
          "Schwarzbier",
          "Altbier",
          "American Pale Ale (APA)",
          "Maibock / Helles Bock",
          "Extra Special / Strong Bitter (ESB)",
          "Bière de Champagne / Bière Brut",
          "Belgian Pale Ale",
          "Smoked Beer",
          "English Strong Ale",
          "Dunkelweizen",
          "Hefeweizen",
          "Keller Bier / Zwickel Bier",
          "American Brown Ale",
          "Bière de Garde",
          "Rauchbier",
          "Roggenbier",
          "Milk / Sweet Stout",
          "English Porter",
          "American Porter",
          "Gose",
          "American Stout",
          "Foreign / Export Stout",
          "Doppelbock",
          "Scotch Ale / Wee Heavy",
          "Flanders Oud Bruin",
          "American Double / Imperial Pilsner",
          "Belgian Strong Pale Ale",
          "Oatmeal Stout",
          "Wheatwine",
          "American IPA",
          "English Barleywine",
          "Tripel",
          "Lambic - Fruit",
          "Dubbel",
          "Saison / Farmhouse Ale",
          "Old Ale",
          "Rye Beer",
          "Belgian Strong Dark Ale",
          "American Black Ale",
          "American Strong Ale",
          "Baltic Porter",
          "Belgian IPA",
          "American Barleywine",
          "Flanders Red Ale",
          "Weizenbock",
          "Lambic - Unblended",
          "American Double / Imperial IPA",
          "Gueuze",
          "Eisbock",
          "American Wild Ale",
          "Russian Imperial Stout",
          "American Double / Imperial Stout",
          "Quadrupel (Quad)"
         ],
         "y": [
          2.2486,
          2.4353,
          2.5388,
          2.6864,
          2.6477,
          2.8438,
          2.8232,
          2.9993,
          3.2025,
          3.2974,
          3.3472,
          3.3176,
          3.386,
          3.3703,
          3.4108,
          3.4152,
          3.4328,
          3.4769,
          3.4714,
          3.5294,
          3.5409,
          3.5047,
          3.5614,
          3.5327,
          3.5501,
          3.5529,
          3.5983,
          3.5892,
          3.6023,
          3.6165,
          3.6333,
          3.6342,
          3.6731,
          3.6283,
          3.6686,
          3.6527,
          3.6401,
          3.6618,
          3.6575,
          3.6598,
          3.7473,
          3.7052,
          3.7258,
          3.7198,
          3.7358,
          3.7448,
          3.7212,
          3.6542,
          3.7219,
          3.8103,
          3.7851,
          3.7523,
          3.7565,
          3.7398,
          3.7803,
          3.765,
          3.6907,
          3.7577,
          3.8173,
          3.8333,
          3.7786,
          3.8217,
          3.8502,
          3.8801,
          3.8619,
          3.902,
          3.9177,
          3.8953,
          3.9147,
          3.9127,
          3.8991,
          3.9062,
          3.914,
          3.9635,
          3.9759,
          3.9613,
          3.9388,
          3.9437,
          3.9418,
          3.9846,
          3.9303,
          3.9919,
          3.9667,
          3.9718,
          3.956,
          3.9363,
          4.0582,
          4.0137,
          4.0301,
          3.9745,
          4.0363,
          4.0362,
          4.0129,
          4.0462,
          4.0942,
          4.0815,
          4.1328,
          4.0939,
          4.1265,
          4.2112,
          4.161,
          4.1516,
          4.1885,
          4.2125
         ]
        }
       ],
       "layout": {
        "autosize": true,
        "legend": {
         "tracegroupgap": 0
        },
        "margin": {
         "t": 60
        },
        "template": {
         "data": {
          "bar": [
           {
            "error_x": {
             "color": "#2a3f5f"
            },
            "error_y": {
             "color": "#2a3f5f"
            },
            "marker": {
             "line": {
              "color": "#E5ECF6",
              "width": 0.5
             }
            },
            "type": "bar"
           }
          ],
          "barpolar": [
           {
            "marker": {
             "line": {
              "color": "#E5ECF6",
              "width": 0.5
             }
            },
            "type": "barpolar"
           }
          ],
          "carpet": [
           {
            "aaxis": {
             "endlinecolor": "#2a3f5f",
             "gridcolor": "white",
             "linecolor": "white",
             "minorgridcolor": "white",
             "startlinecolor": "#2a3f5f"
            },
            "baxis": {
             "endlinecolor": "#2a3f5f",
             "gridcolor": "white",
             "linecolor": "white",
             "minorgridcolor": "white",
             "startlinecolor": "#2a3f5f"
            },
            "type": "carpet"
           }
          ],
          "choropleth": [
           {
            "colorbar": {
             "outlinewidth": 0,
             "ticks": ""
            },
            "type": "choropleth"
           }
          ],
          "contour": [
           {
            "colorbar": {
             "outlinewidth": 0,
             "ticks": ""
            },
            "colorscale": [
             [
              0,
              "#0d0887"
             ],
             [
              0.1111111111111111,
              "#46039f"
             ],
             [
              0.2222222222222222,
              "#7201a8"
             ],
             [
              0.3333333333333333,
              "#9c179e"
             ],
             [
              0.4444444444444444,
              "#bd3786"
             ],
             [
              0.5555555555555556,
              "#d8576b"
             ],
             [
              0.6666666666666666,
              "#ed7953"
             ],
             [
              0.7777777777777778,
              "#fb9f3a"
             ],
             [
              0.8888888888888888,
              "#fdca26"
             ],
             [
              1,
              "#f0f921"
             ]
            ],
            "type": "contour"
           }
          ],
          "contourcarpet": [
           {
            "colorbar": {
             "outlinewidth": 0,
             "ticks": ""
            },
            "type": "contourcarpet"
           }
          ],
          "heatmap": [
           {
            "colorbar": {
             "outlinewidth": 0,
             "ticks": ""
            },
            "colorscale": [
             [
              0,
              "#0d0887"
             ],
             [
              0.1111111111111111,
              "#46039f"
             ],
             [
              0.2222222222222222,
              "#7201a8"
             ],
             [
              0.3333333333333333,
              "#9c179e"
             ],
             [
              0.4444444444444444,
              "#bd3786"
             ],
             [
              0.5555555555555556,
              "#d8576b"
             ],
             [
              0.6666666666666666,
              "#ed7953"
             ],
             [
              0.7777777777777778,
              "#fb9f3a"
             ],
             [
              0.8888888888888888,
              "#fdca26"
             ],
             [
              1,
              "#f0f921"
             ]
            ],
            "type": "heatmap"
           }
          ],
          "heatmapgl": [
           {
            "colorbar": {
             "outlinewidth": 0,
             "ticks": ""
            },
            "colorscale": [
             [
              0,
              "#0d0887"
             ],
             [
              0.1111111111111111,
              "#46039f"
             ],
             [
              0.2222222222222222,
              "#7201a8"
             ],
             [
              0.3333333333333333,
              "#9c179e"
             ],
             [
              0.4444444444444444,
              "#bd3786"
             ],
             [
              0.5555555555555556,
              "#d8576b"
             ],
             [
              0.6666666666666666,
              "#ed7953"
             ],
             [
              0.7777777777777778,
              "#fb9f3a"
             ],
             [
              0.8888888888888888,
              "#fdca26"
             ],
             [
              1,
              "#f0f921"
             ]
            ],
            "type": "heatmapgl"
           }
          ],
          "histogram": [
           {
            "marker": {
             "colorbar": {
              "outlinewidth": 0,
              "ticks": ""
             }
            },
            "type": "histogram"
           }
          ],
          "histogram2d": [
           {
            "colorbar": {
             "outlinewidth": 0,
             "ticks": ""
            },
            "colorscale": [
             [
              0,
              "#0d0887"
             ],
             [
              0.1111111111111111,
              "#46039f"
             ],
             [
              0.2222222222222222,
              "#7201a8"
             ],
             [
              0.3333333333333333,
              "#9c179e"
             ],
             [
              0.4444444444444444,
              "#bd3786"
             ],
             [
              0.5555555555555556,
              "#d8576b"
             ],
             [
              0.6666666666666666,
              "#ed7953"
             ],
             [
              0.7777777777777778,
              "#fb9f3a"
             ],
             [
              0.8888888888888888,
              "#fdca26"
             ],
             [
              1,
              "#f0f921"
             ]
            ],
            "type": "histogram2d"
           }
          ],
          "histogram2dcontour": [
           {
            "colorbar": {
             "outlinewidth": 0,
             "ticks": ""
            },
            "colorscale": [
             [
              0,
              "#0d0887"
             ],
             [
              0.1111111111111111,
              "#46039f"
             ],
             [
              0.2222222222222222,
              "#7201a8"
             ],
             [
              0.3333333333333333,
              "#9c179e"
             ],
             [
              0.4444444444444444,
              "#bd3786"
             ],
             [
              0.5555555555555556,
              "#d8576b"
             ],
             [
              0.6666666666666666,
              "#ed7953"
             ],
             [
              0.7777777777777778,
              "#fb9f3a"
             ],
             [
              0.8888888888888888,
              "#fdca26"
             ],
             [
              1,
              "#f0f921"
             ]
            ],
            "type": "histogram2dcontour"
           }
          ],
          "mesh3d": [
           {
            "colorbar": {
             "outlinewidth": 0,
             "ticks": ""
            },
            "type": "mesh3d"
           }
          ],
          "parcoords": [
           {
            "line": {
             "colorbar": {
              "outlinewidth": 0,
              "ticks": ""
             }
            },
            "type": "parcoords"
           }
          ],
          "pie": [
           {
            "automargin": true,
            "type": "pie"
           }
          ],
          "scatter": [
           {
            "marker": {
             "colorbar": {
              "outlinewidth": 0,
              "ticks": ""
             }
            },
            "type": "scatter"
           }
          ],
          "scatter3d": [
           {
            "line": {
             "colorbar": {
              "outlinewidth": 0,
              "ticks": ""
             }
            },
            "marker": {
             "colorbar": {
              "outlinewidth": 0,
              "ticks": ""
             }
            },
            "type": "scatter3d"
           }
          ],
          "scattercarpet": [
           {
            "marker": {
             "colorbar": {
              "outlinewidth": 0,
              "ticks": ""
             }
            },
            "type": "scattercarpet"
           }
          ],
          "scattergeo": [
           {
            "marker": {
             "colorbar": {
              "outlinewidth": 0,
              "ticks": ""
             }
            },
            "type": "scattergeo"
           }
          ],
          "scattergl": [
           {
            "marker": {
             "colorbar": {
              "outlinewidth": 0,
              "ticks": ""
             }
            },
            "type": "scattergl"
           }
          ],
          "scattermapbox": [
           {
            "marker": {
             "colorbar": {
              "outlinewidth": 0,
              "ticks": ""
             }
            },
            "type": "scattermapbox"
           }
          ],
          "scatterpolar": [
           {
            "marker": {
             "colorbar": {
              "outlinewidth": 0,
              "ticks": ""
             }
            },
            "type": "scatterpolar"
           }
          ],
          "scatterpolargl": [
           {
            "marker": {
             "colorbar": {
              "outlinewidth": 0,
              "ticks": ""
             }
            },
            "type": "scatterpolargl"
           }
          ],
          "scatterternary": [
           {
            "marker": {
             "colorbar": {
              "outlinewidth": 0,
              "ticks": ""
             }
            },
            "type": "scatterternary"
           }
          ],
          "surface": [
           {
            "colorbar": {
             "outlinewidth": 0,
             "ticks": ""
            },
            "colorscale": [
             [
              0,
              "#0d0887"
             ],
             [
              0.1111111111111111,
              "#46039f"
             ],
             [
              0.2222222222222222,
              "#7201a8"
             ],
             [
              0.3333333333333333,
              "#9c179e"
             ],
             [
              0.4444444444444444,
              "#bd3786"
             ],
             [
              0.5555555555555556,
              "#d8576b"
             ],
             [
              0.6666666666666666,
              "#ed7953"
             ],
             [
              0.7777777777777778,
              "#fb9f3a"
             ],
             [
              0.8888888888888888,
              "#fdca26"
             ],
             [
              1,
              "#f0f921"
             ]
            ],
            "type": "surface"
           }
          ],
          "table": [
           {
            "cells": {
             "fill": {
              "color": "#EBF0F8"
             },
             "line": {
              "color": "white"
             }
            },
            "header": {
             "fill": {
              "color": "#C8D4E3"
             },
             "line": {
              "color": "white"
             }
            },
            "type": "table"
           }
          ]
         },
         "layout": {
          "annotationdefaults": {
           "arrowcolor": "#2a3f5f",
           "arrowhead": 0,
           "arrowwidth": 1
          },
          "coloraxis": {
           "colorbar": {
            "outlinewidth": 0,
            "ticks": ""
           }
          },
          "colorscale": {
           "diverging": [
            [
             0,
             "#8e0152"
            ],
            [
             0.1,
             "#c51b7d"
            ],
            [
             0.2,
             "#de77ae"
            ],
            [
             0.3,
             "#f1b6da"
            ],
            [
             0.4,
             "#fde0ef"
            ],
            [
             0.5,
             "#f7f7f7"
            ],
            [
             0.6,
             "#e6f5d0"
            ],
            [
             0.7,
             "#b8e186"
            ],
            [
             0.8,
             "#7fbc41"
            ],
            [
             0.9,
             "#4d9221"
            ],
            [
             1,
             "#276419"
            ]
           ],
           "sequential": [
            [
             0,
             "#0d0887"
            ],
            [
             0.1111111111111111,
             "#46039f"
            ],
            [
             0.2222222222222222,
             "#7201a8"
            ],
            [
             0.3333333333333333,
             "#9c179e"
            ],
            [
             0.4444444444444444,
             "#bd3786"
            ],
            [
             0.5555555555555556,
             "#d8576b"
            ],
            [
             0.6666666666666666,
             "#ed7953"
            ],
            [
             0.7777777777777778,
             "#fb9f3a"
            ],
            [
             0.8888888888888888,
             "#fdca26"
            ],
            [
             1,
             "#f0f921"
            ]
           ],
           "sequentialminus": [
            [
             0,
             "#0d0887"
            ],
            [
             0.1111111111111111,
             "#46039f"
            ],
            [
             0.2222222222222222,
             "#7201a8"
            ],
            [
             0.3333333333333333,
             "#9c179e"
            ],
            [
             0.4444444444444444,
             "#bd3786"
            ],
            [
             0.5555555555555556,
             "#d8576b"
            ],
            [
             0.6666666666666666,
             "#ed7953"
            ],
            [
             0.7777777777777778,
             "#fb9f3a"
            ],
            [
             0.8888888888888888,
             "#fdca26"
            ],
            [
             1,
             "#f0f921"
            ]
           ]
          },
          "colorway": [
           "#636efa",
           "#EF553B",
           "#00cc96",
           "#ab63fa",
           "#FFA15A",
           "#19d3f3",
           "#FF6692",
           "#B6E880",
           "#FF97FF",
           "#FECB52"
          ],
          "font": {
           "color": "#2a3f5f"
          },
          "geo": {
           "bgcolor": "white",
           "lakecolor": "white",
           "landcolor": "#E5ECF6",
           "showlakes": true,
           "showland": true,
           "subunitcolor": "white"
          },
          "hoverlabel": {
           "align": "left"
          },
          "hovermode": "closest",
          "mapbox": {
           "style": "light"
          },
          "paper_bgcolor": "white",
          "plot_bgcolor": "#E5ECF6",
          "polar": {
           "angularaxis": {
            "gridcolor": "white",
            "linecolor": "white",
            "ticks": ""
           },
           "bgcolor": "#E5ECF6",
           "radialaxis": {
            "gridcolor": "white",
            "linecolor": "white",
            "ticks": ""
           }
          },
          "scene": {
           "xaxis": {
            "backgroundcolor": "#E5ECF6",
            "gridcolor": "white",
            "gridwidth": 2,
            "linecolor": "white",
            "showbackground": true,
            "ticks": "",
            "zerolinecolor": "white"
           },
           "yaxis": {
            "backgroundcolor": "#E5ECF6",
            "gridcolor": "white",
            "gridwidth": 2,
            "linecolor": "white",
            "showbackground": true,
            "ticks": "",
            "zerolinecolor": "white"
           },
           "zaxis": {
            "backgroundcolor": "#E5ECF6",
            "gridcolor": "white",
            "gridwidth": 2,
            "linecolor": "white",
            "showbackground": true,
            "ticks": "",
            "zerolinecolor": "white"
           }
          },
          "shapedefaults": {
           "line": {
            "color": "#2a3f5f"
           }
          },
          "ternary": {
           "aaxis": {
            "gridcolor": "white",
            "linecolor": "white",
            "ticks": ""
           },
           "baxis": {
            "gridcolor": "white",
            "linecolor": "white",
            "ticks": ""
           },
           "bgcolor": "#E5ECF6",
           "caxis": {
            "gridcolor": "white",
            "linecolor": "white",
            "ticks": ""
           }
          },
          "title": {
           "x": 0.05
          },
          "xaxis": {
           "automargin": true,
           "gridcolor": "white",
           "linecolor": "white",
           "ticks": "",
           "title": {
            "standoff": 15
           },
           "zerolinecolor": "white",
           "zerolinewidth": 2
          },
          "yaxis": {
           "automargin": true,
           "gridcolor": "white",
           "linecolor": "white",
           "ticks": "",
           "title": {
            "standoff": 15
           },
           "zerolinecolor": "white",
           "zerolinewidth": 2
          }
         }
        },
        "xaxis": {
         "anchor": "y",
         "autorange": true,
         "domain": [
          0,
          1
         ],
         "range": [
          -6.157041540020264,
          109.15704154002026
         ],
         "title": {
          "text": "beer_style"
         },
         "type": "category"
        },
        "yaxis": {
         "anchor": "x",
         "autorange": true,
         "domain": [
          0,
          1
         ],
         "range": [
          2.0293888888888887,
          4.327611111111111
         ],
         "title": {
          "text": "Rating"
         },
         "type": "linear"
        }
       }
      },
      "image/png": "[encoded data removed]",
      "text/html": [
       "<div>\n",
       "        \n",
       "        \n",
       "            <div id=\"48f1d55c-565f-421b-8a64-13bddd088e29\" class=\"plotly-graph-div\" style=\"height:800px; width:100%;\"></div>\n",
       "            <script type=\"text/javascript\">\n",
       "                require([\"plotly\"], function(Plotly) {\n",
       "                    window.PLOTLYENV=window.PLOTLYENV || {};\n",
       "                    \n",
       "                if (document.getElementById(\"48f1d55c-565f-421b-8a64-13bddd088e29\")) {\n",
       "                    Plotly.newPlot(\n",
       "                        '48f1d55c-565f-421b-8a64-13bddd088e29',\n",
       "                        [{\"hovertemplate\": \"beer_style=%{x}<br>review_mean=%{y}<extra></extra>\", \"legendgroup\": \"\", \"marker\": {\"color\": \"#636efa\", \"symbol\": \"circle\"}, \"mode\": \"markers\", \"name\": \"\", \"showlegend\": false, \"type\": \"scatter\", \"x\": [\"Light Lager\", \"Low Alcohol Beer\", \"American Malt Liquor\", \"American Adjunct Lager\", \"Happoshu\", \"Japanese Rice Lager\", \"Euro Strong Lager\", \"Euro Pale Lager\", \"American Pale Lager\", \"Chile Beer\", \"Kvass\", \"Euro Dark Lager\", \"American Amber / Red Lager\", \"Black & Tan\", \"Fruit / Vegetable Beer\", \"American Blonde Ale\", \"Cream Ale\", \"English Pale Mild Ale\", \"American Pale Wheat Ale\", \"Herbed / Spiced Beer\", \"German Pilsener\", \"Kristalweizen\", \"Bock\", \"English Pale Ale\", \"K\\u00f6lsch\", \"Irish Red Ale\", \"Munich Dunkel Lager\", \"American Dark Wheat Ale\", \"Czech Pilsener\", \"Vienna Lager\", \"Pumpkin Ale\", \"English Bitter\", \"Munich Helles Lager\", \"Faro\", \"English Brown Ale\", \"M\\u00e4rzen / Oktoberfest\", \"English Dark Mild Ale\", \"Dortmunder / Export Lager\", \"English India Pale Ale (IPA)\", \"Witbier\", \"Scottish Gruit / Ancient Herbed Ale\", \"English Stout\", \"Scottish Ale\", \"Winter Warmer\", \"California Common / Steam Beer\", \"Braggot\", \"American Amber / Red Ale\", \"Irish Dry Stout\", \"Belgian Dark Ale\", \"Sahti\", \"Berliner Weissbier\", \"Schwarzbier\", \"Altbier\", \"American Pale Ale (APA)\", \"Maibock / Helles Bock\", \"Extra Special / Strong Bitter (ESB)\", \"Bi\\u00e8re de Champagne / Bi\\u00e8re Brut\", \"Belgian Pale Ale\", \"Smoked Beer\", \"English Strong Ale\", \"Dunkelweizen\", \"Hefeweizen\", \"Keller Bier / Zwickel Bier\", \"American Brown Ale\", \"Bi\\u00e8re de Garde\", \"Rauchbier\", \"Roggenbier\", \"Milk / Sweet Stout\", \"English Porter\", \"American Porter\", \"Gose\", \"American Stout\", \"Foreign / Export Stout\", \"Doppelbock\", \"Scotch Ale / Wee Heavy\", \"Flanders Oud Bruin\", \"American Double / Imperial Pilsner\", \"Belgian Strong Pale Ale\", \"Oatmeal Stout\", \"Wheatwine\", \"American IPA\", \"English Barleywine\", \"Tripel\", \"Lambic - Fruit\", \"Dubbel\", \"Saison / Farmhouse Ale\", \"Old Ale\", \"Rye Beer\", \"Belgian Strong Dark Ale\", \"American Black Ale\", \"American Strong Ale\", \"Baltic Porter\", \"Belgian IPA\", \"American Barleywine\", \"Flanders Red Ale\", \"Weizenbock\", \"Lambic - Unblended\", \"American Double / Imperial IPA\", \"Gueuze\", \"Eisbock\", \"American Wild Ale\", \"Russian Imperial Stout\", \"American Double / Imperial Stout\", \"Quadrupel (Quad)\"], \"xaxis\": \"x\", \"y\": [2.3602, 2.5635, 2.6232, 2.7396, 2.7646, 2.9038, 2.9497, 3.0573, 3.2416, 3.2571, 3.3681, 3.3712, 3.4159, 3.4253, 3.456, 3.4648, 3.4758, 3.5096, 3.5206, 3.5365, 3.559, 3.5694, 3.5743, 3.5775, 3.5792, 3.5964, 3.6005, 3.6059, 3.6165, 3.6226, 3.6486, 3.657, 3.6594, 3.6617, 3.6631, 3.6632, 3.6649, 3.6672, 3.68, 3.6836, 3.6922, 3.7196, 3.7232, 3.7295, 3.7304, 3.7305, 3.7369, 3.7392, 3.7427, 3.7443, 3.747, 3.7501, 3.7519, 3.7558, 3.7571, 3.7647, 3.7811, 3.7887, 3.7921, 3.8012, 3.8019, 3.8362, 3.8385, 3.8433, 3.8583, 3.866, 3.8767, 3.8771, 3.8822, 3.8866, 3.8867, 3.8949, 3.897, 3.9015, 3.9016, 3.9133, 3.9184, 3.9214, 3.9264, 3.9271, 3.9305, 3.9309, 3.9349, 3.9377, 3.9378, 3.9477, 3.9713, 3.9718, 3.9732, 3.9747, 3.9762, 3.9857, 3.9981, 4.0015, 4.0227, 4.0299, 4.0416, 4.0601, 4.0835, 4.0839, 4.091, 4.1113, 4.1289, 4.1332], \"yaxis\": \"y\"}, {\"name\": \"Overall\", \"type\": \"scatter\", \"x\": [\"Light Lager\", \"Low Alcohol Beer\", \"American Malt Liquor\", \"American Adjunct Lager\", \"Happoshu\", \"Japanese Rice Lager\", \"Euro Strong Lager\", \"Euro Pale Lager\", \"American Pale Lager\", \"Chile Beer\", \"Kvass\", \"Euro Dark Lager\", \"American Amber / Red Lager\", \"Black & Tan\", \"Fruit / Vegetable Beer\", \"American Blonde Ale\", \"Cream Ale\", \"English Pale Mild Ale\", \"American Pale Wheat Ale\", \"Herbed / Spiced Beer\", \"German Pilsener\", \"Kristalweizen\", \"Bock\", \"English Pale Ale\", \"K\\u00f6lsch\", \"Irish Red Ale\", \"Munich Dunkel Lager\", \"American Dark Wheat Ale\", \"Czech Pilsener\", \"Vienna Lager\", \"Pumpkin Ale\", \"English Bitter\", \"Munich Helles Lager\", \"Faro\", \"English Brown Ale\", \"M\\u00e4rzen / Oktoberfest\", \"English Dark Mild Ale\", \"Dortmunder / Export Lager\", \"English India Pale Ale (IPA)\", \"Witbier\", \"Scottish Gruit / Ancient Herbed Ale\", \"English Stout\", \"Scottish Ale\", \"Winter Warmer\", \"California Common / Steam Beer\", \"Braggot\", \"American Amber / Red Ale\", \"Irish Dry Stout\", \"Belgian Dark Ale\", \"Sahti\", \"Berliner Weissbier\", \"Schwarzbier\", \"Altbier\", \"American Pale Ale (APA)\", \"Maibock / Helles Bock\", \"Extra Special / Strong Bitter (ESB)\", \"Bi\\u00e8re de Champagne / Bi\\u00e8re Brut\", \"Belgian Pale Ale\", \"Smoked Beer\", \"English Strong Ale\", \"Dunkelweizen\", \"Hefeweizen\", \"Keller Bier / Zwickel Bier\", \"American Brown Ale\", \"Bi\\u00e8re de Garde\", \"Rauchbier\", \"Roggenbier\", \"Milk / Sweet Stout\", \"English Porter\", \"American Porter\", \"Gose\", \"American Stout\", \"Foreign / Export Stout\", \"Doppelbock\", \"Scotch Ale / Wee Heavy\", \"Flanders Oud Bruin\", \"American Double / Imperial Pilsner\", \"Belgian Strong Pale Ale\", \"Oatmeal Stout\", \"Wheatwine\", \"American IPA\", \"English Barleywine\", \"Tripel\", \"Lambic - Fruit\", \"Dubbel\", \"Saison / Farmhouse Ale\", \"Old Ale\", \"Rye Beer\", \"Belgian Strong Dark Ale\", \"American Black Ale\", \"American Strong Ale\", \"Baltic Porter\", \"Belgian IPA\", \"American Barleywine\", \"Flanders Red Ale\", \"Weizenbock\", \"Lambic - Unblended\", \"American Double / Imperial IPA\", \"Gueuze\", \"Eisbock\", \"American Wild Ale\", \"Russian Imperial Stout\", \"American Double / Imperial Stout\", \"Quadrupel (Quad)\"], \"y\": [2.6869, 2.552, 2.6778, 3.0105, 2.9135, 3.1197, 2.8604, 3.2039, 3.4106, 3.1084, 3.369, 3.4024, 3.5774, 3.5068, 3.4186, 3.609, 3.6095, 3.6489, 3.6605, 3.47, 3.7392, 3.7326, 3.6507, 3.69, 3.797, 3.6905, 3.7241, 3.6683, 3.7932, 3.7762, 3.6218, 3.7868, 3.8758, 3.6003, 3.7743, 3.7819, 3.8375, 3.8364, 3.7445, 3.7842, 3.6898, 3.7501, 3.7881, 3.7052, 3.8711, 3.653, 3.803, 3.8006, 3.7482, 3.6972, 3.8795, 3.8365, 3.8316, 3.8708, 3.8327, 3.8527, 3.6451, 3.8237, 3.7535, 3.7857, 3.8669, 3.9537, 3.9877, 3.8689, 3.8806, 3.7999, 3.9506, 3.8917, 3.9211, 3.9091, 3.9618, 3.8804, 3.8789, 3.8761, 3.8749, 3.9043, 3.8601, 3.8957, 3.9522, 3.8195, 3.9722, 3.8497, 3.9178, 3.8906, 3.9291, 3.9652, 3.8996, 3.9891, 3.9142, 3.9352, 3.8747, 3.9574, 3.9635, 3.8989, 3.9958, 4.0112, 4.0606, 4.0003, 4.0874, 3.9754, 4.1004, 4.0247, 4.0305, 4.0732]}, {\"name\": \"Aroma\", \"type\": \"scatter\", \"x\": [\"Light Lager\", \"Low Alcohol Beer\", \"American Malt Liquor\", \"American Adjunct Lager\", \"Happoshu\", \"Japanese Rice Lager\", \"Euro Strong Lager\", \"Euro Pale Lager\", \"American Pale Lager\", \"Chile Beer\", \"Kvass\", \"Euro Dark Lager\", \"American Amber / Red Lager\", \"Black & Tan\", \"Fruit / Vegetable Beer\", \"American Blonde Ale\", \"Cream Ale\", \"English Pale Mild Ale\", \"American Pale Wheat Ale\", \"Herbed / Spiced Beer\", \"German Pilsener\", \"Kristalweizen\", \"Bock\", \"English Pale Ale\", \"K\\u00f6lsch\", \"Irish Red Ale\", \"Munich Dunkel Lager\", \"American Dark Wheat Ale\", \"Czech Pilsener\", \"Vienna Lager\", \"Pumpkin Ale\", \"English Bitter\", \"Munich Helles Lager\", \"Faro\", \"English Brown Ale\", \"M\\u00e4rzen / Oktoberfest\", \"English Dark Mild Ale\", \"Dortmunder / Export Lager\", \"English India Pale Ale (IPA)\", \"Witbier\", \"Scottish Gruit / Ancient Herbed Ale\", \"English Stout\", \"Scottish Ale\", \"Winter Warmer\", \"California Common / Steam Beer\", \"Braggot\", \"American Amber / Red Ale\", \"Irish Dry Stout\", \"Belgian Dark Ale\", \"Sahti\", \"Berliner Weissbier\", \"Schwarzbier\", \"Altbier\", \"American Pale Ale (APA)\", \"Maibock / Helles Bock\", \"Extra Special / Strong Bitter (ESB)\", \"Bi\\u00e8re de Champagne / Bi\\u00e8re Brut\", \"Belgian Pale Ale\", \"Smoked Beer\", \"English Strong Ale\", \"Dunkelweizen\", \"Hefeweizen\", \"Keller Bier / Zwickel Bier\", \"American Brown Ale\", \"Bi\\u00e8re de Garde\", \"Rauchbier\", \"Roggenbier\", \"Milk / Sweet Stout\", \"English Porter\", \"American Porter\", \"Gose\", \"American Stout\", \"Foreign / Export Stout\", \"Doppelbock\", \"Scotch Ale / Wee Heavy\", \"Flanders Oud Bruin\", \"American Double / Imperial Pilsner\", \"Belgian Strong Pale Ale\", \"Oatmeal Stout\", \"Wheatwine\", \"American IPA\", \"English Barleywine\", \"Tripel\", \"Lambic - Fruit\", \"Dubbel\", \"Saison / Farmhouse Ale\", \"Old Ale\", \"Rye Beer\", \"Belgian Strong Dark Ale\", \"American Black Ale\", \"American Strong Ale\", \"Baltic Porter\", \"Belgian IPA\", \"American Barleywine\", \"Flanders Red Ale\", \"Weizenbock\", \"Lambic - Unblended\", \"American Double / Imperial IPA\", \"Gueuze\", \"Eisbock\", \"American Wild Ale\", \"Russian Imperial Stout\", \"American Double / Imperial Stout\", \"Quadrupel (Quad)\"], \"y\": [2.1443, 2.4382, 2.4109, 2.4787, 2.597, 2.6474, 2.8705, 2.8486, 3.0485, 3.2802, 3.3188, 3.2642, 3.22, 3.2849, 3.5303, 3.3281, 3.2942, 3.385, 3.4154, 3.5716, 3.3939, 3.4499, 3.4454, 3.4233, 3.3939, 3.4258, 3.4562, 3.5235, 3.4427, 3.442, 3.7544, 3.5207, 3.4744, 3.6793, 3.5568, 3.5113, 3.5364, 3.4723, 3.5742, 3.6468, 3.7429, 3.6543, 3.6203, 3.7058, 3.5446, 3.7596, 3.6532, 3.5654, 3.6895, 3.8372, 3.6474, 3.6199, 3.6351, 3.6746, 3.6254, 3.6458, 3.7315, 3.7483, 3.8408, 3.7527, 3.7527, 3.7827, 3.6896, 3.7939, 3.8195, 3.96, 3.8532, 3.8346, 3.8448, 3.8475, 3.7806, 3.9009, 3.8295, 3.8613, 3.8794, 3.9396, 3.873, 3.9123, 3.8635, 3.9768, 3.902, 3.9726, 3.917, 3.978, 3.907, 3.9354, 4.0092, 3.9082, 3.9726, 3.9343, 3.9817, 3.9479, 3.9844, 4.0222, 4.0457, 4.0495, 4.1266, 4.1, 4.1165, 4.1573, 4.1347, 4.0777, 4.1615, 4.1335]}, {\"name\": \"Appearance\", \"type\": \"scatter\", \"x\": [\"Light Lager\", \"Low Alcohol Beer\", \"American Malt Liquor\", \"American Adjunct Lager\", \"Happoshu\", \"Japanese Rice Lager\", \"Euro Strong Lager\", \"Euro Pale Lager\", \"American Pale Lager\", \"Chile Beer\", \"Kvass\", \"Euro Dark Lager\", \"American Amber / Red Lager\", \"Black & Tan\", \"Fruit / Vegetable Beer\", \"American Blonde Ale\", \"Cream Ale\", \"English Pale Mild Ale\", \"American Pale Wheat Ale\", \"Herbed / Spiced Beer\", \"German Pilsener\", \"Kristalweizen\", \"Bock\", \"English Pale Ale\", \"K\\u00f6lsch\", \"Irish Red Ale\", \"Munich Dunkel Lager\", \"American Dark Wheat Ale\", \"Czech Pilsener\", \"Vienna Lager\", \"Pumpkin Ale\", \"English Bitter\", \"Munich Helles Lager\", \"Faro\", \"English Brown Ale\", \"M\\u00e4rzen / Oktoberfest\", \"English Dark Mild Ale\", \"Dortmunder / Export Lager\", \"English India Pale Ale (IPA)\", \"Witbier\", \"Scottish Gruit / Ancient Herbed Ale\", \"English Stout\", \"Scottish Ale\", \"Winter Warmer\", \"California Common / Steam Beer\", \"Braggot\", \"American Amber / Red Ale\", \"Irish Dry Stout\", \"Belgian Dark Ale\", \"Sahti\", \"Berliner Weissbier\", \"Schwarzbier\", \"Altbier\", \"American Pale Ale (APA)\", \"Maibock / Helles Bock\", \"Extra Special / Strong Bitter (ESB)\", \"Bi\\u00e8re de Champagne / Bi\\u00e8re Brut\", \"Belgian Pale Ale\", \"Smoked Beer\", \"English Strong Ale\", \"Dunkelweizen\", \"Hefeweizen\", \"Keller Bier / Zwickel Bier\", \"American Brown Ale\", \"Bi\\u00e8re de Garde\", \"Rauchbier\", \"Roggenbier\", \"Milk / Sweet Stout\", \"English Porter\", \"American Porter\", \"Gose\", \"American Stout\", \"Foreign / Export Stout\", \"Doppelbock\", \"Scotch Ale / Wee Heavy\", \"Flanders Oud Bruin\", \"American Double / Imperial Pilsner\", \"Belgian Strong Pale Ale\", \"Oatmeal Stout\", \"Wheatwine\", \"American IPA\", \"English Barleywine\", \"Tripel\", \"Lambic - Fruit\", \"Dubbel\", \"Saison / Farmhouse Ale\", \"Old Ale\", \"Rye Beer\", \"Belgian Strong Dark Ale\", \"American Black Ale\", \"American Strong Ale\", \"Baltic Porter\", \"Belgian IPA\", \"American Barleywine\", \"Flanders Red Ale\", \"Weizenbock\", \"Lambic - Unblended\", \"American Double / Imperial IPA\", \"Gueuze\", \"Eisbock\", \"American Wild Ale\", \"Russian Imperial Stout\", \"American Double / Imperial Stout\", \"Quadrupel (Quad)\"], \"y\": [2.4056, 2.8961, 2.8365, 2.7856, 2.9198, 2.9941, 3.2282, 3.1711, 3.2886, 3.3422, 3.5524, 3.596, 3.5332, 3.6482, 3.5208, 3.5253, 3.5232, 3.5347, 3.5551, 3.6017, 3.576, 3.6422, 3.6923, 3.699, 3.5655, 3.7706, 3.6902, 3.6805, 3.6401, 3.7071, 3.675, 3.7487, 3.621, 3.7558, 3.7434, 3.7268, 3.747, 3.6965, 3.7681, 3.6945, 3.6469, 3.8876, 3.8104, 3.845, 3.7895, 3.768, 3.8293, 4.0506, 3.8941, 3.6524, 3.6656, 3.8747, 3.8156, 3.7948, 3.7831, 3.8372, 4.0466, 3.8782, 3.82, 3.8559, 3.8876, 3.8511, 3.8486, 3.8964, 3.9059, 3.8778, 3.8342, 3.9646, 3.9374, 3.9655, 3.906, 3.9944, 4.0411, 3.9134, 3.8961, 3.9023, 4.012, 3.9622, 4.0208, 3.9079, 3.974, 3.909, 3.9567, 3.9765, 4.0086, 4.0025, 3.943, 4.014, 4.0105, 4.1163, 4.0298, 4.0408, 4.0811, 4.0402, 4.0035, 4.0133, 3.9182, 4.0806, 4.0375, 3.963, 4.0113, 4.2127, 4.1642, 4.1199]}, {\"name\": \"Palate\", \"type\": \"scatter\", \"x\": [\"Light Lager\", \"Low Alcohol Beer\", \"American Malt Liquor\", \"American Adjunct Lager\", \"Happoshu\", \"Japanese Rice Lager\", \"Euro Strong Lager\", \"Euro Pale Lager\", \"American Pale Lager\", \"Chile Beer\", \"Kvass\", \"Euro Dark Lager\", \"American Amber / Red Lager\", \"Black & Tan\", \"Fruit / Vegetable Beer\", \"American Blonde Ale\", \"Cream Ale\", \"English Pale Mild Ale\", \"American Pale Wheat Ale\", \"Herbed / Spiced Beer\", \"German Pilsener\", \"Kristalweizen\", \"Bock\", \"English Pale Ale\", \"K\\u00f6lsch\", \"Irish Red Ale\", \"Munich Dunkel Lager\", \"American Dark Wheat Ale\", \"Czech Pilsener\", \"Vienna Lager\", \"Pumpkin Ale\", \"English Bitter\", \"Munich Helles Lager\", \"Faro\", \"English Brown Ale\", \"M\\u00e4rzen / Oktoberfest\", \"English Dark Mild Ale\", \"Dortmunder / Export Lager\", \"English India Pale Ale (IPA)\", \"Witbier\", \"Scottish Gruit / Ancient Herbed Ale\", \"English Stout\", \"Scottish Ale\", \"Winter Warmer\", \"California Common / Steam Beer\", \"Braggot\", \"American Amber / Red Ale\", \"Irish Dry Stout\", \"Belgian Dark Ale\", \"Sahti\", \"Berliner Weissbier\", \"Schwarzbier\", \"Altbier\", \"American Pale Ale (APA)\", \"Maibock / Helles Bock\", \"Extra Special / Strong Bitter (ESB)\", \"Bi\\u00e8re de Champagne / Bi\\u00e8re Brut\", \"Belgian Pale Ale\", \"Smoked Beer\", \"English Strong Ale\", \"Dunkelweizen\", \"Hefeweizen\", \"Keller Bier / Zwickel Bier\", \"American Brown Ale\", \"Bi\\u00e8re de Garde\", \"Rauchbier\", \"Roggenbier\", \"Milk / Sweet Stout\", \"English Porter\", \"American Porter\", \"Gose\", \"American Stout\", \"Foreign / Export Stout\", \"Doppelbock\", \"Scotch Ale / Wee Heavy\", \"Flanders Oud Bruin\", \"American Double / Imperial Pilsner\", \"Belgian Strong Pale Ale\", \"Oatmeal Stout\", \"Wheatwine\", \"American IPA\", \"English Barleywine\", \"Tripel\", \"Lambic - Fruit\", \"Dubbel\", \"Saison / Farmhouse Ale\", \"Old Ale\", \"Rye Beer\", \"Belgian Strong Dark Ale\", \"American Black Ale\", \"American Strong Ale\", \"Baltic Porter\", \"Belgian IPA\", \"American Barleywine\", \"Flanders Red Ale\", \"Weizenbock\", \"Lambic - Unblended\", \"American Double / Imperial IPA\", \"Gueuze\", \"Eisbock\", \"American Wild Ale\", \"Russian Imperial Stout\", \"American Double / Imperial Stout\", \"Quadrupel (Quad)\"], \"y\": [2.3156, 2.4961, 2.6519, 2.7366, 2.7447, 2.9139, 2.9661, 3.0637, 3.2579, 3.2573, 3.2533, 3.2755, 3.3628, 3.3161, 3.3992, 3.4467, 3.5193, 3.5023, 3.5007, 3.51, 3.545, 3.5175, 3.5219, 3.5428, 3.5897, 3.542, 3.5336, 3.5683, 3.6043, 3.5711, 3.5586, 3.5947, 3.6529, 3.6447, 3.5722, 3.6432, 3.5635, 3.669, 3.6558, 3.633, 3.6341, 3.601, 3.6715, 3.6715, 3.7112, 3.727, 3.6775, 3.6251, 3.6595, 3.7246, 3.7572, 3.6672, 3.7206, 3.6991, 3.764, 3.7226, 3.7915, 3.7356, 3.7288, 3.7782, 3.7237, 3.7719, 3.8161, 3.7772, 3.8234, 3.7905, 3.8278, 3.7995, 3.793, 3.7984, 3.8861, 3.7927, 3.8214, 3.8929, 3.8818, 3.859, 3.9079, 3.8934, 3.8538, 3.9466, 3.8739, 3.9314, 3.9165, 3.8719, 3.8885, 3.8988, 3.9464, 3.9341, 3.9384, 3.9133, 3.9585, 3.946, 3.9488, 3.9999, 3.9745, 3.9938, 3.9697, 4.0255, 4.0497, 4.1124, 4.0477, 4.0899, 4.0997, 4.127]}, {\"name\": \"Taste\", \"type\": \"scatter\", \"x\": [\"Light Lager\", \"Low Alcohol Beer\", \"American Malt Liquor\", \"American Adjunct Lager\", \"Happoshu\", \"Japanese Rice Lager\", \"Euro Strong Lager\", \"Euro Pale Lager\", \"American Pale Lager\", \"Chile Beer\", \"Kvass\", \"Euro Dark Lager\", \"American Amber / Red Lager\", \"Black & Tan\", \"Fruit / Vegetable Beer\", \"American Blonde Ale\", \"Cream Ale\", \"English Pale Mild Ale\", \"American Pale Wheat Ale\", \"Herbed / Spiced Beer\", \"German Pilsener\", \"Kristalweizen\", \"Bock\", \"English Pale Ale\", \"K\\u00f6lsch\", \"Irish Red Ale\", \"Munich Dunkel Lager\", \"American Dark Wheat Ale\", \"Czech Pilsener\", \"Vienna Lager\", \"Pumpkin Ale\", \"English Bitter\", \"Munich Helles Lager\", \"Faro\", \"English Brown Ale\", \"M\\u00e4rzen / Oktoberfest\", \"English Dark Mild Ale\", \"Dortmunder / Export Lager\", \"English India Pale Ale (IPA)\", \"Witbier\", \"Scottish Gruit / Ancient Herbed Ale\", \"English Stout\", \"Scottish Ale\", \"Winter Warmer\", \"California Common / Steam Beer\", \"Braggot\", \"American Amber / Red Ale\", \"Irish Dry Stout\", \"Belgian Dark Ale\", \"Sahti\", \"Berliner Weissbier\", \"Schwarzbier\", \"Altbier\", \"American Pale Ale (APA)\", \"Maibock / Helles Bock\", \"Extra Special / Strong Bitter (ESB)\", \"Bi\\u00e8re de Champagne / Bi\\u00e8re Brut\", \"Belgian Pale Ale\", \"Smoked Beer\", \"English Strong Ale\", \"Dunkelweizen\", \"Hefeweizen\", \"Keller Bier / Zwickel Bier\", \"American Brown Ale\", \"Bi\\u00e8re de Garde\", \"Rauchbier\", \"Roggenbier\", \"Milk / Sweet Stout\", \"English Porter\", \"American Porter\", \"Gose\", \"American Stout\", \"Foreign / Export Stout\", \"Doppelbock\", \"Scotch Ale / Wee Heavy\", \"Flanders Oud Bruin\", \"American Double / Imperial Pilsner\", \"Belgian Strong Pale Ale\", \"Oatmeal Stout\", \"Wheatwine\", \"American IPA\", \"English Barleywine\", \"Tripel\", \"Lambic - Fruit\", \"Dubbel\", \"Saison / Farmhouse Ale\", \"Old Ale\", \"Rye Beer\", \"Belgian Strong Dark Ale\", \"American Black Ale\", \"American Strong Ale\", \"Baltic Porter\", \"Belgian IPA\", \"American Barleywine\", \"Flanders Red Ale\", \"Weizenbock\", \"Lambic - Unblended\", \"American Double / Imperial IPA\", \"Gueuze\", \"Eisbock\", \"American Wild Ale\", \"Russian Imperial Stout\", \"American Double / Imperial Stout\", \"Quadrupel (Quad)\"], \"y\": [2.2486, 2.4353, 2.5388, 2.6864, 2.6477, 2.8438, 2.8232, 2.9993, 3.2025, 3.2974, 3.3472, 3.3176, 3.386, 3.3703, 3.4108, 3.4152, 3.4328, 3.4769, 3.4714, 3.5294, 3.5409, 3.5047, 3.5614, 3.5327, 3.5501, 3.5529, 3.5983, 3.5892, 3.6023, 3.6165, 3.6333, 3.6342, 3.6731, 3.6283, 3.6686, 3.6527, 3.6401, 3.6618, 3.6575, 3.6598, 3.7473, 3.7052, 3.7258, 3.7198, 3.7358, 3.7448, 3.7212, 3.6542, 3.7219, 3.8103, 3.7851, 3.7523, 3.7565, 3.7398, 3.7803, 3.765, 3.6907, 3.7577, 3.8173, 3.8333, 3.7786, 3.8217, 3.8502, 3.8801, 3.8619, 3.902, 3.9177, 3.8953, 3.9147, 3.9127, 3.8991, 3.9062, 3.914, 3.9635, 3.9759, 3.9613, 3.9388, 3.9437, 3.9418, 3.9846, 3.9303, 3.9919, 3.9667, 3.9718, 3.956, 3.9363, 4.0582, 4.0137, 4.0301, 3.9745, 4.0363, 4.0362, 4.0129, 4.0462, 4.0942, 4.0815, 4.1328, 4.0939, 4.1265, 4.2112, 4.161, 4.1516, 4.1885, 4.2125]}],\n",
       "                        {\"height\": 800, \"legend\": {\"tracegroupgap\": 0}, \"margin\": {\"t\": 60}, \"template\": {\"data\": {\"bar\": [{\"error_x\": {\"color\": \"#2a3f5f\"}, \"error_y\": {\"color\": \"#2a3f5f\"}, \"marker\": {\"line\": {\"color\": \"#E5ECF6\", \"width\": 0.5}}, \"type\": \"bar\"}], \"barpolar\": [{\"marker\": {\"line\": {\"color\": \"#E5ECF6\", \"width\": 0.5}}, \"type\": \"barpolar\"}], \"carpet\": [{\"aaxis\": {\"endlinecolor\": \"#2a3f5f\", \"gridcolor\": \"white\", \"linecolor\": \"white\", \"minorgridcolor\": \"white\", \"startlinecolor\": \"#2a3f5f\"}, \"baxis\": {\"endlinecolor\": \"#2a3f5f\", \"gridcolor\": \"white\", \"linecolor\": \"white\", \"minorgridcolor\": \"white\", \"startlinecolor\": \"#2a3f5f\"}, \"type\": \"carpet\"}], \"choropleth\": [{\"colorbar\": {\"outlinewidth\": 0, \"ticks\": \"\"}, \"type\": \"choropleth\"}], \"contour\": [{\"colorbar\": {\"outlinewidth\": 0, \"ticks\": \"\"}, \"colorscale\": [[0.0, \"#0d0887\"], [0.1111111111111111, \"#46039f\"], [0.2222222222222222, \"#7201a8\"], [0.3333333333333333, \"#9c179e\"], [0.4444444444444444, \"#bd3786\"], [0.5555555555555556, \"#d8576b\"], [0.6666666666666666, \"#ed7953\"], [0.7777777777777778, \"#fb9f3a\"], [0.8888888888888888, \"#fdca26\"], [1.0, \"#f0f921\"]], \"type\": \"contour\"}], \"contourcarpet\": [{\"colorbar\": {\"outlinewidth\": 0, \"ticks\": \"\"}, \"type\": \"contourcarpet\"}], \"heatmap\": [{\"colorbar\": {\"outlinewidth\": 0, \"ticks\": \"\"}, \"colorscale\": [[0.0, \"#0d0887\"], [0.1111111111111111, \"#46039f\"], [0.2222222222222222, \"#7201a8\"], [0.3333333333333333, \"#9c179e\"], [0.4444444444444444, \"#bd3786\"], [0.5555555555555556, \"#d8576b\"], [0.6666666666666666, \"#ed7953\"], [0.7777777777777778, \"#fb9f3a\"], [0.8888888888888888, \"#fdca26\"], [1.0, \"#f0f921\"]], \"type\": \"heatmap\"}], \"heatmapgl\": [{\"colorbar\": {\"outlinewidth\": 0, \"ticks\": \"\"}, \"colorscale\": [[0.0, \"#0d0887\"], [0.1111111111111111, \"#46039f\"], [0.2222222222222222, \"#7201a8\"], [0.3333333333333333, \"#9c179e\"], [0.4444444444444444, \"#bd3786\"], [0.5555555555555556, \"#d8576b\"], [0.6666666666666666, \"#ed7953\"], [0.7777777777777778, \"#fb9f3a\"], [0.8888888888888888, \"#fdca26\"], [1.0, \"#f0f921\"]], \"type\": \"heatmapgl\"}], \"histogram\": [{\"marker\": {\"colorbar\": {\"outlinewidth\": 0, \"ticks\": \"\"}}, \"type\": \"histogram\"}], \"histogram2d\": [{\"colorbar\": {\"outlinewidth\": 0, \"ticks\": \"\"}, \"colorscale\": [[0.0, \"#0d0887\"], [0.1111111111111111, \"#46039f\"], [0.2222222222222222, \"#7201a8\"], [0.3333333333333333, \"#9c179e\"], [0.4444444444444444, \"#bd3786\"], [0.5555555555555556, \"#d8576b\"], [0.6666666666666666, \"#ed7953\"], [0.7777777777777778, \"#fb9f3a\"], [0.8888888888888888, \"#fdca26\"], [1.0, \"#f0f921\"]], \"type\": \"histogram2d\"}], \"histogram2dcontour\": [{\"colorbar\": {\"outlinewidth\": 0, \"ticks\": \"\"}, \"colorscale\": [[0.0, \"#0d0887\"], [0.1111111111111111, \"#46039f\"], [0.2222222222222222, \"#7201a8\"], [0.3333333333333333, \"#9c179e\"], [0.4444444444444444, \"#bd3786\"], [0.5555555555555556, \"#d8576b\"], [0.6666666666666666, \"#ed7953\"], [0.7777777777777778, \"#fb9f3a\"], [0.8888888888888888, \"#fdca26\"], [1.0, \"#f0f921\"]], \"type\": \"histogram2dcontour\"}], \"mesh3d\": [{\"colorbar\": {\"outlinewidth\": 0, \"ticks\": \"\"}, \"type\": \"mesh3d\"}], \"parcoords\": [{\"line\": {\"colorbar\": {\"outlinewidth\": 0, \"ticks\": \"\"}}, \"type\": \"parcoords\"}], \"pie\": [{\"automargin\": true, \"type\": \"pie\"}], \"scatter\": [{\"marker\": {\"colorbar\": {\"outlinewidth\": 0, \"ticks\": \"\"}}, \"type\": \"scatter\"}], \"scatter3d\": [{\"line\": {\"colorbar\": {\"outlinewidth\": 0, \"ticks\": \"\"}}, \"marker\": {\"colorbar\": {\"outlinewidth\": 0, \"ticks\": \"\"}}, \"type\": \"scatter3d\"}], \"scattercarpet\": [{\"marker\": {\"colorbar\": {\"outlinewidth\": 0, \"ticks\": \"\"}}, \"type\": \"scattercarpet\"}], \"scattergeo\": [{\"marker\": {\"colorbar\": {\"outlinewidth\": 0, \"ticks\": \"\"}}, \"type\": \"scattergeo\"}], \"scattergl\": [{\"marker\": {\"colorbar\": {\"outlinewidth\": 0, \"ticks\": \"\"}}, \"type\": \"scattergl\"}], \"scattermapbox\": [{\"marker\": {\"colorbar\": {\"outlinewidth\": 0, \"ticks\": \"\"}}, \"type\": \"scattermapbox\"}], \"scatterpolar\": [{\"marker\": {\"colorbar\": {\"outlinewidth\": 0, \"ticks\": \"\"}}, \"type\": \"scatterpolar\"}], \"scatterpolargl\": [{\"marker\": {\"colorbar\": {\"outlinewidth\": 0, \"ticks\": \"\"}}, \"type\": \"scatterpolargl\"}], \"scatterternary\": [{\"marker\": {\"colorbar\": {\"outlinewidth\": 0, \"ticks\": \"\"}}, \"type\": \"scatterternary\"}], \"surface\": [{\"colorbar\": {\"outlinewidth\": 0, \"ticks\": \"\"}, \"colorscale\": [[0.0, \"#0d0887\"], [0.1111111111111111, \"#46039f\"], [0.2222222222222222, \"#7201a8\"], [0.3333333333333333, \"#9c179e\"], [0.4444444444444444, \"#bd3786\"], [0.5555555555555556, \"#d8576b\"], [0.6666666666666666, \"#ed7953\"], [0.7777777777777778, \"#fb9f3a\"], [0.8888888888888888, \"#fdca26\"], [1.0, \"#f0f921\"]], \"type\": \"surface\"}], \"table\": [{\"cells\": {\"fill\": {\"color\": \"#EBF0F8\"}, \"line\": {\"color\": \"white\"}}, \"header\": {\"fill\": {\"color\": \"#C8D4E3\"}, \"line\": {\"color\": \"white\"}}, \"type\": \"table\"}]}, \"layout\": {\"annotationdefaults\": {\"arrowcolor\": \"#2a3f5f\", \"arrowhead\": 0, \"arrowwidth\": 1}, \"coloraxis\": {\"colorbar\": {\"outlinewidth\": 0, \"ticks\": \"\"}}, \"colorscale\": {\"diverging\": [[0, \"#8e0152\"], [0.1, \"#c51b7d\"], [0.2, \"#de77ae\"], [0.3, \"#f1b6da\"], [0.4, \"#fde0ef\"], [0.5, \"#f7f7f7\"], [0.6, \"#e6f5d0\"], [0.7, \"#b8e186\"], [0.8, \"#7fbc41\"], [0.9, \"#4d9221\"], [1, \"#276419\"]], \"sequential\": [[0.0, \"#0d0887\"], [0.1111111111111111, \"#46039f\"], [0.2222222222222222, \"#7201a8\"], [0.3333333333333333, \"#9c179e\"], [0.4444444444444444, \"#bd3786\"], [0.5555555555555556, \"#d8576b\"], [0.6666666666666666, \"#ed7953\"], [0.7777777777777778, \"#fb9f3a\"], [0.8888888888888888, \"#fdca26\"], [1.0, \"#f0f921\"]], \"sequentialminus\": [[0.0, \"#0d0887\"], [0.1111111111111111, \"#46039f\"], [0.2222222222222222, \"#7201a8\"], [0.3333333333333333, \"#9c179e\"], [0.4444444444444444, \"#bd3786\"], [0.5555555555555556, \"#d8576b\"], [0.6666666666666666, \"#ed7953\"], [0.7777777777777778, \"#fb9f3a\"], [0.8888888888888888, \"#fdca26\"], [1.0, \"#f0f921\"]]}, \"colorway\": [\"#636efa\", \"#EF553B\", \"#00cc96\", \"#ab63fa\", \"#FFA15A\", \"#19d3f3\", \"#FF6692\", \"#B6E880\", \"#FF97FF\", \"#FECB52\"], \"font\": {\"color\": \"#2a3f5f\"}, \"geo\": {\"bgcolor\": \"white\", \"lakecolor\": \"white\", \"landcolor\": \"#E5ECF6\", \"showlakes\": true, \"showland\": true, \"subunitcolor\": \"white\"}, \"hoverlabel\": {\"align\": \"left\"}, \"hovermode\": \"closest\", \"mapbox\": {\"style\": \"light\"}, \"paper_bgcolor\": \"white\", \"plot_bgcolor\": \"#E5ECF6\", \"polar\": {\"angularaxis\": {\"gridcolor\": \"white\", \"linecolor\": \"white\", \"ticks\": \"\"}, \"bgcolor\": \"#E5ECF6\", \"radialaxis\": {\"gridcolor\": \"white\", \"linecolor\": \"white\", \"ticks\": \"\"}}, \"scene\": {\"xaxis\": {\"backgroundcolor\": \"#E5ECF6\", \"gridcolor\": \"white\", \"gridwidth\": 2, \"linecolor\": \"white\", \"showbackground\": true, \"ticks\": \"\", \"zerolinecolor\": \"white\"}, \"yaxis\": {\"backgroundcolor\": \"#E5ECF6\", \"gridcolor\": \"white\", \"gridwidth\": 2, \"linecolor\": \"white\", \"showbackground\": true, \"ticks\": \"\", \"zerolinecolor\": \"white\"}, \"zaxis\": {\"backgroundcolor\": \"#E5ECF6\", \"gridcolor\": \"white\", \"gridwidth\": 2, \"linecolor\": \"white\", \"showbackground\": true, \"ticks\": \"\", \"zerolinecolor\": \"white\"}}, \"shapedefaults\": {\"line\": {\"color\": \"#2a3f5f\"}}, \"ternary\": {\"aaxis\": {\"gridcolor\": \"white\", \"linecolor\": \"white\", \"ticks\": \"\"}, \"baxis\": {\"gridcolor\": \"white\", \"linecolor\": \"white\", \"ticks\": \"\"}, \"bgcolor\": \"#E5ECF6\", \"caxis\": {\"gridcolor\": \"white\", \"linecolor\": \"white\", \"ticks\": \"\"}}, \"title\": {\"x\": 0.05}, \"xaxis\": {\"automargin\": true, \"gridcolor\": \"white\", \"linecolor\": \"white\", \"ticks\": \"\", \"title\": {\"standoff\": 15}, \"zerolinecolor\": \"white\", \"zerolinewidth\": 2}, \"yaxis\": {\"automargin\": true, \"gridcolor\": \"white\", \"linecolor\": \"white\", \"ticks\": \"\", \"title\": {\"standoff\": 15}, \"zerolinecolor\": \"white\", \"zerolinewidth\": 2}}}, \"xaxis\": {\"anchor\": \"y\", \"domain\": [0.0, 1.0], \"title\": {\"text\": \"beer_style\"}}, \"yaxis\": {\"anchor\": \"x\", \"domain\": [0.0, 1.0], \"title\": {\"text\": \"Rating\"}}},\n",
       "                        {\"responsive\": true}\n",
       "                    ).then(function(){\n",
       "                            \n",
       "var gd = document.getElementById('48f1d55c-565f-421b-8a64-13bddd088e29');\n",
       "var x = new MutationObserver(function (mutations, observer) {{\n",
       "        var display = window.getComputedStyle(gd).display;\n",
       "        if (!display || display === 'none') {{\n",
       "            console.log([gd, 'removed!']);\n",
       "            Plotly.purge(gd);\n",
       "            observer.disconnect();\n",
       "        }}\n",
       "}});\n",
       "\n",
       "// Listen for the removal of the full notebook cells\n",
       "var notebookContainer = gd.closest('#notebook-container');\n",
       "if (notebookContainer) {{\n",
       "    x.observe(notebookContainer, {childList: true});\n",
       "}}\n",
       "\n",
       "// Listen for the clearing of the current output cell\n",
       "var outputEl = gd.closest('.output');\n",
       "if (outputEl) {{\n",
       "    x.observe(outputEl, {childList: true});\n",
       "}}\n",
       "\n",
       "                        })\n",
       "                };\n",
       "                });\n",
       "            </script>\n",
       "        </div>"
      ]
     },
     "metadata": {},
     "output_type": "display_data"
    }
   ],
   "source": [
    "fig = px.scatter(df_beer_style_sorted, x=\"beer_style\", y=\"review_mean\", height=800)\n",
    "fig.update_layout(yaxis_title=\"Rating\")\n",
    "fig.add_scatter(x=df_beer_style_sorted[\"beer_style\"], y=df_beer_style_sorted[\"review_overall\"], name=\"Overall\")\n",
    "fig.add_scatter(x=df_beer_style_sorted[\"beer_style\"], y=df_beer_style_sorted[\"review_aroma\"], name=\"Aroma\")\n",
    "fig.add_scatter(x=df_beer_style_sorted[\"beer_style\"], y=df_beer_style_sorted[\"review_appearance\"], name=\"Appearance\")\n",
    "fig.add_scatter(x=df_beer_style_sorted[\"beer_style\"], y=df_beer_style_sorted[\"review_palate\"], name=\"Palate\")\n",
    "fig.add_scatter(x=df_beer_style_sorted[\"beer_style\"], y=df_beer_style_sorted[\"review_taste\"], name=\"Taste\")\n",
    "fig.show()"
   ]
  },
  {
   "cell_type": "markdown",
   "metadata": {},
   "source": [
    "# Brewery"
   ]
  },
  {
   "cell_type": "markdown",
   "metadata": {},
   "source": [
    "## Best breweries by rating"
   ]
  },
  {
   "cell_type": "markdown",
   "metadata": {},
   "source": [
    "Q9: Which breweries (>500 ratings) produce the best beer?"
   ]
  },
  {
   "cell_type": "code",
   "execution_count": 32,
   "metadata": {},
   "outputs": [
    {
     "data": {
      "text/html": [
       "<div>\n",
       "<style scoped>\n",
       "    .dataframe tbody tr th:only-of-type {\n",
       "        vertical-align: middle;\n",
       "    }\n",
       "\n",
       "    .dataframe tbody tr th {\n",
       "        vertical-align: top;\n",
       "    }\n",
       "\n",
       "    .dataframe thead th {\n",
       "        text-align: right;\n",
       "    }\n",
       "</style>\n",
       "<table border=\"1\" class=\"dataframe\">\n",
       "  <thead>\n",
       "    <tr style=\"text-align: right;\">\n",
       "      <th></th>\n",
       "      <th>brewery_name</th>\n",
       "      <th>country_plain</th>\n",
       "      <th>review_overall</th>\n",
       "      <th>review_aroma</th>\n",
       "      <th>review_appearance</th>\n",
       "      <th>review_palate</th>\n",
       "      <th>review_taste</th>\n",
       "      <th>beer_abv</th>\n",
       "      <th>review_mean</th>\n",
       "      <th>review_count</th>\n",
       "    </tr>\n",
       "  </thead>\n",
       "  <tbody>\n",
       "    <tr>\n",
       "      <th>1234</th>\n",
       "      <td>Brouwerij Westvleteren (Sint-Sixtusabdij van W...</td>\n",
       "      <td>Belgium</td>\n",
       "      <td>4.54</td>\n",
       "      <td>4.47</td>\n",
       "      <td>4.40</td>\n",
       "      <td>4.53</td>\n",
       "      <td>4.59</td>\n",
       "      <td>8.81</td>\n",
       "      <td>4.51</td>\n",
       "      <td>945.57</td>\n",
       "    </tr>\n",
       "    <tr>\n",
       "      <th>4096</th>\n",
       "      <td>Russian River Brewing Company</td>\n",
       "      <td>United States</td>\n",
       "      <td>4.37</td>\n",
       "      <td>4.35</td>\n",
       "      <td>4.23</td>\n",
       "      <td>4.29</td>\n",
       "      <td>4.41</td>\n",
       "      <td>7.60</td>\n",
       "      <td>4.33</td>\n",
       "      <td>1081.94</td>\n",
       "    </tr>\n",
       "    <tr>\n",
       "      <th>841</th>\n",
       "      <td>Brasserie de Rochefort</td>\n",
       "      <td>Belgium</td>\n",
       "      <td>4.27</td>\n",
       "      <td>4.30</td>\n",
       "      <td>4.26</td>\n",
       "      <td>4.29</td>\n",
       "      <td>4.41</td>\n",
       "      <td>9.93</td>\n",
       "      <td>4.31</td>\n",
       "      <td>1719.58</td>\n",
       "    </tr>\n",
       "    <tr>\n",
       "      <th>1217</th>\n",
       "      <td>Brouwerij St. Bernardus NV</td>\n",
       "      <td>Belgium</td>\n",
       "      <td>4.21</td>\n",
       "      <td>4.16</td>\n",
       "      <td>4.23</td>\n",
       "      <td>4.20</td>\n",
       "      <td>4.29</td>\n",
       "      <td>8.53</td>\n",
       "      <td>4.22</td>\n",
       "      <td>1188.42</td>\n",
       "    </tr>\n",
       "    <tr>\n",
       "      <th>89</th>\n",
       "      <td>AleSmith Brewing Company</td>\n",
       "      <td>United States</td>\n",
       "      <td>4.17</td>\n",
       "      <td>4.20</td>\n",
       "      <td>4.20</td>\n",
       "      <td>4.18</td>\n",
       "      <td>4.25</td>\n",
       "      <td>9.39</td>\n",
       "      <td>4.20</td>\n",
       "      <td>584.17</td>\n",
       "    </tr>\n",
       "  </tbody>\n",
       "</table>\n",
       "</div>"
      ],
      "text/plain": [
       "                                           brewery_name  country_plain  \\\n",
       "1234  Brouwerij Westvleteren (Sint-Sixtusabdij van W...        Belgium   \n",
       "4096                      Russian River Brewing Company  United States   \n",
       "841                              Brasserie de Rochefort        Belgium   \n",
       "1217                         Brouwerij St. Bernardus NV        Belgium   \n",
       "89                             AleSmith Brewing Company  United States   \n",
       "\n",
       "      review_overall  review_aroma  review_appearance  review_palate  \\\n",
       "1234            4.54          4.47               4.40           4.53   \n",
       "4096            4.37          4.35               4.23           4.29   \n",
       "841             4.27          4.30               4.26           4.29   \n",
       "1217            4.21          4.16               4.23           4.20   \n",
       "89              4.17          4.20               4.20           4.18   \n",
       "\n",
       "      review_taste  beer_abv  review_mean  review_count  \n",
       "1234          4.59      8.81         4.51        945.57  \n",
       "4096          4.41      7.60         4.33       1081.94  \n",
       "841           4.41      9.93         4.31       1719.58  \n",
       "1217          4.29      8.53         4.22       1188.42  \n",
       "89            4.25      9.39         4.20        584.17  "
      ]
     },
     "execution_count": 32,
     "metadata": {},
     "output_type": "execute_result"
    }
   ],
   "source": [
    "df_brewery = df.groupby([\"brewery_name\", \"country_plain\"]).mean().reset_index().round(2)\n",
    "df_brewery = df_brewery[df_brewery[\"review_count\"]>500].sort_values(by=['review_mean'])\n",
    "df_brewery.sort_values(by = \"review_mean\", ascending=False).head()"
   ]
  },
  {
   "cell_type": "code",
   "execution_count": null,
   "metadata": {},
   "outputs": [],
   "source": [
    "fig = px.scatter(df_brewery, x=\"brewery_name\", y=\"review_mean\", color=\"beer_abv\", size=\"beer_abv\", height=800)\n",
    "fig.show()"
   ]
  },
  {
   "cell_type": "markdown",
   "metadata": {},
   "source": [
    "## Best brewery by rating for each country"
   ]
  },
  {
   "cell_type": "markdown",
   "metadata": {},
   "source": [
    "Q10: What are the best breweries in each country?"
   ]
  },
  {
   "cell_type": "code",
   "execution_count": 38,
   "metadata": {},
   "outputs": [
    {
     "data": {
      "text/html": [
       "<div>\n",
       "<style scoped>\n",
       "    .dataframe tbody tr th:only-of-type {\n",
       "        vertical-align: middle;\n",
       "    }\n",
       "\n",
       "    .dataframe tbody tr th {\n",
       "        vertical-align: top;\n",
       "    }\n",
       "\n",
       "    .dataframe thead th {\n",
       "        text-align: right;\n",
       "    }\n",
       "</style>\n",
       "<table border=\"1\" class=\"dataframe\">\n",
       "  <thead>\n",
       "    <tr style=\"text-align: right;\">\n",
       "      <th></th>\n",
       "      <th>brewery_name</th>\n",
       "      <th>country_plain</th>\n",
       "      <th>review_overall</th>\n",
       "      <th>review_aroma</th>\n",
       "      <th>review_appearance</th>\n",
       "      <th>review_palate</th>\n",
       "      <th>review_taste</th>\n",
       "      <th>beer_abv</th>\n",
       "      <th>review_mean</th>\n",
       "      <th>review_count</th>\n",
       "    </tr>\n",
       "  </thead>\n",
       "  <tbody>\n",
       "    <tr>\n",
       "      <th>0</th>\n",
       "      <td>Brouwerij Westvleteren (Sint-Sixtusabdij van W...</td>\n",
       "      <td>Belgium</td>\n",
       "      <td>4.54</td>\n",
       "      <td>4.47</td>\n",
       "      <td>4.40</td>\n",
       "      <td>4.53</td>\n",
       "      <td>4.59</td>\n",
       "      <td>8.81</td>\n",
       "      <td>4.51</td>\n",
       "      <td>945.57</td>\n",
       "    </tr>\n",
       "    <tr>\n",
       "      <th>1</th>\n",
       "      <td>The Alchemist</td>\n",
       "      <td>United States</td>\n",
       "      <td>4.58</td>\n",
       "      <td>4.61</td>\n",
       "      <td>4.17</td>\n",
       "      <td>4.39</td>\n",
       "      <td>4.57</td>\n",
       "      <td>8.27</td>\n",
       "      <td>4.47</td>\n",
       "      <td>420.71</td>\n",
       "    </tr>\n",
       "    <tr>\n",
       "      <th>2</th>\n",
       "      <td>Brauerei Zehendner GmbH</td>\n",
       "      <td>Germany</td>\n",
       "      <td>4.63</td>\n",
       "      <td>4.20</td>\n",
       "      <td>4.30</td>\n",
       "      <td>4.39</td>\n",
       "      <td>4.37</td>\n",
       "      <td>5.49</td>\n",
       "      <td>4.38</td>\n",
       "      <td>25.07</td>\n",
       "    </tr>\n",
       "    <tr>\n",
       "      <th>3</th>\n",
       "      <td>Närke Kulturbryggeri AB</td>\n",
       "      <td>Sweden</td>\n",
       "      <td>4.36</td>\n",
       "      <td>4.38</td>\n",
       "      <td>4.24</td>\n",
       "      <td>4.33</td>\n",
       "      <td>4.44</td>\n",
       "      <td>8.20</td>\n",
       "      <td>4.35</td>\n",
       "      <td>42.80</td>\n",
       "    </tr>\n",
       "    <tr>\n",
       "      <th>4</th>\n",
       "      <td>U Fleků Pivovaru a Restauraci</td>\n",
       "      <td>Czechia</td>\n",
       "      <td>4.52</td>\n",
       "      <td>4.05</td>\n",
       "      <td>4.32</td>\n",
       "      <td>4.22</td>\n",
       "      <td>4.38</td>\n",
       "      <td>4.50</td>\n",
       "      <td>4.30</td>\n",
       "      <td>30.00</td>\n",
       "    </tr>\n",
       "  </tbody>\n",
       "</table>\n",
       "</div>"
      ],
      "text/plain": [
       "                                        brewery_name  country_plain  \\\n",
       "0  Brouwerij Westvleteren (Sint-Sixtusabdij van W...        Belgium   \n",
       "1                                      The Alchemist  United States   \n",
       "2                            Brauerei Zehendner GmbH        Germany   \n",
       "3                            Närke Kulturbryggeri AB         Sweden   \n",
       "4                      U Fleků Pivovaru a Restauraci        Czechia   \n",
       "\n",
       "   review_overall  review_aroma  review_appearance  review_palate  \\\n",
       "0            4.54          4.47               4.40           4.53   \n",
       "1            4.58          4.61               4.17           4.39   \n",
       "2            4.63          4.20               4.30           4.39   \n",
       "3            4.36          4.38               4.24           4.33   \n",
       "4            4.52          4.05               4.32           4.22   \n",
       "\n",
       "   review_taste  beer_abv  review_mean  review_count  \n",
       "0          4.59      8.81         4.51        945.57  \n",
       "1          4.57      8.27         4.47        420.71  \n",
       "2          4.37      5.49         4.38         25.07  \n",
       "3          4.44      8.20         4.35         42.80  \n",
       "4          4.38      4.50         4.30         30.00  "
      ]
     },
     "execution_count": 38,
     "metadata": {},
     "output_type": "execute_result"
    }
   ],
   "source": [
    "df_brewery_by_country = df.groupby([\"brewery_name\", \"country_plain\"]).mean().reset_index().round(2)\n",
    "df_brewery_by_country = df_brewery_by_country[df_brewery_by_country[\"review_count\"]>10].sort_values(by=['review_mean'], ascending=False)\n",
    "df_brewery_only_best = df_brewery_by_country.groupby([\"country_plain\"]).head(1).reset_index(drop=True)\n",
    "df_brewery_only_best.head()"
   ]
  },
  {
   "cell_type": "code",
   "execution_count": 34,
   "metadata": {},
   "outputs": [
    {
     "data": {
      "application/vnd.plotly.v1+json": {
       "config": {
        "plotlyServerURL": "https://plot.ly"
       },
       "data": [
        {
         "hovertemplate": "country_plain=Macao<br>brewery_name=%{x}<br>review_mean=%{y}<extra></extra>",
         "legendgroup": "Macao",
         "marker": {
          "color": "#636efa",
          "symbol": "circle"
         },
         "mode": "markers",
         "name": "Macao",
         "showlegend": true,
         "type": "scatter",
         "x": [
          "Macau Beer Company Limited"
         ],
         "xaxis": "x",
         "y": [
          2.43
         ],
         "yaxis": "y"
        },
        {
         "hovertemplate": "country_plain=Taiwan, Province of China<br>brewery_name=%{x}<br>review_mean=%{y}<extra></extra>",
         "legendgroup": "Taiwan, Province of China",
         "marker": {
          "color": "#EF553B",
          "symbol": "circle"
         },
         "mode": "markers",
         "name": "Taiwan, Province of China",
         "showlegend": true,
         "type": "scatter",
         "x": [
          "Taiwan Tobacco & Liquor Corporation"
         ],
         "xaxis": "x",
         "y": [
          2.45
         ],
         "yaxis": "y"
        },
        {
         "hovertemplate": "country_plain=Cuba<br>brewery_name=%{x}<br>review_mean=%{y}<extra></extra>",
         "legendgroup": "Cuba",
         "marker": {
          "color": "#00cc96",
          "symbol": "circle"
         },
         "mode": "markers",
         "name": "Cuba",
         "showlegend": true,
         "type": "scatter",
         "x": [
          "Cerveceria Bucanero S.A."
         ],
         "xaxis": "x",
         "y": [
          2.51
         ],
         "yaxis": "y"
        },
        {
         "hovertemplate": "country_plain=Guatemala<br>brewery_name=%{x}<br>review_mean=%{y}<extra></extra>",
         "legendgroup": "Guatemala",
         "marker": {
          "color": "#ab63fa",
          "symbol": "circle"
         },
         "mode": "markers",
         "name": "Guatemala",
         "showlegend": true,
         "type": "scatter",
         "x": [
          "Cervecería Centro Americana, S.A."
         ],
         "xaxis": "x",
         "y": [
          2.51
         ],
         "yaxis": "y"
        },
        {
         "hovertemplate": "country_plain=Korea, Republic of<br>brewery_name=%{x}<br>review_mean=%{y}<extra></extra>",
         "legendgroup": "Korea, Republic of",
         "marker": {
          "color": "#FFA15A",
          "symbol": "circle"
         },
         "mode": "markers",
         "name": "Korea, Republic of",
         "showlegend": true,
         "type": "scatter",
         "x": [
          "Oriental Brewery Co., Ltd"
         ],
         "xaxis": "x",
         "y": [
          2.53
         ],
         "yaxis": "y"
        },
        {
         "hovertemplate": "country_plain=Haiti<br>brewery_name=%{x}<br>review_mean=%{y}<extra></extra>",
         "legendgroup": "Haiti",
         "marker": {
          "color": "#19d3f3",
          "symbol": "circle"
         },
         "mode": "markers",
         "name": "Haiti",
         "showlegend": true,
         "type": "scatter",
         "x": [
          "Brasserie Nationale d'Haiti"
         ],
         "xaxis": "x",
         "y": [
          2.55
         ],
         "yaxis": "y"
        },
        {
         "hovertemplate": "country_plain=Venezuela, Bolivarian Republic of<br>brewery_name=%{x}<br>review_mean=%{y}<extra></extra>",
         "legendgroup": "Venezuela, Bolivarian Republic of",
         "marker": {
          "color": "#FF6692",
          "symbol": "circle"
         },
         "mode": "markers",
         "name": "Venezuela, Bolivarian Republic of",
         "showlegend": true,
         "type": "scatter",
         "x": [
          "Cervecería Polar Los Cortijos"
         ],
         "xaxis": "x",
         "y": [
          2.59
         ],
         "yaxis": "y"
        },
        {
         "hovertemplate": "country_plain=Egypt<br>brewery_name=%{x}<br>review_mean=%{y}<extra></extra>",
         "legendgroup": "Egypt",
         "marker": {
          "color": "#B6E880",
          "symbol": "circle"
         },
         "mode": "markers",
         "name": "Egypt",
         "showlegend": true,
         "type": "scatter",
         "x": [
          "Al Ahram Beverages Company"
         ],
         "xaxis": "x",
         "y": [
          2.68
         ],
         "yaxis": "y"
        },
        {
         "hovertemplate": "country_plain=South Africa<br>brewery_name=%{x}<br>review_mean=%{y}<extra></extra>",
         "legendgroup": "South Africa",
         "marker": {
          "color": "#FF97FF",
          "symbol": "circle"
         },
         "mode": "markers",
         "name": "South Africa",
         "showlegend": true,
         "type": "scatter",
         "x": [
          "South African Breweries plc"
         ],
         "xaxis": "x",
         "y": [
          2.69
         ],
         "yaxis": "y"
        },
        {
         "hovertemplate": "country_plain=Indonesia<br>brewery_name=%{x}<br>review_mean=%{y}<extra></extra>",
         "legendgroup": "Indonesia",
         "marker": {
          "color": "#FECB52",
          "symbol": "circle"
         },
         "mode": "markers",
         "name": "Indonesia",
         "showlegend": true,
         "type": "scatter",
         "x": [
          "PT Bali Hai Brewery Indonesia"
         ],
         "xaxis": "x",
         "y": [
          2.75
         ],
         "yaxis": "y"
        },
        {
         "hovertemplate": "country_plain=Cambodia<br>brewery_name=%{x}<br>review_mean=%{y}<extra></extra>",
         "legendgroup": "Cambodia",
         "marker": {
          "color": "#636efa",
          "symbol": "circle"
         },
         "mode": "markers",
         "name": "Cambodia",
         "showlegend": true,
         "type": "scatter",
         "x": [
          "Cambrew / Angkor Brewery"
         ],
         "xaxis": "x",
         "y": [
          2.75
         ],
         "yaxis": "y"
        },
        {
         "hovertemplate": "country_plain=Serbia<br>brewery_name=%{x}<br>review_mean=%{y}<extra></extra>",
         "legendgroup": "Serbia",
         "marker": {
          "color": "#EF553B",
          "symbol": "circle"
         },
         "mode": "markers",
         "name": "Serbia",
         "showlegend": true,
         "type": "scatter",
         "x": [
          "Apatinska Pivara A.D."
         ],
         "xaxis": "x",
         "y": [
          2.76
         ],
         "yaxis": "y"
        },
        {
         "hovertemplate": "country_plain=Morocco<br>brewery_name=%{x}<br>review_mean=%{y}<extra></extra>",
         "legendgroup": "Morocco",
         "marker": {
          "color": "#00cc96",
          "symbol": "circle"
         },
         "mode": "markers",
         "name": "Morocco",
         "showlegend": true,
         "type": "scatter",
         "x": [
          "Brasseries Du Maroc"
         ],
         "xaxis": "x",
         "y": [
          2.77
         ],
         "yaxis": "y"
        },
        {
         "hovertemplate": "country_plain=Honduras<br>brewery_name=%{x}<br>review_mean=%{y}<extra></extra>",
         "legendgroup": "Honduras",
         "marker": {
          "color": "#ab63fa",
          "symbol": "circle"
         },
         "mode": "markers",
         "name": "Honduras",
         "showlegend": true,
         "type": "scatter",
         "x": [
          "Cerveceria Hondurena, S.A. / BevCo Ltd"
         ],
         "xaxis": "x",
         "y": [
          2.78
         ],
         "yaxis": "y"
        },
        {
         "hovertemplate": "country_plain=India<br>brewery_name=%{x}<br>review_mean=%{y}<extra></extra>",
         "legendgroup": "India",
         "marker": {
          "color": "#FFA15A",
          "symbol": "circle"
         },
         "mode": "markers",
         "name": "India",
         "showlegend": true,
         "type": "scatter",
         "x": [
          "United Breweries - UB Group"
         ],
         "xaxis": "x",
         "y": [
          2.78
         ],
         "yaxis": "y"
        },
        {
         "hovertemplate": "country_plain=Colombia<br>brewery_name=%{x}<br>review_mean=%{y}<extra></extra>",
         "legendgroup": "Colombia",
         "marker": {
          "color": "#19d3f3",
          "symbol": "circle"
         },
         "mode": "markers",
         "name": "Colombia",
         "showlegend": true,
         "type": "scatter",
         "x": [
          "Cervecería De Barranquilla"
         ],
         "xaxis": "x",
         "y": [
          2.79
         ],
         "yaxis": "y"
        },
        {
         "hovertemplate": "country_plain=Dominican Republic<br>brewery_name=%{x}<br>review_mean=%{y}<extra></extra>",
         "legendgroup": "Dominican Republic",
         "marker": {
          "color": "#FF6692",
          "symbol": "circle"
         },
         "mode": "markers",
         "name": "Dominican Republic",
         "showlegend": true,
         "type": "scatter",
         "x": [
          "Cerveceria Nacional Dominicana"
         ],
         "xaxis": "x",
         "y": [
          2.81
         ],
         "yaxis": "y"
        },
        {
         "hovertemplate": "country_plain=Viet Nam<br>brewery_name=%{x}<br>review_mean=%{y}<extra></extra>",
         "legendgroup": "Viet Nam",
         "marker": {
          "color": "#B6E880",
          "symbol": "circle"
         },
         "mode": "markers",
         "name": "Viet Nam",
         "showlegend": true,
         "type": "scatter",
         "x": [
          "VBL Tien Giang Limited (Fosters)"
         ],
         "xaxis": "x",
         "y": [
          2.84
         ],
         "yaxis": "y"
        },
        {
         "hovertemplate": "country_plain=Singapore<br>brewery_name=%{x}<br>review_mean=%{y}<extra></extra>",
         "legendgroup": "Singapore",
         "marker": {
          "color": "#FF97FF",
          "symbol": "circle"
         },
         "mode": "markers",
         "name": "Singapore",
         "showlegend": true,
         "type": "scatter",
         "x": [
          "Asia Pacific Breweries Ltd."
         ],
         "xaxis": "x",
         "y": [
          2.84
         ],
         "yaxis": "y"
        },
        {
         "hovertemplate": "country_plain=Nicaragua<br>brewery_name=%{x}<br>review_mean=%{y}<extra></extra>",
         "legendgroup": "Nicaragua",
         "marker": {
          "color": "#FECB52",
          "symbol": "circle"
         },
         "mode": "markers",
         "name": "Nicaragua",
         "showlegend": true,
         "type": "scatter",
         "x": [
          "Industrial Cervecera S.A. / Compañía Cervecera De Nicaragua"
         ],
         "xaxis": "x",
         "y": [
          2.85
         ],
         "yaxis": "y"
        },
        {
         "hovertemplate": "country_plain=El Salvador<br>brewery_name=%{x}<br>review_mean=%{y}<extra></extra>",
         "legendgroup": "El Salvador",
         "marker": {
          "color": "#636efa",
          "symbol": "circle"
         },
         "mode": "markers",
         "name": "El Salvador",
         "showlegend": true,
         "type": "scatter",
         "x": [
          "Cerveceria La Constancia S.A. / BevCo Ltd"
         ],
         "xaxis": "x",
         "y": [
          2.87
         ],
         "yaxis": "y"
        },
        {
         "hovertemplate": "country_plain=French Polynesia<br>brewery_name=%{x}<br>review_mean=%{y}<extra></extra>",
         "legendgroup": "French Polynesia",
         "marker": {
          "color": "#EF553B",
          "symbol": "circle"
         },
         "mode": "markers",
         "name": "French Polynesia",
         "showlegend": true,
         "type": "scatter",
         "x": [
          "Brasserie de Tahiti S.A."
         ],
         "xaxis": "x",
         "y": [
          2.87
         ],
         "yaxis": "y"
        },
        {
         "hovertemplate": "country_plain=Lebanon<br>brewery_name=%{x}<br>review_mean=%{y}<extra></extra>",
         "legendgroup": "Lebanon",
         "marker": {
          "color": "#00cc96",
          "symbol": "circle"
         },
         "mode": "markers",
         "name": "Lebanon",
         "showlegend": true,
         "type": "scatter",
         "x": [
          "Brasserie Almaza S.A.L."
         ],
         "xaxis": "x",
         "y": [
          2.88
         ],
         "yaxis": "y"
        },
        {
         "hovertemplate": "country_plain=Cayman Islands<br>brewery_name=%{x}<br>review_mean=%{y}<extra></extra>",
         "legendgroup": "Cayman Islands",
         "marker": {
          "color": "#ab63fa",
          "symbol": "circle"
         },
         "mode": "markers",
         "name": "Cayman Islands",
         "showlegend": true,
         "type": "scatter",
         "x": [
          "Cayman Islands Brewery Ltd."
         ],
         "xaxis": "x",
         "y": [
          2.88
         ],
         "yaxis": "y"
        },
        {
         "hovertemplate": "country_plain=Barbados<br>brewery_name=%{x}<br>review_mean=%{y}<extra></extra>",
         "legendgroup": "Barbados",
         "marker": {
          "color": "#FFA15A",
          "symbol": "circle"
         },
         "mode": "markers",
         "name": "Barbados",
         "showlegend": true,
         "type": "scatter",
         "x": [
          "Banks (Barbados) Breweries Limited"
         ],
         "xaxis": "x",
         "y": [
          2.9
         ],
         "yaxis": "y"
        },
        {
         "hovertemplate": "country_plain=Cyprus<br>brewery_name=%{x}<br>review_mean=%{y}<extra></extra>",
         "legendgroup": "Cyprus",
         "marker": {
          "color": "#19d3f3",
          "symbol": "circle"
         },
         "mode": "markers",
         "name": "Cyprus",
         "showlegend": true,
         "type": "scatter",
         "x": [
          "KEO Limited"
         ],
         "xaxis": "x",
         "y": [
          2.92
         ],
         "yaxis": "y"
        },
        {
         "hovertemplate": "country_plain=Costa Rica<br>brewery_name=%{x}<br>review_mean=%{y}<extra></extra>",
         "legendgroup": "Costa Rica",
         "marker": {
          "color": "#FF6692",
          "symbol": "circle"
         },
         "mode": "markers",
         "name": "Costa Rica",
         "showlegend": true,
         "type": "scatter",
         "x": [
          "Cerveceria Costa Rica"
         ],
         "xaxis": "x",
         "y": [
          2.93
         ],
         "yaxis": "y"
        },
        {
         "hovertemplate": "country_plain=Philippines<br>brewery_name=%{x}<br>review_mean=%{y}<extra></extra>",
         "legendgroup": "Philippines",
         "marker": {
          "color": "#B6E880",
          "symbol": "circle"
         },
         "mode": "markers",
         "name": "Philippines",
         "showlegend": true,
         "type": "scatter",
         "x": [
          "San Miguel Corporation"
         ],
         "xaxis": "x",
         "y": [
          2.94
         ],
         "yaxis": "y"
        },
        {
         "hovertemplate": "country_plain=Panama<br>brewery_name=%{x}<br>review_mean=%{y}<extra></extra>",
         "legendgroup": "Panama",
         "marker": {
          "color": "#FF97FF",
          "symbol": "circle"
         },
         "mode": "markers",
         "name": "Panama",
         "showlegend": true,
         "type": "scatter",
         "x": [
          "Cervecería Nacional, S.A."
         ],
         "xaxis": "x",
         "y": [
          2.95
         ],
         "yaxis": "y"
        },
        {
         "hovertemplate": "country_plain=Israel<br>brewery_name=%{x}<br>review_mean=%{y}<extra></extra>",
         "legendgroup": "Israel",
         "marker": {
          "color": "#FECB52",
          "symbol": "circle"
         },
         "mode": "markers",
         "name": "Israel",
         "showlegend": true,
         "type": "scatter",
         "x": [
          "Tempo Beer Industries LTD"
         ],
         "xaxis": "x",
         "y": [
          2.95
         ],
         "yaxis": "y"
        },
        {
         "hovertemplate": "country_plain=Peru<br>brewery_name=%{x}<br>review_mean=%{y}<extra></extra>",
         "legendgroup": "Peru",
         "marker": {
          "color": "#636efa",
          "symbol": "circle"
         },
         "mode": "markers",
         "name": "Peru",
         "showlegend": true,
         "type": "scatter",
         "x": [
          "Compania Cervecera Del Sur Del Peru S.A. (Cervesur)"
         ],
         "xaxis": "x",
         "y": [
          2.95
         ],
         "yaxis": "y"
        },
        {
         "hovertemplate": "country_plain=Romania<br>brewery_name=%{x}<br>review_mean=%{y}<extra></extra>",
         "legendgroup": "Romania",
         "marker": {
          "color": "#EF553B",
          "symbol": "circle"
         },
         "mode": "markers",
         "name": "Romania",
         "showlegend": true,
         "type": "scatter",
         "x": [
          "Miercurea Ciuc (Brau Union Romania)"
         ],
         "xaxis": "x",
         "y": [
          2.96
         ],
         "yaxis": "y"
        },
        {
         "hovertemplate": "country_plain=Malta<br>brewery_name=%{x}<br>review_mean=%{y}<extra></extra>",
         "legendgroup": "Malta",
         "marker": {
          "color": "#00cc96",
          "symbol": "circle"
         },
         "mode": "markers",
         "name": "Malta",
         "showlegend": true,
         "type": "scatter",
         "x": [
          "Simonds Farsons Cisk Plc."
         ],
         "xaxis": "x",
         "y": [
          2.97
         ],
         "yaxis": "y"
        },
        {
         "hovertemplate": "country_plain=Trinidad and Tobago<br>brewery_name=%{x}<br>review_mean=%{y}<extra></extra>",
         "legendgroup": "Trinidad and Tobago",
         "marker": {
          "color": "#ab63fa",
          "symbol": "circle"
         },
         "mode": "markers",
         "name": "Trinidad and Tobago",
         "showlegend": true,
         "type": "scatter",
         "x": [
          "Carib Brewery Limited"
         ],
         "xaxis": "x",
         "y": [
          2.97
         ],
         "yaxis": "y"
        },
        {
         "hovertemplate": "country_plain=Puerto Rico<br>brewery_name=%{x}<br>review_mean=%{y}<extra></extra>",
         "legendgroup": "Puerto Rico",
         "marker": {
          "color": "#FFA15A",
          "symbol": "circle"
         },
         "mode": "markers",
         "name": "Puerto Rico",
         "showlegend": true,
         "type": "scatter",
         "x": [
          "Compañía Cervecera de Puerto Rico"
         ],
         "xaxis": "x",
         "y": [
          2.97
         ],
         "yaxis": "y"
        },
        {
         "hovertemplate": "country_plain=Aruba<br>brewery_name=%{x}<br>review_mean=%{y}<extra></extra>",
         "legendgroup": "Aruba",
         "marker": {
          "color": "#19d3f3",
          "symbol": "circle"
         },
         "mode": "markers",
         "name": "Aruba",
         "showlegend": true,
         "type": "scatter",
         "x": [
          "Browerij Nacional Balashi"
         ],
         "xaxis": "x",
         "y": [
          2.98
         ],
         "yaxis": "y"
        },
        {
         "hovertemplate": "country_plain=Zimbabwe<br>brewery_name=%{x}<br>review_mean=%{y}<extra></extra>",
         "legendgroup": "Zimbabwe",
         "marker": {
          "color": "#FF6692",
          "symbol": "circle"
         },
         "mode": "markers",
         "name": "Zimbabwe",
         "showlegend": true,
         "type": "scatter",
         "x": [
          "Delta Beverages"
         ],
         "xaxis": "x",
         "y": [
          2.98
         ],
         "yaxis": "y"
        },
        {
         "hovertemplate": "country_plain=Bolivia, Plurinational State of<br>brewery_name=%{x}<br>review_mean=%{y}<extra></extra>",
         "legendgroup": "Bolivia, Plurinational State of",
         "marker": {
          "color": "#B6E880",
          "symbol": "circle"
         },
         "mode": "markers",
         "name": "Bolivia, Plurinational State of",
         "showlegend": true,
         "type": "scatter",
         "x": [
          "Cerveceria Boliviana Nacional S.A."
         ],
         "xaxis": "x",
         "y": [
          2.98
         ],
         "yaxis": "y"
        },
        {
         "hovertemplate": "country_plain=Thailand<br>brewery_name=%{x}<br>review_mean=%{y}<extra></extra>",
         "legendgroup": "Thailand",
         "marker": {
          "color": "#FF97FF",
          "symbol": "circle"
         },
         "mode": "markers",
         "name": "Thailand",
         "showlegend": true,
         "type": "scatter",
         "x": [
          "Boon Rawd Brewery Co., Ltd"
         ],
         "xaxis": "x",
         "y": [
          2.98
         ],
         "yaxis": "y"
        },
        {
         "hovertemplate": "country_plain=Dominica<br>brewery_name=%{x}<br>review_mean=%{y}<extra></extra>",
         "legendgroup": "Dominica",
         "marker": {
          "color": "#FECB52",
          "symbol": "circle"
         },
         "mode": "markers",
         "name": "Dominica",
         "showlegend": true,
         "type": "scatter",
         "x": [
          "Dominica Brewery and Beverages Ltd."
         ],
         "xaxis": "x",
         "y": [
          2.98
         ],
         "yaxis": "y"
        },
        {
         "hovertemplate": "country_plain=Portugal<br>brewery_name=%{x}<br>review_mean=%{y}<extra></extra>",
         "legendgroup": "Portugal",
         "marker": {
          "color": "#636efa",
          "symbol": "circle"
         },
         "mode": "markers",
         "name": "Portugal",
         "showlegend": true,
         "type": "scatter",
         "x": [
          "Sociedade Central de Cervejas"
         ],
         "xaxis": "x",
         "y": [
          3.01
         ],
         "yaxis": "y"
        },
        {
         "hovertemplate": "country_plain=Ecuador<br>brewery_name=%{x}<br>review_mean=%{y}<extra></extra>",
         "legendgroup": "Ecuador",
         "marker": {
          "color": "#EF553B",
          "symbol": "circle"
         },
         "mode": "markers",
         "name": "Ecuador",
         "showlegend": true,
         "type": "scatter",
         "x": [
          "Cervezas Nacionales"
         ],
         "xaxis": "x",
         "y": [
          3.01
         ],
         "yaxis": "y"
        },
        {
         "hovertemplate": "country_plain=Greece<br>brewery_name=%{x}<br>review_mean=%{y}<extra></extra>",
         "legendgroup": "Greece",
         "marker": {
          "color": "#00cc96",
          "symbol": "circle"
         },
         "mode": "markers",
         "name": "Greece",
         "showlegend": true,
         "type": "scatter",
         "x": [
          "Macedonian Thrace Brewery"
         ],
         "xaxis": "x",
         "y": [
          3.03
         ],
         "yaxis": "y"
        },
        {
         "hovertemplate": "country_plain=Turkey<br>brewery_name=%{x}<br>review_mean=%{y}<extra></extra>",
         "legendgroup": "Turkey",
         "marker": {
          "color": "#ab63fa",
          "symbol": "circle"
         },
         "mode": "markers",
         "name": "Turkey",
         "showlegend": true,
         "type": "scatter",
         "x": [
          "Anadolu Efes Brewery"
         ],
         "xaxis": "x",
         "y": [
          3.03
         ],
         "yaxis": "y"
        },
        {
         "hovertemplate": "country_plain=Bulgaria<br>brewery_name=%{x}<br>review_mean=%{y}<extra></extra>",
         "legendgroup": "Bulgaria",
         "marker": {
          "color": "#FFA15A",
          "symbol": "circle"
         },
         "mode": "markers",
         "name": "Bulgaria",
         "showlegend": true,
         "type": "scatter",
         "x": [
          "Kamenitza AD"
         ],
         "xaxis": "x",
         "y": [
          3.03
         ],
         "yaxis": "y"
        },
        {
         "hovertemplate": "country_plain=Kenya<br>brewery_name=%{x}<br>review_mean=%{y}<extra></extra>",
         "legendgroup": "Kenya",
         "marker": {
          "color": "#19d3f3",
          "symbol": "circle"
         },
         "mode": "markers",
         "name": "Kenya",
         "showlegend": true,
         "type": "scatter",
         "x": [
          "East African Breweries Ltd (Kenya Breweries)"
         ],
         "xaxis": "x",
         "y": [
          3.04
         ],
         "yaxis": "y"
        },
        {
         "hovertemplate": "country_plain=Bahamas<br>brewery_name=%{x}<br>review_mean=%{y}<extra></extra>",
         "legendgroup": "Bahamas",
         "marker": {
          "color": "#FF6692",
          "symbol": "circle"
         },
         "mode": "markers",
         "name": "Bahamas",
         "showlegend": true,
         "type": "scatter",
         "x": [
          "Bahamian Brewery Beverage & Co. Ltd."
         ],
         "xaxis": "x",
         "y": [
          3.05
         ],
         "yaxis": "y"
        },
        {
         "hovertemplate": "country_plain=Albania<br>brewery_name=%{x}<br>review_mean=%{y}<extra></extra>",
         "legendgroup": "Albania",
         "marker": {
          "color": "#B6E880",
          "symbol": "circle"
         },
         "mode": "markers",
         "name": "Albania",
         "showlegend": true,
         "type": "scatter",
         "x": [
          "Birra Tirana"
         ],
         "xaxis": "x",
         "y": [
          3.05
         ],
         "yaxis": "y"
        },
        {
         "hovertemplate": "country_plain=Hungary<br>brewery_name=%{x}<br>review_mean=%{y}<extra></extra>",
         "legendgroup": "Hungary",
         "marker": {
          "color": "#FF97FF",
          "symbol": "circle"
         },
         "mode": "markers",
         "name": "Hungary",
         "showlegend": true,
         "type": "scatter",
         "x": [
          "Dreher Brewery"
         ],
         "xaxis": "x",
         "y": [
          3.06
         ],
         "yaxis": "y"
        },
        {
         "hovertemplate": "country_plain=Lao People's Democratic Republic<br>brewery_name=%{x}<br>review_mean=%{y}<extra></extra>",
         "legendgroup": "Lao People's Democratic Republic",
         "marker": {
          "color": "#FECB52",
          "symbol": "circle"
         },
         "mode": "markers",
         "name": "Lao People's Democratic Republic",
         "showlegend": true,
         "type": "scatter",
         "x": [
          "Lao Brewery Co."
         ],
         "xaxis": "x",
         "y": [
          3.07
         ],
         "yaxis": "y"
        },
        {
         "hovertemplate": "country_plain=Montenegro<br>brewery_name=%{x}<br>review_mean=%{y}<extra></extra>",
         "legendgroup": "Montenegro",
         "marker": {
          "color": "#636efa",
          "symbol": "circle"
         },
         "mode": "markers",
         "name": "Montenegro",
         "showlegend": true,
         "type": "scatter",
         "x": [
          "Trebjesa Brewery"
         ],
         "xaxis": "x",
         "y": [
          3.08
         ],
         "yaxis": "y"
        },
        {
         "hovertemplate": "country_plain=Armenia<br>brewery_name=%{x}<br>review_mean=%{y}<extra></extra>",
         "legendgroup": "Armenia",
         "marker": {
          "color": "#EF553B",
          "symbol": "circle"
         },
         "mode": "markers",
         "name": "Armenia",
         "showlegend": true,
         "type": "scatter",
         "x": [
          "Beer of Yerevan JSC"
         ],
         "xaxis": "x",
         "y": [
          3.08
         ],
         "yaxis": "y"
        },
        {
         "hovertemplate": "country_plain=Bosnia and Herzegovina<br>brewery_name=%{x}<br>review_mean=%{y}<extra></extra>",
         "legendgroup": "Bosnia and Herzegovina",
         "marker": {
          "color": "#00cc96",
          "symbol": "circle"
         },
         "mode": "markers",
         "name": "Bosnia and Herzegovina",
         "showlegend": true,
         "type": "scatter",
         "x": [
          "Banjalu&#269;ka Pivara"
         ],
         "xaxis": "x",
         "y": [
          3.09
         ],
         "yaxis": "y"
        },
        {
         "hovertemplate": "country_plain=Slovenia<br>brewery_name=%{x}<br>review_mean=%{y}<extra></extra>",
         "legendgroup": "Slovenia",
         "marker": {
          "color": "#ab63fa",
          "symbol": "circle"
         },
         "mode": "markers",
         "name": "Slovenia",
         "showlegend": true,
         "type": "scatter",
         "x": [
          "Pivovarna Laško"
         ],
         "xaxis": "x",
         "y": [
          3.09
         ],
         "yaxis": "y"
        },
        {
         "hovertemplate": "country_plain=Belize<br>brewery_name=%{x}<br>review_mean=%{y}<extra></extra>",
         "legendgroup": "Belize",
         "marker": {
          "color": "#FFA15A",
          "symbol": "circle"
         },
         "mode": "markers",
         "name": "Belize",
         "showlegend": true,
         "type": "scatter",
         "x": [
          "Belize Brewing Co., Ltd."
         ],
         "xaxis": "x",
         "y": [
          3.11
         ],
         "yaxis": "y"
        },
        {
         "hovertemplate": "country_plain=Saint Lucia<br>brewery_name=%{x}<br>review_mean=%{y}<extra></extra>",
         "legendgroup": "Saint Lucia",
         "marker": {
          "color": "#19d3f3",
          "symbol": "circle"
         },
         "mode": "markers",
         "name": "Saint Lucia",
         "showlegend": true,
         "type": "scatter",
         "x": [
          "Windward & Leeward Brewery Ltd."
         ],
         "xaxis": "x",
         "y": [
          3.12
         ],
         "yaxis": "y"
        },
        {
         "hovertemplate": "country_plain=Croatia<br>brewery_name=%{x}<br>review_mean=%{y}<extra></extra>",
         "legendgroup": "Croatia",
         "marker": {
          "color": "#FF6692",
          "symbol": "circle"
         },
         "mode": "markers",
         "name": "Croatia",
         "showlegend": true,
         "type": "scatter",
         "x": [
          "Zagrebaèka Pivovara D.d."
         ],
         "xaxis": "x",
         "y": [
          3.13
         ],
         "yaxis": "y"
        },
        {
         "hovertemplate": "country_plain=Ukraine<br>brewery_name=%{x}<br>review_mean=%{y}<extra></extra>",
         "legendgroup": "Ukraine",
         "marker": {
          "color": "#B6E880",
          "symbol": "circle"
         },
         "mode": "markers",
         "name": "Ukraine",
         "showlegend": true,
         "type": "scatter",
         "x": [
          "Lvivska Pivovarnya (BBH)"
         ],
         "xaxis": "x",
         "y": [
          3.13
         ],
         "yaxis": "y"
        },
        {
         "hovertemplate": "country_plain=Namibia<br>brewery_name=%{x}<br>review_mean=%{y}<extra></extra>",
         "legendgroup": "Namibia",
         "marker": {
          "color": "#FF97FF",
          "symbol": "circle"
         },
         "mode": "markers",
         "name": "Namibia",
         "showlegend": true,
         "type": "scatter",
         "x": [
          "Namibia Breweries Limited"
         ],
         "xaxis": "x",
         "y": [
          3.25
         ],
         "yaxis": "y"
        },
        {
         "hovertemplate": "country_plain=Spain<br>brewery_name=%{x}<br>review_mean=%{y}<extra></extra>",
         "legendgroup": "Spain",
         "marker": {
          "color": "#FECB52",
          "symbol": "circle"
         },
         "mode": "markers",
         "name": "Spain",
         "showlegend": true,
         "type": "scatter",
         "x": [
          "Companyia Cervesera del Montseny"
         ],
         "xaxis": "x",
         "y": [
          3.27
         ],
         "yaxis": "y"
        },
        {
         "hovertemplate": "country_plain=Palestine, State of<br>brewery_name=%{x}<br>review_mean=%{y}<extra></extra>",
         "legendgroup": "Palestine, State of",
         "marker": {
          "color": "#636efa",
          "symbol": "circle"
         },
         "mode": "markers",
         "name": "Palestine, State of",
         "showlegend": true,
         "type": "scatter",
         "x": [
          "Taybeh Brewing Co."
         ],
         "xaxis": "x",
         "y": [
          3.28
         ],
         "yaxis": "y"
        },
        {
         "hovertemplate": "country_plain=Estonia<br>brewery_name=%{x}<br>review_mean=%{y}<extra></extra>",
         "legendgroup": "Estonia",
         "marker": {
          "color": "#EF553B",
          "symbol": "circle"
         },
         "mode": "markers",
         "name": "Estonia",
         "showlegend": true,
         "type": "scatter",
         "x": [
          "Saku Brewery LTD"
         ],
         "xaxis": "x",
         "y": [
          3.29
         ],
         "yaxis": "y"
        },
        {
         "hovertemplate": "country_plain=Lithuania<br>brewery_name=%{x}<br>review_mean=%{y}<extra></extra>",
         "legendgroup": "Lithuania",
         "marker": {
          "color": "#00cc96",
          "symbol": "circle"
         },
         "mode": "markers",
         "name": "Lithuania",
         "showlegend": true,
         "type": "scatter",
         "x": [
          "Utenos Alus"
         ],
         "xaxis": "x",
         "y": [
          3.37
         ],
         "yaxis": "y"
        },
        {
         "hovertemplate": "country_plain=Jamaica<br>brewery_name=%{x}<br>review_mean=%{y}<extra></extra>",
         "legendgroup": "Jamaica",
         "marker": {
          "color": "#ab63fa",
          "symbol": "circle"
         },
         "mode": "markers",
         "name": "Jamaica",
         "showlegend": true,
         "type": "scatter",
         "x": [
          "Big City Brewing CO LTD"
         ],
         "xaxis": "x",
         "y": [
          3.4
         ],
         "yaxis": "y"
        },
        {
         "hovertemplate": "country_plain=North Macedonia<br>brewery_name=%{x}<br>review_mean=%{y}<extra></extra>",
         "legendgroup": "North Macedonia",
         "marker": {
          "color": "#FFA15A",
          "symbol": "circle"
         },
         "mode": "markers",
         "name": "North Macedonia",
         "showlegend": true,
         "type": "scatter",
         "x": [
          "Skopska Pivara (Heineken)"
         ],
         "xaxis": "x",
         "y": [
          3.41
         ],
         "yaxis": "y"
        },
        {
         "hovertemplate": "country_plain=Slovakia<br>brewery_name=%{x}<br>review_mean=%{y}<extra></extra>",
         "legendgroup": "Slovakia",
         "marker": {
          "color": "#19d3f3",
          "symbol": "circle"
         },
         "mode": "markers",
         "name": "Slovakia",
         "showlegend": true,
         "type": "scatter",
         "x": [
          "Pivovar Zlaty Bazant a.s."
         ],
         "xaxis": "x",
         "y": [
          3.41
         ],
         "yaxis": "y"
        },
        {
         "hovertemplate": "country_plain=China<br>brewery_name=%{x}<br>review_mean=%{y}<extra></extra>",
         "legendgroup": "China",
         "marker": {
          "color": "#FF6692",
          "symbol": "circle"
         },
         "mode": "markers",
         "name": "China",
         "showlegend": true,
         "type": "scatter",
         "x": [
          "Tibet Lhasa Brewery Co."
         ],
         "xaxis": "x",
         "y": [
          3.41
         ],
         "yaxis": "y"
        },
        {
         "hovertemplate": "country_plain=Virgin Islands, U.S.<br>brewery_name=%{x}<br>review_mean=%{y}<extra></extra>",
         "legendgroup": "Virgin Islands, U.S.",
         "marker": {
          "color": "#B6E880",
          "symbol": "circle"
         },
         "mode": "markers",
         "name": "Virgin Islands, U.S.",
         "showlegend": true,
         "type": "scatter",
         "x": [
          "Virgin Islands Brewing Co."
         ],
         "xaxis": "x",
         "y": [
          3.44
         ],
         "yaxis": "y"
        },
        {
         "hovertemplate": "country_plain=Latvia<br>brewery_name=%{x}<br>review_mean=%{y}<extra></extra>",
         "legendgroup": "Latvia",
         "marker": {
          "color": "#FF97FF",
          "symbol": "circle"
         },
         "mode": "markers",
         "name": "Latvia",
         "showlegend": true,
         "type": "scatter",
         "x": [
          "Aldaris"
         ],
         "xaxis": "x",
         "y": [
          3.45
         ],
         "yaxis": "y"
        },
        {
         "hovertemplate": "country_plain=Ethiopia<br>brewery_name=%{x}<br>review_mean=%{y}<extra></extra>",
         "legendgroup": "Ethiopia",
         "marker": {
          "color": "#FECB52",
          "symbol": "circle"
         },
         "mode": "markers",
         "name": "Ethiopia",
         "showlegend": true,
         "type": "scatter",
         "x": [
          "Bedele Brewery"
         ],
         "xaxis": "x",
         "y": [
          3.55
         ],
         "yaxis": "y"
        },
        {
         "hovertemplate": "country_plain=Nigeria<br>brewery_name=%{x}<br>review_mean=%{y}<extra></extra>",
         "legendgroup": "Nigeria",
         "marker": {
          "color": "#636efa",
          "symbol": "circle"
         },
         "mode": "markers",
         "name": "Nigeria",
         "showlegend": true,
         "type": "scatter",
         "x": [
          "Guinness Nigeria PLC"
         ],
         "xaxis": "x",
         "y": [
          3.56
         ],
         "yaxis": "y"
        },
        {
         "hovertemplate": "country_plain=Russian Federation<br>brewery_name=%{x}<br>review_mean=%{y}<extra></extra>",
         "legendgroup": "Russian Federation",
         "marker": {
          "color": "#EF553B",
          "symbol": "circle"
         },
         "mode": "markers",
         "name": "Russian Federation",
         "showlegend": true,
         "type": "scatter",
         "x": [
          "Stepan Razin Brewery"
         ],
         "xaxis": "x",
         "y": [
          3.61
         ],
         "yaxis": "y"
        },
        {
         "hovertemplate": "country_plain=Argentina<br>brewery_name=%{x}<br>review_mean=%{y}<extra></extra>",
         "legendgroup": "Argentina",
         "marker": {
          "color": "#00cc96",
          "symbol": "circle"
         },
         "mode": "markers",
         "name": "Argentina",
         "showlegend": true,
         "type": "scatter",
         "x": [
          "Cerveza Artesanal BarbaRoja"
         ],
         "xaxis": "x",
         "y": [
          3.61
         ],
         "yaxis": "y"
        },
        {
         "hovertemplate": "country_plain=Mexico<br>brewery_name=%{x}<br>review_mean=%{y}<extra></extra>",
         "legendgroup": "Mexico",
         "marker": {
          "color": "#ab63fa",
          "symbol": "circle"
         },
         "mode": "markers",
         "name": "Mexico",
         "showlegend": true,
         "type": "scatter",
         "x": [
          "Especialidades Cerveceras S.A. de C.V."
         ],
         "xaxis": "x",
         "y": [
          3.69
         ],
         "yaxis": "y"
        },
        {
         "hovertemplate": "country_plain=Brazil<br>brewery_name=%{x}<br>review_mean=%{y}<extra></extra>",
         "legendgroup": "Brazil",
         "marker": {
          "color": "#FFA15A",
          "symbol": "circle"
         },
         "mode": "markers",
         "name": "Brazil",
         "showlegend": true,
         "type": "scatter",
         "x": [
          "Cervejaria Sudbrack Ltda"
         ],
         "xaxis": "x",
         "y": [
          3.71
         ],
         "yaxis": "y"
        },
        {
         "hovertemplate": "country_plain=Poland<br>brewery_name=%{x}<br>review_mean=%{y}<extra></extra>",
         "legendgroup": "Poland",
         "marker": {
          "color": "#19d3f3",
          "symbol": "circle"
         },
         "mode": "markers",
         "name": "Poland",
         "showlegend": true,
         "type": "scatter",
         "x": [
          "BOSS Browar Witnica S.A."
         ],
         "xaxis": "x",
         "y": [
          3.72
         ],
         "yaxis": "y"
        },
        {
         "hovertemplate": "country_plain=Sri Lanka<br>brewery_name=%{x}<br>review_mean=%{y}<extra></extra>",
         "legendgroup": "Sri Lanka",
         "marker": {
          "color": "#FF6692",
          "symbol": "circle"
         },
         "mode": "markers",
         "name": "Sri Lanka",
         "showlegend": true,
         "type": "scatter",
         "x": [
          "Ceylon / Lion Brewery Limited"
         ],
         "xaxis": "x",
         "y": [
          3.81
         ],
         "yaxis": "y"
        },
        {
         "hovertemplate": "country_plain=Iceland<br>brewery_name=%{x}<br>review_mean=%{y}<extra></extra>",
         "legendgroup": "Iceland",
         "marker": {
          "color": "#B6E880",
          "symbol": "circle"
         },
         "mode": "markers",
         "name": "Iceland",
         "showlegend": true,
         "type": "scatter",
         "x": [
          "Ölvisholt Brugghús"
         ],
         "xaxis": "x",
         "y": [
          3.87
         ],
         "yaxis": "y"
        },
        {
         "hovertemplate": "country_plain=Japan<br>brewery_name=%{x}<br>review_mean=%{y}<extra></extra>",
         "legendgroup": "Japan",
         "marker": {
          "color": "#FF97FF",
          "symbol": "circle"
         },
         "mode": "markers",
         "name": "Japan",
         "showlegend": true,
         "type": "scatter",
         "x": [
          "Baird Brewing Company / Fishmarket Taproom"
         ],
         "xaxis": "x",
         "y": [
          3.87
         ],
         "yaxis": "y"
        },
        {
         "hovertemplate": "country_plain=Austria<br>brewery_name=%{x}<br>review_mean=%{y}<extra></extra>",
         "legendgroup": "Austria",
         "marker": {
          "color": "#FECB52",
          "symbol": "circle"
         },
         "mode": "markers",
         "name": "Austria",
         "showlegend": true,
         "type": "scatter",
         "x": [
          "Brauerei Kapsreiter GmbH"
         ],
         "xaxis": "x",
         "y": [
          3.88
         ],
         "yaxis": "y"
        },
        {
         "hovertemplate": "country_plain=Australia<br>brewery_name=%{x}<br>review_mean=%{y}<extra></extra>",
         "legendgroup": "Australia",
         "marker": {
          "color": "#636efa",
          "symbol": "circle"
         },
         "mode": "markers",
         "name": "Australia",
         "showlegend": true,
         "type": "scatter",
         "x": [
          "Enterprise Brewery (Knappstein Wines)"
         ],
         "xaxis": "x",
         "y": [
          3.9
         ],
         "yaxis": "y"
        },
        {
         "hovertemplate": "country_plain=Netherlands<br>brewery_name=%{x}<br>review_mean=%{y}<extra></extra>",
         "legendgroup": "Netherlands",
         "marker": {
          "color": "#EF553B",
          "symbol": "circle"
         },
         "mode": "markers",
         "name": "Netherlands",
         "showlegend": true,
         "type": "scatter",
         "x": [
          "Bierbrouwerij De Koningshoeven B.V."
         ],
         "xaxis": "x",
         "y": [
          3.93
         ],
         "yaxis": "y"
        },
        {
         "hovertemplate": "country_plain=New Zealand<br>brewery_name=%{x}<br>review_mean=%{y}<extra></extra>",
         "legendgroup": "New Zealand",
         "marker": {
          "color": "#00cc96",
          "symbol": "circle"
         },
         "mode": "markers",
         "name": "New Zealand",
         "showlegend": true,
         "type": "scatter",
         "x": [
          "Epic Brewing Company"
         ],
         "xaxis": "x",
         "y": [
          3.96
         ],
         "yaxis": "y"
        },
        {
         "hovertemplate": "country_plain=Norway<br>brewery_name=%{x}<br>review_mean=%{y}<extra></extra>",
         "legendgroup": "Norway",
         "marker": {
          "color": "#ab63fa",
          "symbol": "circle"
         },
         "mode": "markers",
         "name": "Norway",
         "showlegend": true,
         "type": "scatter",
         "x": [
          "Nøgne Ø - Det Kompromissløse Bryggeri A/S"
         ],
         "xaxis": "x",
         "y": [
          3.97
         ],
         "yaxis": "y"
        },
        {
         "hovertemplate": "country_plain=Italy<br>brewery_name=%{x}<br>review_mean=%{y}<extra></extra>",
         "legendgroup": "Italy",
         "marker": {
          "color": "#FFA15A",
          "symbol": "circle"
         },
         "mode": "markers",
         "name": "Italy",
         "showlegend": true,
         "type": "scatter",
         "x": [
          "Panil"
         ],
         "xaxis": "x",
         "y": [
          3.99
         ],
         "yaxis": "y"
        },
        {
         "hovertemplate": "country_plain=Ireland<br>brewery_name=%{x}<br>review_mean=%{y}<extra></extra>",
         "legendgroup": "Ireland",
         "marker": {
          "color": "#19d3f3",
          "symbol": "circle"
         },
         "mode": "markers",
         "name": "Ireland",
         "showlegend": true,
         "type": "scatter",
         "x": [
          "Galway Hooker Brewery"
         ],
         "xaxis": "x",
         "y": [
          4.01
         ],
         "yaxis": "y"
        },
        {
         "hovertemplate": "country_plain=Switzerland<br>brewery_name=%{x}<br>review_mean=%{y}<extra></extra>",
         "legendgroup": "Switzerland",
         "marker": {
          "color": "#FF6692",
          "symbol": "circle"
         },
         "mode": "markers",
         "name": "Switzerland",
         "showlegend": true,
         "type": "scatter",
         "x": [
          "Hurlimann Brewery"
         ],
         "xaxis": "x",
         "y": [
          4.07
         ],
         "yaxis": "y"
        },
        {
         "hovertemplate": "country_plain=Finland<br>brewery_name=%{x}<br>review_mean=%{y}<extra></extra>",
         "legendgroup": "Finland",
         "marker": {
          "color": "#B6E880",
          "symbol": "circle"
         },
         "mode": "markers",
         "name": "Finland",
         "showlegend": true,
         "type": "scatter",
         "x": [
          "Oy Sinebrychoff Ab"
         ],
         "xaxis": "x",
         "y": [
          4.12
         ],
         "yaxis": "y"
        },
        {
         "hovertemplate": "country_plain=Canada<br>brewery_name=%{x}<br>review_mean=%{y}<extra></extra>",
         "legendgroup": "Canada",
         "marker": {
          "color": "#FF97FF",
          "symbol": "circle"
         },
         "mode": "markers",
         "name": "Canada",
         "showlegend": true,
         "type": "scatter",
         "x": [
          "Driftwood Brewery"
         ],
         "xaxis": "x",
         "y": [
          4.12
         ],
         "yaxis": "y"
        },
        {
         "hovertemplate": "country_plain=France<br>brewery_name=%{x}<br>review_mean=%{y}<extra></extra>",
         "legendgroup": "France",
         "marker": {
          "color": "#FECB52",
          "symbol": "circle"
         },
         "mode": "markers",
         "name": "France",
         "showlegend": true,
         "type": "scatter",
         "x": [
          "Brasserie Lebbe"
         ],
         "xaxis": "x",
         "y": [
          4.13
         ],
         "yaxis": "y"
        },
        {
         "hovertemplate": "country_plain=Denmark<br>brewery_name=%{x}<br>review_mean=%{y}<extra></extra>",
         "legendgroup": "Denmark",
         "marker": {
          "color": "#636efa",
          "symbol": "circle"
         },
         "mode": "markers",
         "name": "Denmark",
         "showlegend": true,
         "type": "scatter",
         "x": [
          "Ølfabrikken"
         ],
         "xaxis": "x",
         "y": [
          4.15
         ],
         "yaxis": "y"
        },
        {
         "hovertemplate": "country_plain=United Kingdom<br>brewery_name=%{x}<br>review_mean=%{y}<extra></extra>",
         "legendgroup": "United Kingdom",
         "marker": {
          "color": "#EF553B",
          "symbol": "circle"
         },
         "mode": "markers",
         "name": "United Kingdom",
         "showlegend": true,
         "type": "scatter",
         "x": [
          "Old Chimneys Brewery"
         ],
         "xaxis": "x",
         "y": [
          4.19
         ],
         "yaxis": "y"
        },
        {
         "hovertemplate": "country_plain=Czechia<br>brewery_name=%{x}<br>review_mean=%{y}<extra></extra>",
         "legendgroup": "Czechia",
         "marker": {
          "color": "#00cc96",
          "symbol": "circle"
         },
         "mode": "markers",
         "name": "Czechia",
         "showlegend": true,
         "type": "scatter",
         "x": [
          "U Fleků Pivovaru a Restauraci"
         ],
         "xaxis": "x",
         "y": [
          4.3
         ],
         "yaxis": "y"
        },
        {
         "hovertemplate": "country_plain=Sweden<br>brewery_name=%{x}<br>review_mean=%{y}<extra></extra>",
         "legendgroup": "Sweden",
         "marker": {
          "color": "#ab63fa",
          "symbol": "circle"
         },
         "mode": "markers",
         "name": "Sweden",
         "showlegend": true,
         "type": "scatter",
         "x": [
          "Närke Kulturbryggeri AB"
         ],
         "xaxis": "x",
         "y": [
          4.35
         ],
         "yaxis": "y"
        },
        {
         "hovertemplate": "country_plain=Germany<br>brewery_name=%{x}<br>review_mean=%{y}<extra></extra>",
         "legendgroup": "Germany",
         "marker": {
          "color": "#FFA15A",
          "symbol": "circle"
         },
         "mode": "markers",
         "name": "Germany",
         "showlegend": true,
         "type": "scatter",
         "x": [
          "Brauerei Zehendner GmbH"
         ],
         "xaxis": "x",
         "y": [
          4.38
         ],
         "yaxis": "y"
        },
        {
         "hovertemplate": "country_plain=United States<br>brewery_name=%{x}<br>review_mean=%{y}<extra></extra>",
         "legendgroup": "United States",
         "marker": {
          "color": "#19d3f3",
          "symbol": "circle"
         },
         "mode": "markers",
         "name": "United States",
         "showlegend": true,
         "type": "scatter",
         "x": [
          "The Alchemist"
         ],
         "xaxis": "x",
         "y": [
          4.47
         ],
         "yaxis": "y"
        },
        {
         "hovertemplate": "country_plain=Belgium<br>brewery_name=%{x}<br>review_mean=%{y}<extra></extra>",
         "legendgroup": "Belgium",
         "marker": {
          "color": "#FF6692",
          "symbol": "circle"
         },
         "mode": "markers",
         "name": "Belgium",
         "showlegend": true,
         "type": "scatter",
         "x": [
          "Brouwerij Westvleteren (Sint-Sixtusabdij van Westvleteren)"
         ],
         "xaxis": "x",
         "y": [
          4.51
         ],
         "yaxis": "y"
        }
       ],
       "layout": {
        "autosize": true,
        "legend": {
         "title": {
          "text": "country_plain"
         },
         "tracegroupgap": 0
        },
        "margin": {
         "t": 60
        },
        "template": {
         "data": {
          "bar": [
           {
            "error_x": {
             "color": "#2a3f5f"
            },
            "error_y": {
             "color": "#2a3f5f"
            },
            "marker": {
             "line": {
              "color": "#E5ECF6",
              "width": 0.5
             }
            },
            "type": "bar"
           }
          ],
          "barpolar": [
           {
            "marker": {
             "line": {
              "color": "#E5ECF6",
              "width": 0.5
             }
            },
            "type": "barpolar"
           }
          ],
          "carpet": [
           {
            "aaxis": {
             "endlinecolor": "#2a3f5f",
             "gridcolor": "white",
             "linecolor": "white",
             "minorgridcolor": "white",
             "startlinecolor": "#2a3f5f"
            },
            "baxis": {
             "endlinecolor": "#2a3f5f",
             "gridcolor": "white",
             "linecolor": "white",
             "minorgridcolor": "white",
             "startlinecolor": "#2a3f5f"
            },
            "type": "carpet"
           }
          ],
          "choropleth": [
           {
            "colorbar": {
             "outlinewidth": 0,
             "ticks": ""
            },
            "type": "choropleth"
           }
          ],
          "contour": [
           {
            "colorbar": {
             "outlinewidth": 0,
             "ticks": ""
            },
            "colorscale": [
             [
              0,
              "#0d0887"
             ],
             [
              0.1111111111111111,
              "#46039f"
             ],
             [
              0.2222222222222222,
              "#7201a8"
             ],
             [
              0.3333333333333333,
              "#9c179e"
             ],
             [
              0.4444444444444444,
              "#bd3786"
             ],
             [
              0.5555555555555556,
              "#d8576b"
             ],
             [
              0.6666666666666666,
              "#ed7953"
             ],
             [
              0.7777777777777778,
              "#fb9f3a"
             ],
             [
              0.8888888888888888,
              "#fdca26"
             ],
             [
              1,
              "#f0f921"
             ]
            ],
            "type": "contour"
           }
          ],
          "contourcarpet": [
           {
            "colorbar": {
             "outlinewidth": 0,
             "ticks": ""
            },
            "type": "contourcarpet"
           }
          ],
          "heatmap": [
           {
            "colorbar": {
             "outlinewidth": 0,
             "ticks": ""
            },
            "colorscale": [
             [
              0,
              "#0d0887"
             ],
             [
              0.1111111111111111,
              "#46039f"
             ],
             [
              0.2222222222222222,
              "#7201a8"
             ],
             [
              0.3333333333333333,
              "#9c179e"
             ],
             [
              0.4444444444444444,
              "#bd3786"
             ],
             [
              0.5555555555555556,
              "#d8576b"
             ],
             [
              0.6666666666666666,
              "#ed7953"
             ],
             [
              0.7777777777777778,
              "#fb9f3a"
             ],
             [
              0.8888888888888888,
              "#fdca26"
             ],
             [
              1,
              "#f0f921"
             ]
            ],
            "type": "heatmap"
           }
          ],
          "heatmapgl": [
           {
            "colorbar": {
             "outlinewidth": 0,
             "ticks": ""
            },
            "colorscale": [
             [
              0,
              "#0d0887"
             ],
             [
              0.1111111111111111,
              "#46039f"
             ],
             [
              0.2222222222222222,
              "#7201a8"
             ],
             [
              0.3333333333333333,
              "#9c179e"
             ],
             [
              0.4444444444444444,
              "#bd3786"
             ],
             [
              0.5555555555555556,
              "#d8576b"
             ],
             [
              0.6666666666666666,
              "#ed7953"
             ],
             [
              0.7777777777777778,
              "#fb9f3a"
             ],
             [
              0.8888888888888888,
              "#fdca26"
             ],
             [
              1,
              "#f0f921"
             ]
            ],
            "type": "heatmapgl"
           }
          ],
          "histogram": [
           {
            "marker": {
             "colorbar": {
              "outlinewidth": 0,
              "ticks": ""
             }
            },
            "type": "histogram"
           }
          ],
          "histogram2d": [
           {
            "colorbar": {
             "outlinewidth": 0,
             "ticks": ""
            },
            "colorscale": [
             [
              0,
              "#0d0887"
             ],
             [
              0.1111111111111111,
              "#46039f"
             ],
             [
              0.2222222222222222,
              "#7201a8"
             ],
             [
              0.3333333333333333,
              "#9c179e"
             ],
             [
              0.4444444444444444,
              "#bd3786"
             ],
             [
              0.5555555555555556,
              "#d8576b"
             ],
             [
              0.6666666666666666,
              "#ed7953"
             ],
             [
              0.7777777777777778,
              "#fb9f3a"
             ],
             [
              0.8888888888888888,
              "#fdca26"
             ],
             [
              1,
              "#f0f921"
             ]
            ],
            "type": "histogram2d"
           }
          ],
          "histogram2dcontour": [
           {
            "colorbar": {
             "outlinewidth": 0,
             "ticks": ""
            },
            "colorscale": [
             [
              0,
              "#0d0887"
             ],
             [
              0.1111111111111111,
              "#46039f"
             ],
             [
              0.2222222222222222,
              "#7201a8"
             ],
             [
              0.3333333333333333,
              "#9c179e"
             ],
             [
              0.4444444444444444,
              "#bd3786"
             ],
             [
              0.5555555555555556,
              "#d8576b"
             ],
             [
              0.6666666666666666,
              "#ed7953"
             ],
             [
              0.7777777777777778,
              "#fb9f3a"
             ],
             [
              0.8888888888888888,
              "#fdca26"
             ],
             [
              1,
              "#f0f921"
             ]
            ],
            "type": "histogram2dcontour"
           }
          ],
          "mesh3d": [
           {
            "colorbar": {
             "outlinewidth": 0,
             "ticks": ""
            },
            "type": "mesh3d"
           }
          ],
          "parcoords": [
           {
            "line": {
             "colorbar": {
              "outlinewidth": 0,
              "ticks": ""
             }
            },
            "type": "parcoords"
           }
          ],
          "pie": [
           {
            "automargin": true,
            "type": "pie"
           }
          ],
          "scatter": [
           {
            "marker": {
             "colorbar": {
              "outlinewidth": 0,
              "ticks": ""
             }
            },
            "type": "scatter"
           }
          ],
          "scatter3d": [
           {
            "line": {
             "colorbar": {
              "outlinewidth": 0,
              "ticks": ""
             }
            },
            "marker": {
             "colorbar": {
              "outlinewidth": 0,
              "ticks": ""
             }
            },
            "type": "scatter3d"
           }
          ],
          "scattercarpet": [
           {
            "marker": {
             "colorbar": {
              "outlinewidth": 0,
              "ticks": ""
             }
            },
            "type": "scattercarpet"
           }
          ],
          "scattergeo": [
           {
            "marker": {
             "colorbar": {
              "outlinewidth": 0,
              "ticks": ""
             }
            },
            "type": "scattergeo"
           }
          ],
          "scattergl": [
           {
            "marker": {
             "colorbar": {
              "outlinewidth": 0,
              "ticks": ""
             }
            },
            "type": "scattergl"
           }
          ],
          "scattermapbox": [
           {
            "marker": {
             "colorbar": {
              "outlinewidth": 0,
              "ticks": ""
             }
            },
            "type": "scattermapbox"
           }
          ],
          "scatterpolar": [
           {
            "marker": {
             "colorbar": {
              "outlinewidth": 0,
              "ticks": ""
             }
            },
            "type": "scatterpolar"
           }
          ],
          "scatterpolargl": [
           {
            "marker": {
             "colorbar": {
              "outlinewidth": 0,
              "ticks": ""
             }
            },
            "type": "scatterpolargl"
           }
          ],
          "scatterternary": [
           {
            "marker": {
             "colorbar": {
              "outlinewidth": 0,
              "ticks": ""
             }
            },
            "type": "scatterternary"
           }
          ],
          "surface": [
           {
            "colorbar": {
             "outlinewidth": 0,
             "ticks": ""
            },
            "colorscale": [
             [
              0,
              "#0d0887"
             ],
             [
              0.1111111111111111,
              "#46039f"
             ],
             [
              0.2222222222222222,
              "#7201a8"
             ],
             [
              0.3333333333333333,
              "#9c179e"
             ],
             [
              0.4444444444444444,
              "#bd3786"
             ],
             [
              0.5555555555555556,
              "#d8576b"
             ],
             [
              0.6666666666666666,
              "#ed7953"
             ],
             [
              0.7777777777777778,
              "#fb9f3a"
             ],
             [
              0.8888888888888888,
              "#fdca26"
             ],
             [
              1,
              "#f0f921"
             ]
            ],
            "type": "surface"
           }
          ],
          "table": [
           {
            "cells": {
             "fill": {
              "color": "#EBF0F8"
             },
             "line": {
              "color": "white"
             }
            },
            "header": {
             "fill": {
              "color": "#C8D4E3"
             },
             "line": {
              "color": "white"
             }
            },
            "type": "table"
           }
          ]
         },
         "layout": {
          "annotationdefaults": {
           "arrowcolor": "#2a3f5f",
           "arrowhead": 0,
           "arrowwidth": 1
          },
          "coloraxis": {
           "colorbar": {
            "outlinewidth": 0,
            "ticks": ""
           }
          },
          "colorscale": {
           "diverging": [
            [
             0,
             "#8e0152"
            ],
            [
             0.1,
             "#c51b7d"
            ],
            [
             0.2,
             "#de77ae"
            ],
            [
             0.3,
             "#f1b6da"
            ],
            [
             0.4,
             "#fde0ef"
            ],
            [
             0.5,
             "#f7f7f7"
            ],
            [
             0.6,
             "#e6f5d0"
            ],
            [
             0.7,
             "#b8e186"
            ],
            [
             0.8,
             "#7fbc41"
            ],
            [
             0.9,
             "#4d9221"
            ],
            [
             1,
             "#276419"
            ]
           ],
           "sequential": [
            [
             0,
             "#0d0887"
            ],
            [
             0.1111111111111111,
             "#46039f"
            ],
            [
             0.2222222222222222,
             "#7201a8"
            ],
            [
             0.3333333333333333,
             "#9c179e"
            ],
            [
             0.4444444444444444,
             "#bd3786"
            ],
            [
             0.5555555555555556,
             "#d8576b"
            ],
            [
             0.6666666666666666,
             "#ed7953"
            ],
            [
             0.7777777777777778,
             "#fb9f3a"
            ],
            [
             0.8888888888888888,
             "#fdca26"
            ],
            [
             1,
             "#f0f921"
            ]
           ],
           "sequentialminus": [
            [
             0,
             "#0d0887"
            ],
            [
             0.1111111111111111,
             "#46039f"
            ],
            [
             0.2222222222222222,
             "#7201a8"
            ],
            [
             0.3333333333333333,
             "#9c179e"
            ],
            [
             0.4444444444444444,
             "#bd3786"
            ],
            [
             0.5555555555555556,
             "#d8576b"
            ],
            [
             0.6666666666666666,
             "#ed7953"
            ],
            [
             0.7777777777777778,
             "#fb9f3a"
            ],
            [
             0.8888888888888888,
             "#fdca26"
            ],
            [
             1,
             "#f0f921"
            ]
           ]
          },
          "colorway": [
           "#636efa",
           "#EF553B",
           "#00cc96",
           "#ab63fa",
           "#FFA15A",
           "#19d3f3",
           "#FF6692",
           "#B6E880",
           "#FF97FF",
           "#FECB52"
          ],
          "font": {
           "color": "#2a3f5f"
          },
          "geo": {
           "bgcolor": "white",
           "lakecolor": "white",
           "landcolor": "#E5ECF6",
           "showlakes": true,
           "showland": true,
           "subunitcolor": "white"
          },
          "hoverlabel": {
           "align": "left"
          },
          "hovermode": "closest",
          "mapbox": {
           "style": "light"
          },
          "paper_bgcolor": "white",
          "plot_bgcolor": "#E5ECF6",
          "polar": {
           "angularaxis": {
            "gridcolor": "white",
            "linecolor": "white",
            "ticks": ""
           },
           "bgcolor": "#E5ECF6",
           "radialaxis": {
            "gridcolor": "white",
            "linecolor": "white",
            "ticks": ""
           }
          },
          "scene": {
           "xaxis": {
            "backgroundcolor": "#E5ECF6",
            "gridcolor": "white",
            "gridwidth": 2,
            "linecolor": "white",
            "showbackground": true,
            "ticks": "",
            "zerolinecolor": "white"
           },
           "yaxis": {
            "backgroundcolor": "#E5ECF6",
            "gridcolor": "white",
            "gridwidth": 2,
            "linecolor": "white",
            "showbackground": true,
            "ticks": "",
            "zerolinecolor": "white"
           },
           "zaxis": {
            "backgroundcolor": "#E5ECF6",
            "gridcolor": "white",
            "gridwidth": 2,
            "linecolor": "white",
            "showbackground": true,
            "ticks": "",
            "zerolinecolor": "white"
           }
          },
          "shapedefaults": {
           "line": {
            "color": "#2a3f5f"
           }
          },
          "ternary": {
           "aaxis": {
            "gridcolor": "white",
            "linecolor": "white",
            "ticks": ""
           },
           "baxis": {
            "gridcolor": "white",
            "linecolor": "white",
            "ticks": ""
           },
           "bgcolor": "#E5ECF6",
           "caxis": {
            "gridcolor": "white",
            "linecolor": "white",
            "ticks": ""
           }
          },
          "title": {
           "x": 0.05
          },
          "xaxis": {
           "automargin": true,
           "gridcolor": "white",
           "linecolor": "white",
           "ticks": "",
           "title": {
            "standoff": 15
           },
           "zerolinecolor": "white",
           "zerolinewidth": 2
          },
          "yaxis": {
           "automargin": true,
           "gridcolor": "white",
           "linecolor": "white",
           "ticks": "",
           "title": {
            "standoff": 15
           },
           "zerolinecolor": "white",
           "zerolinewidth": 2
          }
         }
        },
        "xaxis": {
         "anchor": "y",
         "autorange": true,
         "domain": [
          0,
          1
         ],
         "range": [
          -5.792154163799037,
          101.79215416379904
         ],
         "title": {
          "text": "brewery_name"
         },
         "type": "category"
        },
        "yaxis": {
         "anchor": "x",
         "autorange": true,
         "domain": [
          0,
          1
         ],
         "range": [
          2.2839387539598737,
          4.656061246040126
         ],
         "title": {
          "text": "review_mean"
         },
         "type": "linear"
        }
       }
      },
      "image/png": "[encoded data removed]",
      "text/html": [
       "<div>\n",
       "        \n",
       "        \n",
       "            <div id=\"002baf79-96b9-4493-99ea-76eaceee6f3b\" class=\"plotly-graph-div\" style=\"height:800px; width:100%;\"></div>\n",
       "            <script type=\"text/javascript\">\n",
       "                require([\"plotly\"], function(Plotly) {\n",
       "                    window.PLOTLYENV=window.PLOTLYENV || {};\n",
       "                    \n",
       "                if (document.getElementById(\"002baf79-96b9-4493-99ea-76eaceee6f3b\")) {\n",
       "                    Plotly.newPlot(\n",
       "                        '002baf79-96b9-4493-99ea-76eaceee6f3b',\n",
       "                        [{\"hovertemplate\": \"country_plain=Macao<br>brewery_name=%{x}<br>review_mean=%{y}<extra></extra>\", \"legendgroup\": \"Macao\", \"marker\": {\"color\": \"#636efa\", \"symbol\": \"circle\"}, \"mode\": \"markers\", \"name\": \"Macao\", \"showlegend\": true, \"type\": \"scatter\", \"x\": [\"Macau Beer Company Limited\"], \"xaxis\": \"x\", \"y\": [2.43], \"yaxis\": \"y\"}, {\"hovertemplate\": \"country_plain=Taiwan, Province of China<br>brewery_name=%{x}<br>review_mean=%{y}<extra></extra>\", \"legendgroup\": \"Taiwan, Province of China\", \"marker\": {\"color\": \"#EF553B\", \"symbol\": \"circle\"}, \"mode\": \"markers\", \"name\": \"Taiwan, Province of China\", \"showlegend\": true, \"type\": \"scatter\", \"x\": [\"Taiwan Tobacco & Liquor Corporation\"], \"xaxis\": \"x\", \"y\": [2.45], \"yaxis\": \"y\"}, {\"hovertemplate\": \"country_plain=Cuba<br>brewery_name=%{x}<br>review_mean=%{y}<extra></extra>\", \"legendgroup\": \"Cuba\", \"marker\": {\"color\": \"#00cc96\", \"symbol\": \"circle\"}, \"mode\": \"markers\", \"name\": \"Cuba\", \"showlegend\": true, \"type\": \"scatter\", \"x\": [\"Cerveceria Bucanero S.A.\"], \"xaxis\": \"x\", \"y\": [2.51], \"yaxis\": \"y\"}, {\"hovertemplate\": \"country_plain=Guatemala<br>brewery_name=%{x}<br>review_mean=%{y}<extra></extra>\", \"legendgroup\": \"Guatemala\", \"marker\": {\"color\": \"#ab63fa\", \"symbol\": \"circle\"}, \"mode\": \"markers\", \"name\": \"Guatemala\", \"showlegend\": true, \"type\": \"scatter\", \"x\": [\"Cervecer\\u00eda Centro Americana, S.A.\"], \"xaxis\": \"x\", \"y\": [2.51], \"yaxis\": \"y\"}, {\"hovertemplate\": \"country_plain=Korea, Republic of<br>brewery_name=%{x}<br>review_mean=%{y}<extra></extra>\", \"legendgroup\": \"Korea, Republic of\", \"marker\": {\"color\": \"#FFA15A\", \"symbol\": \"circle\"}, \"mode\": \"markers\", \"name\": \"Korea, Republic of\", \"showlegend\": true, \"type\": \"scatter\", \"x\": [\"Oriental Brewery Co., Ltd\"], \"xaxis\": \"x\", \"y\": [2.53], \"yaxis\": \"y\"}, {\"hovertemplate\": \"country_plain=Haiti<br>brewery_name=%{x}<br>review_mean=%{y}<extra></extra>\", \"legendgroup\": \"Haiti\", \"marker\": {\"color\": \"#19d3f3\", \"symbol\": \"circle\"}, \"mode\": \"markers\", \"name\": \"Haiti\", \"showlegend\": true, \"type\": \"scatter\", \"x\": [\"Brasserie Nationale d'Haiti\"], \"xaxis\": \"x\", \"y\": [2.55], \"yaxis\": \"y\"}, {\"hovertemplate\": \"country_plain=Venezuela, Bolivarian Republic of<br>brewery_name=%{x}<br>review_mean=%{y}<extra></extra>\", \"legendgroup\": \"Venezuela, Bolivarian Republic of\", \"marker\": {\"color\": \"#FF6692\", \"symbol\": \"circle\"}, \"mode\": \"markers\", \"name\": \"Venezuela, Bolivarian Republic of\", \"showlegend\": true, \"type\": \"scatter\", \"x\": [\"Cervecer\\u00eda Polar Los Cortijos\"], \"xaxis\": \"x\", \"y\": [2.59], \"yaxis\": \"y\"}, {\"hovertemplate\": \"country_plain=Egypt<br>brewery_name=%{x}<br>review_mean=%{y}<extra></extra>\", \"legendgroup\": \"Egypt\", \"marker\": {\"color\": \"#B6E880\", \"symbol\": \"circle\"}, \"mode\": \"markers\", \"name\": \"Egypt\", \"showlegend\": true, \"type\": \"scatter\", \"x\": [\"Al Ahram Beverages Company\"], \"xaxis\": \"x\", \"y\": [2.68], \"yaxis\": \"y\"}, {\"hovertemplate\": \"country_plain=South Africa<br>brewery_name=%{x}<br>review_mean=%{y}<extra></extra>\", \"legendgroup\": \"South Africa\", \"marker\": {\"color\": \"#FF97FF\", \"symbol\": \"circle\"}, \"mode\": \"markers\", \"name\": \"South Africa\", \"showlegend\": true, \"type\": \"scatter\", \"x\": [\"South African Breweries plc\"], \"xaxis\": \"x\", \"y\": [2.69], \"yaxis\": \"y\"}, {\"hovertemplate\": \"country_plain=Indonesia<br>brewery_name=%{x}<br>review_mean=%{y}<extra></extra>\", \"legendgroup\": \"Indonesia\", \"marker\": {\"color\": \"#FECB52\", \"symbol\": \"circle\"}, \"mode\": \"markers\", \"name\": \"Indonesia\", \"showlegend\": true, \"type\": \"scatter\", \"x\": [\"PT Bali Hai Brewery Indonesia\"], \"xaxis\": \"x\", \"y\": [2.75], \"yaxis\": \"y\"}, {\"hovertemplate\": \"country_plain=Cambodia<br>brewery_name=%{x}<br>review_mean=%{y}<extra></extra>\", \"legendgroup\": \"Cambodia\", \"marker\": {\"color\": \"#636efa\", \"symbol\": \"circle\"}, \"mode\": \"markers\", \"name\": \"Cambodia\", \"showlegend\": true, \"type\": \"scatter\", \"x\": [\"Cambrew / Angkor Brewery\"], \"xaxis\": \"x\", \"y\": [2.75], \"yaxis\": \"y\"}, {\"hovertemplate\": \"country_plain=Serbia<br>brewery_name=%{x}<br>review_mean=%{y}<extra></extra>\", \"legendgroup\": \"Serbia\", \"marker\": {\"color\": \"#EF553B\", \"symbol\": \"circle\"}, \"mode\": \"markers\", \"name\": \"Serbia\", \"showlegend\": true, \"type\": \"scatter\", \"x\": [\"Apatinska Pivara A.D.\"], \"xaxis\": \"x\", \"y\": [2.76], \"yaxis\": \"y\"}, {\"hovertemplate\": \"country_plain=Morocco<br>brewery_name=%{x}<br>review_mean=%{y}<extra></extra>\", \"legendgroup\": \"Morocco\", \"marker\": {\"color\": \"#00cc96\", \"symbol\": \"circle\"}, \"mode\": \"markers\", \"name\": \"Morocco\", \"showlegend\": true, \"type\": \"scatter\", \"x\": [\"Brasseries Du Maroc\"], \"xaxis\": \"x\", \"y\": [2.77], \"yaxis\": \"y\"}, {\"hovertemplate\": \"country_plain=Honduras<br>brewery_name=%{x}<br>review_mean=%{y}<extra></extra>\", \"legendgroup\": \"Honduras\", \"marker\": {\"color\": \"#ab63fa\", \"symbol\": \"circle\"}, \"mode\": \"markers\", \"name\": \"Honduras\", \"showlegend\": true, \"type\": \"scatter\", \"x\": [\"Cerveceria Hondurena, S.A. / BevCo Ltd\"], \"xaxis\": \"x\", \"y\": [2.78], \"yaxis\": \"y\"}, {\"hovertemplate\": \"country_plain=India<br>brewery_name=%{x}<br>review_mean=%{y}<extra></extra>\", \"legendgroup\": \"India\", \"marker\": {\"color\": \"#FFA15A\", \"symbol\": \"circle\"}, \"mode\": \"markers\", \"name\": \"India\", \"showlegend\": true, \"type\": \"scatter\", \"x\": [\"United Breweries - UB Group\"], \"xaxis\": \"x\", \"y\": [2.78], \"yaxis\": \"y\"}, {\"hovertemplate\": \"country_plain=Colombia<br>brewery_name=%{x}<br>review_mean=%{y}<extra></extra>\", \"legendgroup\": \"Colombia\", \"marker\": {\"color\": \"#19d3f3\", \"symbol\": \"circle\"}, \"mode\": \"markers\", \"name\": \"Colombia\", \"showlegend\": true, \"type\": \"scatter\", \"x\": [\"Cervecer\\u00eda De Barranquilla\"], \"xaxis\": \"x\", \"y\": [2.79], \"yaxis\": \"y\"}, {\"hovertemplate\": \"country_plain=Dominican Republic<br>brewery_name=%{x}<br>review_mean=%{y}<extra></extra>\", \"legendgroup\": \"Dominican Republic\", \"marker\": {\"color\": \"#FF6692\", \"symbol\": \"circle\"}, \"mode\": \"markers\", \"name\": \"Dominican Republic\", \"showlegend\": true, \"type\": \"scatter\", \"x\": [\"Cerveceria Nacional Dominicana\"], \"xaxis\": \"x\", \"y\": [2.81], \"yaxis\": \"y\"}, {\"hovertemplate\": \"country_plain=Viet Nam<br>brewery_name=%{x}<br>review_mean=%{y}<extra></extra>\", \"legendgroup\": \"Viet Nam\", \"marker\": {\"color\": \"#B6E880\", \"symbol\": \"circle\"}, \"mode\": \"markers\", \"name\": \"Viet Nam\", \"showlegend\": true, \"type\": \"scatter\", \"x\": [\"VBL Tien Giang Limited (Fosters)\"], \"xaxis\": \"x\", \"y\": [2.84], \"yaxis\": \"y\"}, {\"hovertemplate\": \"country_plain=Singapore<br>brewery_name=%{x}<br>review_mean=%{y}<extra></extra>\", \"legendgroup\": \"Singapore\", \"marker\": {\"color\": \"#FF97FF\", \"symbol\": \"circle\"}, \"mode\": \"markers\", \"name\": \"Singapore\", \"showlegend\": true, \"type\": \"scatter\", \"x\": [\"Asia Pacific Breweries Ltd.\"], \"xaxis\": \"x\", \"y\": [2.84], \"yaxis\": \"y\"}, {\"hovertemplate\": \"country_plain=Nicaragua<br>brewery_name=%{x}<br>review_mean=%{y}<extra></extra>\", \"legendgroup\": \"Nicaragua\", \"marker\": {\"color\": \"#FECB52\", \"symbol\": \"circle\"}, \"mode\": \"markers\", \"name\": \"Nicaragua\", \"showlegend\": true, \"type\": \"scatter\", \"x\": [\"Industrial Cervecera S.A. / Compa\\u00f1\\u00eda Cervecera De Nicaragua\"], \"xaxis\": \"x\", \"y\": [2.85], \"yaxis\": \"y\"}, {\"hovertemplate\": \"country_plain=El Salvador<br>brewery_name=%{x}<br>review_mean=%{y}<extra></extra>\", \"legendgroup\": \"El Salvador\", \"marker\": {\"color\": \"#636efa\", \"symbol\": \"circle\"}, \"mode\": \"markers\", \"name\": \"El Salvador\", \"showlegend\": true, \"type\": \"scatter\", \"x\": [\"Cerveceria La Constancia S.A. / BevCo Ltd\"], \"xaxis\": \"x\", \"y\": [2.87], \"yaxis\": \"y\"}, {\"hovertemplate\": \"country_plain=French Polynesia<br>brewery_name=%{x}<br>review_mean=%{y}<extra></extra>\", \"legendgroup\": \"French Polynesia\", \"marker\": {\"color\": \"#EF553B\", \"symbol\": \"circle\"}, \"mode\": \"markers\", \"name\": \"French Polynesia\", \"showlegend\": true, \"type\": \"scatter\", \"x\": [\"Brasserie de Tahiti S.A.\"], \"xaxis\": \"x\", \"y\": [2.87], \"yaxis\": \"y\"}, {\"hovertemplate\": \"country_plain=Lebanon<br>brewery_name=%{x}<br>review_mean=%{y}<extra></extra>\", \"legendgroup\": \"Lebanon\", \"marker\": {\"color\": \"#00cc96\", \"symbol\": \"circle\"}, \"mode\": \"markers\", \"name\": \"Lebanon\", \"showlegend\": true, \"type\": \"scatter\", \"x\": [\"Brasserie Almaza S.A.L.\"], \"xaxis\": \"x\", \"y\": [2.88], \"yaxis\": \"y\"}, {\"hovertemplate\": \"country_plain=Cayman Islands<br>brewery_name=%{x}<br>review_mean=%{y}<extra></extra>\", \"legendgroup\": \"Cayman Islands\", \"marker\": {\"color\": \"#ab63fa\", \"symbol\": \"circle\"}, \"mode\": \"markers\", \"name\": \"Cayman Islands\", \"showlegend\": true, \"type\": \"scatter\", \"x\": [\"Cayman Islands Brewery Ltd.\"], \"xaxis\": \"x\", \"y\": [2.88], \"yaxis\": \"y\"}, {\"hovertemplate\": \"country_plain=Barbados<br>brewery_name=%{x}<br>review_mean=%{y}<extra></extra>\", \"legendgroup\": \"Barbados\", \"marker\": {\"color\": \"#FFA15A\", \"symbol\": \"circle\"}, \"mode\": \"markers\", \"name\": \"Barbados\", \"showlegend\": true, \"type\": \"scatter\", \"x\": [\"Banks (Barbados) Breweries Limited\"], \"xaxis\": \"x\", \"y\": [2.9], \"yaxis\": \"y\"}, {\"hovertemplate\": \"country_plain=Cyprus<br>brewery_name=%{x}<br>review_mean=%{y}<extra></extra>\", \"legendgroup\": \"Cyprus\", \"marker\": {\"color\": \"#19d3f3\", \"symbol\": \"circle\"}, \"mode\": \"markers\", \"name\": \"Cyprus\", \"showlegend\": true, \"type\": \"scatter\", \"x\": [\"KEO Limited\"], \"xaxis\": \"x\", \"y\": [2.92], \"yaxis\": \"y\"}, {\"hovertemplate\": \"country_plain=Costa Rica<br>brewery_name=%{x}<br>review_mean=%{y}<extra></extra>\", \"legendgroup\": \"Costa Rica\", \"marker\": {\"color\": \"#FF6692\", \"symbol\": \"circle\"}, \"mode\": \"markers\", \"name\": \"Costa Rica\", \"showlegend\": true, \"type\": \"scatter\", \"x\": [\"Cerveceria Costa Rica\"], \"xaxis\": \"x\", \"y\": [2.93], \"yaxis\": \"y\"}, {\"hovertemplate\": \"country_plain=Philippines<br>brewery_name=%{x}<br>review_mean=%{y}<extra></extra>\", \"legendgroup\": \"Philippines\", \"marker\": {\"color\": \"#B6E880\", \"symbol\": \"circle\"}, \"mode\": \"markers\", \"name\": \"Philippines\", \"showlegend\": true, \"type\": \"scatter\", \"x\": [\"San Miguel Corporation\"], \"xaxis\": \"x\", \"y\": [2.94], \"yaxis\": \"y\"}, {\"hovertemplate\": \"country_plain=Panama<br>brewery_name=%{x}<br>review_mean=%{y}<extra></extra>\", \"legendgroup\": \"Panama\", \"marker\": {\"color\": \"#FF97FF\", \"symbol\": \"circle\"}, \"mode\": \"markers\", \"name\": \"Panama\", \"showlegend\": true, \"type\": \"scatter\", \"x\": [\"Cervecer\\u00eda Nacional, S.A.\"], \"xaxis\": \"x\", \"y\": [2.95], \"yaxis\": \"y\"}, {\"hovertemplate\": \"country_plain=Israel<br>brewery_name=%{x}<br>review_mean=%{y}<extra></extra>\", \"legendgroup\": \"Israel\", \"marker\": {\"color\": \"#FECB52\", \"symbol\": \"circle\"}, \"mode\": \"markers\", \"name\": \"Israel\", \"showlegend\": true, \"type\": \"scatter\", \"x\": [\"Tempo Beer Industries LTD\"], \"xaxis\": \"x\", \"y\": [2.95], \"yaxis\": \"y\"}, {\"hovertemplate\": \"country_plain=Peru<br>brewery_name=%{x}<br>review_mean=%{y}<extra></extra>\", \"legendgroup\": \"Peru\", \"marker\": {\"color\": \"#636efa\", \"symbol\": \"circle\"}, \"mode\": \"markers\", \"name\": \"Peru\", \"showlegend\": true, \"type\": \"scatter\", \"x\": [\"Compania Cervecera Del Sur Del Peru S.A. (Cervesur)\"], \"xaxis\": \"x\", \"y\": [2.95], \"yaxis\": \"y\"}, {\"hovertemplate\": \"country_plain=Romania<br>brewery_name=%{x}<br>review_mean=%{y}<extra></extra>\", \"legendgroup\": \"Romania\", \"marker\": {\"color\": \"#EF553B\", \"symbol\": \"circle\"}, \"mode\": \"markers\", \"name\": \"Romania\", \"showlegend\": true, \"type\": \"scatter\", \"x\": [\"Miercurea Ciuc (Brau Union Romania)\"], \"xaxis\": \"x\", \"y\": [2.96], \"yaxis\": \"y\"}, {\"hovertemplate\": \"country_plain=Malta<br>brewery_name=%{x}<br>review_mean=%{y}<extra></extra>\", \"legendgroup\": \"Malta\", \"marker\": {\"color\": \"#00cc96\", \"symbol\": \"circle\"}, \"mode\": \"markers\", \"name\": \"Malta\", \"showlegend\": true, \"type\": \"scatter\", \"x\": [\"Simonds Farsons Cisk Plc.\"], \"xaxis\": \"x\", \"y\": [2.97], \"yaxis\": \"y\"}, {\"hovertemplate\": \"country_plain=Trinidad and Tobago<br>brewery_name=%{x}<br>review_mean=%{y}<extra></extra>\", \"legendgroup\": \"Trinidad and Tobago\", \"marker\": {\"color\": \"#ab63fa\", \"symbol\": \"circle\"}, \"mode\": \"markers\", \"name\": \"Trinidad and Tobago\", \"showlegend\": true, \"type\": \"scatter\", \"x\": [\"Carib Brewery Limited\"], \"xaxis\": \"x\", \"y\": [2.97], \"yaxis\": \"y\"}, {\"hovertemplate\": \"country_plain=Puerto Rico<br>brewery_name=%{x}<br>review_mean=%{y}<extra></extra>\", \"legendgroup\": \"Puerto Rico\", \"marker\": {\"color\": \"#FFA15A\", \"symbol\": \"circle\"}, \"mode\": \"markers\", \"name\": \"Puerto Rico\", \"showlegend\": true, \"type\": \"scatter\", \"x\": [\"Compa\\u00f1\\u00eda Cervecera de Puerto Rico\"], \"xaxis\": \"x\", \"y\": [2.97], \"yaxis\": \"y\"}, {\"hovertemplate\": \"country_plain=Aruba<br>brewery_name=%{x}<br>review_mean=%{y}<extra></extra>\", \"legendgroup\": \"Aruba\", \"marker\": {\"color\": \"#19d3f3\", \"symbol\": \"circle\"}, \"mode\": \"markers\", \"name\": \"Aruba\", \"showlegend\": true, \"type\": \"scatter\", \"x\": [\"Browerij Nacional Balashi\"], \"xaxis\": \"x\", \"y\": [2.98], \"yaxis\": \"y\"}, {\"hovertemplate\": \"country_plain=Zimbabwe<br>brewery_name=%{x}<br>review_mean=%{y}<extra></extra>\", \"legendgroup\": \"Zimbabwe\", \"marker\": {\"color\": \"#FF6692\", \"symbol\": \"circle\"}, \"mode\": \"markers\", \"name\": \"Zimbabwe\", \"showlegend\": true, \"type\": \"scatter\", \"x\": [\"Delta Beverages\"], \"xaxis\": \"x\", \"y\": [2.98], \"yaxis\": \"y\"}, {\"hovertemplate\": \"country_plain=Bolivia, Plurinational State of<br>brewery_name=%{x}<br>review_mean=%{y}<extra></extra>\", \"legendgroup\": \"Bolivia, Plurinational State of\", \"marker\": {\"color\": \"#B6E880\", \"symbol\": \"circle\"}, \"mode\": \"markers\", \"name\": \"Bolivia, Plurinational State of\", \"showlegend\": true, \"type\": \"scatter\", \"x\": [\"Cerveceria Boliviana Nacional S.A.\"], \"xaxis\": \"x\", \"y\": [2.98], \"yaxis\": \"y\"}, {\"hovertemplate\": \"country_plain=Thailand<br>brewery_name=%{x}<br>review_mean=%{y}<extra></extra>\", \"legendgroup\": \"Thailand\", \"marker\": {\"color\": \"#FF97FF\", \"symbol\": \"circle\"}, \"mode\": \"markers\", \"name\": \"Thailand\", \"showlegend\": true, \"type\": \"scatter\", \"x\": [\"Boon Rawd Brewery Co., Ltd\"], \"xaxis\": \"x\", \"y\": [2.98], \"yaxis\": \"y\"}, {\"hovertemplate\": \"country_plain=Dominica<br>brewery_name=%{x}<br>review_mean=%{y}<extra></extra>\", \"legendgroup\": \"Dominica\", \"marker\": {\"color\": \"#FECB52\", \"symbol\": \"circle\"}, \"mode\": \"markers\", \"name\": \"Dominica\", \"showlegend\": true, \"type\": \"scatter\", \"x\": [\"Dominica Brewery and Beverages Ltd.\"], \"xaxis\": \"x\", \"y\": [2.98], \"yaxis\": \"y\"}, {\"hovertemplate\": \"country_plain=Portugal<br>brewery_name=%{x}<br>review_mean=%{y}<extra></extra>\", \"legendgroup\": \"Portugal\", \"marker\": {\"color\": \"#636efa\", \"symbol\": \"circle\"}, \"mode\": \"markers\", \"name\": \"Portugal\", \"showlegend\": true, \"type\": \"scatter\", \"x\": [\"Sociedade Central de Cervejas\"], \"xaxis\": \"x\", \"y\": [3.01], \"yaxis\": \"y\"}, {\"hovertemplate\": \"country_plain=Ecuador<br>brewery_name=%{x}<br>review_mean=%{y}<extra></extra>\", \"legendgroup\": \"Ecuador\", \"marker\": {\"color\": \"#EF553B\", \"symbol\": \"circle\"}, \"mode\": \"markers\", \"name\": \"Ecuador\", \"showlegend\": true, \"type\": \"scatter\", \"x\": [\"Cervezas Nacionales\"], \"xaxis\": \"x\", \"y\": [3.01], \"yaxis\": \"y\"}, {\"hovertemplate\": \"country_plain=Greece<br>brewery_name=%{x}<br>review_mean=%{y}<extra></extra>\", \"legendgroup\": \"Greece\", \"marker\": {\"color\": \"#00cc96\", \"symbol\": \"circle\"}, \"mode\": \"markers\", \"name\": \"Greece\", \"showlegend\": true, \"type\": \"scatter\", \"x\": [\"Macedonian Thrace Brewery\"], \"xaxis\": \"x\", \"y\": [3.03], \"yaxis\": \"y\"}, {\"hovertemplate\": \"country_plain=Turkey<br>brewery_name=%{x}<br>review_mean=%{y}<extra></extra>\", \"legendgroup\": \"Turkey\", \"marker\": {\"color\": \"#ab63fa\", \"symbol\": \"circle\"}, \"mode\": \"markers\", \"name\": \"Turkey\", \"showlegend\": true, \"type\": \"scatter\", \"x\": [\"Anadolu Efes Brewery\"], \"xaxis\": \"x\", \"y\": [3.03], \"yaxis\": \"y\"}, {\"hovertemplate\": \"country_plain=Bulgaria<br>brewery_name=%{x}<br>review_mean=%{y}<extra></extra>\", \"legendgroup\": \"Bulgaria\", \"marker\": {\"color\": \"#FFA15A\", \"symbol\": \"circle\"}, \"mode\": \"markers\", \"name\": \"Bulgaria\", \"showlegend\": true, \"type\": \"scatter\", \"x\": [\"Kamenitza AD\"], \"xaxis\": \"x\", \"y\": [3.03], \"yaxis\": \"y\"}, {\"hovertemplate\": \"country_plain=Kenya<br>brewery_name=%{x}<br>review_mean=%{y}<extra></extra>\", \"legendgroup\": \"Kenya\", \"marker\": {\"color\": \"#19d3f3\", \"symbol\": \"circle\"}, \"mode\": \"markers\", \"name\": \"Kenya\", \"showlegend\": true, \"type\": \"scatter\", \"x\": [\"East African Breweries Ltd (Kenya Breweries)\"], \"xaxis\": \"x\", \"y\": [3.04], \"yaxis\": \"y\"}, {\"hovertemplate\": \"country_plain=Bahamas<br>brewery_name=%{x}<br>review_mean=%{y}<extra></extra>\", \"legendgroup\": \"Bahamas\", \"marker\": {\"color\": \"#FF6692\", \"symbol\": \"circle\"}, \"mode\": \"markers\", \"name\": \"Bahamas\", \"showlegend\": true, \"type\": \"scatter\", \"x\": [\"Bahamian Brewery Beverage & Co. Ltd.\"], \"xaxis\": \"x\", \"y\": [3.05], \"yaxis\": \"y\"}, {\"hovertemplate\": \"country_plain=Albania<br>brewery_name=%{x}<br>review_mean=%{y}<extra></extra>\", \"legendgroup\": \"Albania\", \"marker\": {\"color\": \"#B6E880\", \"symbol\": \"circle\"}, \"mode\": \"markers\", \"name\": \"Albania\", \"showlegend\": true, \"type\": \"scatter\", \"x\": [\"Birra Tirana\"], \"xaxis\": \"x\", \"y\": [3.05], \"yaxis\": \"y\"}, {\"hovertemplate\": \"country_plain=Hungary<br>brewery_name=%{x}<br>review_mean=%{y}<extra></extra>\", \"legendgroup\": \"Hungary\", \"marker\": {\"color\": \"#FF97FF\", \"symbol\": \"circle\"}, \"mode\": \"markers\", \"name\": \"Hungary\", \"showlegend\": true, \"type\": \"scatter\", \"x\": [\"Dreher Brewery\"], \"xaxis\": \"x\", \"y\": [3.06], \"yaxis\": \"y\"}, {\"hovertemplate\": \"country_plain=Lao People's Democratic Republic<br>brewery_name=%{x}<br>review_mean=%{y}<extra></extra>\", \"legendgroup\": \"Lao People's Democratic Republic\", \"marker\": {\"color\": \"#FECB52\", \"symbol\": \"circle\"}, \"mode\": \"markers\", \"name\": \"Lao People's Democratic Republic\", \"showlegend\": true, \"type\": \"scatter\", \"x\": [\"Lao Brewery Co.\"], \"xaxis\": \"x\", \"y\": [3.07], \"yaxis\": \"y\"}, {\"hovertemplate\": \"country_plain=Montenegro<br>brewery_name=%{x}<br>review_mean=%{y}<extra></extra>\", \"legendgroup\": \"Montenegro\", \"marker\": {\"color\": \"#636efa\", \"symbol\": \"circle\"}, \"mode\": \"markers\", \"name\": \"Montenegro\", \"showlegend\": true, \"type\": \"scatter\", \"x\": [\"Trebjesa Brewery\"], \"xaxis\": \"x\", \"y\": [3.08], \"yaxis\": \"y\"}, {\"hovertemplate\": \"country_plain=Armenia<br>brewery_name=%{x}<br>review_mean=%{y}<extra></extra>\", \"legendgroup\": \"Armenia\", \"marker\": {\"color\": \"#EF553B\", \"symbol\": \"circle\"}, \"mode\": \"markers\", \"name\": \"Armenia\", \"showlegend\": true, \"type\": \"scatter\", \"x\": [\"Beer of Yerevan JSC\"], \"xaxis\": \"x\", \"y\": [3.08], \"yaxis\": \"y\"}, {\"hovertemplate\": \"country_plain=Bosnia and Herzegovina<br>brewery_name=%{x}<br>review_mean=%{y}<extra></extra>\", \"legendgroup\": \"Bosnia and Herzegovina\", \"marker\": {\"color\": \"#00cc96\", \"symbol\": \"circle\"}, \"mode\": \"markers\", \"name\": \"Bosnia and Herzegovina\", \"showlegend\": true, \"type\": \"scatter\", \"x\": [\"Banjalu&#269;ka Pivara\"], \"xaxis\": \"x\", \"y\": [3.09], \"yaxis\": \"y\"}, {\"hovertemplate\": \"country_plain=Slovenia<br>brewery_name=%{x}<br>review_mean=%{y}<extra></extra>\", \"legendgroup\": \"Slovenia\", \"marker\": {\"color\": \"#ab63fa\", \"symbol\": \"circle\"}, \"mode\": \"markers\", \"name\": \"Slovenia\", \"showlegend\": true, \"type\": \"scatter\", \"x\": [\"Pivovarna La\\u0161ko\"], \"xaxis\": \"x\", \"y\": [3.09], \"yaxis\": \"y\"}, {\"hovertemplate\": \"country_plain=Belize<br>brewery_name=%{x}<br>review_mean=%{y}<extra></extra>\", \"legendgroup\": \"Belize\", \"marker\": {\"color\": \"#FFA15A\", \"symbol\": \"circle\"}, \"mode\": \"markers\", \"name\": \"Belize\", \"showlegend\": true, \"type\": \"scatter\", \"x\": [\"Belize Brewing Co., Ltd.\"], \"xaxis\": \"x\", \"y\": [3.11], \"yaxis\": \"y\"}, {\"hovertemplate\": \"country_plain=Saint Lucia<br>brewery_name=%{x}<br>review_mean=%{y}<extra></extra>\", \"legendgroup\": \"Saint Lucia\", \"marker\": {\"color\": \"#19d3f3\", \"symbol\": \"circle\"}, \"mode\": \"markers\", \"name\": \"Saint Lucia\", \"showlegend\": true, \"type\": \"scatter\", \"x\": [\"Windward & Leeward Brewery Ltd.\"], \"xaxis\": \"x\", \"y\": [3.12], \"yaxis\": \"y\"}, {\"hovertemplate\": \"country_plain=Croatia<br>brewery_name=%{x}<br>review_mean=%{y}<extra></extra>\", \"legendgroup\": \"Croatia\", \"marker\": {\"color\": \"#FF6692\", \"symbol\": \"circle\"}, \"mode\": \"markers\", \"name\": \"Croatia\", \"showlegend\": true, \"type\": \"scatter\", \"x\": [\"Zagreba\\u00e8ka Pivovara D.d.\"], \"xaxis\": \"x\", \"y\": [3.13], \"yaxis\": \"y\"}, {\"hovertemplate\": \"country_plain=Ukraine<br>brewery_name=%{x}<br>review_mean=%{y}<extra></extra>\", \"legendgroup\": \"Ukraine\", \"marker\": {\"color\": \"#B6E880\", \"symbol\": \"circle\"}, \"mode\": \"markers\", \"name\": \"Ukraine\", \"showlegend\": true, \"type\": \"scatter\", \"x\": [\"Lvivska Pivovarnya (BBH)\"], \"xaxis\": \"x\", \"y\": [3.13], \"yaxis\": \"y\"}, {\"hovertemplate\": \"country_plain=Namibia<br>brewery_name=%{x}<br>review_mean=%{y}<extra></extra>\", \"legendgroup\": \"Namibia\", \"marker\": {\"color\": \"#FF97FF\", \"symbol\": \"circle\"}, \"mode\": \"markers\", \"name\": \"Namibia\", \"showlegend\": true, \"type\": \"scatter\", \"x\": [\"Namibia Breweries Limited\"], \"xaxis\": \"x\", \"y\": [3.25], \"yaxis\": \"y\"}, {\"hovertemplate\": \"country_plain=Spain<br>brewery_name=%{x}<br>review_mean=%{y}<extra></extra>\", \"legendgroup\": \"Spain\", \"marker\": {\"color\": \"#FECB52\", \"symbol\": \"circle\"}, \"mode\": \"markers\", \"name\": \"Spain\", \"showlegend\": true, \"type\": \"scatter\", \"x\": [\"Companyia Cervesera del Montseny\"], \"xaxis\": \"x\", \"y\": [3.27], \"yaxis\": \"y\"}, {\"hovertemplate\": \"country_plain=Palestine, State of<br>brewery_name=%{x}<br>review_mean=%{y}<extra></extra>\", \"legendgroup\": \"Palestine, State of\", \"marker\": {\"color\": \"#636efa\", \"symbol\": \"circle\"}, \"mode\": \"markers\", \"name\": \"Palestine, State of\", \"showlegend\": true, \"type\": \"scatter\", \"x\": [\"Taybeh Brewing Co.\"], \"xaxis\": \"x\", \"y\": [3.28], \"yaxis\": \"y\"}, {\"hovertemplate\": \"country_plain=Estonia<br>brewery_name=%{x}<br>review_mean=%{y}<extra></extra>\", \"legendgroup\": \"Estonia\", \"marker\": {\"color\": \"#EF553B\", \"symbol\": \"circle\"}, \"mode\": \"markers\", \"name\": \"Estonia\", \"showlegend\": true, \"type\": \"scatter\", \"x\": [\"Saku Brewery LTD\"], \"xaxis\": \"x\", \"y\": [3.29], \"yaxis\": \"y\"}, {\"hovertemplate\": \"country_plain=Lithuania<br>brewery_name=%{x}<br>review_mean=%{y}<extra></extra>\", \"legendgroup\": \"Lithuania\", \"marker\": {\"color\": \"#00cc96\", \"symbol\": \"circle\"}, \"mode\": \"markers\", \"name\": \"Lithuania\", \"showlegend\": true, \"type\": \"scatter\", \"x\": [\"Utenos Alus\"], \"xaxis\": \"x\", \"y\": [3.37], \"yaxis\": \"y\"}, {\"hovertemplate\": \"country_plain=Jamaica<br>brewery_name=%{x}<br>review_mean=%{y}<extra></extra>\", \"legendgroup\": \"Jamaica\", \"marker\": {\"color\": \"#ab63fa\", \"symbol\": \"circle\"}, \"mode\": \"markers\", \"name\": \"Jamaica\", \"showlegend\": true, \"type\": \"scatter\", \"x\": [\"Big City Brewing CO LTD\"], \"xaxis\": \"x\", \"y\": [3.4], \"yaxis\": \"y\"}, {\"hovertemplate\": \"country_plain=North Macedonia<br>brewery_name=%{x}<br>review_mean=%{y}<extra></extra>\", \"legendgroup\": \"North Macedonia\", \"marker\": {\"color\": \"#FFA15A\", \"symbol\": \"circle\"}, \"mode\": \"markers\", \"name\": \"North Macedonia\", \"showlegend\": true, \"type\": \"scatter\", \"x\": [\"Skopska Pivara (Heineken)\"], \"xaxis\": \"x\", \"y\": [3.41], \"yaxis\": \"y\"}, {\"hovertemplate\": \"country_plain=Slovakia<br>brewery_name=%{x}<br>review_mean=%{y}<extra></extra>\", \"legendgroup\": \"Slovakia\", \"marker\": {\"color\": \"#19d3f3\", \"symbol\": \"circle\"}, \"mode\": \"markers\", \"name\": \"Slovakia\", \"showlegend\": true, \"type\": \"scatter\", \"x\": [\"Pivovar Zlaty Bazant a.s.\"], \"xaxis\": \"x\", \"y\": [3.41], \"yaxis\": \"y\"}, {\"hovertemplate\": \"country_plain=China<br>brewery_name=%{x}<br>review_mean=%{y}<extra></extra>\", \"legendgroup\": \"China\", \"marker\": {\"color\": \"#FF6692\", \"symbol\": \"circle\"}, \"mode\": \"markers\", \"name\": \"China\", \"showlegend\": true, \"type\": \"scatter\", \"x\": [\"Tibet Lhasa Brewery Co.\"], \"xaxis\": \"x\", \"y\": [3.41], \"yaxis\": \"y\"}, {\"hovertemplate\": \"country_plain=Virgin Islands, U.S.<br>brewery_name=%{x}<br>review_mean=%{y}<extra></extra>\", \"legendgroup\": \"Virgin Islands, U.S.\", \"marker\": {\"color\": \"#B6E880\", \"symbol\": \"circle\"}, \"mode\": \"markers\", \"name\": \"Virgin Islands, U.S.\", \"showlegend\": true, \"type\": \"scatter\", \"x\": [\"Virgin Islands Brewing Co.\"], \"xaxis\": \"x\", \"y\": [3.44], \"yaxis\": \"y\"}, {\"hovertemplate\": \"country_plain=Latvia<br>brewery_name=%{x}<br>review_mean=%{y}<extra></extra>\", \"legendgroup\": \"Latvia\", \"marker\": {\"color\": \"#FF97FF\", \"symbol\": \"circle\"}, \"mode\": \"markers\", \"name\": \"Latvia\", \"showlegend\": true, \"type\": \"scatter\", \"x\": [\"Aldaris\"], \"xaxis\": \"x\", \"y\": [3.45], \"yaxis\": \"y\"}, {\"hovertemplate\": \"country_plain=Ethiopia<br>brewery_name=%{x}<br>review_mean=%{y}<extra></extra>\", \"legendgroup\": \"Ethiopia\", \"marker\": {\"color\": \"#FECB52\", \"symbol\": \"circle\"}, \"mode\": \"markers\", \"name\": \"Ethiopia\", \"showlegend\": true, \"type\": \"scatter\", \"x\": [\"Bedele Brewery\"], \"xaxis\": \"x\", \"y\": [3.55], \"yaxis\": \"y\"}, {\"hovertemplate\": \"country_plain=Nigeria<br>brewery_name=%{x}<br>review_mean=%{y}<extra></extra>\", \"legendgroup\": \"Nigeria\", \"marker\": {\"color\": \"#636efa\", \"symbol\": \"circle\"}, \"mode\": \"markers\", \"name\": \"Nigeria\", \"showlegend\": true, \"type\": \"scatter\", \"x\": [\"Guinness Nigeria PLC\"], \"xaxis\": \"x\", \"y\": [3.56], \"yaxis\": \"y\"}, {\"hovertemplate\": \"country_plain=Russian Federation<br>brewery_name=%{x}<br>review_mean=%{y}<extra></extra>\", \"legendgroup\": \"Russian Federation\", \"marker\": {\"color\": \"#EF553B\", \"symbol\": \"circle\"}, \"mode\": \"markers\", \"name\": \"Russian Federation\", \"showlegend\": true, \"type\": \"scatter\", \"x\": [\"Stepan Razin Brewery\"], \"xaxis\": \"x\", \"y\": [3.61], \"yaxis\": \"y\"}, {\"hovertemplate\": \"country_plain=Argentina<br>brewery_name=%{x}<br>review_mean=%{y}<extra></extra>\", \"legendgroup\": \"Argentina\", \"marker\": {\"color\": \"#00cc96\", \"symbol\": \"circle\"}, \"mode\": \"markers\", \"name\": \"Argentina\", \"showlegend\": true, \"type\": \"scatter\", \"x\": [\"Cerveza Artesanal BarbaRoja\"], \"xaxis\": \"x\", \"y\": [3.61], \"yaxis\": \"y\"}, {\"hovertemplate\": \"country_plain=Mexico<br>brewery_name=%{x}<br>review_mean=%{y}<extra></extra>\", \"legendgroup\": \"Mexico\", \"marker\": {\"color\": \"#ab63fa\", \"symbol\": \"circle\"}, \"mode\": \"markers\", \"name\": \"Mexico\", \"showlegend\": true, \"type\": \"scatter\", \"x\": [\"Especialidades Cerveceras S.A. de C.V.\"], \"xaxis\": \"x\", \"y\": [3.69], \"yaxis\": \"y\"}, {\"hovertemplate\": \"country_plain=Brazil<br>brewery_name=%{x}<br>review_mean=%{y}<extra></extra>\", \"legendgroup\": \"Brazil\", \"marker\": {\"color\": \"#FFA15A\", \"symbol\": \"circle\"}, \"mode\": \"markers\", \"name\": \"Brazil\", \"showlegend\": true, \"type\": \"scatter\", \"x\": [\"Cervejaria Sudbrack Ltda\"], \"xaxis\": \"x\", \"y\": [3.71], \"yaxis\": \"y\"}, {\"hovertemplate\": \"country_plain=Poland<br>brewery_name=%{x}<br>review_mean=%{y}<extra></extra>\", \"legendgroup\": \"Poland\", \"marker\": {\"color\": \"#19d3f3\", \"symbol\": \"circle\"}, \"mode\": \"markers\", \"name\": \"Poland\", \"showlegend\": true, \"type\": \"scatter\", \"x\": [\"BOSS Browar Witnica S.A.\"], \"xaxis\": \"x\", \"y\": [3.72], \"yaxis\": \"y\"}, {\"hovertemplate\": \"country_plain=Sri Lanka<br>brewery_name=%{x}<br>review_mean=%{y}<extra></extra>\", \"legendgroup\": \"Sri Lanka\", \"marker\": {\"color\": \"#FF6692\", \"symbol\": \"circle\"}, \"mode\": \"markers\", \"name\": \"Sri Lanka\", \"showlegend\": true, \"type\": \"scatter\", \"x\": [\"Ceylon / Lion Brewery Limited\"], \"xaxis\": \"x\", \"y\": [3.81], \"yaxis\": \"y\"}, {\"hovertemplate\": \"country_plain=Iceland<br>brewery_name=%{x}<br>review_mean=%{y}<extra></extra>\", \"legendgroup\": \"Iceland\", \"marker\": {\"color\": \"#B6E880\", \"symbol\": \"circle\"}, \"mode\": \"markers\", \"name\": \"Iceland\", \"showlegend\": true, \"type\": \"scatter\", \"x\": [\"\\u00d6lvisholt Bruggh\\u00fas\"], \"xaxis\": \"x\", \"y\": [3.87], \"yaxis\": \"y\"}, {\"hovertemplate\": \"country_plain=Japan<br>brewery_name=%{x}<br>review_mean=%{y}<extra></extra>\", \"legendgroup\": \"Japan\", \"marker\": {\"color\": \"#FF97FF\", \"symbol\": \"circle\"}, \"mode\": \"markers\", \"name\": \"Japan\", \"showlegend\": true, \"type\": \"scatter\", \"x\": [\"Baird Brewing Company / Fishmarket Taproom\"], \"xaxis\": \"x\", \"y\": [3.87], \"yaxis\": \"y\"}, {\"hovertemplate\": \"country_plain=Austria<br>brewery_name=%{x}<br>review_mean=%{y}<extra></extra>\", \"legendgroup\": \"Austria\", \"marker\": {\"color\": \"#FECB52\", \"symbol\": \"circle\"}, \"mode\": \"markers\", \"name\": \"Austria\", \"showlegend\": true, \"type\": \"scatter\", \"x\": [\"Brauerei Kapsreiter GmbH\"], \"xaxis\": \"x\", \"y\": [3.88], \"yaxis\": \"y\"}, {\"hovertemplate\": \"country_plain=Australia<br>brewery_name=%{x}<br>review_mean=%{y}<extra></extra>\", \"legendgroup\": \"Australia\", \"marker\": {\"color\": \"#636efa\", \"symbol\": \"circle\"}, \"mode\": \"markers\", \"name\": \"Australia\", \"showlegend\": true, \"type\": \"scatter\", \"x\": [\"Enterprise Brewery (Knappstein Wines)\"], \"xaxis\": \"x\", \"y\": [3.9], \"yaxis\": \"y\"}, {\"hovertemplate\": \"country_plain=Netherlands<br>brewery_name=%{x}<br>review_mean=%{y}<extra></extra>\", \"legendgroup\": \"Netherlands\", \"marker\": {\"color\": \"#EF553B\", \"symbol\": \"circle\"}, \"mode\": \"markers\", \"name\": \"Netherlands\", \"showlegend\": true, \"type\": \"scatter\", \"x\": [\"Bierbrouwerij De Koningshoeven B.V.\"], \"xaxis\": \"x\", \"y\": [3.93], \"yaxis\": \"y\"}, {\"hovertemplate\": \"country_plain=New Zealand<br>brewery_name=%{x}<br>review_mean=%{y}<extra></extra>\", \"legendgroup\": \"New Zealand\", \"marker\": {\"color\": \"#00cc96\", \"symbol\": \"circle\"}, \"mode\": \"markers\", \"name\": \"New Zealand\", \"showlegend\": true, \"type\": \"scatter\", \"x\": [\"Epic Brewing Company\"], \"xaxis\": \"x\", \"y\": [3.96], \"yaxis\": \"y\"}, {\"hovertemplate\": \"country_plain=Norway<br>brewery_name=%{x}<br>review_mean=%{y}<extra></extra>\", \"legendgroup\": \"Norway\", \"marker\": {\"color\": \"#ab63fa\", \"symbol\": \"circle\"}, \"mode\": \"markers\", \"name\": \"Norway\", \"showlegend\": true, \"type\": \"scatter\", \"x\": [\"N\\u00f8gne \\u00d8 - Det Kompromissl\\u00f8se Bryggeri A/S\"], \"xaxis\": \"x\", \"y\": [3.97], \"yaxis\": \"y\"}, {\"hovertemplate\": \"country_plain=Italy<br>brewery_name=%{x}<br>review_mean=%{y}<extra></extra>\", \"legendgroup\": \"Italy\", \"marker\": {\"color\": \"#FFA15A\", \"symbol\": \"circle\"}, \"mode\": \"markers\", \"name\": \"Italy\", \"showlegend\": true, \"type\": \"scatter\", \"x\": [\"Panil\"], \"xaxis\": \"x\", \"y\": [3.99], \"yaxis\": \"y\"}, {\"hovertemplate\": \"country_plain=Ireland<br>brewery_name=%{x}<br>review_mean=%{y}<extra></extra>\", \"legendgroup\": \"Ireland\", \"marker\": {\"color\": \"#19d3f3\", \"symbol\": \"circle\"}, \"mode\": \"markers\", \"name\": \"Ireland\", \"showlegend\": true, \"type\": \"scatter\", \"x\": [\"Galway Hooker Brewery\"], \"xaxis\": \"x\", \"y\": [4.01], \"yaxis\": \"y\"}, {\"hovertemplate\": \"country_plain=Switzerland<br>brewery_name=%{x}<br>review_mean=%{y}<extra></extra>\", \"legendgroup\": \"Switzerland\", \"marker\": {\"color\": \"#FF6692\", \"symbol\": \"circle\"}, \"mode\": \"markers\", \"name\": \"Switzerland\", \"showlegend\": true, \"type\": \"scatter\", \"x\": [\"Hurlimann Brewery\"], \"xaxis\": \"x\", \"y\": [4.07], \"yaxis\": \"y\"}, {\"hovertemplate\": \"country_plain=Finland<br>brewery_name=%{x}<br>review_mean=%{y}<extra></extra>\", \"legendgroup\": \"Finland\", \"marker\": {\"color\": \"#B6E880\", \"symbol\": \"circle\"}, \"mode\": \"markers\", \"name\": \"Finland\", \"showlegend\": true, \"type\": \"scatter\", \"x\": [\"Oy Sinebrychoff Ab\"], \"xaxis\": \"x\", \"y\": [4.12], \"yaxis\": \"y\"}, {\"hovertemplate\": \"country_plain=Canada<br>brewery_name=%{x}<br>review_mean=%{y}<extra></extra>\", \"legendgroup\": \"Canada\", \"marker\": {\"color\": \"#FF97FF\", \"symbol\": \"circle\"}, \"mode\": \"markers\", \"name\": \"Canada\", \"showlegend\": true, \"type\": \"scatter\", \"x\": [\"Driftwood Brewery\"], \"xaxis\": \"x\", \"y\": [4.12], \"yaxis\": \"y\"}, {\"hovertemplate\": \"country_plain=France<br>brewery_name=%{x}<br>review_mean=%{y}<extra></extra>\", \"legendgroup\": \"France\", \"marker\": {\"color\": \"#FECB52\", \"symbol\": \"circle\"}, \"mode\": \"markers\", \"name\": \"France\", \"showlegend\": true, \"type\": \"scatter\", \"x\": [\"Brasserie Lebbe\"], \"xaxis\": \"x\", \"y\": [4.13], \"yaxis\": \"y\"}, {\"hovertemplate\": \"country_plain=Denmark<br>brewery_name=%{x}<br>review_mean=%{y}<extra></extra>\", \"legendgroup\": \"Denmark\", \"marker\": {\"color\": \"#636efa\", \"symbol\": \"circle\"}, \"mode\": \"markers\", \"name\": \"Denmark\", \"showlegend\": true, \"type\": \"scatter\", \"x\": [\"\\u00d8lfabrikken\"], \"xaxis\": \"x\", \"y\": [4.15], \"yaxis\": \"y\"}, {\"hovertemplate\": \"country_plain=United Kingdom<br>brewery_name=%{x}<br>review_mean=%{y}<extra></extra>\", \"legendgroup\": \"United Kingdom\", \"marker\": {\"color\": \"#EF553B\", \"symbol\": \"circle\"}, \"mode\": \"markers\", \"name\": \"United Kingdom\", \"showlegend\": true, \"type\": \"scatter\", \"x\": [\"Old Chimneys Brewery\"], \"xaxis\": \"x\", \"y\": [4.19], \"yaxis\": \"y\"}, {\"hovertemplate\": \"country_plain=Czechia<br>brewery_name=%{x}<br>review_mean=%{y}<extra></extra>\", \"legendgroup\": \"Czechia\", \"marker\": {\"color\": \"#00cc96\", \"symbol\": \"circle\"}, \"mode\": \"markers\", \"name\": \"Czechia\", \"showlegend\": true, \"type\": \"scatter\", \"x\": [\"U Flek\\u016f Pivovaru a Restauraci\"], \"xaxis\": \"x\", \"y\": [4.3], \"yaxis\": \"y\"}, {\"hovertemplate\": \"country_plain=Sweden<br>brewery_name=%{x}<br>review_mean=%{y}<extra></extra>\", \"legendgroup\": \"Sweden\", \"marker\": {\"color\": \"#ab63fa\", \"symbol\": \"circle\"}, \"mode\": \"markers\", \"name\": \"Sweden\", \"showlegend\": true, \"type\": \"scatter\", \"x\": [\"N\\u00e4rke Kulturbryggeri AB\"], \"xaxis\": \"x\", \"y\": [4.35], \"yaxis\": \"y\"}, {\"hovertemplate\": \"country_plain=Germany<br>brewery_name=%{x}<br>review_mean=%{y}<extra></extra>\", \"legendgroup\": \"Germany\", \"marker\": {\"color\": \"#FFA15A\", \"symbol\": \"circle\"}, \"mode\": \"markers\", \"name\": \"Germany\", \"showlegend\": true, \"type\": \"scatter\", \"x\": [\"Brauerei Zehendner GmbH\"], \"xaxis\": \"x\", \"y\": [4.38], \"yaxis\": \"y\"}, {\"hovertemplate\": \"country_plain=United States<br>brewery_name=%{x}<br>review_mean=%{y}<extra></extra>\", \"legendgroup\": \"United States\", \"marker\": {\"color\": \"#19d3f3\", \"symbol\": \"circle\"}, \"mode\": \"markers\", \"name\": \"United States\", \"showlegend\": true, \"type\": \"scatter\", \"x\": [\"The Alchemist\"], \"xaxis\": \"x\", \"y\": [4.47], \"yaxis\": \"y\"}, {\"hovertemplate\": \"country_plain=Belgium<br>brewery_name=%{x}<br>review_mean=%{y}<extra></extra>\", \"legendgroup\": \"Belgium\", \"marker\": {\"color\": \"#FF6692\", \"symbol\": \"circle\"}, \"mode\": \"markers\", \"name\": \"Belgium\", \"showlegend\": true, \"type\": \"scatter\", \"x\": [\"Brouwerij Westvleteren (Sint-Sixtusabdij van Westvleteren)\"], \"xaxis\": \"x\", \"y\": [4.51], \"yaxis\": \"y\"}],\n",
       "                        {\"height\": 800, \"legend\": {\"title\": {\"text\": \"country_plain\"}, \"tracegroupgap\": 0}, \"margin\": {\"t\": 60}, \"template\": {\"data\": {\"bar\": [{\"error_x\": {\"color\": \"#2a3f5f\"}, \"error_y\": {\"color\": \"#2a3f5f\"}, \"marker\": {\"line\": {\"color\": \"#E5ECF6\", \"width\": 0.5}}, \"type\": \"bar\"}], \"barpolar\": [{\"marker\": {\"line\": {\"color\": \"#E5ECF6\", \"width\": 0.5}}, \"type\": \"barpolar\"}], \"carpet\": [{\"aaxis\": {\"endlinecolor\": \"#2a3f5f\", \"gridcolor\": \"white\", \"linecolor\": \"white\", \"minorgridcolor\": \"white\", \"startlinecolor\": \"#2a3f5f\"}, \"baxis\": {\"endlinecolor\": \"#2a3f5f\", \"gridcolor\": \"white\", \"linecolor\": \"white\", \"minorgridcolor\": \"white\", \"startlinecolor\": \"#2a3f5f\"}, \"type\": \"carpet\"}], \"choropleth\": [{\"colorbar\": {\"outlinewidth\": 0, \"ticks\": \"\"}, \"type\": \"choropleth\"}], \"contour\": [{\"colorbar\": {\"outlinewidth\": 0, \"ticks\": \"\"}, \"colorscale\": [[0.0, \"#0d0887\"], [0.1111111111111111, \"#46039f\"], [0.2222222222222222, \"#7201a8\"], [0.3333333333333333, \"#9c179e\"], [0.4444444444444444, \"#bd3786\"], [0.5555555555555556, \"#d8576b\"], [0.6666666666666666, \"#ed7953\"], [0.7777777777777778, \"#fb9f3a\"], [0.8888888888888888, \"#fdca26\"], [1.0, \"#f0f921\"]], \"type\": \"contour\"}], \"contourcarpet\": [{\"colorbar\": {\"outlinewidth\": 0, \"ticks\": \"\"}, \"type\": \"contourcarpet\"}], \"heatmap\": [{\"colorbar\": {\"outlinewidth\": 0, \"ticks\": \"\"}, \"colorscale\": [[0.0, \"#0d0887\"], [0.1111111111111111, \"#46039f\"], [0.2222222222222222, \"#7201a8\"], [0.3333333333333333, \"#9c179e\"], [0.4444444444444444, \"#bd3786\"], [0.5555555555555556, \"#d8576b\"], [0.6666666666666666, \"#ed7953\"], [0.7777777777777778, \"#fb9f3a\"], [0.8888888888888888, \"#fdca26\"], [1.0, \"#f0f921\"]], \"type\": \"heatmap\"}], \"heatmapgl\": [{\"colorbar\": {\"outlinewidth\": 0, \"ticks\": \"\"}, \"colorscale\": [[0.0, \"#0d0887\"], [0.1111111111111111, \"#46039f\"], [0.2222222222222222, \"#7201a8\"], [0.3333333333333333, \"#9c179e\"], [0.4444444444444444, \"#bd3786\"], [0.5555555555555556, \"#d8576b\"], [0.6666666666666666, \"#ed7953\"], [0.7777777777777778, \"#fb9f3a\"], [0.8888888888888888, \"#fdca26\"], [1.0, \"#f0f921\"]], \"type\": \"heatmapgl\"}], \"histogram\": [{\"marker\": {\"colorbar\": {\"outlinewidth\": 0, \"ticks\": \"\"}}, \"type\": \"histogram\"}], \"histogram2d\": [{\"colorbar\": {\"outlinewidth\": 0, \"ticks\": \"\"}, \"colorscale\": [[0.0, \"#0d0887\"], [0.1111111111111111, \"#46039f\"], [0.2222222222222222, \"#7201a8\"], [0.3333333333333333, \"#9c179e\"], [0.4444444444444444, \"#bd3786\"], [0.5555555555555556, \"#d8576b\"], [0.6666666666666666, \"#ed7953\"], [0.7777777777777778, \"#fb9f3a\"], [0.8888888888888888, \"#fdca26\"], [1.0, \"#f0f921\"]], \"type\": \"histogram2d\"}], \"histogram2dcontour\": [{\"colorbar\": {\"outlinewidth\": 0, \"ticks\": \"\"}, \"colorscale\": [[0.0, \"#0d0887\"], [0.1111111111111111, \"#46039f\"], [0.2222222222222222, \"#7201a8\"], [0.3333333333333333, \"#9c179e\"], [0.4444444444444444, \"#bd3786\"], [0.5555555555555556, \"#d8576b\"], [0.6666666666666666, \"#ed7953\"], [0.7777777777777778, \"#fb9f3a\"], [0.8888888888888888, \"#fdca26\"], [1.0, \"#f0f921\"]], \"type\": \"histogram2dcontour\"}], \"mesh3d\": [{\"colorbar\": {\"outlinewidth\": 0, \"ticks\": \"\"}, \"type\": \"mesh3d\"}], \"parcoords\": [{\"line\": {\"colorbar\": {\"outlinewidth\": 0, \"ticks\": \"\"}}, \"type\": \"parcoords\"}], \"pie\": [{\"automargin\": true, \"type\": \"pie\"}], \"scatter\": [{\"marker\": {\"colorbar\": {\"outlinewidth\": 0, \"ticks\": \"\"}}, \"type\": \"scatter\"}], \"scatter3d\": [{\"line\": {\"colorbar\": {\"outlinewidth\": 0, \"ticks\": \"\"}}, \"marker\": {\"colorbar\": {\"outlinewidth\": 0, \"ticks\": \"\"}}, \"type\": \"scatter3d\"}], \"scattercarpet\": [{\"marker\": {\"colorbar\": {\"outlinewidth\": 0, \"ticks\": \"\"}}, \"type\": \"scattercarpet\"}], \"scattergeo\": [{\"marker\": {\"colorbar\": {\"outlinewidth\": 0, \"ticks\": \"\"}}, \"type\": \"scattergeo\"}], \"scattergl\": [{\"marker\": {\"colorbar\": {\"outlinewidth\": 0, \"ticks\": \"\"}}, \"type\": \"scattergl\"}], \"scattermapbox\": [{\"marker\": {\"colorbar\": {\"outlinewidth\": 0, \"ticks\": \"\"}}, \"type\": \"scattermapbox\"}], \"scatterpolar\": [{\"marker\": {\"colorbar\": {\"outlinewidth\": 0, \"ticks\": \"\"}}, \"type\": \"scatterpolar\"}], \"scatterpolargl\": [{\"marker\": {\"colorbar\": {\"outlinewidth\": 0, \"ticks\": \"\"}}, \"type\": \"scatterpolargl\"}], \"scatterternary\": [{\"marker\": {\"colorbar\": {\"outlinewidth\": 0, \"ticks\": \"\"}}, \"type\": \"scatterternary\"}], \"surface\": [{\"colorbar\": {\"outlinewidth\": 0, \"ticks\": \"\"}, \"colorscale\": [[0.0, \"#0d0887\"], [0.1111111111111111, \"#46039f\"], [0.2222222222222222, \"#7201a8\"], [0.3333333333333333, \"#9c179e\"], [0.4444444444444444, \"#bd3786\"], [0.5555555555555556, \"#d8576b\"], [0.6666666666666666, \"#ed7953\"], [0.7777777777777778, \"#fb9f3a\"], [0.8888888888888888, \"#fdca26\"], [1.0, \"#f0f921\"]], \"type\": \"surface\"}], \"table\": [{\"cells\": {\"fill\": {\"color\": \"#EBF0F8\"}, \"line\": {\"color\": \"white\"}}, \"header\": {\"fill\": {\"color\": \"#C8D4E3\"}, \"line\": {\"color\": \"white\"}}, \"type\": \"table\"}]}, \"layout\": {\"annotationdefaults\": {\"arrowcolor\": \"#2a3f5f\", \"arrowhead\": 0, \"arrowwidth\": 1}, \"coloraxis\": {\"colorbar\": {\"outlinewidth\": 0, \"ticks\": \"\"}}, \"colorscale\": {\"diverging\": [[0, \"#8e0152\"], [0.1, \"#c51b7d\"], [0.2, \"#de77ae\"], [0.3, \"#f1b6da\"], [0.4, \"#fde0ef\"], [0.5, \"#f7f7f7\"], [0.6, \"#e6f5d0\"], [0.7, \"#b8e186\"], [0.8, \"#7fbc41\"], [0.9, \"#4d9221\"], [1, \"#276419\"]], \"sequential\": [[0.0, \"#0d0887\"], [0.1111111111111111, \"#46039f\"], [0.2222222222222222, \"#7201a8\"], [0.3333333333333333, \"#9c179e\"], [0.4444444444444444, \"#bd3786\"], [0.5555555555555556, \"#d8576b\"], [0.6666666666666666, \"#ed7953\"], [0.7777777777777778, \"#fb9f3a\"], [0.8888888888888888, \"#fdca26\"], [1.0, \"#f0f921\"]], \"sequentialminus\": [[0.0, \"#0d0887\"], [0.1111111111111111, \"#46039f\"], [0.2222222222222222, \"#7201a8\"], [0.3333333333333333, \"#9c179e\"], [0.4444444444444444, \"#bd3786\"], [0.5555555555555556, \"#d8576b\"], [0.6666666666666666, \"#ed7953\"], [0.7777777777777778, \"#fb9f3a\"], [0.8888888888888888, \"#fdca26\"], [1.0, \"#f0f921\"]]}, \"colorway\": [\"#636efa\", \"#EF553B\", \"#00cc96\", \"#ab63fa\", \"#FFA15A\", \"#19d3f3\", \"#FF6692\", \"#B6E880\", \"#FF97FF\", \"#FECB52\"], \"font\": {\"color\": \"#2a3f5f\"}, \"geo\": {\"bgcolor\": \"white\", \"lakecolor\": \"white\", \"landcolor\": \"#E5ECF6\", \"showlakes\": true, \"showland\": true, \"subunitcolor\": \"white\"}, \"hoverlabel\": {\"align\": \"left\"}, \"hovermode\": \"closest\", \"mapbox\": {\"style\": \"light\"}, \"paper_bgcolor\": \"white\", \"plot_bgcolor\": \"#E5ECF6\", \"polar\": {\"angularaxis\": {\"gridcolor\": \"white\", \"linecolor\": \"white\", \"ticks\": \"\"}, \"bgcolor\": \"#E5ECF6\", \"radialaxis\": {\"gridcolor\": \"white\", \"linecolor\": \"white\", \"ticks\": \"\"}}, \"scene\": {\"xaxis\": {\"backgroundcolor\": \"#E5ECF6\", \"gridcolor\": \"white\", \"gridwidth\": 2, \"linecolor\": \"white\", \"showbackground\": true, \"ticks\": \"\", \"zerolinecolor\": \"white\"}, \"yaxis\": {\"backgroundcolor\": \"#E5ECF6\", \"gridcolor\": \"white\", \"gridwidth\": 2, \"linecolor\": \"white\", \"showbackground\": true, \"ticks\": \"\", \"zerolinecolor\": \"white\"}, \"zaxis\": {\"backgroundcolor\": \"#E5ECF6\", \"gridcolor\": \"white\", \"gridwidth\": 2, \"linecolor\": \"white\", \"showbackground\": true, \"ticks\": \"\", \"zerolinecolor\": \"white\"}}, \"shapedefaults\": {\"line\": {\"color\": \"#2a3f5f\"}}, \"ternary\": {\"aaxis\": {\"gridcolor\": \"white\", \"linecolor\": \"white\", \"ticks\": \"\"}, \"baxis\": {\"gridcolor\": \"white\", \"linecolor\": \"white\", \"ticks\": \"\"}, \"bgcolor\": \"#E5ECF6\", \"caxis\": {\"gridcolor\": \"white\", \"linecolor\": \"white\", \"ticks\": \"\"}}, \"title\": {\"x\": 0.05}, \"xaxis\": {\"automargin\": true, \"gridcolor\": \"white\", \"linecolor\": \"white\", \"ticks\": \"\", \"title\": {\"standoff\": 15}, \"zerolinecolor\": \"white\", \"zerolinewidth\": 2}, \"yaxis\": {\"automargin\": true, \"gridcolor\": \"white\", \"linecolor\": \"white\", \"ticks\": \"\", \"title\": {\"standoff\": 15}, \"zerolinecolor\": \"white\", \"zerolinewidth\": 2}}}, \"xaxis\": {\"anchor\": \"y\", \"domain\": [0.0, 1.0], \"title\": {\"text\": \"brewery_name\"}}, \"yaxis\": {\"anchor\": \"x\", \"domain\": [0.0, 1.0], \"title\": {\"text\": \"review_mean\"}}},\n",
       "                        {\"responsive\": true}\n",
       "                    ).then(function(){\n",
       "                            \n",
       "var gd = document.getElementById('002baf79-96b9-4493-99ea-76eaceee6f3b');\n",
       "var x = new MutationObserver(function (mutations, observer) {{\n",
       "        var display = window.getComputedStyle(gd).display;\n",
       "        if (!display || display === 'none') {{\n",
       "            console.log([gd, 'removed!']);\n",
       "            Plotly.purge(gd);\n",
       "            observer.disconnect();\n",
       "        }}\n",
       "}});\n",
       "\n",
       "// Listen for the removal of the full notebook cells\n",
       "var notebookContainer = gd.closest('#notebook-container');\n",
       "if (notebookContainer) {{\n",
       "    x.observe(notebookContainer, {childList: true});\n",
       "}}\n",
       "\n",
       "// Listen for the clearing of the current output cell\n",
       "var outputEl = gd.closest('.output');\n",
       "if (outputEl) {{\n",
       "    x.observe(outputEl, {childList: true});\n",
       "}}\n",
       "\n",
       "                        })\n",
       "                };\n",
       "                });\n",
       "            </script>\n",
       "        </div>"
      ]
     },
     "metadata": {},
     "output_type": "display_data"
    }
   ],
   "source": [
    "fig = px.scatter(df_brewery_only_best.sort_values(by=\"review_mean\"), x=\"brewery_name\", y=\"review_mean\", color=\"country_plain\", height=800)\n",
    "fig.show()"
   ]
  },
  {
   "cell_type": "markdown",
   "metadata": {},
   "source": [
    "# Beer"
   ]
  },
  {
   "cell_type": "markdown",
   "metadata": {},
   "source": [
    "## Best 5 beer by mean rating"
   ]
  },
  {
   "cell_type": "markdown",
   "metadata": {},
   "source": [
    "Here we also reduced the number of total beer by only using these, that have at least 20 reviews."
   ]
  },
  {
   "cell_type": "markdown",
   "metadata": {},
   "source": [
    "Q11: What are the best beers overall?"
   ]
  },
  {
   "cell_type": "code",
   "execution_count": 39,
   "metadata": {},
   "outputs": [
    {
     "data": {
      "text/html": [
       "<div>\n",
       "<style scoped>\n",
       "    .dataframe tbody tr th:only-of-type {\n",
       "        vertical-align: middle;\n",
       "    }\n",
       "\n",
       "    .dataframe tbody tr th {\n",
       "        vertical-align: top;\n",
       "    }\n",
       "\n",
       "    .dataframe thead th {\n",
       "        text-align: right;\n",
       "    }\n",
       "</style>\n",
       "<table border=\"1\" class=\"dataframe\">\n",
       "  <thead>\n",
       "    <tr style=\"text-align: right;\">\n",
       "      <th></th>\n",
       "      <th>brewery_and_beer</th>\n",
       "      <th>country_plain</th>\n",
       "      <th>review_overall</th>\n",
       "      <th>review_aroma</th>\n",
       "      <th>review_appearance</th>\n",
       "      <th>review_palate</th>\n",
       "      <th>review_taste</th>\n",
       "      <th>beer_abv</th>\n",
       "      <th>review_mean</th>\n",
       "      <th>review_count</th>\n",
       "    </tr>\n",
       "  </thead>\n",
       "  <tbody>\n",
       "    <tr>\n",
       "      <th>4995</th>\n",
       "      <td>Midnight Sun Brewing Co.: M Belgian-Style Barl...</td>\n",
       "      <td>United States</td>\n",
       "      <td>4.7500</td>\n",
       "      <td>4.7857</td>\n",
       "      <td>4.4821</td>\n",
       "      <td>4.8036</td>\n",
       "      <td>4.8571</td>\n",
       "      <td>11.6</td>\n",
       "      <td>4.7357</td>\n",
       "      <td>28.0</td>\n",
       "    </tr>\n",
       "    <tr>\n",
       "      <th>1679</th>\n",
       "      <td>Brouwerij Drie Fonteinen: Armand'4 Oude Geuze ...</td>\n",
       "      <td>Belgium</td>\n",
       "      <td>4.7308</td>\n",
       "      <td>4.7154</td>\n",
       "      <td>4.5231</td>\n",
       "      <td>4.6692</td>\n",
       "      <td>4.7308</td>\n",
       "      <td>6.0</td>\n",
       "      <td>4.6738</td>\n",
       "      <td>65.0</td>\n",
       "    </tr>\n",
       "    <tr>\n",
       "      <th>2587</th>\n",
       "      <td>De Struise Brouwers: Dirty Horse</td>\n",
       "      <td>Belgium</td>\n",
       "      <td>4.8205</td>\n",
       "      <td>4.6154</td>\n",
       "      <td>4.4231</td>\n",
       "      <td>4.5769</td>\n",
       "      <td>4.7436</td>\n",
       "      <td>7.0</td>\n",
       "      <td>4.6359</td>\n",
       "      <td>39.0</td>\n",
       "    </tr>\n",
       "    <tr>\n",
       "      <th>6431</th>\n",
       "      <td>Russian River Brewing Company: Pliny The Younger</td>\n",
       "      <td>United States</td>\n",
       "      <td>4.6000</td>\n",
       "      <td>4.7238</td>\n",
       "      <td>4.4828</td>\n",
       "      <td>4.6123</td>\n",
       "      <td>4.7246</td>\n",
       "      <td>11.0</td>\n",
       "      <td>4.6287</td>\n",
       "      <td>610.0</td>\n",
       "    </tr>\n",
       "    <tr>\n",
       "      <th>7670</th>\n",
       "      <td>Three Floyds Brewing Co. &amp; Brewpub: Vanilla Be...</td>\n",
       "      <td>United States</td>\n",
       "      <td>4.4770</td>\n",
       "      <td>4.7171</td>\n",
       "      <td>4.4507</td>\n",
       "      <td>4.6743</td>\n",
       "      <td>4.7105</td>\n",
       "      <td>13.0</td>\n",
       "      <td>4.6059</td>\n",
       "      <td>152.0</td>\n",
       "    </tr>\n",
       "  </tbody>\n",
       "</table>\n",
       "</div>"
      ],
      "text/plain": [
       "                                       brewery_and_beer  country_plain  \\\n",
       "4995  Midnight Sun Brewing Co.: M Belgian-Style Barl...  United States   \n",
       "1679  Brouwerij Drie Fonteinen: Armand'4 Oude Geuze ...        Belgium   \n",
       "2587                   De Struise Brouwers: Dirty Horse        Belgium   \n",
       "6431   Russian River Brewing Company: Pliny The Younger  United States   \n",
       "7670  Three Floyds Brewing Co. & Brewpub: Vanilla Be...  United States   \n",
       "\n",
       "      review_overall  review_aroma  review_appearance  review_palate  \\\n",
       "4995          4.7500        4.7857             4.4821         4.8036   \n",
       "1679          4.7308        4.7154             4.5231         4.6692   \n",
       "2587          4.8205        4.6154             4.4231         4.5769   \n",
       "6431          4.6000        4.7238             4.4828         4.6123   \n",
       "7670          4.4770        4.7171             4.4507         4.6743   \n",
       "\n",
       "      review_taste  beer_abv  review_mean  review_count  \n",
       "4995        4.8571      11.6       4.7357          28.0  \n",
       "1679        4.7308       6.0       4.6738          65.0  \n",
       "2587        4.7436       7.0       4.6359          39.0  \n",
       "6431        4.7246      11.0       4.6287         610.0  \n",
       "7670        4.7105      13.0       4.6059         152.0  "
      ]
     },
     "execution_count": 39,
     "metadata": {},
     "output_type": "execute_result"
    }
   ],
   "source": [
    "df_beer_name = df\n",
    "df_beer_name[\"brewery_and_beer\"] = df[\"brewery_name\"] + \": \" + df[\"beer_name\"]\n",
    "df_beer_name = df_beer_name[df_beer_name[\"review_count\"]>20].groupby([\"brewery_and_beer\", \"country_plain\"]).mean().reset_index().round(4).sort_values(by=['review_mean'])\n",
    "df_beer_name.sort_values(by=['review_mean'], ascending=False).head()"
   ]
  },
  {
   "cell_type": "code",
   "execution_count": 40,
   "metadata": {},
   "outputs": [
    {
     "data": {
      "text/plain": [
       "(8412, 10)"
      ]
     },
     "execution_count": 40,
     "metadata": {},
     "output_type": "execute_result"
    }
   ],
   "source": [
    "df_beer_name.shape"
   ]
  },
  {
   "cell_type": "markdown",
   "metadata": {},
   "source": [
    "## Best beer overview by rating"
   ]
  },
  {
   "cell_type": "markdown",
   "metadata": {},
   "source": [
    "Q12: How to the ratings change with the overall rating increasing?"
   ]
  },
  {
   "cell_type": "code",
   "execution_count": null,
   "metadata": {},
   "outputs": [],
   "source": [
    "fig = px.scatter(df_beer_name, x=\"brewery_and_beer\", y=\"review_mean\", height=800)\n",
    "fig.update_layout(yaxis_title=\"Rating\")\n",
    "fig.add_scatter(x=df_beer_name[\"brewery_and_beer\"], y=df_beer_name[\"review_overall\"], name=\"Overall\")\n",
    "fig.add_scatter(x=df_beer_name[\"brewery_and_beer\"], y=df_beer_name[\"review_aroma\"], name=\"Aroma\")\n",
    "fig.add_scatter(x=df_beer_name[\"brewery_and_beer\"], y=df_beer_name[\"review_appearance\"], name=\"Appearance\")\n",
    "fig.add_scatter(x=df_beer_name[\"brewery_and_beer\"], y=df_beer_name[\"review_palate\"], name=\"Palate\")\n",
    "fig.add_scatter(x=df_beer_name[\"brewery_and_beer\"], y=df_beer_name[\"review_taste\"], name=\"Taste\")\n",
    "fig.show()"
   ]
  },
  {
   "cell_type": "markdown",
   "metadata": {},
   "source": [
    "## Best beer by country"
   ]
  },
  {
   "cell_type": "markdown",
   "metadata": {},
   "source": [
    "Q13: What is the best beer in each country?"
   ]
  },
  {
   "cell_type": "code",
   "execution_count": 42,
   "metadata": {},
   "outputs": [
    {
     "data": {
      "text/html": [
       "<div>\n",
       "<style scoped>\n",
       "    .dataframe tbody tr th:only-of-type {\n",
       "        vertical-align: middle;\n",
       "    }\n",
       "\n",
       "    .dataframe tbody tr th {\n",
       "        vertical-align: top;\n",
       "    }\n",
       "\n",
       "    .dataframe thead th {\n",
       "        text-align: right;\n",
       "    }\n",
       "</style>\n",
       "<table border=\"1\" class=\"dataframe\">\n",
       "  <thead>\n",
       "    <tr style=\"text-align: right;\">\n",
       "      <th></th>\n",
       "      <th>beer_name</th>\n",
       "      <th>country_plain</th>\n",
       "      <th>review_overall</th>\n",
       "      <th>review_aroma</th>\n",
       "      <th>review_appearance</th>\n",
       "      <th>review_palate</th>\n",
       "      <th>review_taste</th>\n",
       "      <th>beer_abv</th>\n",
       "      <th>review_mean</th>\n",
       "      <th>review_count</th>\n",
       "    </tr>\n",
       "  </thead>\n",
       "  <tbody>\n",
       "    <tr>\n",
       "      <th>0</th>\n",
       "      <td>M Belgian-Style Barleywine</td>\n",
       "      <td>United States</td>\n",
       "      <td>4.75</td>\n",
       "      <td>4.79</td>\n",
       "      <td>4.48</td>\n",
       "      <td>4.80</td>\n",
       "      <td>4.86</td>\n",
       "      <td>11.6</td>\n",
       "      <td>4.74</td>\n",
       "      <td>28.0</td>\n",
       "    </tr>\n",
       "    <tr>\n",
       "      <th>1</th>\n",
       "      <td>Armand'4 Oude Geuze Lente (Spring)</td>\n",
       "      <td>Belgium</td>\n",
       "      <td>4.73</td>\n",
       "      <td>4.72</td>\n",
       "      <td>4.52</td>\n",
       "      <td>4.67</td>\n",
       "      <td>4.73</td>\n",
       "      <td>6.0</td>\n",
       "      <td>4.67</td>\n",
       "      <td>65.0</td>\n",
       "    </tr>\n",
       "    <tr>\n",
       "      <th>2</th>\n",
       "      <td>Kaggen! Stormaktsporter</td>\n",
       "      <td>Sweden</td>\n",
       "      <td>4.53</td>\n",
       "      <td>4.61</td>\n",
       "      <td>4.43</td>\n",
       "      <td>4.58</td>\n",
       "      <td>4.71</td>\n",
       "      <td>10.0</td>\n",
       "      <td>4.57</td>\n",
       "      <td>84.0</td>\n",
       "    </tr>\n",
       "    <tr>\n",
       "      <th>3</th>\n",
       "      <td>Red Racer Imperial IPA</td>\n",
       "      <td>Canada</td>\n",
       "      <td>4.53</td>\n",
       "      <td>4.50</td>\n",
       "      <td>4.37</td>\n",
       "      <td>4.40</td>\n",
       "      <td>4.50</td>\n",
       "      <td>9.0</td>\n",
       "      <td>4.46</td>\n",
       "      <td>15.0</td>\n",
       "    </tr>\n",
       "    <tr>\n",
       "      <th>4</th>\n",
       "      <td>Old Chimneys Good King Henry Special Reserve</td>\n",
       "      <td>United Kingdom</td>\n",
       "      <td>4.47</td>\n",
       "      <td>4.61</td>\n",
       "      <td>4.06</td>\n",
       "      <td>4.53</td>\n",
       "      <td>4.50</td>\n",
       "      <td>11.0</td>\n",
       "      <td>4.43</td>\n",
       "      <td>18.0</td>\n",
       "    </tr>\n",
       "  </tbody>\n",
       "</table>\n",
       "</div>"
      ],
      "text/plain": [
       "                                      beer_name   country_plain  \\\n",
       "0                    M Belgian-Style Barleywine   United States   \n",
       "1            Armand'4 Oude Geuze Lente (Spring)         Belgium   \n",
       "2                       Kaggen! Stormaktsporter          Sweden   \n",
       "3                        Red Racer Imperial IPA          Canada   \n",
       "4  Old Chimneys Good King Henry Special Reserve  United Kingdom   \n",
       "\n",
       "   review_overall  review_aroma  review_appearance  review_palate  \\\n",
       "0            4.75          4.79               4.48           4.80   \n",
       "1            4.73          4.72               4.52           4.67   \n",
       "2            4.53          4.61               4.43           4.58   \n",
       "3            4.53          4.50               4.37           4.40   \n",
       "4            4.47          4.61               4.06           4.53   \n",
       "\n",
       "   review_taste  beer_abv  review_mean  review_count  \n",
       "0          4.86      11.6         4.74          28.0  \n",
       "1          4.73       6.0         4.67          65.0  \n",
       "2          4.71      10.0         4.57          84.0  \n",
       "3          4.50       9.0         4.46          15.0  \n",
       "4          4.50      11.0         4.43          18.0  "
      ]
     },
     "execution_count": 42,
     "metadata": {},
     "output_type": "execute_result"
    }
   ],
   "source": [
    "df_beer_by_country = df.groupby([\"beer_name\", \"country_plain\"]).mean().reset_index().round(2)\n",
    "df_beer_by_country = df_beer_by_country[df_beer_by_country[\"review_count\"]>10].sort_values(by=['review_mean'], ascending=False)\n",
    "df_beer_by_country = df_beer_by_country.groupby([\"country_plain\"]).head(1).reset_index(drop=True)\n",
    "df_beer_by_country.head()"
   ]
  },
  {
   "cell_type": "code",
   "execution_count": null,
   "metadata": {},
   "outputs": [],
   "source": [
    "fig = px.scatter(df_beer_by_country.sort_values(by=\"review_mean\"), x=\"beer_name\", y=\"review_mean\", color=\"country_plain\", height=800)\n",
    "fig.show()"
   ]
  },
  {
   "cell_type": "markdown",
   "metadata": {},
   "source": [
    "## Best / worst beer > 1000 ratings"
   ]
  },
  {
   "cell_type": "code",
   "execution_count": null,
   "metadata": {},
   "outputs": [],
   "source": [
    "df_with_counts = df\n",
    "df_with_counts[\"brewery_and_beer\"] = df_with_counts[\"brewery_name\"] + \": \" + df_with_counts[\"beer_name\"]\n",
    "df_beer_name_with_count = df_with_counts[df_with_counts['review_count']>1000].groupby([\"brewery_and_beer\", \"country_plain\"]).mean().reset_index().round(4)\n",
    "df_beer_name_with_count.shape"
   ]
  },
  {
   "cell_type": "code",
   "execution_count": null,
   "metadata": {},
   "outputs": [],
   "source": [
    "df_beer_name_with_count.sort_values(by=['review_mean'], ascending=False).head()"
   ]
  },
  {
   "cell_type": "code",
   "execution_count": null,
   "metadata": {},
   "outputs": [],
   "source": [
    "df_beer_name_with_count.sort_values(by=['review_mean']).head()"
   ]
  },
  {
   "cell_type": "code",
   "execution_count": null,
   "metadata": {},
   "outputs": [],
   "source": [
    "fig = px.scatter(df_beer_name_with_count.sort_values(by=['review_mean']), x=\"brewery_and_beer\", y=\"review_mean\", color=\"beer_abv\", height=500)\n",
    "fig.show()"
   ]
  },
  {
   "cell_type": "markdown",
   "metadata": {},
   "source": [
    "# Country"
   ]
  },
  {
   "cell_type": "markdown",
   "metadata": {},
   "source": [
    "## Top 5 countries by review mean"
   ]
  },
  {
   "cell_type": "markdown",
   "metadata": {},
   "source": [
    "Q14: Which countries produce the best beer?"
   ]
  },
  {
   "cell_type": "code",
   "execution_count": 44,
   "metadata": {},
   "outputs": [
    {
     "data": {
      "text/html": [
       "<div>\n",
       "<style scoped>\n",
       "    .dataframe tbody tr th:only-of-type {\n",
       "        vertical-align: middle;\n",
       "    }\n",
       "\n",
       "    .dataframe tbody tr th {\n",
       "        vertical-align: top;\n",
       "    }\n",
       "\n",
       "    .dataframe thead th {\n",
       "        text-align: right;\n",
       "    }\n",
       "</style>\n",
       "<table border=\"1\" class=\"dataframe\">\n",
       "  <thead>\n",
       "    <tr style=\"text-align: right;\">\n",
       "      <th></th>\n",
       "      <th>country_plain</th>\n",
       "      <th>review_overall</th>\n",
       "      <th>review_aroma</th>\n",
       "      <th>review_appearance</th>\n",
       "      <th>review_palate</th>\n",
       "      <th>review_taste</th>\n",
       "      <th>beer_abv</th>\n",
       "      <th>review_mean</th>\n",
       "      <th>review_count</th>\n",
       "    </tr>\n",
       "  </thead>\n",
       "  <tbody>\n",
       "    <tr>\n",
       "      <th>17</th>\n",
       "      <td>Finland</td>\n",
       "      <td>4.0118</td>\n",
       "      <td>4.0126</td>\n",
       "      <td>4.1243</td>\n",
       "      <td>3.9438</td>\n",
       "      <td>4.0902</td>\n",
       "      <td>7.1692</td>\n",
       "      <td>4.0365</td>\n",
       "      <td>500.0000</td>\n",
       "    </tr>\n",
       "    <tr>\n",
       "      <th>5</th>\n",
       "      <td>Belgium</td>\n",
       "      <td>4.0120</td>\n",
       "      <td>4.0013</td>\n",
       "      <td>4.0750</td>\n",
       "      <td>3.9871</td>\n",
       "      <td>4.0634</td>\n",
       "      <td>7.7945</td>\n",
       "      <td>4.0278</td>\n",
       "      <td>725.1901</td>\n",
       "    </tr>\n",
       "    <tr>\n",
       "      <th>52</th>\n",
       "      <td>Sweden</td>\n",
       "      <td>4.0367</td>\n",
       "      <td>3.9460</td>\n",
       "      <td>3.9533</td>\n",
       "      <td>3.9400</td>\n",
       "      <td>4.0480</td>\n",
       "      <td>6.5544</td>\n",
       "      <td>3.9848</td>\n",
       "      <td>169.9067</td>\n",
       "    </tr>\n",
       "    <tr>\n",
       "      <th>40</th>\n",
       "      <td>Norway</td>\n",
       "      <td>3.9119</td>\n",
       "      <td>3.9835</td>\n",
       "      <td>4.0588</td>\n",
       "      <td>3.9498</td>\n",
       "      <td>4.0146</td>\n",
       "      <td>9.1112</td>\n",
       "      <td>3.9837</td>\n",
       "      <td>179.8942</td>\n",
       "    </tr>\n",
       "    <tr>\n",
       "      <th>53</th>\n",
       "      <td>Switzerland</td>\n",
       "      <td>3.8892</td>\n",
       "      <td>4.0327</td>\n",
       "      <td>3.8766</td>\n",
       "      <td>3.8338</td>\n",
       "      <td>4.0013</td>\n",
       "      <td>9.3771</td>\n",
       "      <td>3.9267</td>\n",
       "      <td>119.3980</td>\n",
       "    </tr>\n",
       "  </tbody>\n",
       "</table>\n",
       "</div>"
      ],
      "text/plain": [
       "   country_plain  review_overall  review_aroma  review_appearance  \\\n",
       "17       Finland          4.0118        4.0126             4.1243   \n",
       "5        Belgium          4.0120        4.0013             4.0750   \n",
       "52        Sweden          4.0367        3.9460             3.9533   \n",
       "40        Norway          3.9119        3.9835             4.0588   \n",
       "53   Switzerland          3.8892        4.0327             3.8766   \n",
       "\n",
       "    review_palate  review_taste  beer_abv  review_mean  review_count  \n",
       "17         3.9438        4.0902    7.1692       4.0365      500.0000  \n",
       "5          3.9871        4.0634    7.7945       4.0278      725.1901  \n",
       "52         3.9400        4.0480    6.5544       3.9848      169.9067  \n",
       "40         3.9498        4.0146    9.1112       3.9837      179.8942  \n",
       "53         3.8338        4.0013    9.3771       3.9267      119.3980  "
      ]
     },
     "execution_count": 44,
     "metadata": {},
     "output_type": "execute_result"
    }
   ],
   "source": [
    "df_country = df[df['review_count']>50].groupby([\"country_plain\"]).mean().reset_index().round(4)\n",
    "df_country.sort_values(by=['review_mean'], ascending=False).head()"
   ]
  },
  {
   "cell_type": "markdown",
   "metadata": {},
   "source": [
    "## Overview of top countries by review mean"
   ]
  },
  {
   "cell_type": "code",
   "execution_count": null,
   "metadata": {},
   "outputs": [],
   "source": [
    "fig = px.scatter(df_country.sort_values(by=['review_mean']), x=\"country_plain\", y=\"review_mean\", color=\"review_mean\")\n",
    "fig.show()"
   ]
  },
  {
   "cell_type": "code",
   "execution_count": null,
   "metadata": {},
   "outputs": [],
   "source": [
    "df_country_rating = df[df['review_count']>50].groupby([\"country_plain\", \"country_alpha_3\"]).mean().reset_index()\n",
    "fig = px.choropleth(df_country_rating, locations=\"country_alpha_3\",\n",
    "                    color=\"review_mean\", # lifeExp is a column of gapminder\n",
    "                    hover_name=\"country_plain\", # column to add to hover information\n",
    "                    color_continuous_scale=px.colors.sequential.Plasma,\n",
    "                   height=1000)\n",
    "fig.show()"
   ]
  },
  {
   "cell_type": "markdown",
   "metadata": {},
   "source": [
    "## Austria"
   ]
  },
  {
   "cell_type": "markdown",
   "metadata": {},
   "source": [
    "### Best 5 rated beer Austria"
   ]
  },
  {
   "cell_type": "markdown",
   "metadata": {},
   "source": [
    "Q15: What are the best/worst beers in Austria?"
   ]
  },
  {
   "cell_type": "code",
   "execution_count": null,
   "metadata": {},
   "outputs": [],
   "source": [
    "df_austria = df\n",
    "df_austria[\"brewery_and_beer\"] = df[\"brewery_name\"] + \": \" + df[\"beer_name\"]\n",
    "df_austria_grouped = df_austria[(df_austria['country_plain']==\"Austria\") & (df_austria['review_count']>5)].groupby([\"beer_name\", \"brewery_name\"]).mean().reset_index().round(4)\n",
    "df_austria_grouped.sort_values(by=['review_mean'], ascending=False).head()"
   ]
  },
  {
   "cell_type": "markdown",
   "metadata": {},
   "source": [
    "### Worst 5 rated beer austria"
   ]
  },
  {
   "cell_type": "code",
   "execution_count": null,
   "metadata": {},
   "outputs": [],
   "source": [
    "df_austria_grouped.sort_values(by=['review_mean']).head()"
   ]
  },
  {
   "cell_type": "markdown",
   "metadata": {},
   "source": [
    "### Austria beer overview by mean rating"
   ]
  },
  {
   "cell_type": "code",
   "execution_count": null,
   "metadata": {},
   "outputs": [],
   "source": [
    "fig = px.scatter(df_austria[(df_austria['country_plain']==\"Austria\") & (df_austria['review_count']>5)].groupby(\"brewery_and_beer\").mean().reset_index().round(4).sort_values(by=['review_mean']), x=\"brewery_and_beer\", y=\"review_mean\", color=\"review_mean\", height=500)\n",
    "fig.show()"
   ]
  },
  {
   "cell_type": "markdown",
   "metadata": {},
   "source": [
    "# Machine Learning"
   ]
  },
  {
   "cell_type": "code",
   "execution_count": 296,
   "metadata": {},
   "outputs": [
    {
     "data": {
      "text/html": [
       "<div>\n",
       "<style scoped>\n",
       "    .dataframe tbody tr th:only-of-type {\n",
       "        vertical-align: middle;\n",
       "    }\n",
       "\n",
       "    .dataframe tbody tr th {\n",
       "        vertical-align: top;\n",
       "    }\n",
       "\n",
       "    .dataframe thead th {\n",
       "        text-align: right;\n",
       "    }\n",
       "</style>\n",
       "<table border=\"1\" class=\"dataframe\">\n",
       "  <thead>\n",
       "    <tr style=\"text-align: right;\">\n",
       "      <th></th>\n",
       "      <th>brewery_id</th>\n",
       "      <th>brewery_name</th>\n",
       "      <th>review_time</th>\n",
       "      <th>review_overall</th>\n",
       "      <th>review_aroma</th>\n",
       "      <th>review_appearance</th>\n",
       "      <th>review_profilename</th>\n",
       "      <th>beer_style</th>\n",
       "      <th>review_palate</th>\n",
       "      <th>review_taste</th>\n",
       "      <th>beer_name</th>\n",
       "      <th>beer_abv</th>\n",
       "      <th>beer_beerid</th>\n",
       "      <th>country_plain</th>\n",
       "      <th>country_alpha_3</th>\n",
       "      <th>review_mean</th>\n",
       "      <th>review_count</th>\n",
       "    </tr>\n",
       "  </thead>\n",
       "  <tbody>\n",
       "    <tr>\n",
       "      <th>0</th>\n",
       "      <td>10325</td>\n",
       "      <td>Vecchio Birraio</td>\n",
       "      <td>2009-02-16 20:57:03</td>\n",
       "      <td>1.5</td>\n",
       "      <td>2.0</td>\n",
       "      <td>2.5</td>\n",
       "      <td>stcules</td>\n",
       "      <td>Hefeweizen</td>\n",
       "      <td>1.5</td>\n",
       "      <td>1.5</td>\n",
       "      <td>Sausa Weizen</td>\n",
       "      <td>5.0</td>\n",
       "      <td>47986</td>\n",
       "      <td>Italy</td>\n",
       "      <td>ITA</td>\n",
       "      <td>1.8</td>\n",
       "      <td>1</td>\n",
       "    </tr>\n",
       "    <tr>\n",
       "      <th>1</th>\n",
       "      <td>10325</td>\n",
       "      <td>Vecchio Birraio</td>\n",
       "      <td>2009-03-01 13:44:57</td>\n",
       "      <td>3.0</td>\n",
       "      <td>2.5</td>\n",
       "      <td>3.0</td>\n",
       "      <td>stcules</td>\n",
       "      <td>English Strong Ale</td>\n",
       "      <td>3.0</td>\n",
       "      <td>3.0</td>\n",
       "      <td>Red Moon</td>\n",
       "      <td>6.2</td>\n",
       "      <td>48213</td>\n",
       "      <td>Italy</td>\n",
       "      <td>ITA</td>\n",
       "      <td>2.9</td>\n",
       "      <td>1</td>\n",
       "    </tr>\n",
       "    <tr>\n",
       "      <th>2</th>\n",
       "      <td>10325</td>\n",
       "      <td>Vecchio Birraio</td>\n",
       "      <td>2009-03-01 14:10:04</td>\n",
       "      <td>3.0</td>\n",
       "      <td>2.5</td>\n",
       "      <td>3.0</td>\n",
       "      <td>stcules</td>\n",
       "      <td>Foreign / Export Stout</td>\n",
       "      <td>3.0</td>\n",
       "      <td>3.0</td>\n",
       "      <td>Black Horse Black Beer</td>\n",
       "      <td>6.5</td>\n",
       "      <td>48215</td>\n",
       "      <td>Italy</td>\n",
       "      <td>ITA</td>\n",
       "      <td>2.9</td>\n",
       "      <td>1</td>\n",
       "    </tr>\n",
       "    <tr>\n",
       "      <th>3</th>\n",
       "      <td>10325</td>\n",
       "      <td>Vecchio Birraio</td>\n",
       "      <td>2009-02-15 19:12:25</td>\n",
       "      <td>3.0</td>\n",
       "      <td>3.0</td>\n",
       "      <td>3.5</td>\n",
       "      <td>stcules</td>\n",
       "      <td>German Pilsener</td>\n",
       "      <td>2.5</td>\n",
       "      <td>3.0</td>\n",
       "      <td>Sausa Pils</td>\n",
       "      <td>5.0</td>\n",
       "      <td>47969</td>\n",
       "      <td>Italy</td>\n",
       "      <td>ITA</td>\n",
       "      <td>3.0</td>\n",
       "      <td>1</td>\n",
       "    </tr>\n",
       "    <tr>\n",
       "      <th>4</th>\n",
       "      <td>1075</td>\n",
       "      <td>Caldera Brewing Company</td>\n",
       "      <td>2010-12-30 18:53:26</td>\n",
       "      <td>4.0</td>\n",
       "      <td>4.5</td>\n",
       "      <td>4.0</td>\n",
       "      <td>johnmichaelsen</td>\n",
       "      <td>American Double / Imperial IPA</td>\n",
       "      <td>4.0</td>\n",
       "      <td>4.5</td>\n",
       "      <td>Cauldron DIPA</td>\n",
       "      <td>7.7</td>\n",
       "      <td>64883</td>\n",
       "      <td>United States</td>\n",
       "      <td>USA</td>\n",
       "      <td>4.2</td>\n",
       "      <td>1</td>\n",
       "    </tr>\n",
       "  </tbody>\n",
       "</table>\n",
       "</div>"
      ],
      "text/plain": [
       "  brewery_id             brewery_name         review_time  review_overall  \\\n",
       "0      10325          Vecchio Birraio 2009-02-16 20:57:03             1.5   \n",
       "1      10325          Vecchio Birraio 2009-03-01 13:44:57             3.0   \n",
       "2      10325          Vecchio Birraio 2009-03-01 14:10:04             3.0   \n",
       "3      10325          Vecchio Birraio 2009-02-15 19:12:25             3.0   \n",
       "4       1075  Caldera Brewing Company 2010-12-30 18:53:26             4.0   \n",
       "\n",
       "   review_aroma  review_appearance review_profilename  \\\n",
       "0           2.0                2.5            stcules   \n",
       "1           2.5                3.0            stcules   \n",
       "2           2.5                3.0            stcules   \n",
       "3           3.0                3.5            stcules   \n",
       "4           4.5                4.0     johnmichaelsen   \n",
       "\n",
       "                       beer_style  review_palate  review_taste  \\\n",
       "0                      Hefeweizen            1.5           1.5   \n",
       "1              English Strong Ale            3.0           3.0   \n",
       "2          Foreign / Export Stout            3.0           3.0   \n",
       "3                 German Pilsener            2.5           3.0   \n",
       "4  American Double / Imperial IPA            4.0           4.5   \n",
       "\n",
       "                beer_name  beer_abv beer_beerid  country_plain  \\\n",
       "0            Sausa Weizen       5.0       47986          Italy   \n",
       "1                Red Moon       6.2       48213          Italy   \n",
       "2  Black Horse Black Beer       6.5       48215          Italy   \n",
       "3              Sausa Pils       5.0       47969          Italy   \n",
       "4           Cauldron DIPA       7.7       64883  United States   \n",
       "\n",
       "  country_alpha_3  review_mean  review_count  \n",
       "0             ITA          1.8             1  \n",
       "1             ITA          2.9             1  \n",
       "2             ITA          2.9             1  \n",
       "3             ITA          3.0             1  \n",
       "4             USA          4.2             1  "
      ]
     },
     "execution_count": 296,
     "metadata": {},
     "output_type": "execute_result"
    }
   ],
   "source": [
    "df.head() "
   ]
  },
  {
   "cell_type": "code",
   "execution_count": 298,
   "metadata": {},
   "outputs": [],
   "source": [
    "df_ml = df.drop([\"review_count\", \"brewery_name\",\"review_profilename\", \"review_time\", \"beer_name\", \"country_plain\", \"review_overall\", \"review_aroma\", \"review_appearance\", \"review_palate\", \"review_taste\", \"brewery_id\", \"beer_beerid\"], axis=1)"
   ]
  },
  {
   "cell_type": "code",
   "execution_count": 299,
   "metadata": {},
   "outputs": [],
   "source": [
    "categorical_columns = [\"beer_style\", \"country_alpha_3\"]"
   ]
  },
  {
   "cell_type": "code",
   "execution_count": 300,
   "metadata": {},
   "outputs": [],
   "source": [
    "for col in categorical_columns:\n",
    "    df_ml[col] = df_ml[col].astype('category')"
   ]
  },
  {
   "cell_type": "code",
   "execution_count": 301,
   "metadata": {},
   "outputs": [
    {
     "data": {
      "text/html": [
       "<div>\n",
       "<style scoped>\n",
       "    .dataframe tbody tr th:only-of-type {\n",
       "        vertical-align: middle;\n",
       "    }\n",
       "\n",
       "    .dataframe tbody tr th {\n",
       "        vertical-align: top;\n",
       "    }\n",
       "\n",
       "    .dataframe thead th {\n",
       "        text-align: right;\n",
       "    }\n",
       "</style>\n",
       "<table border=\"1\" class=\"dataframe\">\n",
       "  <thead>\n",
       "    <tr style=\"text-align: right;\">\n",
       "      <th></th>\n",
       "      <th>beer_style</th>\n",
       "      <th>beer_abv</th>\n",
       "      <th>country_alpha_3</th>\n",
       "      <th>review_mean</th>\n",
       "    </tr>\n",
       "  </thead>\n",
       "  <tbody>\n",
       "    <tr>\n",
       "      <th>0</th>\n",
       "      <td>Hefeweizen</td>\n",
       "      <td>5.0</td>\n",
       "      <td>ITA</td>\n",
       "      <td>1.8</td>\n",
       "    </tr>\n",
       "    <tr>\n",
       "      <th>1</th>\n",
       "      <td>English Strong Ale</td>\n",
       "      <td>6.2</td>\n",
       "      <td>ITA</td>\n",
       "      <td>2.9</td>\n",
       "    </tr>\n",
       "    <tr>\n",
       "      <th>2</th>\n",
       "      <td>Foreign / Export Stout</td>\n",
       "      <td>6.5</td>\n",
       "      <td>ITA</td>\n",
       "      <td>2.9</td>\n",
       "    </tr>\n",
       "    <tr>\n",
       "      <th>3</th>\n",
       "      <td>German Pilsener</td>\n",
       "      <td>5.0</td>\n",
       "      <td>ITA</td>\n",
       "      <td>3.0</td>\n",
       "    </tr>\n",
       "    <tr>\n",
       "      <th>4</th>\n",
       "      <td>American Double / Imperial IPA</td>\n",
       "      <td>7.7</td>\n",
       "      <td>USA</td>\n",
       "      <td>4.2</td>\n",
       "    </tr>\n",
       "  </tbody>\n",
       "</table>\n",
       "</div>"
      ],
      "text/plain": [
       "                       beer_style  beer_abv country_alpha_3  review_mean\n",
       "0                      Hefeweizen       5.0             ITA          1.8\n",
       "1              English Strong Ale       6.2             ITA          2.9\n",
       "2          Foreign / Export Stout       6.5             ITA          2.9\n",
       "3                 German Pilsener       5.0             ITA          3.0\n",
       "4  American Double / Imperial IPA       7.7             USA          4.2"
      ]
     },
     "execution_count": 301,
     "metadata": {},
     "output_type": "execute_result"
    }
   ],
   "source": [
    "df_ml.head()"
   ]
  },
  {
   "cell_type": "code",
   "execution_count": 302,
   "metadata": {},
   "outputs": [
    {
     "data": {
      "text/plain": [
       "beer_style         category\n",
       "beer_abv            float64\n",
       "country_alpha_3    category\n",
       "review_mean         float64\n",
       "dtype: object"
      ]
     },
     "execution_count": 302,
     "metadata": {},
     "output_type": "execute_result"
    }
   ],
   "source": [
    "df_ml.dtypes"
   ]
  },
  {
   "cell_type": "code",
   "execution_count": 303,
   "metadata": {},
   "outputs": [],
   "source": [
    "df_ml = pd.get_dummies(df_ml, drop_first=True)"
   ]
  },
  {
   "cell_type": "code",
   "execution_count": 304,
   "metadata": {},
   "outputs": [
    {
     "data": {
      "text/html": [
       "<div>\n",
       "<style scoped>\n",
       "    .dataframe tbody tr th:only-of-type {\n",
       "        vertical-align: middle;\n",
       "    }\n",
       "\n",
       "    .dataframe tbody tr th {\n",
       "        vertical-align: top;\n",
       "    }\n",
       "\n",
       "    .dataframe thead th {\n",
       "        text-align: right;\n",
       "    }\n",
       "</style>\n",
       "<table border=\"1\" class=\"dataframe\">\n",
       "  <thead>\n",
       "    <tr style=\"text-align: right;\">\n",
       "      <th></th>\n",
       "      <th>beer_abv</th>\n",
       "      <th>review_mean</th>\n",
       "      <th>beer_style_American Adjunct Lager</th>\n",
       "      <th>beer_style_American Amber / Red Ale</th>\n",
       "      <th>beer_style_American Amber / Red Lager</th>\n",
       "      <th>beer_style_American Barleywine</th>\n",
       "      <th>beer_style_American Black Ale</th>\n",
       "      <th>beer_style_American Blonde Ale</th>\n",
       "      <th>beer_style_American Brown Ale</th>\n",
       "      <th>beer_style_American Dark Wheat Ale</th>\n",
       "      <th>...</th>\n",
       "      <th>country_alpha_3_USA</th>\n",
       "      <th>country_alpha_3_UZB</th>\n",
       "      <th>country_alpha_3_VCT</th>\n",
       "      <th>country_alpha_3_VEN</th>\n",
       "      <th>country_alpha_3_VIR</th>\n",
       "      <th>country_alpha_3_VNM</th>\n",
       "      <th>country_alpha_3_VUT</th>\n",
       "      <th>country_alpha_3_WSM</th>\n",
       "      <th>country_alpha_3_ZAF</th>\n",
       "      <th>country_alpha_3_ZWE</th>\n",
       "    </tr>\n",
       "  </thead>\n",
       "  <tbody>\n",
       "    <tr>\n",
       "      <th>0</th>\n",
       "      <td>5.0</td>\n",
       "      <td>1.8</td>\n",
       "      <td>0</td>\n",
       "      <td>0</td>\n",
       "      <td>0</td>\n",
       "      <td>0</td>\n",
       "      <td>0</td>\n",
       "      <td>0</td>\n",
       "      <td>0</td>\n",
       "      <td>0</td>\n",
       "      <td>...</td>\n",
       "      <td>0</td>\n",
       "      <td>0</td>\n",
       "      <td>0</td>\n",
       "      <td>0</td>\n",
       "      <td>0</td>\n",
       "      <td>0</td>\n",
       "      <td>0</td>\n",
       "      <td>0</td>\n",
       "      <td>0</td>\n",
       "      <td>0</td>\n",
       "    </tr>\n",
       "    <tr>\n",
       "      <th>1</th>\n",
       "      <td>6.2</td>\n",
       "      <td>2.9</td>\n",
       "      <td>0</td>\n",
       "      <td>0</td>\n",
       "      <td>0</td>\n",
       "      <td>0</td>\n",
       "      <td>0</td>\n",
       "      <td>0</td>\n",
       "      <td>0</td>\n",
       "      <td>0</td>\n",
       "      <td>...</td>\n",
       "      <td>0</td>\n",
       "      <td>0</td>\n",
       "      <td>0</td>\n",
       "      <td>0</td>\n",
       "      <td>0</td>\n",
       "      <td>0</td>\n",
       "      <td>0</td>\n",
       "      <td>0</td>\n",
       "      <td>0</td>\n",
       "      <td>0</td>\n",
       "    </tr>\n",
       "    <tr>\n",
       "      <th>2</th>\n",
       "      <td>6.5</td>\n",
       "      <td>2.9</td>\n",
       "      <td>0</td>\n",
       "      <td>0</td>\n",
       "      <td>0</td>\n",
       "      <td>0</td>\n",
       "      <td>0</td>\n",
       "      <td>0</td>\n",
       "      <td>0</td>\n",
       "      <td>0</td>\n",
       "      <td>...</td>\n",
       "      <td>0</td>\n",
       "      <td>0</td>\n",
       "      <td>0</td>\n",
       "      <td>0</td>\n",
       "      <td>0</td>\n",
       "      <td>0</td>\n",
       "      <td>0</td>\n",
       "      <td>0</td>\n",
       "      <td>0</td>\n",
       "      <td>0</td>\n",
       "    </tr>\n",
       "    <tr>\n",
       "      <th>3</th>\n",
       "      <td>5.0</td>\n",
       "      <td>3.0</td>\n",
       "      <td>0</td>\n",
       "      <td>0</td>\n",
       "      <td>0</td>\n",
       "      <td>0</td>\n",
       "      <td>0</td>\n",
       "      <td>0</td>\n",
       "      <td>0</td>\n",
       "      <td>0</td>\n",
       "      <td>...</td>\n",
       "      <td>0</td>\n",
       "      <td>0</td>\n",
       "      <td>0</td>\n",
       "      <td>0</td>\n",
       "      <td>0</td>\n",
       "      <td>0</td>\n",
       "      <td>0</td>\n",
       "      <td>0</td>\n",
       "      <td>0</td>\n",
       "      <td>0</td>\n",
       "    </tr>\n",
       "    <tr>\n",
       "      <th>4</th>\n",
       "      <td>7.7</td>\n",
       "      <td>4.2</td>\n",
       "      <td>0</td>\n",
       "      <td>0</td>\n",
       "      <td>0</td>\n",
       "      <td>0</td>\n",
       "      <td>0</td>\n",
       "      <td>0</td>\n",
       "      <td>0</td>\n",
       "      <td>0</td>\n",
       "      <td>...</td>\n",
       "      <td>1</td>\n",
       "      <td>0</td>\n",
       "      <td>0</td>\n",
       "      <td>0</td>\n",
       "      <td>0</td>\n",
       "      <td>0</td>\n",
       "      <td>0</td>\n",
       "      <td>0</td>\n",
       "      <td>0</td>\n",
       "      <td>0</td>\n",
       "    </tr>\n",
       "  </tbody>\n",
       "</table>\n",
       "<p>5 rows × 247 columns</p>\n",
       "</div>"
      ],
      "text/plain": [
       "   beer_abv  review_mean  beer_style_American Adjunct Lager  \\\n",
       "0       5.0          1.8                                  0   \n",
       "1       6.2          2.9                                  0   \n",
       "2       6.5          2.9                                  0   \n",
       "3       5.0          3.0                                  0   \n",
       "4       7.7          4.2                                  0   \n",
       "\n",
       "   beer_style_American Amber / Red Ale  beer_style_American Amber / Red Lager  \\\n",
       "0                                    0                                      0   \n",
       "1                                    0                                      0   \n",
       "2                                    0                                      0   \n",
       "3                                    0                                      0   \n",
       "4                                    0                                      0   \n",
       "\n",
       "   beer_style_American Barleywine  beer_style_American Black Ale  \\\n",
       "0                               0                              0   \n",
       "1                               0                              0   \n",
       "2                               0                              0   \n",
       "3                               0                              0   \n",
       "4                               0                              0   \n",
       "\n",
       "   beer_style_American Blonde Ale  beer_style_American Brown Ale  \\\n",
       "0                               0                              0   \n",
       "1                               0                              0   \n",
       "2                               0                              0   \n",
       "3                               0                              0   \n",
       "4                               0                              0   \n",
       "\n",
       "   beer_style_American Dark Wheat Ale  ...  country_alpha_3_USA  \\\n",
       "0                                   0  ...                    0   \n",
       "1                                   0  ...                    0   \n",
       "2                                   0  ...                    0   \n",
       "3                                   0  ...                    0   \n",
       "4                                   0  ...                    1   \n",
       "\n",
       "   country_alpha_3_UZB  country_alpha_3_VCT  country_alpha_3_VEN  \\\n",
       "0                    0                    0                    0   \n",
       "1                    0                    0                    0   \n",
       "2                    0                    0                    0   \n",
       "3                    0                    0                    0   \n",
       "4                    0                    0                    0   \n",
       "\n",
       "   country_alpha_3_VIR  country_alpha_3_VNM  country_alpha_3_VUT  \\\n",
       "0                    0                    0                    0   \n",
       "1                    0                    0                    0   \n",
       "2                    0                    0                    0   \n",
       "3                    0                    0                    0   \n",
       "4                    0                    0                    0   \n",
       "\n",
       "   country_alpha_3_WSM  country_alpha_3_ZAF  country_alpha_3_ZWE  \n",
       "0                    0                    0                    0  \n",
       "1                    0                    0                    0  \n",
       "2                    0                    0                    0  \n",
       "3                    0                    0                    0  \n",
       "4                    0                    0                    0  \n",
       "\n",
       "[5 rows x 247 columns]"
      ]
     },
     "execution_count": 304,
     "metadata": {},
     "output_type": "execute_result"
    }
   ],
   "source": [
    "df_ml.head()"
   ]
  },
  {
   "cell_type": "code",
   "execution_count": 383,
   "metadata": {},
   "outputs": [],
   "source": [
    "df_ml = df_ml.groupby([\"beer_abv\"]).mean().reset_index()\n",
    "y = df_ml[df_ml['beer_abv']<10].review_mean\n",
    "X = df_ml[df_ml['beer_abv']<10].drop([\"review_mean\"], axis=1)\n",
    "X_train, X_test, y_train, y_test = train_test_split(X, y, test_size=0.33, random_state=42)\n",
    "\n",
    "#X_train = preprocessing.scale(X_train)\n",
    "#X_test = preprocessing.scale(X_test)\n",
    "#y_train = preprocessing.scale(y_train)\n",
    "#y_test = preprocessing.scale(y_test)"
   ]
  },
  {
   "cell_type": "code",
   "execution_count": 367,
   "metadata": {},
   "outputs": [
    {
     "data": {
      "application/vnd.plotly.v1+json": {
       "config": {
        "plotlyServerURL": "https://plot.ly"
       },
       "data": [
        {
         "hovertemplate": "beer_abv=%{x}<br>review_mean=%{y}<extra></extra>",
         "legendgroup": "",
         "marker": {
          "color": "#636efa",
          "symbol": "circle"
         },
         "mode": "markers",
         "name": "",
         "showlegend": false,
         "type": "scatter",
         "x": [
          0.01,
          0.05,
          0.08,
          0.1,
          0.25,
          0.3,
          0.4,
          0.45,
          0.5,
          0.7,
          0.8,
          0.9,
          1,
          1.2,
          1.25,
          1.3,
          1.4,
          1.5,
          1.7,
          1.8,
          1.9,
          2,
          2.1,
          2.16,
          2.2,
          2.25,
          2.3,
          2.4,
          2.5,
          2.6,
          2.7,
          2.75,
          2.8,
          2.9,
          2.92,
          3,
          3.1,
          3.13,
          3.2,
          3.22,
          3.25,
          3.3,
          3.4,
          3.44,
          3.5,
          3.53,
          3.54,
          3.6,
          3.61,
          3.65,
          3.67,
          3.7,
          3.71,
          3.75,
          3.79,
          3.8,
          3.88,
          3.9,
          3.93,
          3.95,
          3.99,
          4,
          4.01,
          4.06,
          4.08,
          4.1,
          4.13,
          4.14,
          4.15,
          4.16,
          4.17,
          4.19,
          4.2,
          4.25,
          4.26,
          4.28,
          4.29,
          4.3,
          4.31,
          4.32,
          4.33,
          4.34,
          4.35,
          4.37,
          4.38,
          4.39,
          4.4,
          4.41,
          4.44,
          4.45,
          4.46,
          4.47,
          4.48,
          4.5,
          4.51,
          4.53,
          4.55,
          4.56,
          4.58,
          4.59,
          4.6,
          4.62,
          4.63,
          4.64,
          4.65,
          4.66,
          4.67,
          4.68,
          4.69,
          4.7,
          4.72,
          4.73,
          4.74,
          4.75,
          4.76,
          4.77,
          4.78,
          4.79,
          4.8,
          4.81,
          4.83,
          4.85,
          4.86,
          4.87,
          4.88,
          4.89,
          4.9,
          4.91,
          4.94,
          4.95,
          4.96,
          4.97,
          4.98,
          4.99,
          5,
          5.01,
          5.02,
          5.04,
          5.05,
          5.06,
          5.07,
          5.09,
          5.1,
          5.11,
          5.12,
          5.13,
          5.14,
          5.15,
          5.16,
          5.17,
          5.18,
          5.19,
          5.2,
          5.21,
          5.23,
          5.24,
          5.25,
          5.27,
          5.28,
          5.29,
          5.3,
          5.31,
          5.32,
          5.33,
          5.34,
          5.35,
          5.36,
          5.38,
          5.39,
          5.4,
          5.41,
          5.42,
          5.43,
          5.44,
          5.45,
          5.46,
          5.47,
          5.48,
          5.5,
          5.51,
          5.52,
          5.53,
          5.54,
          5.55,
          5.56,
          5.57,
          5.58,
          5.59,
          5.6,
          5.61,
          5.62,
          5.63,
          5.64,
          5.65,
          5.67,
          5.68,
          5.69,
          5.7,
          5.72,
          5.73,
          5.74,
          5.75,
          5.77,
          5.78,
          5.79,
          5.8,
          5.81,
          5.82,
          5.83,
          5.85,
          5.86,
          5.87,
          5.88,
          5.89,
          5.9,
          5.91,
          5.93,
          5.94,
          5.95,
          5.97,
          5.98,
          5.99,
          6,
          6.04,
          6.07,
          6.08,
          6.09,
          6.1,
          6.11,
          6.13,
          6.14,
          6.15,
          6.18,
          6.19,
          6.2,
          6.21,
          6.23,
          6.24,
          6.25,
          6.27,
          6.29,
          6.3,
          6.31,
          6.32,
          6.33,
          6.35,
          6.38,
          6.4,
          6.42,
          6.45,
          6.5,
          6.55,
          6.56,
          6.58,
          6.59,
          6.6,
          6.61,
          6.65,
          6.66,
          6.67,
          6.7,
          6.71,
          6.72,
          6.75,
          6.77,
          6.78,
          6.8,
          6.82,
          6.83,
          6.85,
          6.86,
          6.87,
          6.88,
          6.9,
          6.95,
          6.98,
          7,
          7.07,
          7.08,
          7.09,
          7.1,
          7.13,
          7.15,
          7.17,
          7.2,
          7.21,
          7.23,
          7.24,
          7.25,
          7.26,
          7.3,
          7.33,
          7.35,
          7.37,
          7.39,
          7.4,
          7.43,
          7.45,
          7.48,
          7.5,
          7.51,
          7.52,
          7.57,
          7.58,
          7.6,
          7.61,
          7.62,
          7.67,
          7.68,
          7.69,
          7.7,
          7.71,
          7.74,
          7.75,
          7.77,
          7.79,
          7.8,
          7.82,
          7.83,
          7.85,
          7.87,
          7.88,
          7.9,
          7.92,
          7.99,
          8,
          8.02,
          8.03,
          8.06,
          8.08,
          8.1,
          8.12,
          8.17,
          8.19,
          8.2,
          8.21,
          8.24,
          8.25,
          8.26,
          8.27,
          8.3,
          8.33,
          8.34,
          8.35,
          8.4,
          8.41,
          8.47,
          8.5,
          8.55,
          8.59,
          8.6,
          8.65,
          8.66,
          8.67,
          8.69,
          8.7,
          8.72,
          8.74,
          8.75,
          8.8,
          8.85,
          8.88,
          8.9,
          8.97,
          9,
          9.04,
          9.05,
          9.1,
          9.15,
          9.18,
          9.2,
          9.23,
          9.25,
          9.28,
          9.3,
          9.35,
          9.39,
          9.4,
          9.44,
          9.46,
          9.5,
          9.54,
          9.6,
          9.61,
          9.62,
          9.7,
          9.71,
          9.73,
          9.74,
          9.75,
          9.78,
          9.8,
          9.85,
          9.9,
          9.91,
          9.96,
          9.99,
          10,
          10.01,
          10.03,
          10.06,
          10.08,
          10.1,
          10.13,
          10.14,
          10.17,
          10.2,
          10.24,
          10.25,
          10.27,
          10.28,
          10.3,
          10.31,
          10.37,
          10.4,
          10.43,
          10.5,
          10.58,
          10.6,
          10.7,
          10.75,
          10.76,
          10.8,
          10.9,
          10.98,
          11,
          11.01,
          11.03,
          11.04,
          11.1,
          11.15,
          11.2,
          11.25,
          11.26,
          11.3,
          11.4,
          11.41,
          11.5,
          11.59,
          11.6,
          11.65,
          11.67,
          11.7,
          11.75,
          11.8,
          11.9,
          11.99,
          12,
          12.1,
          12.12,
          12.2,
          12.25,
          12.3,
          12.4,
          12.5,
          12.6,
          12.7,
          12.8,
          12.9
         ],
         "xaxis": "x",
         "y": [
          2.34,
          2.223529411764706,
          1.2,
          2.7636363636363637,
          2.3333333333333335,
          2.902564102564102,
          2.2081081081081075,
          3.0672727272727283,
          2.5896020539152778,
          3.1333333333333333,
          3.35,
          2.6999999999999997,
          2.766666666666666,
          2.722641509433962,
          2.7,
          4.1,
          3.1,
          2.2583333333333333,
          3.325,
          3.682352941176471,
          3.733333333333333,
          3.3019230769230763,
          2.4749999999999996,
          3.266666666666667,
          2.519230769230769,
          2.4000000000000004,
          2.2505882352941176,
          2.306249999999999,
          3.757876712328768,
          2.997435897435898,
          2.6102040816326535,
          3.7,
          2.719174757281553,
          3.1272727272727288,
          2.6666666666666665,
          3.475923392612861,
          3.871618037135276,
          3.2600000000000002,
          3.3293064876957486,
          2.75,
          3.6533333333333338,
          3.031837307152872,
          3.452655367231639,
          2.3666666666666667,
          3.2470630630630617,
          3.8,
          3.9,
          3.4223931623931607,
          3.1,
          3.237349397590363,
          2.9875000000000003,
          3.304104903078679,
          3.3,
          3.6906249999999994,
          2.46,
          3.501086394205899,
          2.590789473684211,
          3.389669926650368,
          2.56,
          2.4000000000000004,
          4.1,
          3.5520251744765603,
          3.016190476190474,
          3.233333333333333,
          3.66,
          3.0823682160477777,
          2.6398692810457507,
          3.7090909090909094,
          2.6777777777777776,
          3.1904761904761907,
          2.3168362627197054,
          3.2753012048192773,
          3.0779409391640913,
          3.536482939632548,
          2.7,
          3.0402061855670093,
          2.95,
          3.439311871912804,
          3.8,
          3.3949999999999996,
          3.6700000000000004,
          2.9,
          3.4336734693877524,
          3.0666666666666664,
          3.1769230769230776,
          3.73270142180095,
          3.5148456440924587,
          4.15,
          3.2,
          2.3,
          3.2375,
          3.4714285714285715,
          3.329824561403508,
          3.413250178918335,
          3.45,
          3.3374999999999995,
          3.0634920634920646,
          3.85,
          3.025,
          4,
          3.2373534105891304,
          3.295890410958904,
          3.5545454545454547,
          3.5571428571428574,
          3.2340540540540545,
          2.5828854314002814,
          3.1535714285714294,
          3.3820754716981143,
          4.074999999999999,
          3.4085815423514507,
          2.75791962174941,
          2.9796610169491524,
          3.0613433858807366,
          3.537617554858935,
          3.966666666666667,
          3.575,
          2.983505154639176,
          3.656521739130435,
          3.553728037797142,
          3.3290322580645157,
          3.888888888888889,
          3.6204705882353,
          3.066666666666666,
          3.6999999999999997,
          3.7944444444444443,
          3.4162500000000002,
          3.597928400336636,
          3.7249999999999996,
          3.676949740034662,
          3.6715094339622634,
          3.318796992481203,
          2.766666666666667,
          3.3846511627906994,
          3.533333333333333,
          3.5148149845553003,
          3.681927710843374,
          3.5818181818181816,
          3.95,
          3.687790697674416,
          3.5599999999999996,
          3.76,
          3.6,
          3.614201536807739,
          3.468965517241379,
          3.168,
          3.4981770833333345,
          3.5,
          3.844609164420482,
          3.503658536585365,
          3.9702702702702704,
          3.56530612244898,
          3.093333333333333,
          3.6385138259502923,
          3.5633986928104577,
          3.507906976744186,
          3.4023809523809527,
          3.7266384778012682,
          3.76551724137931,
          3.376470588235294,
          3.9083333333333337,
          3.6612347377472125,
          3.5624999999999982,
          4.3,
          3.1153846153846154,
          3.366363636363638,
          3.6386075949367056,
          4.5,
          3.4068965517241385,
          3.8926829268292673,
          3.698514178721339,
          3.2343358395989967,
          3.4439790575916227,
          3.994117647058823,
          3.65,
          3.774783861671472,
          3.4705263157894746,
          3.55,
          4.2,
          3.6755546516161273,
          3.5013157894736846,
          3.8333333333333313,
          4.075,
          3.5250000000000004,
          3.95,
          3.4906976744186045,
          3.573568281938326,
          3.4744680851063827,
          3.515384615384614,
          3.721489604594063,
          2.5699275362318845,
          3.304166666666667,
          3.2317073170731714,
          3.9666666666666663,
          3.562857142857144,
          4.1,
          3.7586301369863024,
          3.575,
          3.6912739208521534,
          3.5375000000000005,
          3.572189349112424,
          3.533333333333333,
          3.671595900439248,
          3.428271251193884,
          3.6750000000000003,
          3.77877358490566,
          3.8063187005531063,
          3.9555555555555566,
          4,
          3.65,
          4,
          2.9049180327868847,
          4.1,
          3.4566037735849067,
          3.8,
          3.682017392801811,
          3.8874999999999993,
          3.376907216494844,
          3.6643067846607678,
          3.8624060150375916,
          3.809090909090909,
          3.807692307692307,
          4.119999999999999,
          3.8306987487380524,
          4.1,
          3.3200000000000003,
          3.7743243243243243,
          3.9,
          3.937926271259615,
          3.7,
          3.661538461538461,
          4.066666666666666,
          3.711111111111111,
          4.2,
          4.233333333333333,
          3.8180484288198153,
          3.818681318681317,
          4.366666666666667,
          3.908000000000001,
          3.8280624999999953,
          3.9,
          4.5,
          3.804876177953094,
          3.9320000000000004,
          4.25,
          3.9714893617021265,
          3.9595744680851053,
          3.7849999999999993,
          3.820969945355192,
          3.7999999999999994,
          3.8583333333333325,
          3.8499359000869258,
          2.1625,
          4,
          3.6375,
          3.75,
          3.855021883065858,
          3.1727272727272724,
          4.1,
          3.631616341030197,
          4.025,
          3.978682429211606,
          3.7291666666666674,
          3.8823529411764706,
          3.964540956569545,
          3.883333333333333,
          4,
          3.888358489580605,
          3.6636363636363636,
          4.5687500000000005,
          3.8142857142857145,
          4.046153846153845,
          4.366666666666667,
          3.8863636363636345,
          4.004544193145525,
          3.869565217391304,
          4.05,
          3.9162954614272354,
          4.1,
          4.18,
          4.075,
          3.8803394858272893,
          3.740476190476191,
          4.037837837837841,
          4,
          3.954925626859369,
          3.8,
          3.7571428571428567,
          3.8666666666666667,
          4.121900826446288,
          4.25,
          3.8591459074733097,
          4.029166666666666,
          3.9250000000000003,
          4.2125,
          4.279999999999999,
          3.870351217410036,
          3.6901098901098903,
          4.001132075471697,
          3.8678571428571424,
          3.9340554874541254,
          4.4,
          4.233333333333333,
          3.8000000000000003,
          3.8268115942028977,
          3.888813886210215,
          3.9799999999999995,
          3.5666666666666664,
          3.9000000000000004,
          3.6090425531914905,
          3.787922705314008,
          4.057058101472982,
          3.525,
          3.6,
          4.033549959382608,
          4.0562499999999995,
          3.661739130434782,
          3.870336710369481,
          3.7454545454545456,
          3.9258389261744955,
          4.084745762711863,
          4.050000000000001,
          2.8,
          3.806167519525996,
          4.0125,
          3.75,
          3.9456533293962406,
          4.26,
          3.6935483870967736,
          4.176470588235294,
          2.3,
          3.8550991094513036,
          3.6524999999999985,
          3,
          3.6450920245398772,
          3.9378286394963076,
          3.4,
          3.85,
          3.8755301794453527,
          4.0200000000000005,
          3.658490566037737,
          4.102717233362397,
          4.08659793814433,
          3.4,
          3.4,
          3.907725907725906,
          3.681422924901187,
          3.546551724137931,
          3.968176264136271,
          4.3,
          3.75,
          3.84818661672059,
          3.865277777777778,
          4.014590747330959,
          3.6500000000000004,
          3.985922330097088,
          4.015631691648806,
          3.929467084639491,
          4.12202380952381,
          3.988131313131316,
          3.9413622011727476,
          4.175,
          3.1,
          3.980683204554702,
          4,
          4.000855148637039,
          3.8157894736842097,
          3.8333333333333335,
          4.026042957455601,
          4.202325581395349,
          4.28,
          4.042010388023196,
          4.033333333333333,
          3.82063882063882,
          4.0811320754716975,
          3.92990015764583,
          4.246478873239438,
          3.674603174603175,
          4.016267095736113,
          4.242857142857143,
          4.060504201680676,
          4.0617031208322265,
          3.92,
          4.004292505592844,
          4.35,
          4.179166666666666,
          3.9566621803499396,
          3.71875,
          3.8729166666666655,
          4,
          3.9986975397974023,
          4.300000000000001,
          3.9816673174541197,
          3.9987012987012975,
          3.862767911818735,
          4.2043750000000015,
          3.6488636363636378,
          3.938903863432162,
          4.013070546994903,
          4.0027027027027025,
          3.8177740863787384,
          4.175187969924813,
          3.761739130434782,
          3.8491195551436514,
          4.1036363636363635,
          3.9288461538461537,
          3.6,
          4.109041024301043,
          3.883333333333333,
          3.667204301075269,
          3.9,
          3.589999999999999,
          4.004412846285852,
          3.969696969696969,
          3.530769230769231,
          3.957604702424689,
          4.4595505617977516,
          4.086042988353389,
          4.6,
          4.133550913838128,
          4.018076644974694,
          4.204000000000001,
          3.8,
          3.951486697965578,
          4.093360995850622,
          4.4,
          4.060537439613533,
          4.2,
          3.8879396984924592,
          4.2,
          3.937414965986405,
          3.975,
          4.27495769881557,
          3.872043010752688,
          4.084789644012946,
          4.346747812856614,
          3.948214285714284,
          3.9,
          4.094221563710947,
          4.1,
          3.8754032258064504,
          3.35483870967742,
          4.06,
          4.069847972972969,
          3.6849999999999996,
          3.8783656672545592,
          4.022457408363442,
          3.785714285714285,
          4.045935592780143,
          3.6316666666666673,
          4.430232558139535,
          4.1965,
          3.934374999999999,
          3.9923076923076923,
          3.79,
          4.133180469382261,
          4.154651162790697,
          4.172822299651566,
          4.262162162162161,
          3.5610619469026563
         ],
         "yaxis": "y"
        }
       ],
       "layout": {
        "autosize": true,
        "legend": {
         "tracegroupgap": 0
        },
        "margin": {
         "t": 60
        },
        "template": {
         "data": {
          "bar": [
           {
            "error_x": {
             "color": "#2a3f5f"
            },
            "error_y": {
             "color": "#2a3f5f"
            },
            "marker": {
             "line": {
              "color": "#E5ECF6",
              "width": 0.5
             }
            },
            "type": "bar"
           }
          ],
          "barpolar": [
           {
            "marker": {
             "line": {
              "color": "#E5ECF6",
              "width": 0.5
             }
            },
            "type": "barpolar"
           }
          ],
          "carpet": [
           {
            "aaxis": {
             "endlinecolor": "#2a3f5f",
             "gridcolor": "white",
             "linecolor": "white",
             "minorgridcolor": "white",
             "startlinecolor": "#2a3f5f"
            },
            "baxis": {
             "endlinecolor": "#2a3f5f",
             "gridcolor": "white",
             "linecolor": "white",
             "minorgridcolor": "white",
             "startlinecolor": "#2a3f5f"
            },
            "type": "carpet"
           }
          ],
          "choropleth": [
           {
            "colorbar": {
             "outlinewidth": 0,
             "ticks": ""
            },
            "type": "choropleth"
           }
          ],
          "contour": [
           {
            "colorbar": {
             "outlinewidth": 0,
             "ticks": ""
            },
            "colorscale": [
             [
              0,
              "#0d0887"
             ],
             [
              0.1111111111111111,
              "#46039f"
             ],
             [
              0.2222222222222222,
              "#7201a8"
             ],
             [
              0.3333333333333333,
              "#9c179e"
             ],
             [
              0.4444444444444444,
              "#bd3786"
             ],
             [
              0.5555555555555556,
              "#d8576b"
             ],
             [
              0.6666666666666666,
              "#ed7953"
             ],
             [
              0.7777777777777778,
              "#fb9f3a"
             ],
             [
              0.8888888888888888,
              "#fdca26"
             ],
             [
              1,
              "#f0f921"
             ]
            ],
            "type": "contour"
           }
          ],
          "contourcarpet": [
           {
            "colorbar": {
             "outlinewidth": 0,
             "ticks": ""
            },
            "type": "contourcarpet"
           }
          ],
          "heatmap": [
           {
            "colorbar": {
             "outlinewidth": 0,
             "ticks": ""
            },
            "colorscale": [
             [
              0,
              "#0d0887"
             ],
             [
              0.1111111111111111,
              "#46039f"
             ],
             [
              0.2222222222222222,
              "#7201a8"
             ],
             [
              0.3333333333333333,
              "#9c179e"
             ],
             [
              0.4444444444444444,
              "#bd3786"
             ],
             [
              0.5555555555555556,
              "#d8576b"
             ],
             [
              0.6666666666666666,
              "#ed7953"
             ],
             [
              0.7777777777777778,
              "#fb9f3a"
             ],
             [
              0.8888888888888888,
              "#fdca26"
             ],
             [
              1,
              "#f0f921"
             ]
            ],
            "type": "heatmap"
           }
          ],
          "heatmapgl": [
           {
            "colorbar": {
             "outlinewidth": 0,
             "ticks": ""
            },
            "colorscale": [
             [
              0,
              "#0d0887"
             ],
             [
              0.1111111111111111,
              "#46039f"
             ],
             [
              0.2222222222222222,
              "#7201a8"
             ],
             [
              0.3333333333333333,
              "#9c179e"
             ],
             [
              0.4444444444444444,
              "#bd3786"
             ],
             [
              0.5555555555555556,
              "#d8576b"
             ],
             [
              0.6666666666666666,
              "#ed7953"
             ],
             [
              0.7777777777777778,
              "#fb9f3a"
             ],
             [
              0.8888888888888888,
              "#fdca26"
             ],
             [
              1,
              "#f0f921"
             ]
            ],
            "type": "heatmapgl"
           }
          ],
          "histogram": [
           {
            "marker": {
             "colorbar": {
              "outlinewidth": 0,
              "ticks": ""
             }
            },
            "type": "histogram"
           }
          ],
          "histogram2d": [
           {
            "colorbar": {
             "outlinewidth": 0,
             "ticks": ""
            },
            "colorscale": [
             [
              0,
              "#0d0887"
             ],
             [
              0.1111111111111111,
              "#46039f"
             ],
             [
              0.2222222222222222,
              "#7201a8"
             ],
             [
              0.3333333333333333,
              "#9c179e"
             ],
             [
              0.4444444444444444,
              "#bd3786"
             ],
             [
              0.5555555555555556,
              "#d8576b"
             ],
             [
              0.6666666666666666,
              "#ed7953"
             ],
             [
              0.7777777777777778,
              "#fb9f3a"
             ],
             [
              0.8888888888888888,
              "#fdca26"
             ],
             [
              1,
              "#f0f921"
             ]
            ],
            "type": "histogram2d"
           }
          ],
          "histogram2dcontour": [
           {
            "colorbar": {
             "outlinewidth": 0,
             "ticks": ""
            },
            "colorscale": [
             [
              0,
              "#0d0887"
             ],
             [
              0.1111111111111111,
              "#46039f"
             ],
             [
              0.2222222222222222,
              "#7201a8"
             ],
             [
              0.3333333333333333,
              "#9c179e"
             ],
             [
              0.4444444444444444,
              "#bd3786"
             ],
             [
              0.5555555555555556,
              "#d8576b"
             ],
             [
              0.6666666666666666,
              "#ed7953"
             ],
             [
              0.7777777777777778,
              "#fb9f3a"
             ],
             [
              0.8888888888888888,
              "#fdca26"
             ],
             [
              1,
              "#f0f921"
             ]
            ],
            "type": "histogram2dcontour"
           }
          ],
          "mesh3d": [
           {
            "colorbar": {
             "outlinewidth": 0,
             "ticks": ""
            },
            "type": "mesh3d"
           }
          ],
          "parcoords": [
           {
            "line": {
             "colorbar": {
              "outlinewidth": 0,
              "ticks": ""
             }
            },
            "type": "parcoords"
           }
          ],
          "pie": [
           {
            "automargin": true,
            "type": "pie"
           }
          ],
          "scatter": [
           {
            "marker": {
             "colorbar": {
              "outlinewidth": 0,
              "ticks": ""
             }
            },
            "type": "scatter"
           }
          ],
          "scatter3d": [
           {
            "line": {
             "colorbar": {
              "outlinewidth": 0,
              "ticks": ""
             }
            },
            "marker": {
             "colorbar": {
              "outlinewidth": 0,
              "ticks": ""
             }
            },
            "type": "scatter3d"
           }
          ],
          "scattercarpet": [
           {
            "marker": {
             "colorbar": {
              "outlinewidth": 0,
              "ticks": ""
             }
            },
            "type": "scattercarpet"
           }
          ],
          "scattergeo": [
           {
            "marker": {
             "colorbar": {
              "outlinewidth": 0,
              "ticks": ""
             }
            },
            "type": "scattergeo"
           }
          ],
          "scattergl": [
           {
            "marker": {
             "colorbar": {
              "outlinewidth": 0,
              "ticks": ""
             }
            },
            "type": "scattergl"
           }
          ],
          "scattermapbox": [
           {
            "marker": {
             "colorbar": {
              "outlinewidth": 0,
              "ticks": ""
             }
            },
            "type": "scattermapbox"
           }
          ],
          "scatterpolar": [
           {
            "marker": {
             "colorbar": {
              "outlinewidth": 0,
              "ticks": ""
             }
            },
            "type": "scatterpolar"
           }
          ],
          "scatterpolargl": [
           {
            "marker": {
             "colorbar": {
              "outlinewidth": 0,
              "ticks": ""
             }
            },
            "type": "scatterpolargl"
           }
          ],
          "scatterternary": [
           {
            "marker": {
             "colorbar": {
              "outlinewidth": 0,
              "ticks": ""
             }
            },
            "type": "scatterternary"
           }
          ],
          "surface": [
           {
            "colorbar": {
             "outlinewidth": 0,
             "ticks": ""
            },
            "colorscale": [
             [
              0,
              "#0d0887"
             ],
             [
              0.1111111111111111,
              "#46039f"
             ],
             [
              0.2222222222222222,
              "#7201a8"
             ],
             [
              0.3333333333333333,
              "#9c179e"
             ],
             [
              0.4444444444444444,
              "#bd3786"
             ],
             [
              0.5555555555555556,
              "#d8576b"
             ],
             [
              0.6666666666666666,
              "#ed7953"
             ],
             [
              0.7777777777777778,
              "#fb9f3a"
             ],
             [
              0.8888888888888888,
              "#fdca26"
             ],
             [
              1,
              "#f0f921"
             ]
            ],
            "type": "surface"
           }
          ],
          "table": [
           {
            "cells": {
             "fill": {
              "color": "#EBF0F8"
             },
             "line": {
              "color": "white"
             }
            },
            "header": {
             "fill": {
              "color": "#C8D4E3"
             },
             "line": {
              "color": "white"
             }
            },
            "type": "table"
           }
          ]
         },
         "layout": {
          "annotationdefaults": {
           "arrowcolor": "#2a3f5f",
           "arrowhead": 0,
           "arrowwidth": 1
          },
          "coloraxis": {
           "colorbar": {
            "outlinewidth": 0,
            "ticks": ""
           }
          },
          "colorscale": {
           "diverging": [
            [
             0,
             "#8e0152"
            ],
            [
             0.1,
             "#c51b7d"
            ],
            [
             0.2,
             "#de77ae"
            ],
            [
             0.3,
             "#f1b6da"
            ],
            [
             0.4,
             "#fde0ef"
            ],
            [
             0.5,
             "#f7f7f7"
            ],
            [
             0.6,
             "#e6f5d0"
            ],
            [
             0.7,
             "#b8e186"
            ],
            [
             0.8,
             "#7fbc41"
            ],
            [
             0.9,
             "#4d9221"
            ],
            [
             1,
             "#276419"
            ]
           ],
           "sequential": [
            [
             0,
             "#0d0887"
            ],
            [
             0.1111111111111111,
             "#46039f"
            ],
            [
             0.2222222222222222,
             "#7201a8"
            ],
            [
             0.3333333333333333,
             "#9c179e"
            ],
            [
             0.4444444444444444,
             "#bd3786"
            ],
            [
             0.5555555555555556,
             "#d8576b"
            ],
            [
             0.6666666666666666,
             "#ed7953"
            ],
            [
             0.7777777777777778,
             "#fb9f3a"
            ],
            [
             0.8888888888888888,
             "#fdca26"
            ],
            [
             1,
             "#f0f921"
            ]
           ],
           "sequentialminus": [
            [
             0,
             "#0d0887"
            ],
            [
             0.1111111111111111,
             "#46039f"
            ],
            [
             0.2222222222222222,
             "#7201a8"
            ],
            [
             0.3333333333333333,
             "#9c179e"
            ],
            [
             0.4444444444444444,
             "#bd3786"
            ],
            [
             0.5555555555555556,
             "#d8576b"
            ],
            [
             0.6666666666666666,
             "#ed7953"
            ],
            [
             0.7777777777777778,
             "#fb9f3a"
            ],
            [
             0.8888888888888888,
             "#fdca26"
            ],
            [
             1,
             "#f0f921"
            ]
           ]
          },
          "colorway": [
           "#636efa",
           "#EF553B",
           "#00cc96",
           "#ab63fa",
           "#FFA15A",
           "#19d3f3",
           "#FF6692",
           "#B6E880",
           "#FF97FF",
           "#FECB52"
          ],
          "font": {
           "color": "#2a3f5f"
          },
          "geo": {
           "bgcolor": "white",
           "lakecolor": "white",
           "landcolor": "#E5ECF6",
           "showlakes": true,
           "showland": true,
           "subunitcolor": "white"
          },
          "hoverlabel": {
           "align": "left"
          },
          "hovermode": "closest",
          "mapbox": {
           "style": "light"
          },
          "paper_bgcolor": "white",
          "plot_bgcolor": "#E5ECF6",
          "polar": {
           "angularaxis": {
            "gridcolor": "white",
            "linecolor": "white",
            "ticks": ""
           },
           "bgcolor": "#E5ECF6",
           "radialaxis": {
            "gridcolor": "white",
            "linecolor": "white",
            "ticks": ""
           }
          },
          "scene": {
           "xaxis": {
            "backgroundcolor": "#E5ECF6",
            "gridcolor": "white",
            "gridwidth": 2,
            "linecolor": "white",
            "showbackground": true,
            "ticks": "",
            "zerolinecolor": "white"
           },
           "yaxis": {
            "backgroundcolor": "#E5ECF6",
            "gridcolor": "white",
            "gridwidth": 2,
            "linecolor": "white",
            "showbackground": true,
            "ticks": "",
            "zerolinecolor": "white"
           },
           "zaxis": {
            "backgroundcolor": "#E5ECF6",
            "gridcolor": "white",
            "gridwidth": 2,
            "linecolor": "white",
            "showbackground": true,
            "ticks": "",
            "zerolinecolor": "white"
           }
          },
          "shapedefaults": {
           "line": {
            "color": "#2a3f5f"
           }
          },
          "ternary": {
           "aaxis": {
            "gridcolor": "white",
            "linecolor": "white",
            "ticks": ""
           },
           "baxis": {
            "gridcolor": "white",
            "linecolor": "white",
            "ticks": ""
           },
           "bgcolor": "#E5ECF6",
           "caxis": {
            "gridcolor": "white",
            "linecolor": "white",
            "ticks": ""
           }
          },
          "title": {
           "x": 0.05
          },
          "xaxis": {
           "automargin": true,
           "gridcolor": "white",
           "linecolor": "white",
           "ticks": "",
           "title": {
            "standoff": 15
           },
           "zerolinecolor": "white",
           "zerolinewidth": 2
          },
          "yaxis": {
           "automargin": true,
           "gridcolor": "white",
           "linecolor": "white",
           "ticks": "",
           "title": {
            "standoff": 15
           },
           "zerolinecolor": "white",
           "zerolinewidth": 2
          }
         }
        },
        "xaxis": {
         "anchor": "y",
         "autorange": true,
         "domain": [
          0,
          1
         ],
         "range": [
          -0.7572180987724807,
          13.667218098772482
         ],
         "title": {
          "text": "beer_abv"
         },
         "type": "linear"
        },
        "yaxis": {
         "anchor": "x",
         "autorange": true,
         "domain": [
          0,
          1
         ],
         "range": [
          0.9869565217391304,
          4.8130434782608695
         ],
         "title": {
          "text": "review_mean"
         },
         "type": "linear"
        }
       }
      },
      "image/png": "[encoded data removed]",
      "text/html": [
       "<div>\n",
       "        \n",
       "        \n",
       "            <div id=\"350cdf75-3df7-4409-955e-6846990ee164\" class=\"plotly-graph-div\" style=\"height:800px; width:100%;\"></div>\n",
       "            <script type=\"text/javascript\">\n",
       "                require([\"plotly\"], function(Plotly) {\n",
       "                    window.PLOTLYENV=window.PLOTLYENV || {};\n",
       "                    \n",
       "                if (document.getElementById(\"350cdf75-3df7-4409-955e-6846990ee164\")) {\n",
       "                    Plotly.newPlot(\n",
       "                        '350cdf75-3df7-4409-955e-6846990ee164',\n",
       "                        [{\"hovertemplate\": \"beer_abv=%{x}<br>review_mean=%{y}<extra></extra>\", \"legendgroup\": \"\", \"marker\": {\"color\": \"#636efa\", \"symbol\": \"circle\"}, \"mode\": \"markers\", \"name\": \"\", \"showlegend\": false, \"type\": \"scatter\", \"x\": [0.01, 0.05, 0.08, 0.1, 0.25, 0.3, 0.4, 0.45, 0.5, 0.7, 0.8, 0.9, 1.0, 1.2, 1.25, 1.3, 1.4, 1.5, 1.7, 1.8, 1.9, 2.0, 2.1, 2.16, 2.2, 2.25, 2.3, 2.4, 2.5, 2.6, 2.7, 2.75, 2.8, 2.9, 2.92, 3.0, 3.1, 3.13, 3.2, 3.22, 3.25, 3.3, 3.4, 3.44, 3.5, 3.53, 3.54, 3.6, 3.61, 3.65, 3.67, 3.7, 3.71, 3.75, 3.79, 3.8, 3.88, 3.9, 3.93, 3.95, 3.99, 4.0, 4.01, 4.06, 4.08, 4.1, 4.13, 4.14, 4.15, 4.16, 4.17, 4.19, 4.2, 4.25, 4.26, 4.28, 4.29, 4.3, 4.31, 4.32, 4.33, 4.34, 4.35, 4.37, 4.38, 4.39, 4.4, 4.41, 4.44, 4.45, 4.46, 4.47, 4.48, 4.5, 4.51, 4.53, 4.55, 4.56, 4.58, 4.59, 4.6, 4.62, 4.63, 4.64, 4.65, 4.66, 4.67, 4.68, 4.69, 4.7, 4.72, 4.73, 4.74, 4.75, 4.76, 4.77, 4.78, 4.79, 4.8, 4.81, 4.83, 4.85, 4.86, 4.87, 4.88, 4.89, 4.9, 4.91, 4.94, 4.95, 4.96, 4.97, 4.98, 4.99, 5.0, 5.01, 5.02, 5.04, 5.05, 5.06, 5.07, 5.09, 5.1, 5.11, 5.12, 5.13, 5.14, 5.15, 5.16, 5.17, 5.18, 5.19, 5.2, 5.21, 5.23, 5.24, 5.25, 5.27, 5.28, 5.29, 5.3, 5.31, 5.32, 5.33, 5.34, 5.35, 5.36, 5.38, 5.39, 5.4, 5.41, 5.42, 5.43, 5.44, 5.45, 5.46, 5.47, 5.48, 5.5, 5.51, 5.52, 5.53, 5.54, 5.55, 5.56, 5.57, 5.58, 5.59, 5.6, 5.61, 5.62, 5.63, 5.64, 5.65, 5.67, 5.68, 5.69, 5.7, 5.72, 5.73, 5.74, 5.75, 5.77, 5.78, 5.79, 5.8, 5.81, 5.82, 5.83, 5.85, 5.86, 5.87, 5.88, 5.89, 5.9, 5.91, 5.93, 5.94, 5.95, 5.97, 5.98, 5.99, 6.0, 6.04, 6.07, 6.08, 6.09, 6.1, 6.11, 6.13, 6.14, 6.15, 6.18, 6.19, 6.2, 6.21, 6.23, 6.24, 6.25, 6.27, 6.29, 6.3, 6.31, 6.32, 6.33, 6.35, 6.38, 6.4, 6.42, 6.45, 6.5, 6.55, 6.56, 6.58, 6.59, 6.6, 6.61, 6.65, 6.66, 6.67, 6.7, 6.71, 6.72, 6.75, 6.77, 6.78, 6.8, 6.82, 6.83, 6.85, 6.86, 6.87, 6.88, 6.9, 6.95, 6.98, 7.0, 7.07, 7.08, 7.09, 7.1, 7.13, 7.15, 7.17, 7.2, 7.21, 7.23, 7.24, 7.25, 7.26, 7.3, 7.33, 7.35, 7.37, 7.39, 7.4, 7.43, 7.45, 7.48, 7.5, 7.51, 7.52, 7.57, 7.58, 7.6, 7.61, 7.62, 7.67, 7.68, 7.69, 7.7, 7.71, 7.74, 7.75, 7.77, 7.79, 7.8, 7.82, 7.83, 7.85, 7.87, 7.88, 7.9, 7.92, 7.99, 8.0, 8.02, 8.03, 8.06, 8.08, 8.1, 8.12, 8.17, 8.19, 8.2, 8.21, 8.24, 8.25, 8.26, 8.27, 8.3, 8.33, 8.34, 8.35, 8.4, 8.41, 8.47, 8.5, 8.55, 8.59, 8.6, 8.65, 8.66, 8.67, 8.69, 8.7, 8.72, 8.74, 8.75, 8.8, 8.85, 8.88, 8.9, 8.97, 9.0, 9.04, 9.05, 9.1, 9.15, 9.18, 9.2, 9.23, 9.25, 9.28, 9.3, 9.35, 9.39, 9.4, 9.44, 9.46, 9.5, 9.54, 9.6, 9.61, 9.62, 9.7, 9.71, 9.73, 9.74, 9.75, 9.78, 9.8, 9.85, 9.9, 9.91, 9.96, 9.99, 10.0, 10.01, 10.03, 10.06, 10.08, 10.1, 10.13, 10.14, 10.17, 10.2, 10.24, 10.25, 10.27, 10.28, 10.3, 10.31, 10.37, 10.4, 10.43, 10.5, 10.58, 10.6, 10.7, 10.75, 10.76, 10.8, 10.9, 10.98, 11.0, 11.01, 11.03, 11.04, 11.1, 11.15, 11.2, 11.25, 11.26, 11.3, 11.4, 11.41, 11.5, 11.59, 11.6, 11.65, 11.67, 11.7, 11.75, 11.8, 11.9, 11.99, 12.0, 12.1, 12.12, 12.2, 12.25, 12.3, 12.4, 12.5, 12.6, 12.7, 12.8, 12.9], \"xaxis\": \"x\", \"y\": [2.34, 2.223529411764706, 1.2, 2.7636363636363637, 2.3333333333333335, 2.902564102564102, 2.2081081081081075, 3.0672727272727283, 2.5896020539152778, 3.1333333333333333, 3.35, 2.6999999999999997, 2.766666666666666, 2.722641509433962, 2.7, 4.1, 3.1, 2.2583333333333333, 3.325, 3.682352941176471, 3.733333333333333, 3.3019230769230763, 2.4749999999999996, 3.266666666666667, 2.519230769230769, 2.4000000000000004, 2.2505882352941176, 2.306249999999999, 3.757876712328768, 2.997435897435898, 2.6102040816326535, 3.7, 2.719174757281553, 3.1272727272727288, 2.6666666666666665, 3.475923392612861, 3.871618037135276, 3.2600000000000002, 3.3293064876957486, 2.75, 3.6533333333333338, 3.031837307152872, 3.452655367231639, 2.3666666666666667, 3.2470630630630617, 3.8, 3.9, 3.4223931623931607, 3.1, 3.237349397590363, 2.9875000000000003, 3.304104903078679, 3.3, 3.6906249999999994, 2.46, 3.501086394205899, 2.590789473684211, 3.389669926650368, 2.56, 2.4000000000000004, 4.1, 3.5520251744765603, 3.016190476190474, 3.233333333333333, 3.66, 3.0823682160477777, 2.6398692810457507, 3.7090909090909094, 2.6777777777777776, 3.1904761904761907, 2.3168362627197054, 3.2753012048192773, 3.0779409391640913, 3.536482939632548, 2.7, 3.0402061855670093, 2.95, 3.439311871912804, 3.8, 3.3949999999999996, 3.6700000000000004, 2.9, 3.4336734693877524, 3.0666666666666664, 3.1769230769230776, 3.73270142180095, 3.5148456440924587, 4.15, 3.2, 2.3, 3.2375, 3.4714285714285715, 3.329824561403508, 3.413250178918335, 3.45, 3.3374999999999995, 3.0634920634920646, 3.85, 3.025, 4.0, 3.2373534105891304, 3.295890410958904, 3.5545454545454547, 3.5571428571428574, 3.2340540540540545, 2.5828854314002814, 3.1535714285714294, 3.3820754716981143, 4.074999999999999, 3.4085815423514507, 2.75791962174941, 2.9796610169491524, 3.0613433858807366, 3.537617554858935, 3.966666666666667, 3.575, 2.983505154639176, 3.656521739130435, 3.553728037797142, 3.3290322580645157, 3.888888888888889, 3.6204705882353, 3.066666666666666, 3.6999999999999997, 3.7944444444444443, 3.4162500000000002, 3.597928400336636, 3.7249999999999996, 3.676949740034662, 3.6715094339622634, 3.318796992481203, 2.766666666666667, 3.3846511627906994, 3.533333333333333, 3.5148149845553003, 3.681927710843374, 3.5818181818181816, 3.95, 3.687790697674416, 3.5599999999999996, 3.76, 3.6, 3.614201536807739, 3.468965517241379, 3.168, 3.4981770833333345, 3.5, 3.844609164420482, 3.503658536585365, 3.9702702702702704, 3.56530612244898, 3.093333333333333, 3.6385138259502923, 3.5633986928104577, 3.507906976744186, 3.4023809523809527, 3.7266384778012682, 3.76551724137931, 3.376470588235294, 3.9083333333333337, 3.6612347377472125, 3.5624999999999982, 4.3, 3.1153846153846154, 3.366363636363638, 3.6386075949367056, 4.5, 3.4068965517241385, 3.8926829268292673, 3.698514178721339, 3.2343358395989967, 3.4439790575916227, 3.994117647058823, 3.65, 3.774783861671472, 3.4705263157894746, 3.55, 4.2, 3.6755546516161273, 3.5013157894736846, 3.8333333333333313, 4.075, 3.5250000000000004, 3.95, 3.4906976744186045, 3.573568281938326, 3.4744680851063827, 3.515384615384614, 3.721489604594063, 2.5699275362318845, 3.304166666666667, 3.2317073170731714, 3.9666666666666663, 3.562857142857144, 4.1, 3.7586301369863024, 3.575, 3.6912739208521534, 3.5375000000000005, 3.572189349112424, 3.533333333333333, 3.671595900439248, 3.428271251193884, 3.6750000000000003, 3.77877358490566, 3.8063187005531063, 3.9555555555555566, 4.0, 3.65, 4.0, 2.9049180327868847, 4.1, 3.4566037735849067, 3.8, 3.682017392801811, 3.8874999999999993, 3.376907216494844, 3.6643067846607678, 3.8624060150375916, 3.809090909090909, 3.807692307692307, 4.119999999999999, 3.8306987487380524, 4.1, 3.3200000000000003, 3.7743243243243243, 3.9, 3.937926271259615, 3.7, 3.661538461538461, 4.066666666666666, 3.711111111111111, 4.2, 4.233333333333333, 3.8180484288198153, 3.818681318681317, 4.366666666666667, 3.908000000000001, 3.8280624999999953, 3.9, 4.5, 3.804876177953094, 3.9320000000000004, 4.25, 3.9714893617021265, 3.9595744680851053, 3.7849999999999993, 3.820969945355192, 3.7999999999999994, 3.8583333333333325, 3.8499359000869258, 2.1625, 4.0, 3.6375, 3.75, 3.855021883065858, 3.1727272727272724, 4.1, 3.631616341030197, 4.025, 3.978682429211606, 3.7291666666666674, 3.8823529411764706, 3.964540956569545, 3.883333333333333, 4.0, 3.888358489580605, 3.6636363636363636, 4.5687500000000005, 3.8142857142857145, 4.046153846153845, 4.366666666666667, 3.8863636363636345, 4.004544193145525, 3.869565217391304, 4.05, 3.9162954614272354, 4.1, 4.18, 4.075, 3.8803394858272893, 3.740476190476191, 4.037837837837841, 4.0, 3.954925626859369, 3.8, 3.7571428571428567, 3.8666666666666667, 4.121900826446288, 4.25, 3.8591459074733097, 4.029166666666666, 3.9250000000000003, 4.2125, 4.279999999999999, 3.870351217410036, 3.6901098901098903, 4.001132075471697, 3.8678571428571424, 3.9340554874541254, 4.4, 4.233333333333333, 3.8000000000000003, 3.8268115942028977, 3.888813886210215, 3.9799999999999995, 3.5666666666666664, 3.9000000000000004, 3.6090425531914905, 3.787922705314008, 4.057058101472982, 3.525, 3.6, 4.033549959382608, 4.0562499999999995, 3.661739130434782, 3.870336710369481, 3.7454545454545456, 3.9258389261744955, 4.084745762711863, 4.050000000000001, 2.8, 3.806167519525996, 4.0125, 3.75, 3.9456533293962406, 4.26, 3.6935483870967736, 4.176470588235294, 2.3, 3.8550991094513036, 3.6524999999999985, 3.0, 3.6450920245398772, 3.9378286394963076, 3.4, 3.85, 3.8755301794453527, 4.0200000000000005, 3.658490566037737, 4.102717233362397, 4.08659793814433, 3.4, 3.4, 3.907725907725906, 3.681422924901187, 3.546551724137931, 3.968176264136271, 4.3, 3.75, 3.84818661672059, 3.865277777777778, 4.014590747330959, 3.6500000000000004, 3.985922330097088, 4.015631691648806, 3.929467084639491, 4.12202380952381, 3.988131313131316, 3.9413622011727476, 4.175, 3.1, 3.980683204554702, 4.0, 4.000855148637039, 3.8157894736842097, 3.8333333333333335, 4.026042957455601, 4.202325581395349, 4.28, 4.042010388023196, 4.033333333333333, 3.82063882063882, 4.0811320754716975, 3.92990015764583, 4.246478873239438, 3.674603174603175, 4.016267095736113, 4.242857142857143, 4.060504201680676, 4.0617031208322265, 3.92, 4.004292505592844, 4.35, 4.179166666666666, 3.9566621803499396, 3.71875, 3.8729166666666655, 4.0, 3.9986975397974023, 4.300000000000001, 3.9816673174541197, 3.9987012987012975, 3.862767911818735, 4.2043750000000015, 3.6488636363636378, 3.938903863432162, 4.013070546994903, 4.0027027027027025, 3.8177740863787384, 4.175187969924813, 3.761739130434782, 3.8491195551436514, 4.1036363636363635, 3.9288461538461537, 3.6, 4.109041024301043, 3.883333333333333, 3.667204301075269, 3.9, 3.589999999999999, 4.004412846285852, 3.969696969696969, 3.530769230769231, 3.957604702424689, 4.4595505617977516, 4.086042988353389, 4.6, 4.133550913838128, 4.018076644974694, 4.204000000000001, 3.8, 3.951486697965578, 4.093360995850622, 4.4, 4.060537439613533, 4.2, 3.8879396984924592, 4.2, 3.937414965986405, 3.975, 4.27495769881557, 3.872043010752688, 4.084789644012946, 4.346747812856614, 3.948214285714284, 3.9, 4.094221563710947, 4.1, 3.8754032258064504, 3.35483870967742, 4.06, 4.069847972972969, 3.6849999999999996, 3.8783656672545592, 4.022457408363442, 3.785714285714285, 4.045935592780143, 3.6316666666666673, 4.430232558139535, 4.1965, 3.934374999999999, 3.9923076923076923, 3.79, 4.133180469382261, 4.154651162790697, 4.172822299651566, 4.262162162162161, 3.5610619469026563], \"yaxis\": \"y\"}],\n",
       "                        {\"height\": 800, \"legend\": {\"tracegroupgap\": 0}, \"margin\": {\"t\": 60}, \"template\": {\"data\": {\"bar\": [{\"error_x\": {\"color\": \"#2a3f5f\"}, \"error_y\": {\"color\": \"#2a3f5f\"}, \"marker\": {\"line\": {\"color\": \"#E5ECF6\", \"width\": 0.5}}, \"type\": \"bar\"}], \"barpolar\": [{\"marker\": {\"line\": {\"color\": \"#E5ECF6\", \"width\": 0.5}}, \"type\": \"barpolar\"}], \"carpet\": [{\"aaxis\": {\"endlinecolor\": \"#2a3f5f\", \"gridcolor\": \"white\", \"linecolor\": \"white\", \"minorgridcolor\": \"white\", \"startlinecolor\": \"#2a3f5f\"}, \"baxis\": {\"endlinecolor\": \"#2a3f5f\", \"gridcolor\": \"white\", \"linecolor\": \"white\", \"minorgridcolor\": \"white\", \"startlinecolor\": \"#2a3f5f\"}, \"type\": \"carpet\"}], \"choropleth\": [{\"colorbar\": {\"outlinewidth\": 0, \"ticks\": \"\"}, \"type\": \"choropleth\"}], \"contour\": [{\"colorbar\": {\"outlinewidth\": 0, \"ticks\": \"\"}, \"colorscale\": [[0.0, \"#0d0887\"], [0.1111111111111111, \"#46039f\"], [0.2222222222222222, \"#7201a8\"], [0.3333333333333333, \"#9c179e\"], [0.4444444444444444, \"#bd3786\"], [0.5555555555555556, \"#d8576b\"], [0.6666666666666666, \"#ed7953\"], [0.7777777777777778, \"#fb9f3a\"], [0.8888888888888888, \"#fdca26\"], [1.0, \"#f0f921\"]], \"type\": \"contour\"}], \"contourcarpet\": [{\"colorbar\": {\"outlinewidth\": 0, \"ticks\": \"\"}, \"type\": \"contourcarpet\"}], \"heatmap\": [{\"colorbar\": {\"outlinewidth\": 0, \"ticks\": \"\"}, \"colorscale\": [[0.0, \"#0d0887\"], [0.1111111111111111, \"#46039f\"], [0.2222222222222222, \"#7201a8\"], [0.3333333333333333, \"#9c179e\"], [0.4444444444444444, \"#bd3786\"], [0.5555555555555556, \"#d8576b\"], [0.6666666666666666, \"#ed7953\"], [0.7777777777777778, \"#fb9f3a\"], [0.8888888888888888, \"#fdca26\"], [1.0, \"#f0f921\"]], \"type\": \"heatmap\"}], \"heatmapgl\": [{\"colorbar\": {\"outlinewidth\": 0, \"ticks\": \"\"}, \"colorscale\": [[0.0, \"#0d0887\"], [0.1111111111111111, \"#46039f\"], [0.2222222222222222, \"#7201a8\"], [0.3333333333333333, \"#9c179e\"], [0.4444444444444444, \"#bd3786\"], [0.5555555555555556, \"#d8576b\"], [0.6666666666666666, \"#ed7953\"], [0.7777777777777778, \"#fb9f3a\"], [0.8888888888888888, \"#fdca26\"], [1.0, \"#f0f921\"]], \"type\": \"heatmapgl\"}], \"histogram\": [{\"marker\": {\"colorbar\": {\"outlinewidth\": 0, \"ticks\": \"\"}}, \"type\": \"histogram\"}], \"histogram2d\": [{\"colorbar\": {\"outlinewidth\": 0, \"ticks\": \"\"}, \"colorscale\": [[0.0, \"#0d0887\"], [0.1111111111111111, \"#46039f\"], [0.2222222222222222, \"#7201a8\"], [0.3333333333333333, \"#9c179e\"], [0.4444444444444444, \"#bd3786\"], [0.5555555555555556, \"#d8576b\"], [0.6666666666666666, \"#ed7953\"], [0.7777777777777778, \"#fb9f3a\"], [0.8888888888888888, \"#fdca26\"], [1.0, \"#f0f921\"]], \"type\": \"histogram2d\"}], \"histogram2dcontour\": [{\"colorbar\": {\"outlinewidth\": 0, \"ticks\": \"\"}, \"colorscale\": [[0.0, \"#0d0887\"], [0.1111111111111111, \"#46039f\"], [0.2222222222222222, \"#7201a8\"], [0.3333333333333333, \"#9c179e\"], [0.4444444444444444, \"#bd3786\"], [0.5555555555555556, \"#d8576b\"], [0.6666666666666666, \"#ed7953\"], [0.7777777777777778, \"#fb9f3a\"], [0.8888888888888888, \"#fdca26\"], [1.0, \"#f0f921\"]], \"type\": \"histogram2dcontour\"}], \"mesh3d\": [{\"colorbar\": {\"outlinewidth\": 0, \"ticks\": \"\"}, \"type\": \"mesh3d\"}], \"parcoords\": [{\"line\": {\"colorbar\": {\"outlinewidth\": 0, \"ticks\": \"\"}}, \"type\": \"parcoords\"}], \"pie\": [{\"automargin\": true, \"type\": \"pie\"}], \"scatter\": [{\"marker\": {\"colorbar\": {\"outlinewidth\": 0, \"ticks\": \"\"}}, \"type\": \"scatter\"}], \"scatter3d\": [{\"line\": {\"colorbar\": {\"outlinewidth\": 0, \"ticks\": \"\"}}, \"marker\": {\"colorbar\": {\"outlinewidth\": 0, \"ticks\": \"\"}}, \"type\": \"scatter3d\"}], \"scattercarpet\": [{\"marker\": {\"colorbar\": {\"outlinewidth\": 0, \"ticks\": \"\"}}, \"type\": \"scattercarpet\"}], \"scattergeo\": [{\"marker\": {\"colorbar\": {\"outlinewidth\": 0, \"ticks\": \"\"}}, \"type\": \"scattergeo\"}], \"scattergl\": [{\"marker\": {\"colorbar\": {\"outlinewidth\": 0, \"ticks\": \"\"}}, \"type\": \"scattergl\"}], \"scattermapbox\": [{\"marker\": {\"colorbar\": {\"outlinewidth\": 0, \"ticks\": \"\"}}, \"type\": \"scattermapbox\"}], \"scatterpolar\": [{\"marker\": {\"colorbar\": {\"outlinewidth\": 0, \"ticks\": \"\"}}, \"type\": \"scatterpolar\"}], \"scatterpolargl\": [{\"marker\": {\"colorbar\": {\"outlinewidth\": 0, \"ticks\": \"\"}}, \"type\": \"scatterpolargl\"}], \"scatterternary\": [{\"marker\": {\"colorbar\": {\"outlinewidth\": 0, \"ticks\": \"\"}}, \"type\": \"scatterternary\"}], \"surface\": [{\"colorbar\": {\"outlinewidth\": 0, \"ticks\": \"\"}, \"colorscale\": [[0.0, \"#0d0887\"], [0.1111111111111111, \"#46039f\"], [0.2222222222222222, \"#7201a8\"], [0.3333333333333333, \"#9c179e\"], [0.4444444444444444, \"#bd3786\"], [0.5555555555555556, \"#d8576b\"], [0.6666666666666666, \"#ed7953\"], [0.7777777777777778, \"#fb9f3a\"], [0.8888888888888888, \"#fdca26\"], [1.0, \"#f0f921\"]], \"type\": \"surface\"}], \"table\": [{\"cells\": {\"fill\": {\"color\": \"#EBF0F8\"}, \"line\": {\"color\": \"white\"}}, \"header\": {\"fill\": {\"color\": \"#C8D4E3\"}, \"line\": {\"color\": \"white\"}}, \"type\": \"table\"}]}, \"layout\": {\"annotationdefaults\": {\"arrowcolor\": \"#2a3f5f\", \"arrowhead\": 0, \"arrowwidth\": 1}, \"coloraxis\": {\"colorbar\": {\"outlinewidth\": 0, \"ticks\": \"\"}}, \"colorscale\": {\"diverging\": [[0, \"#8e0152\"], [0.1, \"#c51b7d\"], [0.2, \"#de77ae\"], [0.3, \"#f1b6da\"], [0.4, \"#fde0ef\"], [0.5, \"#f7f7f7\"], [0.6, \"#e6f5d0\"], [0.7, \"#b8e186\"], [0.8, \"#7fbc41\"], [0.9, \"#4d9221\"], [1, \"#276419\"]], \"sequential\": [[0.0, \"#0d0887\"], [0.1111111111111111, \"#46039f\"], [0.2222222222222222, \"#7201a8\"], [0.3333333333333333, \"#9c179e\"], [0.4444444444444444, \"#bd3786\"], [0.5555555555555556, \"#d8576b\"], [0.6666666666666666, \"#ed7953\"], [0.7777777777777778, \"#fb9f3a\"], [0.8888888888888888, \"#fdca26\"], [1.0, \"#f0f921\"]], \"sequentialminus\": [[0.0, \"#0d0887\"], [0.1111111111111111, \"#46039f\"], [0.2222222222222222, \"#7201a8\"], [0.3333333333333333, \"#9c179e\"], [0.4444444444444444, \"#bd3786\"], [0.5555555555555556, \"#d8576b\"], [0.6666666666666666, \"#ed7953\"], [0.7777777777777778, \"#fb9f3a\"], [0.8888888888888888, \"#fdca26\"], [1.0, \"#f0f921\"]]}, \"colorway\": [\"#636efa\", \"#EF553B\", \"#00cc96\", \"#ab63fa\", \"#FFA15A\", \"#19d3f3\", \"#FF6692\", \"#B6E880\", \"#FF97FF\", \"#FECB52\"], \"font\": {\"color\": \"#2a3f5f\"}, \"geo\": {\"bgcolor\": \"white\", \"lakecolor\": \"white\", \"landcolor\": \"#E5ECF6\", \"showlakes\": true, \"showland\": true, \"subunitcolor\": \"white\"}, \"hoverlabel\": {\"align\": \"left\"}, \"hovermode\": \"closest\", \"mapbox\": {\"style\": \"light\"}, \"paper_bgcolor\": \"white\", \"plot_bgcolor\": \"#E5ECF6\", \"polar\": {\"angularaxis\": {\"gridcolor\": \"white\", \"linecolor\": \"white\", \"ticks\": \"\"}, \"bgcolor\": \"#E5ECF6\", \"radialaxis\": {\"gridcolor\": \"white\", \"linecolor\": \"white\", \"ticks\": \"\"}}, \"scene\": {\"xaxis\": {\"backgroundcolor\": \"#E5ECF6\", \"gridcolor\": \"white\", \"gridwidth\": 2, \"linecolor\": \"white\", \"showbackground\": true, \"ticks\": \"\", \"zerolinecolor\": \"white\"}, \"yaxis\": {\"backgroundcolor\": \"#E5ECF6\", \"gridcolor\": \"white\", \"gridwidth\": 2, \"linecolor\": \"white\", \"showbackground\": true, \"ticks\": \"\", \"zerolinecolor\": \"white\"}, \"zaxis\": {\"backgroundcolor\": \"#E5ECF6\", \"gridcolor\": \"white\", \"gridwidth\": 2, \"linecolor\": \"white\", \"showbackground\": true, \"ticks\": \"\", \"zerolinecolor\": \"white\"}}, \"shapedefaults\": {\"line\": {\"color\": \"#2a3f5f\"}}, \"ternary\": {\"aaxis\": {\"gridcolor\": \"white\", \"linecolor\": \"white\", \"ticks\": \"\"}, \"baxis\": {\"gridcolor\": \"white\", \"linecolor\": \"white\", \"ticks\": \"\"}, \"bgcolor\": \"#E5ECF6\", \"caxis\": {\"gridcolor\": \"white\", \"linecolor\": \"white\", \"ticks\": \"\"}}, \"title\": {\"x\": 0.05}, \"xaxis\": {\"automargin\": true, \"gridcolor\": \"white\", \"linecolor\": \"white\", \"ticks\": \"\", \"title\": {\"standoff\": 15}, \"zerolinecolor\": \"white\", \"zerolinewidth\": 2}, \"yaxis\": {\"automargin\": true, \"gridcolor\": \"white\", \"linecolor\": \"white\", \"ticks\": \"\", \"title\": {\"standoff\": 15}, \"zerolinecolor\": \"white\", \"zerolinewidth\": 2}}}, \"xaxis\": {\"anchor\": \"y\", \"domain\": [0.0, 1.0], \"title\": {\"text\": \"beer_abv\"}}, \"yaxis\": {\"anchor\": \"x\", \"domain\": [0.0, 1.0], \"title\": {\"text\": \"review_mean\"}}},\n",
       "                        {\"responsive\": true}\n",
       "                    ).then(function(){\n",
       "                            \n",
       "var gd = document.getElementById('350cdf75-3df7-4409-955e-6846990ee164');\n",
       "var x = new MutationObserver(function (mutations, observer) {{\n",
       "        var display = window.getComputedStyle(gd).display;\n",
       "        if (!display || display === 'none') {{\n",
       "            console.log([gd, 'removed!']);\n",
       "            Plotly.purge(gd);\n",
       "            observer.disconnect();\n",
       "        }}\n",
       "}});\n",
       "\n",
       "// Listen for the removal of the full notebook cells\n",
       "var notebookContainer = gd.closest('#notebook-container');\n",
       "if (notebookContainer) {{\n",
       "    x.observe(notebookContainer, {childList: true});\n",
       "}}\n",
       "\n",
       "// Listen for the clearing of the current output cell\n",
       "var outputEl = gd.closest('.output');\n",
       "if (outputEl) {{\n",
       "    x.observe(outputEl, {childList: true});\n",
       "}}\n",
       "\n",
       "                        })\n",
       "                };\n",
       "                });\n",
       "            </script>\n",
       "        </div>"
      ]
     },
     "metadata": {},
     "output_type": "display_data"
    }
   ],
   "source": [
    "fig = px.scatter(df_ml[df_ml['beer_abv']<13], x=\"beer_abv\", y=\"review_mean\", height=800)\n",
    "fig.show()"
   ]
  },
  {
   "cell_type": "code",
   "execution_count": 384,
   "metadata": {},
   "outputs": [
    {
     "data": {
      "text/plain": [
       "0.8167743326148521"
      ]
     },
     "execution_count": 384,
     "metadata": {},
     "output_type": "execute_result"
    }
   ],
   "source": [
    "reg = LinearRegression().fit(X_train, y_train)\n",
    "reg.score(X_train, y_train)"
   ]
  },
  {
   "cell_type": "code",
   "execution_count": 391,
   "metadata": {},
   "outputs": [
    {
     "name": "stdout",
     "output_type": "stream",
     "text": [
      "0.28116901422152896\n",
      "0.684578361149765\n",
      "0.3927831786428722\n",
      "0.3137881703834138\n"
     ]
    }
   ],
   "source": [
    "mlp = MLPRegressor(hidden_layer_sizes=(128, 256, 256,), activation='relu', solver='adam', alpha=0.02, batch_size=200,\n",
    "                   learning_rate='constant', learning_rate_init=0.01, power_t=0.5, max_iter=1000, shuffle=True,\n",
    "                   random_state=10, tol=0.0001, verbose=False, warm_start=False, momentum=0.9, nesterovs_momentum=True,\n",
    "                   early_stopping=False, validation_fraction=0.1, beta_1=0.9, beta_2=0.999,\n",
    "                   epsilon=1e-08, n_iter_no_change=10, max_fun=15000).fit(X_train, y_train)\n",
    "\n",
    "pred_train_mlp = mlp.predict(X_train)\n",
    "print(np.sqrt(mean_squared_error(y_train,pred_train_mlp)))\n",
    "print(r2_score(y_train, pred_train_mlp))\n",
    "\n",
    "pred_test_mlp = mlp.predict(X_test)\n",
    "print(np.sqrt(mean_squared_error(y_test,pred_test_mlp))) \n",
    "print(r2_score(y_test, pred_test_mlp))\n",
    "\n",
    "#fig = px.scatter(x=df_ml[df_ml['beer_abv']<20].beer_abv, y=pred_train_mlp, height=800)\n",
    "#fig.show()\n"
   ]
  },
  {
   "cell_type": "code",
   "execution_count": 280,
   "metadata": {},
   "outputs": [
    {
     "name": "stdout",
     "output_type": "stream",
     "text": [
      "0.7466306225552394\n",
      "0.4425427134627756\n",
      "0.7037628891364966\n",
      "0.5047177958742514\n"
     ]
    }
   ],
   "source": [
    "# dtree = DecisionTreeRegressor(max_depth=5, min_samples_leaf=0.13, random_state=3)\n",
    "dtree.fit(X_train, y_train)\n",
    "pred_train_tree= dtree.predict(X_train)\n",
    "print(np.sqrt(mean_squared_error(y_train,pred_train_tree)))\n",
    "print(r2_score(y_train, pred_train_tree))\n",
    "\n",
    "pred_test_tree= dtree.predict(X_test)\n",
    "print(np.sqrt(mean_squared_error(y_test,pred_test_tree))) \n",
    "print(r2_score(y_test, pred_test_tree))"
   ]
  },
  {
   "cell_type": "code",
   "execution_count": 385,
   "metadata": {},
   "outputs": [
    {
     "name": "stdout",
     "output_type": "stream",
     "text": [
      "0.14265131835419445\n",
      "0.9188089520983078\n",
      "0.32622266058114624\n",
      "0.5266518429248781\n"
     ]
    }
   ],
   "source": [
    "model_rf = RandomForestRegressor(n_estimators=100, oob_score=True, random_state=42)\n",
    "model_rf.fit(X_train, y_train) \n",
    "pred_train_rf= model_rf.predict(X_train)\n",
    "print(np.sqrt(mean_squared_error(y_train,pred_train_rf)))\n",
    "print(r2_score(y_train, pred_train_rf))\n",
    "\n",
    "pred_test_rf = model_rf.predict(X_test)\n",
    "print(np.sqrt(mean_squared_error(y_test,pred_test_rf)))\n",
    "print(r2_score(y_test, pred_test_rf))"
   ]
  },
  {
   "cell_type": "code",
   "execution_count": 388,
   "metadata": {},
   "outputs": [],
   "source": [
    "df_test = pd.DataFrame(data=X_test)\n",
    "df_train = pd.DataFrame(data=X_train)"
   ]
  },
  {
   "cell_type": "code",
   "execution_count": 390,
   "metadata": {},
   "outputs": [
    {
     "data": {
      "application/vnd.plotly.v1+json": {
       "config": {
        "plotlyServerURL": "https://plot.ly"
       },
       "data": [
        {
         "hovertemplate": "x=%{x}<br>y=%{y}<extra></extra>",
         "legendgroup": "",
         "marker": {
          "color": "#636efa",
          "symbol": "circle"
         },
         "mode": "markers",
         "name": "",
         "showlegend": false,
         "type": "scatter",
         "x": [
          4.76,
          7.08,
          6.24,
          3.9,
          4.2,
          8.69,
          4.25,
          5.27,
          5.21,
          8.75,
          0.7,
          9.74,
          4.62,
          4.17,
          9.18,
          5.54,
          3.4,
          6.95,
          7.15,
          5.69,
          1.3,
          6.42,
          8.03,
          0.01,
          4.65,
          8.85,
          4.31,
          2.9,
          6.19,
          7.45,
          4.38,
          8.17,
          8.24,
          3.88,
          4.3,
          7.99,
          6.71,
          5.44,
          7.83,
          4.97,
          2.25,
          7.74,
          3.8,
          9.7,
          5.16,
          4.29,
          4.51,
          3.54,
          7.82,
          4.35,
          6.4,
          3.22,
          6.45,
          4.46,
          2.7,
          7.24,
          5.52,
          6.11,
          5.38,
          5.28,
          2.1,
          2.75,
          9.71,
          4.8,
          6.87,
          5.13,
          7.9,
          9.85,
          5.48,
          5.07,
          0.3,
          3.53,
          9.62,
          8.74,
          6,
          9.05,
          8.3,
          4.98,
          0.1,
          1.7,
          6.72,
          4.75,
          5.47,
          4.06,
          6.35,
          4.5,
          9.9,
          4.88,
          9.15,
          5.68,
          4.78,
          7.07,
          6.88,
          8.41,
          9.2,
          6.6,
          7.2,
          4.28,
          8.19,
          4.69,
          1.4,
          4.13,
          9.46,
          0.45,
          1.8,
          5.98,
          8.66,
          8.47,
          4.72,
          5.53,
          7.3,
          9.61,
          8.72,
          3.99,
          4.32,
          7.17,
          9.35,
          6.58,
          8.12,
          4.7,
          1.5,
          5.39,
          2.2,
          4.9,
          9.96,
          7.5,
          5.04,
          7.71,
          7.77,
          5.24,
          5.85,
          6.27
         ],
         "xaxis": "x",
         "y": [
          3.4161327195162396,
          4.044528483004128,
          4.131125564248007,
          3.506073460111821,
          3.347403214501792,
          3.926064338560602,
          3.3787596980631607,
          3.605062810199496,
          3.5804883855370417,
          3.9560234713012545,
          2.6791851724016693,
          3.9852026170434205,
          3.5678391702163093,
          2.743428523246304,
          3.7566136975077726,
          3.5662776886182814,
          3.341547314143416,
          3.854105432280172,
          3.97209805416282,
          3.6147887032859525,
          2.8548635944105847,
          3.9413225908488716,
          3.9875497469260277,
          1.9483821923155136,
          3.061318420052663,
          3.8971808343153787,
          3.2121184762904558,
          3.1665707830563155,
          3.813750334679481,
          3.9247296268950236,
          3.417363796288949,
          3.9610025546477488,
          3.9550159716021223,
          2.68523935742972,
          3.441550416423581,
          4.00620637746928,
          3.964466976262959,
          3.57480989216628,
          4.121101123588096,
          3.5299908062065324,
          3.0745086425937598,
          3.858592161474137,
          3.381982034454126,
          3.9654480585858796,
          3.5510051979235464,
          2.904143758584121,
          3.3292214763661874,
          3.397784099562108,
          3.966007826087499,
          3.2835998629773804,
          3.8602893819929225,
          2.984204718453052,
          4.002878827962249,
          3.530762503826817,
          2.812606439039019,
          3.928169635492223,
          3.7406162928371667,
          3.660618860499444,
          3.6832142148503095,
          3.542989195184727,
          2.7506043106201408,
          3.3934554807477664,
          4.008434363715074,
          3.6206338498624215,
          4.010014743589745,
          3.536789084518261,
          3.9122026155677543,
          4.029065296119658,
          3.712717563908441,
          3.582852087981612,
          2.201663371231989,
          3.255008105495631,
          3.799371463211607,
          3.9415324431932595,
          3.7804062870014743,
          3.997862603982022,
          3.9500005590150136,
          3.4478261223607922,
          1.8599059785451817,
          3.250088637559659,
          3.9969134466741,
          3.6029652058869335,
          3.5466019704028264,
          2.7741396343574154,
          4.017508152841178,
          3.4593598867925386,
          4.043981301977983,
          3.617437745335681,
          3.9731285983858795,
          3.5983460343213833,
          3.096637774116601,
          4.0015559523809525,
          4.001784946524514,
          3.833208729270357,
          3.9486536950550435,
          3.812870825326255,
          3.9164564284740466,
          3.0448818256985493,
          4.108261450235633,
          3.4465835247593954,
          2.8339668474192465,
          2.720816669837088,
          3.7635684662327673,
          2.321543180422263,
          3.0756783806070955,
          3.873908395015337,
          3.681784145914744,
          3.839156631860452,
          2.9989044017989333,
          3.6070977614649866,
          3.9665262781140043,
          4.025993496380941,
          3.6799572580428914,
          3.2473477470540115,
          3.3582082982864283,
          3.8768234498033274,
          3.771252403099335,
          3.933816052033075,
          3.9137449858208897,
          3.415103401939262,
          2.6263335821966725,
          3.710337483502502,
          3.08949220558119,
          3.626375809133096,
          3.832314186574538,
          3.8906566806076195,
          3.5718188367032595,
          3.7611936508531296,
          3.882029435887302,
          3.559405129090253,
          3.7231359657876224,
          4.185295548682253
         ],
         "yaxis": "y"
        }
       ],
       "layout": {
        "autosize": true,
        "legend": {
         "tracegroupgap": 0
        },
        "margin": {
         "t": 60
        },
        "template": {
         "data": {
          "bar": [
           {
            "error_x": {
             "color": "#2a3f5f"
            },
            "error_y": {
             "color": "#2a3f5f"
            },
            "marker": {
             "line": {
              "color": "#E5ECF6",
              "width": 0.5
             }
            },
            "type": "bar"
           }
          ],
          "barpolar": [
           {
            "marker": {
             "line": {
              "color": "#E5ECF6",
              "width": 0.5
             }
            },
            "type": "barpolar"
           }
          ],
          "carpet": [
           {
            "aaxis": {
             "endlinecolor": "#2a3f5f",
             "gridcolor": "white",
             "linecolor": "white",
             "minorgridcolor": "white",
             "startlinecolor": "#2a3f5f"
            },
            "baxis": {
             "endlinecolor": "#2a3f5f",
             "gridcolor": "white",
             "linecolor": "white",
             "minorgridcolor": "white",
             "startlinecolor": "#2a3f5f"
            },
            "type": "carpet"
           }
          ],
          "choropleth": [
           {
            "colorbar": {
             "outlinewidth": 0,
             "ticks": ""
            },
            "type": "choropleth"
           }
          ],
          "contour": [
           {
            "colorbar": {
             "outlinewidth": 0,
             "ticks": ""
            },
            "colorscale": [
             [
              0,
              "#0d0887"
             ],
             [
              0.1111111111111111,
              "#46039f"
             ],
             [
              0.2222222222222222,
              "#7201a8"
             ],
             [
              0.3333333333333333,
              "#9c179e"
             ],
             [
              0.4444444444444444,
              "#bd3786"
             ],
             [
              0.5555555555555556,
              "#d8576b"
             ],
             [
              0.6666666666666666,
              "#ed7953"
             ],
             [
              0.7777777777777778,
              "#fb9f3a"
             ],
             [
              0.8888888888888888,
              "#fdca26"
             ],
             [
              1,
              "#f0f921"
             ]
            ],
            "type": "contour"
           }
          ],
          "contourcarpet": [
           {
            "colorbar": {
             "outlinewidth": 0,
             "ticks": ""
            },
            "type": "contourcarpet"
           }
          ],
          "heatmap": [
           {
            "colorbar": {
             "outlinewidth": 0,
             "ticks": ""
            },
            "colorscale": [
             [
              0,
              "#0d0887"
             ],
             [
              0.1111111111111111,
              "#46039f"
             ],
             [
              0.2222222222222222,
              "#7201a8"
             ],
             [
              0.3333333333333333,
              "#9c179e"
             ],
             [
              0.4444444444444444,
              "#bd3786"
             ],
             [
              0.5555555555555556,
              "#d8576b"
             ],
             [
              0.6666666666666666,
              "#ed7953"
             ],
             [
              0.7777777777777778,
              "#fb9f3a"
             ],
             [
              0.8888888888888888,
              "#fdca26"
             ],
             [
              1,
              "#f0f921"
             ]
            ],
            "type": "heatmap"
           }
          ],
          "heatmapgl": [
           {
            "colorbar": {
             "outlinewidth": 0,
             "ticks": ""
            },
            "colorscale": [
             [
              0,
              "#0d0887"
             ],
             [
              0.1111111111111111,
              "#46039f"
             ],
             [
              0.2222222222222222,
              "#7201a8"
             ],
             [
              0.3333333333333333,
              "#9c179e"
             ],
             [
              0.4444444444444444,
              "#bd3786"
             ],
             [
              0.5555555555555556,
              "#d8576b"
             ],
             [
              0.6666666666666666,
              "#ed7953"
             ],
             [
              0.7777777777777778,
              "#fb9f3a"
             ],
             [
              0.8888888888888888,
              "#fdca26"
             ],
             [
              1,
              "#f0f921"
             ]
            ],
            "type": "heatmapgl"
           }
          ],
          "histogram": [
           {
            "marker": {
             "colorbar": {
              "outlinewidth": 0,
              "ticks": ""
             }
            },
            "type": "histogram"
           }
          ],
          "histogram2d": [
           {
            "colorbar": {
             "outlinewidth": 0,
             "ticks": ""
            },
            "colorscale": [
             [
              0,
              "#0d0887"
             ],
             [
              0.1111111111111111,
              "#46039f"
             ],
             [
              0.2222222222222222,
              "#7201a8"
             ],
             [
              0.3333333333333333,
              "#9c179e"
             ],
             [
              0.4444444444444444,
              "#bd3786"
             ],
             [
              0.5555555555555556,
              "#d8576b"
             ],
             [
              0.6666666666666666,
              "#ed7953"
             ],
             [
              0.7777777777777778,
              "#fb9f3a"
             ],
             [
              0.8888888888888888,
              "#fdca26"
             ],
             [
              1,
              "#f0f921"
             ]
            ],
            "type": "histogram2d"
           }
          ],
          "histogram2dcontour": [
           {
            "colorbar": {
             "outlinewidth": 0,
             "ticks": ""
            },
            "colorscale": [
             [
              0,
              "#0d0887"
             ],
             [
              0.1111111111111111,
              "#46039f"
             ],
             [
              0.2222222222222222,
              "#7201a8"
             ],
             [
              0.3333333333333333,
              "#9c179e"
             ],
             [
              0.4444444444444444,
              "#bd3786"
             ],
             [
              0.5555555555555556,
              "#d8576b"
             ],
             [
              0.6666666666666666,
              "#ed7953"
             ],
             [
              0.7777777777777778,
              "#fb9f3a"
             ],
             [
              0.8888888888888888,
              "#fdca26"
             ],
             [
              1,
              "#f0f921"
             ]
            ],
            "type": "histogram2dcontour"
           }
          ],
          "mesh3d": [
           {
            "colorbar": {
             "outlinewidth": 0,
             "ticks": ""
            },
            "type": "mesh3d"
           }
          ],
          "parcoords": [
           {
            "line": {
             "colorbar": {
              "outlinewidth": 0,
              "ticks": ""
             }
            },
            "type": "parcoords"
           }
          ],
          "pie": [
           {
            "automargin": true,
            "type": "pie"
           }
          ],
          "scatter": [
           {
            "marker": {
             "colorbar": {
              "outlinewidth": 0,
              "ticks": ""
             }
            },
            "type": "scatter"
           }
          ],
          "scatter3d": [
           {
            "line": {
             "colorbar": {
              "outlinewidth": 0,
              "ticks": ""
             }
            },
            "marker": {
             "colorbar": {
              "outlinewidth": 0,
              "ticks": ""
             }
            },
            "type": "scatter3d"
           }
          ],
          "scattercarpet": [
           {
            "marker": {
             "colorbar": {
              "outlinewidth": 0,
              "ticks": ""
             }
            },
            "type": "scattercarpet"
           }
          ],
          "scattergeo": [
           {
            "marker": {
             "colorbar": {
              "outlinewidth": 0,
              "ticks": ""
             }
            },
            "type": "scattergeo"
           }
          ],
          "scattergl": [
           {
            "marker": {
             "colorbar": {
              "outlinewidth": 0,
              "ticks": ""
             }
            },
            "type": "scattergl"
           }
          ],
          "scattermapbox": [
           {
            "marker": {
             "colorbar": {
              "outlinewidth": 0,
              "ticks": ""
             }
            },
            "type": "scattermapbox"
           }
          ],
          "scatterpolar": [
           {
            "marker": {
             "colorbar": {
              "outlinewidth": 0,
              "ticks": ""
             }
            },
            "type": "scatterpolar"
           }
          ],
          "scatterpolargl": [
           {
            "marker": {
             "colorbar": {
              "outlinewidth": 0,
              "ticks": ""
             }
            },
            "type": "scatterpolargl"
           }
          ],
          "scatterternary": [
           {
            "marker": {
             "colorbar": {
              "outlinewidth": 0,
              "ticks": ""
             }
            },
            "type": "scatterternary"
           }
          ],
          "surface": [
           {
            "colorbar": {
             "outlinewidth": 0,
             "ticks": ""
            },
            "colorscale": [
             [
              0,
              "#0d0887"
             ],
             [
              0.1111111111111111,
              "#46039f"
             ],
             [
              0.2222222222222222,
              "#7201a8"
             ],
             [
              0.3333333333333333,
              "#9c179e"
             ],
             [
              0.4444444444444444,
              "#bd3786"
             ],
             [
              0.5555555555555556,
              "#d8576b"
             ],
             [
              0.6666666666666666,
              "#ed7953"
             ],
             [
              0.7777777777777778,
              "#fb9f3a"
             ],
             [
              0.8888888888888888,
              "#fdca26"
             ],
             [
              1,
              "#f0f921"
             ]
            ],
            "type": "surface"
           }
          ],
          "table": [
           {
            "cells": {
             "fill": {
              "color": "#EBF0F8"
             },
             "line": {
              "color": "white"
             }
            },
            "header": {
             "fill": {
              "color": "#C8D4E3"
             },
             "line": {
              "color": "white"
             }
            },
            "type": "table"
           }
          ]
         },
         "layout": {
          "annotationdefaults": {
           "arrowcolor": "#2a3f5f",
           "arrowhead": 0,
           "arrowwidth": 1
          },
          "coloraxis": {
           "colorbar": {
            "outlinewidth": 0,
            "ticks": ""
           }
          },
          "colorscale": {
           "diverging": [
            [
             0,
             "#8e0152"
            ],
            [
             0.1,
             "#c51b7d"
            ],
            [
             0.2,
             "#de77ae"
            ],
            [
             0.3,
             "#f1b6da"
            ],
            [
             0.4,
             "#fde0ef"
            ],
            [
             0.5,
             "#f7f7f7"
            ],
            [
             0.6,
             "#e6f5d0"
            ],
            [
             0.7,
             "#b8e186"
            ],
            [
             0.8,
             "#7fbc41"
            ],
            [
             0.9,
             "#4d9221"
            ],
            [
             1,
             "#276419"
            ]
           ],
           "sequential": [
            [
             0,
             "#0d0887"
            ],
            [
             0.1111111111111111,
             "#46039f"
            ],
            [
             0.2222222222222222,
             "#7201a8"
            ],
            [
             0.3333333333333333,
             "#9c179e"
            ],
            [
             0.4444444444444444,
             "#bd3786"
            ],
            [
             0.5555555555555556,
             "#d8576b"
            ],
            [
             0.6666666666666666,
             "#ed7953"
            ],
            [
             0.7777777777777778,
             "#fb9f3a"
            ],
            [
             0.8888888888888888,
             "#fdca26"
            ],
            [
             1,
             "#f0f921"
            ]
           ],
           "sequentialminus": [
            [
             0,
             "#0d0887"
            ],
            [
             0.1111111111111111,
             "#46039f"
            ],
            [
             0.2222222222222222,
             "#7201a8"
            ],
            [
             0.3333333333333333,
             "#9c179e"
            ],
            [
             0.4444444444444444,
             "#bd3786"
            ],
            [
             0.5555555555555556,
             "#d8576b"
            ],
            [
             0.6666666666666666,
             "#ed7953"
            ],
            [
             0.7777777777777778,
             "#fb9f3a"
            ],
            [
             0.8888888888888888,
             "#fdca26"
            ],
            [
             1,
             "#f0f921"
            ]
           ]
          },
          "colorway": [
           "#636efa",
           "#EF553B",
           "#00cc96",
           "#ab63fa",
           "#FFA15A",
           "#19d3f3",
           "#FF6692",
           "#B6E880",
           "#FF97FF",
           "#FECB52"
          ],
          "font": {
           "color": "#2a3f5f"
          },
          "geo": {
           "bgcolor": "white",
           "lakecolor": "white",
           "landcolor": "#E5ECF6",
           "showlakes": true,
           "showland": true,
           "subunitcolor": "white"
          },
          "hoverlabel": {
           "align": "left"
          },
          "hovermode": "closest",
          "mapbox": {
           "style": "light"
          },
          "paper_bgcolor": "white",
          "plot_bgcolor": "#E5ECF6",
          "polar": {
           "angularaxis": {
            "gridcolor": "white",
            "linecolor": "white",
            "ticks": ""
           },
           "bgcolor": "#E5ECF6",
           "radialaxis": {
            "gridcolor": "white",
            "linecolor": "white",
            "ticks": ""
           }
          },
          "scene": {
           "xaxis": {
            "backgroundcolor": "#E5ECF6",
            "gridcolor": "white",
            "gridwidth": 2,
            "linecolor": "white",
            "showbackground": true,
            "ticks": "",
            "zerolinecolor": "white"
           },
           "yaxis": {
            "backgroundcolor": "#E5ECF6",
            "gridcolor": "white",
            "gridwidth": 2,
            "linecolor": "white",
            "showbackground": true,
            "ticks": "",
            "zerolinecolor": "white"
           },
           "zaxis": {
            "backgroundcolor": "#E5ECF6",
            "gridcolor": "white",
            "gridwidth": 2,
            "linecolor": "white",
            "showbackground": true,
            "ticks": "",
            "zerolinecolor": "white"
           }
          },
          "shapedefaults": {
           "line": {
            "color": "#2a3f5f"
           }
          },
          "ternary": {
           "aaxis": {
            "gridcolor": "white",
            "linecolor": "white",
            "ticks": ""
           },
           "baxis": {
            "gridcolor": "white",
            "linecolor": "white",
            "ticks": ""
           },
           "bgcolor": "#E5ECF6",
           "caxis": {
            "gridcolor": "white",
            "linecolor": "white",
            "ticks": ""
           }
          },
          "title": {
           "x": 0.05
          },
          "xaxis": {
           "automargin": true,
           "gridcolor": "white",
           "linecolor": "white",
           "ticks": "",
           "title": {
            "standoff": 15
           },
           "zerolinecolor": "white",
           "zerolinewidth": 2
          },
          "yaxis": {
           "automargin": true,
           "gridcolor": "white",
           "linecolor": "white",
           "ticks": "",
           "title": {
            "standoff": 15
           },
           "zerolinecolor": "white",
           "zerolinewidth": 2
          }
         }
        },
        "xaxis": {
         "anchor": "y",
         "autorange": true,
         "domain": [
          0,
          1
         ],
         "range": [
          -0.5822280902083927,
          10.552228090208393
         ],
         "title": {
          "text": "x"
         },
         "type": "linear"
        },
        "yaxis": {
         "anchor": "x",
         "autorange": true,
         "domain": [
          0,
          1
         ],
         "range": [
          1.714197424917667,
          4.331004102309768
         ],
         "title": {
          "text": "y"
         },
         "type": "linear"
        }
       }
      },
      "image/png": "[encoded data removed]",
      "text/html": [
       "<div>\n",
       "        \n",
       "        \n",
       "            <div id=\"32dd8e3a-bc11-4e29-a498-4de980a507d2\" class=\"plotly-graph-div\" style=\"height:800px; width:100%;\"></div>\n",
       "            <script type=\"text/javascript\">\n",
       "                require([\"plotly\"], function(Plotly) {\n",
       "                    window.PLOTLYENV=window.PLOTLYENV || {};\n",
       "                    \n",
       "                if (document.getElementById(\"32dd8e3a-bc11-4e29-a498-4de980a507d2\")) {\n",
       "                    Plotly.newPlot(\n",
       "                        '32dd8e3a-bc11-4e29-a498-4de980a507d2',\n",
       "                        [{\"hovertemplate\": \"x=%{x}<br>y=%{y}<extra></extra>\", \"legendgroup\": \"\", \"marker\": {\"color\": \"#636efa\", \"symbol\": \"circle\"}, \"mode\": \"markers\", \"name\": \"\", \"showlegend\": false, \"type\": \"scatter\", \"x\": [4.76, 7.08, 6.24, 3.9, 4.2, 8.69, 4.25, 5.27, 5.21, 8.75, 0.7, 9.74, 4.62, 4.17, 9.18, 5.54, 3.4, 6.95, 7.15, 5.69, 1.3, 6.42, 8.03, 0.01, 4.65, 8.85, 4.31, 2.9, 6.19, 7.45, 4.38, 8.17, 8.24, 3.88, 4.3, 7.99, 6.71, 5.44, 7.83, 4.97, 2.25, 7.74, 3.8, 9.7, 5.16, 4.29, 4.51, 3.54, 7.82, 4.35, 6.4, 3.22, 6.45, 4.46, 2.7, 7.24, 5.52, 6.11, 5.38, 5.28, 2.1, 2.75, 9.71, 4.8, 6.87, 5.13, 7.9, 9.85, 5.48, 5.07, 0.3, 3.53, 9.62, 8.74, 6.0, 9.05, 8.3, 4.98, 0.1, 1.7, 6.72, 4.75, 5.47, 4.06, 6.35, 4.5, 9.9, 4.88, 9.15, 5.68, 4.78, 7.07, 6.88, 8.41, 9.2, 6.6, 7.2, 4.28, 8.19, 4.69, 1.4, 4.13, 9.46, 0.45, 1.8, 5.98, 8.66, 8.47, 4.72, 5.53, 7.3, 9.61, 8.72, 3.99, 4.32, 7.17, 9.35, 6.58, 8.12, 4.7, 1.5, 5.39, 2.2, 4.9, 9.96, 7.5, 5.04, 7.71, 7.77, 5.24, 5.85, 6.27], \"xaxis\": \"x\", \"y\": [3.4161327195162396, 4.044528483004128, 4.131125564248007, 3.506073460111821, 3.347403214501792, 3.926064338560602, 3.3787596980631607, 3.605062810199496, 3.5804883855370417, 3.9560234713012545, 2.6791851724016693, 3.9852026170434205, 3.5678391702163093, 2.743428523246304, 3.7566136975077726, 3.5662776886182814, 3.341547314143416, 3.854105432280172, 3.97209805416282, 3.6147887032859525, 2.8548635944105847, 3.9413225908488716, 3.9875497469260277, 1.9483821923155136, 3.061318420052663, 3.8971808343153787, 3.2121184762904558, 3.1665707830563155, 3.813750334679481, 3.9247296268950236, 3.417363796288949, 3.9610025546477488, 3.9550159716021223, 2.68523935742972, 3.441550416423581, 4.00620637746928, 3.964466976262959, 3.57480989216628, 4.121101123588096, 3.5299908062065324, 3.0745086425937598, 3.858592161474137, 3.381982034454126, 3.9654480585858796, 3.5510051979235464, 2.904143758584121, 3.3292214763661874, 3.397784099562108, 3.966007826087499, 3.2835998629773804, 3.8602893819929225, 2.984204718453052, 4.002878827962249, 3.530762503826817, 2.812606439039019, 3.928169635492223, 3.7406162928371667, 3.660618860499444, 3.6832142148503095, 3.542989195184727, 2.7506043106201408, 3.3934554807477664, 4.008434363715074, 3.6206338498624215, 4.010014743589745, 3.536789084518261, 3.9122026155677543, 4.029065296119658, 3.712717563908441, 3.582852087981612, 2.201663371231989, 3.255008105495631, 3.799371463211607, 3.9415324431932595, 3.7804062870014743, 3.997862603982022, 3.9500005590150136, 3.4478261223607922, 1.8599059785451817, 3.250088637559659, 3.9969134466741, 3.6029652058869335, 3.5466019704028264, 2.7741396343574154, 4.017508152841178, 3.4593598867925386, 4.043981301977983, 3.617437745335681, 3.9731285983858795, 3.5983460343213833, 3.096637774116601, 4.0015559523809525, 4.001784946524514, 3.833208729270357, 3.9486536950550435, 3.812870825326255, 3.9164564284740466, 3.0448818256985493, 4.108261450235633, 3.4465835247593954, 2.8339668474192465, 2.720816669837088, 3.7635684662327673, 2.321543180422263, 3.0756783806070955, 3.873908395015337, 3.681784145914744, 3.839156631860452, 2.9989044017989333, 3.6070977614649866, 3.9665262781140043, 4.025993496380941, 3.6799572580428914, 3.2473477470540115, 3.3582082982864283, 3.8768234498033274, 3.771252403099335, 3.933816052033075, 3.9137449858208897, 3.415103401939262, 2.6263335821966725, 3.710337483502502, 3.08949220558119, 3.626375809133096, 3.832314186574538, 3.8906566806076195, 3.5718188367032595, 3.7611936508531296, 3.882029435887302, 3.559405129090253, 3.7231359657876224, 4.185295548682253], \"yaxis\": \"y\"}],\n",
       "                        {\"height\": 800, \"legend\": {\"tracegroupgap\": 0}, \"margin\": {\"t\": 60}, \"template\": {\"data\": {\"bar\": [{\"error_x\": {\"color\": \"#2a3f5f\"}, \"error_y\": {\"color\": \"#2a3f5f\"}, \"marker\": {\"line\": {\"color\": \"#E5ECF6\", \"width\": 0.5}}, \"type\": \"bar\"}], \"barpolar\": [{\"marker\": {\"line\": {\"color\": \"#E5ECF6\", \"width\": 0.5}}, \"type\": \"barpolar\"}], \"carpet\": [{\"aaxis\": {\"endlinecolor\": \"#2a3f5f\", \"gridcolor\": \"white\", \"linecolor\": \"white\", \"minorgridcolor\": \"white\", \"startlinecolor\": \"#2a3f5f\"}, \"baxis\": {\"endlinecolor\": \"#2a3f5f\", \"gridcolor\": \"white\", \"linecolor\": \"white\", \"minorgridcolor\": \"white\", \"startlinecolor\": \"#2a3f5f\"}, \"type\": \"carpet\"}], \"choropleth\": [{\"colorbar\": {\"outlinewidth\": 0, \"ticks\": \"\"}, \"type\": \"choropleth\"}], \"contour\": [{\"colorbar\": {\"outlinewidth\": 0, \"ticks\": \"\"}, \"colorscale\": [[0.0, \"#0d0887\"], [0.1111111111111111, \"#46039f\"], [0.2222222222222222, \"#7201a8\"], [0.3333333333333333, \"#9c179e\"], [0.4444444444444444, \"#bd3786\"], [0.5555555555555556, \"#d8576b\"], [0.6666666666666666, \"#ed7953\"], [0.7777777777777778, \"#fb9f3a\"], [0.8888888888888888, \"#fdca26\"], [1.0, \"#f0f921\"]], \"type\": \"contour\"}], \"contourcarpet\": [{\"colorbar\": {\"outlinewidth\": 0, \"ticks\": \"\"}, \"type\": \"contourcarpet\"}], \"heatmap\": [{\"colorbar\": {\"outlinewidth\": 0, \"ticks\": \"\"}, \"colorscale\": [[0.0, \"#0d0887\"], [0.1111111111111111, \"#46039f\"], [0.2222222222222222, \"#7201a8\"], [0.3333333333333333, \"#9c179e\"], [0.4444444444444444, \"#bd3786\"], [0.5555555555555556, \"#d8576b\"], [0.6666666666666666, \"#ed7953\"], [0.7777777777777778, \"#fb9f3a\"], [0.8888888888888888, \"#fdca26\"], [1.0, \"#f0f921\"]], \"type\": \"heatmap\"}], \"heatmapgl\": [{\"colorbar\": {\"outlinewidth\": 0, \"ticks\": \"\"}, \"colorscale\": [[0.0, \"#0d0887\"], [0.1111111111111111, \"#46039f\"], [0.2222222222222222, \"#7201a8\"], [0.3333333333333333, \"#9c179e\"], [0.4444444444444444, \"#bd3786\"], [0.5555555555555556, \"#d8576b\"], [0.6666666666666666, \"#ed7953\"], [0.7777777777777778, \"#fb9f3a\"], [0.8888888888888888, \"#fdca26\"], [1.0, \"#f0f921\"]], \"type\": \"heatmapgl\"}], \"histogram\": [{\"marker\": {\"colorbar\": {\"outlinewidth\": 0, \"ticks\": \"\"}}, \"type\": \"histogram\"}], \"histogram2d\": [{\"colorbar\": {\"outlinewidth\": 0, \"ticks\": \"\"}, \"colorscale\": [[0.0, \"#0d0887\"], [0.1111111111111111, \"#46039f\"], [0.2222222222222222, \"#7201a8\"], [0.3333333333333333, \"#9c179e\"], [0.4444444444444444, \"#bd3786\"], [0.5555555555555556, \"#d8576b\"], [0.6666666666666666, \"#ed7953\"], [0.7777777777777778, \"#fb9f3a\"], [0.8888888888888888, \"#fdca26\"], [1.0, \"#f0f921\"]], \"type\": \"histogram2d\"}], \"histogram2dcontour\": [{\"colorbar\": {\"outlinewidth\": 0, \"ticks\": \"\"}, \"colorscale\": [[0.0, \"#0d0887\"], [0.1111111111111111, \"#46039f\"], [0.2222222222222222, \"#7201a8\"], [0.3333333333333333, \"#9c179e\"], [0.4444444444444444, \"#bd3786\"], [0.5555555555555556, \"#d8576b\"], [0.6666666666666666, \"#ed7953\"], [0.7777777777777778, \"#fb9f3a\"], [0.8888888888888888, \"#fdca26\"], [1.0, \"#f0f921\"]], \"type\": \"histogram2dcontour\"}], \"mesh3d\": [{\"colorbar\": {\"outlinewidth\": 0, \"ticks\": \"\"}, \"type\": \"mesh3d\"}], \"parcoords\": [{\"line\": {\"colorbar\": {\"outlinewidth\": 0, \"ticks\": \"\"}}, \"type\": \"parcoords\"}], \"pie\": [{\"automargin\": true, \"type\": \"pie\"}], \"scatter\": [{\"marker\": {\"colorbar\": {\"outlinewidth\": 0, \"ticks\": \"\"}}, \"type\": \"scatter\"}], \"scatter3d\": [{\"line\": {\"colorbar\": {\"outlinewidth\": 0, \"ticks\": \"\"}}, \"marker\": {\"colorbar\": {\"outlinewidth\": 0, \"ticks\": \"\"}}, \"type\": \"scatter3d\"}], \"scattercarpet\": [{\"marker\": {\"colorbar\": {\"outlinewidth\": 0, \"ticks\": \"\"}}, \"type\": \"scattercarpet\"}], \"scattergeo\": [{\"marker\": {\"colorbar\": {\"outlinewidth\": 0, \"ticks\": \"\"}}, \"type\": \"scattergeo\"}], \"scattergl\": [{\"marker\": {\"colorbar\": {\"outlinewidth\": 0, \"ticks\": \"\"}}, \"type\": \"scattergl\"}], \"scattermapbox\": [{\"marker\": {\"colorbar\": {\"outlinewidth\": 0, \"ticks\": \"\"}}, \"type\": \"scattermapbox\"}], \"scatterpolar\": [{\"marker\": {\"colorbar\": {\"outlinewidth\": 0, \"ticks\": \"\"}}, \"type\": \"scatterpolar\"}], \"scatterpolargl\": [{\"marker\": {\"colorbar\": {\"outlinewidth\": 0, \"ticks\": \"\"}}, \"type\": \"scatterpolargl\"}], \"scatterternary\": [{\"marker\": {\"colorbar\": {\"outlinewidth\": 0, \"ticks\": \"\"}}, \"type\": \"scatterternary\"}], \"surface\": [{\"colorbar\": {\"outlinewidth\": 0, \"ticks\": \"\"}, \"colorscale\": [[0.0, \"#0d0887\"], [0.1111111111111111, \"#46039f\"], [0.2222222222222222, \"#7201a8\"], [0.3333333333333333, \"#9c179e\"], [0.4444444444444444, \"#bd3786\"], [0.5555555555555556, \"#d8576b\"], [0.6666666666666666, \"#ed7953\"], [0.7777777777777778, \"#fb9f3a\"], [0.8888888888888888, \"#fdca26\"], [1.0, \"#f0f921\"]], \"type\": \"surface\"}], \"table\": [{\"cells\": {\"fill\": {\"color\": \"#EBF0F8\"}, \"line\": {\"color\": \"white\"}}, \"header\": {\"fill\": {\"color\": \"#C8D4E3\"}, \"line\": {\"color\": \"white\"}}, \"type\": \"table\"}]}, \"layout\": {\"annotationdefaults\": {\"arrowcolor\": \"#2a3f5f\", \"arrowhead\": 0, \"arrowwidth\": 1}, \"coloraxis\": {\"colorbar\": {\"outlinewidth\": 0, \"ticks\": \"\"}}, \"colorscale\": {\"diverging\": [[0, \"#8e0152\"], [0.1, \"#c51b7d\"], [0.2, \"#de77ae\"], [0.3, \"#f1b6da\"], [0.4, \"#fde0ef\"], [0.5, \"#f7f7f7\"], [0.6, \"#e6f5d0\"], [0.7, \"#b8e186\"], [0.8, \"#7fbc41\"], [0.9, \"#4d9221\"], [1, \"#276419\"]], \"sequential\": [[0.0, \"#0d0887\"], [0.1111111111111111, \"#46039f\"], [0.2222222222222222, \"#7201a8\"], [0.3333333333333333, \"#9c179e\"], [0.4444444444444444, \"#bd3786\"], [0.5555555555555556, \"#d8576b\"], [0.6666666666666666, \"#ed7953\"], [0.7777777777777778, \"#fb9f3a\"], [0.8888888888888888, \"#fdca26\"], [1.0, \"#f0f921\"]], \"sequentialminus\": [[0.0, \"#0d0887\"], [0.1111111111111111, \"#46039f\"], [0.2222222222222222, \"#7201a8\"], [0.3333333333333333, \"#9c179e\"], [0.4444444444444444, \"#bd3786\"], [0.5555555555555556, \"#d8576b\"], [0.6666666666666666, \"#ed7953\"], [0.7777777777777778, \"#fb9f3a\"], [0.8888888888888888, \"#fdca26\"], [1.0, \"#f0f921\"]]}, \"colorway\": [\"#636efa\", \"#EF553B\", \"#00cc96\", \"#ab63fa\", \"#FFA15A\", \"#19d3f3\", \"#FF6692\", \"#B6E880\", \"#FF97FF\", \"#FECB52\"], \"font\": {\"color\": \"#2a3f5f\"}, \"geo\": {\"bgcolor\": \"white\", \"lakecolor\": \"white\", \"landcolor\": \"#E5ECF6\", \"showlakes\": true, \"showland\": true, \"subunitcolor\": \"white\"}, \"hoverlabel\": {\"align\": \"left\"}, \"hovermode\": \"closest\", \"mapbox\": {\"style\": \"light\"}, \"paper_bgcolor\": \"white\", \"plot_bgcolor\": \"#E5ECF6\", \"polar\": {\"angularaxis\": {\"gridcolor\": \"white\", \"linecolor\": \"white\", \"ticks\": \"\"}, \"bgcolor\": \"#E5ECF6\", \"radialaxis\": {\"gridcolor\": \"white\", \"linecolor\": \"white\", \"ticks\": \"\"}}, \"scene\": {\"xaxis\": {\"backgroundcolor\": \"#E5ECF6\", \"gridcolor\": \"white\", \"gridwidth\": 2, \"linecolor\": \"white\", \"showbackground\": true, \"ticks\": \"\", \"zerolinecolor\": \"white\"}, \"yaxis\": {\"backgroundcolor\": \"#E5ECF6\", \"gridcolor\": \"white\", \"gridwidth\": 2, \"linecolor\": \"white\", \"showbackground\": true, \"ticks\": \"\", \"zerolinecolor\": \"white\"}, \"zaxis\": {\"backgroundcolor\": \"#E5ECF6\", \"gridcolor\": \"white\", \"gridwidth\": 2, \"linecolor\": \"white\", \"showbackground\": true, \"ticks\": \"\", \"zerolinecolor\": \"white\"}}, \"shapedefaults\": {\"line\": {\"color\": \"#2a3f5f\"}}, \"ternary\": {\"aaxis\": {\"gridcolor\": \"white\", \"linecolor\": \"white\", \"ticks\": \"\"}, \"baxis\": {\"gridcolor\": \"white\", \"linecolor\": \"white\", \"ticks\": \"\"}, \"bgcolor\": \"#E5ECF6\", \"caxis\": {\"gridcolor\": \"white\", \"linecolor\": \"white\", \"ticks\": \"\"}}, \"title\": {\"x\": 0.05}, \"xaxis\": {\"automargin\": true, \"gridcolor\": \"white\", \"linecolor\": \"white\", \"ticks\": \"\", \"title\": {\"standoff\": 15}, \"zerolinecolor\": \"white\", \"zerolinewidth\": 2}, \"yaxis\": {\"automargin\": true, \"gridcolor\": \"white\", \"linecolor\": \"white\", \"ticks\": \"\", \"title\": {\"standoff\": 15}, \"zerolinecolor\": \"white\", \"zerolinewidth\": 2}}}, \"xaxis\": {\"anchor\": \"y\", \"domain\": [0.0, 1.0], \"title\": {\"text\": \"x\"}}, \"yaxis\": {\"anchor\": \"x\", \"domain\": [0.0, 1.0], \"title\": {\"text\": \"y\"}}},\n",
       "                        {\"responsive\": true}\n",
       "                    ).then(function(){\n",
       "                            \n",
       "var gd = document.getElementById('32dd8e3a-bc11-4e29-a498-4de980a507d2');\n",
       "var x = new MutationObserver(function (mutations, observer) {{\n",
       "        var display = window.getComputedStyle(gd).display;\n",
       "        if (!display || display === 'none') {{\n",
       "            console.log([gd, 'removed!']);\n",
       "            Plotly.purge(gd);\n",
       "            observer.disconnect();\n",
       "        }}\n",
       "}});\n",
       "\n",
       "// Listen for the removal of the full notebook cells\n",
       "var notebookContainer = gd.closest('#notebook-container');\n",
       "if (notebookContainer) {{\n",
       "    x.observe(notebookContainer, {childList: true});\n",
       "}}\n",
       "\n",
       "// Listen for the clearing of the current output cell\n",
       "var outputEl = gd.closest('.output');\n",
       "if (outputEl) {{\n",
       "    x.observe(outputEl, {childList: true});\n",
       "}}\n",
       "\n",
       "                        })\n",
       "                };\n",
       "                });\n",
       "            </script>\n",
       "        </div>"
      ]
     },
     "metadata": {},
     "output_type": "display_data"
    }
   ],
   "source": [
    "fig = px.scatter(x=df_test[\"beer_abv\"], y=pred_test_rf, height=800)\n",
    "fig.show()"
   ]
  },
  {
   "cell_type": "markdown",
   "metadata": {},
   "source": [
    "# Recommender System"
   ]
  },
  {
   "cell_type": "markdown",
   "metadata": {},
   "source": [
    "Adapted from: https://towardsdatascience.com/how-to-build-a-simple-recommender-system-in-python-375093c3fb7d"
   ]
  },
  {
   "cell_type": "code",
   "execution_count": 9,
   "metadata": {},
   "outputs": [],
   "source": [
    "df_recommender = df[df.review_count>100]"
   ]
  },
  {
   "cell_type": "code",
   "execution_count": 10,
   "metadata": {},
   "outputs": [],
   "source": [
    "warnings.filterwarnings('ignore')"
   ]
  },
  {
   "cell_type": "code",
   "execution_count": 11,
   "metadata": {},
   "outputs": [
    {
     "data": {
      "text/html": [
       "<div>\n",
       "<style scoped>\n",
       "    .dataframe tbody tr th:only-of-type {\n",
       "        vertical-align: middle;\n",
       "    }\n",
       "\n",
       "    .dataframe tbody tr th {\n",
       "        vertical-align: top;\n",
       "    }\n",
       "\n",
       "    .dataframe thead th {\n",
       "        text-align: right;\n",
       "    }\n",
       "</style>\n",
       "<table border=\"1\" class=\"dataframe\">\n",
       "  <thead>\n",
       "    <tr style=\"text-align: right;\">\n",
       "      <th>beer_beerid</th>\n",
       "      <th>5</th>\n",
       "      <th>6</th>\n",
       "      <th>7</th>\n",
       "      <th>9</th>\n",
       "      <th>10</th>\n",
       "      <th>14</th>\n",
       "      <th>15</th>\n",
       "      <th>17</th>\n",
       "      <th>19</th>\n",
       "      <th>23</th>\n",
       "      <th>...</th>\n",
       "      <th>74323</th>\n",
       "      <th>74390</th>\n",
       "      <th>74491</th>\n",
       "      <th>74530</th>\n",
       "      <th>74548</th>\n",
       "      <th>74579</th>\n",
       "      <th>74904</th>\n",
       "      <th>74986</th>\n",
       "      <th>75013</th>\n",
       "      <th>75086</th>\n",
       "    </tr>\n",
       "    <tr>\n",
       "      <th>review_profilename</th>\n",
       "      <th></th>\n",
       "      <th></th>\n",
       "      <th></th>\n",
       "      <th></th>\n",
       "      <th></th>\n",
       "      <th></th>\n",
       "      <th></th>\n",
       "      <th></th>\n",
       "      <th></th>\n",
       "      <th></th>\n",
       "      <th></th>\n",
       "      <th></th>\n",
       "      <th></th>\n",
       "      <th></th>\n",
       "      <th></th>\n",
       "      <th></th>\n",
       "      <th></th>\n",
       "      <th></th>\n",
       "      <th></th>\n",
       "      <th></th>\n",
       "      <th></th>\n",
       "    </tr>\n",
       "  </thead>\n",
       "  <tbody>\n",
       "    <tr>\n",
       "      <th>0110x011</th>\n",
       "      <td>NaN</td>\n",
       "      <td>NaN</td>\n",
       "      <td>NaN</td>\n",
       "      <td>NaN</td>\n",
       "      <td>NaN</td>\n",
       "      <td>NaN</td>\n",
       "      <td>NaN</td>\n",
       "      <td>NaN</td>\n",
       "      <td>NaN</td>\n",
       "      <td>3.4</td>\n",
       "      <td>...</td>\n",
       "      <td>NaN</td>\n",
       "      <td>NaN</td>\n",
       "      <td>NaN</td>\n",
       "      <td>NaN</td>\n",
       "      <td>NaN</td>\n",
       "      <td>NaN</td>\n",
       "      <td>NaN</td>\n",
       "      <td>NaN</td>\n",
       "      <td>NaN</td>\n",
       "      <td>NaN</td>\n",
       "    </tr>\n",
       "    <tr>\n",
       "      <th>01Ryan10</th>\n",
       "      <td>NaN</td>\n",
       "      <td>NaN</td>\n",
       "      <td>NaN</td>\n",
       "      <td>NaN</td>\n",
       "      <td>NaN</td>\n",
       "      <td>NaN</td>\n",
       "      <td>NaN</td>\n",
       "      <td>NaN</td>\n",
       "      <td>NaN</td>\n",
       "      <td>NaN</td>\n",
       "      <td>...</td>\n",
       "      <td>NaN</td>\n",
       "      <td>NaN</td>\n",
       "      <td>NaN</td>\n",
       "      <td>NaN</td>\n",
       "      <td>NaN</td>\n",
       "      <td>NaN</td>\n",
       "      <td>NaN</td>\n",
       "      <td>NaN</td>\n",
       "      <td>NaN</td>\n",
       "      <td>NaN</td>\n",
       "    </tr>\n",
       "    <tr>\n",
       "      <th>02maxima</th>\n",
       "      <td>NaN</td>\n",
       "      <td>NaN</td>\n",
       "      <td>NaN</td>\n",
       "      <td>NaN</td>\n",
       "      <td>NaN</td>\n",
       "      <td>NaN</td>\n",
       "      <td>NaN</td>\n",
       "      <td>NaN</td>\n",
       "      <td>NaN</td>\n",
       "      <td>NaN</td>\n",
       "      <td>...</td>\n",
       "      <td>NaN</td>\n",
       "      <td>NaN</td>\n",
       "      <td>NaN</td>\n",
       "      <td>NaN</td>\n",
       "      <td>NaN</td>\n",
       "      <td>NaN</td>\n",
       "      <td>NaN</td>\n",
       "      <td>NaN</td>\n",
       "      <td>NaN</td>\n",
       "      <td>NaN</td>\n",
       "    </tr>\n",
       "    <tr>\n",
       "      <th>03SVTCobra</th>\n",
       "      <td>NaN</td>\n",
       "      <td>NaN</td>\n",
       "      <td>NaN</td>\n",
       "      <td>NaN</td>\n",
       "      <td>NaN</td>\n",
       "      <td>NaN</td>\n",
       "      <td>NaN</td>\n",
       "      <td>NaN</td>\n",
       "      <td>NaN</td>\n",
       "      <td>NaN</td>\n",
       "      <td>...</td>\n",
       "      <td>NaN</td>\n",
       "      <td>NaN</td>\n",
       "      <td>NaN</td>\n",
       "      <td>NaN</td>\n",
       "      <td>NaN</td>\n",
       "      <td>NaN</td>\n",
       "      <td>NaN</td>\n",
       "      <td>NaN</td>\n",
       "      <td>NaN</td>\n",
       "      <td>NaN</td>\n",
       "    </tr>\n",
       "    <tr>\n",
       "      <th>04101Brewer</th>\n",
       "      <td>NaN</td>\n",
       "      <td>NaN</td>\n",
       "      <td>NaN</td>\n",
       "      <td>NaN</td>\n",
       "      <td>NaN</td>\n",
       "      <td>NaN</td>\n",
       "      <td>NaN</td>\n",
       "      <td>NaN</td>\n",
       "      <td>NaN</td>\n",
       "      <td>NaN</td>\n",
       "      <td>...</td>\n",
       "      <td>NaN</td>\n",
       "      <td>NaN</td>\n",
       "      <td>NaN</td>\n",
       "      <td>NaN</td>\n",
       "      <td>NaN</td>\n",
       "      <td>NaN</td>\n",
       "      <td>NaN</td>\n",
       "      <td>NaN</td>\n",
       "      <td>NaN</td>\n",
       "      <td>NaN</td>\n",
       "    </tr>\n",
       "  </tbody>\n",
       "</table>\n",
       "<p>5 rows × 3060 columns</p>\n",
       "</div>"
      ],
      "text/plain": [
       "beer_beerid         5      6      7      9      10     14     15     17     \\\n",
       "review_profilename                                                           \n",
       "0110x011              NaN    NaN    NaN    NaN    NaN    NaN    NaN    NaN   \n",
       "01Ryan10              NaN    NaN    NaN    NaN    NaN    NaN    NaN    NaN   \n",
       "02maxima              NaN    NaN    NaN    NaN    NaN    NaN    NaN    NaN   \n",
       "03SVTCobra            NaN    NaN    NaN    NaN    NaN    NaN    NaN    NaN   \n",
       "04101Brewer           NaN    NaN    NaN    NaN    NaN    NaN    NaN    NaN   \n",
       "\n",
       "beer_beerid         19     23     ...  74323  74390  74491  74530  74548  \\\n",
       "review_profilename                ...                                      \n",
       "0110x011              NaN    3.4  ...    NaN    NaN    NaN    NaN    NaN   \n",
       "01Ryan10              NaN    NaN  ...    NaN    NaN    NaN    NaN    NaN   \n",
       "02maxima              NaN    NaN  ...    NaN    NaN    NaN    NaN    NaN   \n",
       "03SVTCobra            NaN    NaN  ...    NaN    NaN    NaN    NaN    NaN   \n",
       "04101Brewer           NaN    NaN  ...    NaN    NaN    NaN    NaN    NaN   \n",
       "\n",
       "beer_beerid         74579  74904  74986  75013  75086  \n",
       "review_profilename                                     \n",
       "0110x011              NaN    NaN    NaN    NaN    NaN  \n",
       "01Ryan10              NaN    NaN    NaN    NaN    NaN  \n",
       "02maxima              NaN    NaN    NaN    NaN    NaN  \n",
       "03SVTCobra            NaN    NaN    NaN    NaN    NaN  \n",
       "04101Brewer           NaN    NaN    NaN    NaN    NaN  \n",
       "\n",
       "[5 rows x 3060 columns]"
      ]
     },
     "execution_count": 11,
     "metadata": {},
     "output_type": "execute_result"
    }
   ],
   "source": [
    "beer_matrix = df_recommender.pivot_table(index='review_profilename', columns='beer_beerid', values='review_mean')\n",
    "beer_matrix.head()"
   ]
  },
  {
   "cell_type": "code",
   "execution_count": 12,
   "metadata": {},
   "outputs": [
    {
     "data": {
      "text/html": [
       "<div>\n",
       "<style scoped>\n",
       "    .dataframe tbody tr th:only-of-type {\n",
       "        vertical-align: middle;\n",
       "    }\n",
       "\n",
       "    .dataframe tbody tr th {\n",
       "        vertical-align: top;\n",
       "    }\n",
       "\n",
       "    .dataframe thead th {\n",
       "        text-align: right;\n",
       "    }\n",
       "</style>\n",
       "<table border=\"1\" class=\"dataframe\">\n",
       "  <thead>\n",
       "    <tr style=\"text-align: right;\">\n",
       "      <th></th>\n",
       "      <th>review_overall</th>\n",
       "      <th>review_aroma</th>\n",
       "      <th>review_appearance</th>\n",
       "      <th>review_palate</th>\n",
       "      <th>review_taste</th>\n",
       "      <th>beer_abv</th>\n",
       "      <th>review_mean</th>\n",
       "      <th>review_count</th>\n",
       "    </tr>\n",
       "    <tr>\n",
       "      <th>beer_beerid</th>\n",
       "      <th></th>\n",
       "      <th></th>\n",
       "      <th></th>\n",
       "      <th></th>\n",
       "      <th></th>\n",
       "      <th></th>\n",
       "      <th></th>\n",
       "      <th></th>\n",
       "    </tr>\n",
       "  </thead>\n",
       "  <tbody>\n",
       "    <tr>\n",
       "      <th>5</th>\n",
       "      <td>3.549528</td>\n",
       "      <td>3.205189</td>\n",
       "      <td>3.485849</td>\n",
       "      <td>3.318396</td>\n",
       "      <td>3.340802</td>\n",
       "      <td>4.5</td>\n",
       "      <td>3.379953</td>\n",
       "      <td>424</td>\n",
       "    </tr>\n",
       "    <tr>\n",
       "      <th>6</th>\n",
       "      <td>3.706956</td>\n",
       "      <td>3.515964</td>\n",
       "      <td>3.836374</td>\n",
       "      <td>3.513113</td>\n",
       "      <td>3.645382</td>\n",
       "      <td>5.6</td>\n",
       "      <td>3.643558</td>\n",
       "      <td>877</td>\n",
       "    </tr>\n",
       "    <tr>\n",
       "      <th>7</th>\n",
       "      <td>3.266313</td>\n",
       "      <td>3.179059</td>\n",
       "      <td>3.251138</td>\n",
       "      <td>3.106980</td>\n",
       "      <td>3.101669</td>\n",
       "      <td>4.2</td>\n",
       "      <td>3.181032</td>\n",
       "      <td>659</td>\n",
       "    </tr>\n",
       "    <tr>\n",
       "      <th>9</th>\n",
       "      <td>3.400862</td>\n",
       "      <td>2.853448</td>\n",
       "      <td>3.051724</td>\n",
       "      <td>3.103448</td>\n",
       "      <td>3.043103</td>\n",
       "      <td>4.2</td>\n",
       "      <td>3.090517</td>\n",
       "      <td>116</td>\n",
       "    </tr>\n",
       "    <tr>\n",
       "      <th>10</th>\n",
       "      <td>3.826117</td>\n",
       "      <td>3.747207</td>\n",
       "      <td>3.936453</td>\n",
       "      <td>3.742318</td>\n",
       "      <td>3.767458</td>\n",
       "      <td>7.0</td>\n",
       "      <td>3.803911</td>\n",
       "      <td>716</td>\n",
       "    </tr>\n",
       "  </tbody>\n",
       "</table>\n",
       "</div>"
      ],
      "text/plain": [
       "             review_overall  review_aroma  review_appearance  review_palate  \\\n",
       "beer_beerid                                                                   \n",
       "5                  3.549528      3.205189           3.485849       3.318396   \n",
       "6                  3.706956      3.515964           3.836374       3.513113   \n",
       "7                  3.266313      3.179059           3.251138       3.106980   \n",
       "9                  3.400862      2.853448           3.051724       3.103448   \n",
       "10                 3.826117      3.747207           3.936453       3.742318   \n",
       "\n",
       "             review_taste  beer_abv  review_mean  review_count  \n",
       "beer_beerid                                                     \n",
       "5                3.340802       4.5     3.379953           424  \n",
       "6                3.645382       5.6     3.643558           877  \n",
       "7                3.101669       4.2     3.181032           659  \n",
       "9                3.043103       4.2     3.090517           116  \n",
       "10               3.767458       7.0     3.803911           716  "
      ]
     },
     "execution_count": 12,
     "metadata": {},
     "output_type": "execute_result"
    }
   ],
   "source": [
    "ratings = pd.DataFrame(df_recommender.groupby('beer_beerid').mean())\n",
    "ratings.head()"
   ]
  },
  {
   "cell_type": "code",
   "execution_count": 13,
   "metadata": {},
   "outputs": [],
   "source": [
    "words = {}\n",
    "\n",
    "def get_words():\n",
    "    unique_beer_names = df_recommender.beer_name.unique()\n",
    "    for beer_name in unique_beer_names:\n",
    "        words[beer_name] = {}\n",
    "\n",
    "get_words()\n",
    "\n",
    "autocomplete = AutoComplete(words=words)"
   ]
  },
  {
   "cell_type": "code",
   "execution_count": 14,
   "metadata": {},
   "outputs": [],
   "source": [
    "outs = []\n",
    "\n",
    "def lookup_beer(beer_name):\n",
    "    if (len(outs) > 0):\n",
    "        for out in outs:\n",
    "            out.clear_output()\n",
    "    out_lookup = widgets.Output()\n",
    "    basis_beer = df_recommender[df_recommender.beer_name.str.lower() == beer_name.lower()]\n",
    "    basis_beer_id = basis_beer.beer_beerid.iloc[0]\n",
    "    \n",
    "    user_rating = beer_matrix[basis_beer_id]\n",
    "    # user_rating.head()\n",
    "    \n",
    "    similar_to_beer=beer_matrix.corrwith(user_rating)\n",
    "    # similar_to_beer.head()\n",
    "    \n",
    "    corr = pd.DataFrame(similar_to_beer, columns=['Correlation'])\n",
    "    corr.dropna(inplace=True)\n",
    "    # corr.head()\n",
    "    \n",
    "    corr = corr.join(ratings['review_count'])\n",
    "    # corr.sort_values(by='Correlation', ascending=False).head(10)\n",
    "    \n",
    "    basis_beer = df_recommender[df_recommender.beer_beerid == basis_beer_id]\n",
    "\n",
    "    recommended_beer_id = corr.sort_values(by='Correlation', ascending=False).index.values[1]\n",
    "    recommended_beer = df_recommender[df_recommender.beer_beerid == recommended_beer_id]\n",
    "    #basis_beer = df[df.beer_beerid == corr_2093.iloc[1]]\n",
    "    with out_lookup:\n",
    "        display(HTML(\"<p>You might like \" + str(recommended_beer.beer_name.iloc[0]) + \".  Cheers!!</p>\"))\n",
    "        brewery_id = str(recommended_beer.brewery_id.iloc[0])\n",
    "        link = \"https://www.beeradvocate.com/beer/profile/\" + brewery_id + \"/\" + str(recommended_beer_id)\n",
    "        display(HTML('<a href = \"' + link + '\" target=\"_blank\">' + recommended_beer.beer_name.iloc[0] + '</a> (on beeradvocate.com)'))\n",
    "    display(out_lookup)\n",
    "    outs.append(out_lookup)\n",
    "\n",
    "    "
   ]
  },
  {
   "cell_type": "code",
   "execution_count": 15,
   "metadata": {},
   "outputs": [
    {
     "data": {
      "text/html": [
       "<h1>Beer Machine</h1>"
      ],
      "text/plain": [
       "<IPython.core.display.HTML object>"
      ]
     },
     "metadata": {},
     "output_type": "display_data"
    },
    {
     "data": {
      "text/html": [
       "<p>Type in the name of the beer you are currently enjoying and our system will recommend you a new one.</p>"
      ],
      "text/plain": [
       "<IPython.core.display.HTML object>"
      ]
     },
     "metadata": {},
     "output_type": "display_data"
    },
    {
     "data": {
      "application/vnd.jupyter.widget-view+json": {
       "model_id": "0ce6632a2eac4572b25eb9ec8ea4e07d",
       "version_major": 2,
       "version_minor": 0
      },
      "text/plain": [
       "Text(value='', description='Beer name:', placeholder='90 Minute IPA')"
      ]
     },
     "metadata": {},
     "output_type": "display_data"
    },
    {
     "data": {
      "application/vnd.jupyter.widget-view+json": {
       "model_id": "8a1c3c6a895b4d22b490ec8ea1a6890e",
       "version_major": 2,
       "version_minor": 0
      },
      "text/plain": [
       "Text(value='', description='Auto:', placeholder='Magic')"
      ]
     },
     "metadata": {},
     "output_type": "display_data"
    },
    {
     "data": {
      "application/vnd.jupyter.widget-view+json": {
       "model_id": "73941ac9bcde449487625dd88041b191",
       "version_major": 2,
       "version_minor": 0
      },
      "text/plain": [
       "Button(description='Search', icon='beer', style=ButtonStyle(), tooltip='Click me to get a beer recommendation'…"
      ]
     },
     "metadata": {},
     "output_type": "display_data"
    },
    {
     "data": {
      "text/html": [
       "<p></br>Alternatively you can give one of the suggested beers a try.</p>"
      ],
      "text/plain": [
       "<IPython.core.display.HTML object>"
      ]
     },
     "metadata": {},
     "output_type": "display_data"
    },
    {
     "data": {
      "application/vnd.jupyter.widget-view+json": {
       "model_id": "20be71c2afdd42e7a907903a06ec4fa9",
       "version_major": 2,
       "version_minor": 0
      },
      "text/plain": [
       "IntSlider(value=7, continuous_update=False, description='#Suggestions:', max=50, min=1)"
      ]
     },
     "metadata": {},
     "output_type": "display_data"
    },
    {
     "data": {
      "application/vnd.jupyter.widget-view+json": {
       "model_id": "734b74b07e5743f4888446b5e07ad84f",
       "version_major": 2,
       "version_minor": 0
      },
      "text/plain": [
       "Dropdown(description='Sort by:', index=7, options=('review_overall', 'review_aroma', 'review_appearance', 'rev…"
      ]
     },
     "metadata": {},
     "output_type": "display_data"
    },
    {
     "data": {
      "application/vnd.jupyter.widget-view+json": {
       "model_id": "2a02334e9321475e9018f3600b27d4cf",
       "version_major": 2,
       "version_minor": 0
      },
      "text/plain": [
       "Dropdown(description='Suggested:', options=('', '', '', '', '', '', ''), value='')"
      ]
     },
     "metadata": {},
     "output_type": "display_data"
    },
    {
     "data": {
      "application/vnd.jupyter.widget-view+json": {
       "model_id": "7ee9381cd6bc4505a1de682250f1127c",
       "version_major": 2,
       "version_minor": 0
      },
      "text/plain": [
       "Button(description='Search', icon='beer', style=ButtonStyle(), tooltip='Click me to get a beer recommendation'…"
      ]
     },
     "metadata": {},
     "output_type": "display_data"
    },
    {
     "data": {
      "application/vnd.jupyter.widget-view+json": {
       "model_id": "f905701a2fb74b0c8ae21de44ca6a958",
       "version_major": 2,
       "version_minor": 0
      },
      "text/plain": [
       "Output()"
      ]
     },
     "metadata": {},
     "output_type": "display_data"
    },
    {
     "data": {
      "application/vnd.jupyter.widget-view+json": {
       "model_id": "ed51b528936f4a248fe37c9a8bb84835",
       "version_major": 2,
       "version_minor": 0
      },
      "text/plain": [
       "Output()"
      ]
     },
     "metadata": {},
     "output_type": "display_data"
    },
    {
     "data": {
      "application/vnd.jupyter.widget-view+json": {
       "model_id": "6973f053cf0e48c685ad05af7983fd16",
       "version_major": 2,
       "version_minor": 0
      },
      "text/plain": [
       "HBox(children=(FloatProgress(value=0.0, max=7.0), HTML(value='')))"
      ]
     },
     "metadata": {},
     "output_type": "display_data"
    },
    {
     "name": "stdout",
     "output_type": "stream",
     "text": [
      "\n"
     ]
    },
    {
     "data": {
      "application/vnd.jupyter.widget-view+json": {
       "model_id": "2cafb2b8b0cd41a78f65ab9630e6d408",
       "version_major": 2,
       "version_minor": 0
      },
      "text/plain": [
       "Output()"
      ]
     },
     "metadata": {},
     "output_type": "display_data"
    },
    {
     "data": {
      "application/vnd.jupyter.widget-view+json": {
       "model_id": "a15335aa6ac949cc872e2b1f30f826ef",
       "version_major": 2,
       "version_minor": 0
      },
      "text/plain": [
       "Output()"
      ]
     },
     "metadata": {},
     "output_type": "display_data"
    },
    {
     "data": {
      "application/vnd.jupyter.widget-view+json": {
       "model_id": "920cab41f36248f5b9deee99c695f3ac",
       "version_major": 2,
       "version_minor": 0
      },
      "text/plain": [
       "Output()"
      ]
     },
     "metadata": {},
     "output_type": "display_data"
    },
    {
     "data": {
      "application/vnd.jupyter.widget-view+json": {
       "model_id": "9f8f1c274f714f37b915741dce34a472",
       "version_major": 2,
       "version_minor": 0
      },
      "text/plain": [
       "Output()"
      ]
     },
     "metadata": {},
     "output_type": "display_data"
    },
    {
     "data": {
      "application/vnd.jupyter.widget-view+json": {
       "model_id": "f632f361660d41f7b9dc6c9c7fd0668f",
       "version_major": 2,
       "version_minor": 0
      },
      "text/plain": [
       "HBox(children=(FloatProgress(value=0.0, max=7.0), HTML(value='')))"
      ]
     },
     "metadata": {},
     "output_type": "display_data"
    },
    {
     "name": "stdout",
     "output_type": "stream",
     "text": [
      "\n"
     ]
    },
    {
     "data": {
      "application/vnd.jupyter.widget-view+json": {
       "model_id": "eec9ae778cbc4e92964a5a0dc94cfcf6",
       "version_major": 2,
       "version_minor": 0
      },
      "text/plain": [
       "Output()"
      ]
     },
     "metadata": {},
     "output_type": "display_data"
    },
    {
     "data": {
      "application/vnd.jupyter.widget-view+json": {
       "model_id": "58a02ce90ff248dd94b4a9e6e906d76a",
       "version_major": 2,
       "version_minor": 0
      },
      "text/plain": [
       "Output()"
      ]
     },
     "metadata": {},
     "output_type": "display_data"
    }
   ],
   "source": [
    "# TODO: This only works in Notebook but not in JupyterLab Yet..\n",
    "out = widgets.Output()\n",
    "\n",
    "n_of_suggestions = widgets.IntSlider(\n",
    "    value=7,\n",
    "    min=1,\n",
    "    max=50,\n",
    "    step=1,\n",
    "    description='#Suggestions:',\n",
    "    disabled=False,\n",
    "    continuous_update=False,\n",
    "    orientation='horizontal',\n",
    "    readout=True,\n",
    "    readout_format='d'\n",
    ")\n",
    "\n",
    "suggestions = [\"\" for i in range(n_of_suggestions.value)]\n",
    "\n",
    "def sort(change): \n",
    "    if change['type'] == 'change' and change['name'] == 'value':\n",
    "        sorted_ratings = ratings.sort_values(suggestion_criterion.value, ascending=False)\n",
    "        \n",
    "        suggestions = [\"\" for i in range(n_of_suggestions.value)]\n",
    "        \n",
    "        for i in tqdm(range(n_of_suggestions.value)):\n",
    "            suggested_beer_id = sorted_ratings.index.values[i]\n",
    "            suggested_beer = df_recommender[df_recommender.beer_beerid == suggested_beer_id]\n",
    "            suggestions[i] = suggested_beer.beer_name.iloc[0]\n",
    "        \n",
    "        suggestion.options = suggestions\n",
    "        \n",
    "suggestion_criterion = widgets.Dropdown(\n",
    "    options=[\"review_overall\", \"review_aroma\", \"review_appearance\", \"review_palate\", \"review_taste\", \"beer_abv\", \"review_mean\", \"review_count\"],\n",
    "    value='review_count',\n",
    "    description='Sort by:',\n",
    "    disabled=False,\n",
    ")\n",
    "\n",
    "\n",
    "suggestion_criterion.observe(sort)\n",
    "\n",
    "# --------------------------------------------------------------------------------------\n",
    "\n",
    "display(HTML(\"<h1>Beer Machine</h1>\"))\n",
    "display(HTML(\"<p>Type in the name of the beer you are currently enjoying and our system will recommend you a new one.</p>\"))\n",
    "basis_beer_name = widgets.Text(placeholder='90 Minute IPA',\n",
    "    description='Beer name:')\n",
    "\n",
    "autocomplete_beer_name = widgets.Text(placeholder='Magic',\n",
    "    description='Auto:')\n",
    "\n",
    "\n",
    "def complete(change):\n",
    "    if change['type'] == 'change' and change['name'] == 'value':\n",
    "        search = autocomplete.search(word=basis_beer_name.value, max_cost=3, size=3)\n",
    "        if (len(search) > 0 and len(search[0]) > 0):\n",
    "            autocomplete_beer_name.value = search[0][0]\n",
    "\n",
    "basis_beer_name.observe(complete)\n",
    "\n",
    "display(basis_beer_name)\n",
    "display(autocomplete_beer_name)\n",
    "\n",
    "button_manual = widgets.Button(\n",
    "    description='Search',\n",
    "    disabled=False,\n",
    "    button_style='', # 'success', 'info', 'warning', 'danger' or ''\n",
    "    tooltip='Click me to get a beer recommendation',\n",
    "    icon='beer' # (FontAwesome names without the `fa-` prefix)\n",
    ")\n",
    "\n",
    "display(button_manual)\n",
    "\n",
    "def handle_submit(sender):\n",
    "    out = widgets.Output()\n",
    "    if (len(autocomplete_beer_name.value) == 0):\n",
    "        print(\"Type in the name of a beer first!\")\n",
    "        return\n",
    "    with out:\n",
    "        display(HTML(\"<p>Looking for a recommendation based on the beer: \" + autocomplete_beer_name.value + \"</p>\"))\n",
    "        display(HTML('<img src=\"https://media.giphy.com/media/luSZvotp8VSGA/giphy.gif\" alt=\"this slowpoke moves\"  width=250/>'))\n",
    "    display(out)\n",
    "    lookup_beer(autocomplete_beer_name.value)\n",
    "    out.clear_output()\n",
    "    \n",
    "button_manual.on_click(handle_submit)\n",
    "\n",
    "display(HTML(\"<p></br>Alternatively you can give one of the suggested beers a try.</p>\"))\n",
    "\n",
    "suggestion = widgets.Dropdown(\n",
    "    options=suggestions,\n",
    "    value=suggestions[0],\n",
    "    description='Suggested:',\n",
    "    disabled=False,\n",
    ")\n",
    "display(n_of_suggestions)\n",
    "display(suggestion_criterion)\n",
    "display(suggestion)\n",
    "\n",
    "button_suggested = widgets.Button(\n",
    "    description='Search',\n",
    "    disabled=False,\n",
    "    button_style='', # 'success', 'info', 'warning', 'danger' or ''\n",
    "    tooltip='Click me to get a beer recommendation',\n",
    "    icon='beer' # (FontAwesome names without the `fa-` prefix)\n",
    ")\n",
    "\n",
    "display(button_suggested)\n",
    "\n",
    "def handle_submit_suggested(sender):\n",
    "    out = widgets.Output()\n",
    "    with out:\n",
    "        display(HTML(\"<p>Looking for a recommendation based on the beer: \" + suggestion.value + \"</p>\"))\n",
    "        display(HTML('<img src=\"https://media.giphy.com/media/luSZvotp8VSGA/giphy.gif\" alt=\"this slowpoke moves\"  width=250/>'))\n",
    "    display(out)\n",
    "    lookup_beer(suggestion.value)\n",
    "    out.clear_output()\n",
    "    \n",
    "button_suggested.on_click(handle_submit_suggested)"
   ]
  },
  {
   "cell_type": "code",
   "execution_count": null,
   "metadata": {},
   "outputs": [],
   "source": []
  }
 ],
 "metadata": {
  "kernelspec": {
   "display_name": "Python 3",
   "language": "python",
   "name": "python3"
  },
  "language_info": {
   "codemirror_mode": {
    "name": "ipython",
    "version": 3
   },
   "file_extension": ".py",
   "mimetype": "text/x-python",
   "name": "python",
   "nbconvert_exporter": "python",
   "pygments_lexer": "ipython3",
   "version": "3.7.3"
  }
 },
 "nbformat": 4,
 "nbformat_minor": 4
}

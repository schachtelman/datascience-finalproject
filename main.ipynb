{
 "cells": [
  {
   "cell_type": "code",
   "execution_count": 3,
   "metadata": {},
   "outputs": [],
   "source": [
    "import pandas as pd\n",
    "import numpy as np\n",
    "import plotly.express as px\n",
    "import pycountry as pc\n",
    "from sklearn.model_selection import train_test_split\n",
    "from sklearn.linear_model import LinearRegression\n",
    "from sklearn.linear_model import SGDRegressor\n",
    "from sklearn.tree import DecisionTreeRegressor\n",
    "from sklearn.metrics import mean_squared_error\n",
    "from sklearn.metrics import r2_score\n",
    "from sklearn.svm import SVR\n",
    "from sklearn.ensemble import RandomForestRegressor\n",
    "from sklearn.isotonic import IsotonicRegression\n",
    "\n",
    "from sklearn.gaussian_process import GaussianProcessRegressor\n",
    "from sklearn.gaussian_process.kernels import DotProduct, WhiteKernel\n",
    "\n",
    "from sklearn import preprocessing\n",
    "\n",
    "from sklearn.neural_network import MLPRegressor\n",
    "\n",
    "from ipywidgets import widgets\n",
    "\n",
    "from IPython.display import display, HTML, clear_output\n",
    "\n",
    "from fast_autocomplete import AutoComplete\n",
    "\n",
    "from tqdm.notebook import tqdm\n",
    "\n",
    "import warnings"
   ]
  },
  {
   "cell_type": "markdown",
   "metadata": {},
   "source": [
    "# Load and Clean Dataset"
   ]
  },
  {
   "cell_type": "code",
   "execution_count": 4,
   "metadata": {},
   "outputs": [],
   "source": [
    "df = pd.read_csv(\"beer_reviews_countries.csv\")"
   ]
  },
  {
   "cell_type": "code",
   "execution_count": 5,
   "metadata": {},
   "outputs": [],
   "source": [
    "dic = {\"1930\": \"USA\", \"18968\": \"USA\", \"1953\": \"USA\", \"9343\": \"USA\", \"10099\": \"USA\", \"3817\": \"NZL\", \"1549\": \"USA\", \"10097\": \"USA\", \"1548\": \"USA\", \"5379\": \"USA\", \"5318\": \"USA\", \"3257\": \"CAN\", \"23980\": \"USA\"}\n",
    "for brew_id, country_code in dic.items():\n",
    "    country = pc.countries.get(alpha_3 = country_code)\n",
    "    df.loc[df.brewery_id == int(brew_id), \"country_alpha_3\"] = country_code\n",
    "    df.loc[df.brewery_id == int(brew_id), \"country_plain\"] = country.name"
   ]
  },
  {
   "cell_type": "code",
   "execution_count": 6,
   "metadata": {},
   "outputs": [],
   "source": [
    "df = df.drop([\"Unnamed: 0\", \"country_numeric\", \"country_alpha_2\"], axis=1)\n",
    "df = df.dropna()"
   ]
  },
  {
   "cell_type": "code",
   "execution_count": 7,
   "metadata": {},
   "outputs": [],
   "source": [
    "df[[\"brewery_id\", \"beer_beerid\"]] = df[[\"brewery_id\", \"beer_beerid\"]].astype(object)\n",
    "df[\"review_time\"] = pd.to_datetime(df[\"review_time\"], unit='s')"
   ]
  },
  {
   "cell_type": "code",
   "execution_count": null,
   "metadata": {},
   "outputs": [],
   "source": [
    "df.dtypes"
   ]
  },
  {
   "cell_type": "markdown",
   "metadata": {},
   "source": [
    "#### Add Mean of Reviews and Number of Reviews per Beer"
   ]
  },
  {
   "cell_type": "code",
   "execution_count": 9,
   "metadata": {},
   "outputs": [],
   "source": [
    "df['review_mean'] = (df['review_overall'] + df['review_aroma'] + df['review_appearance'] + df['review_palate'] + df['review_taste']) / 5\n",
    "number_of_beer_reviews = df.beer_beerid.value_counts().rename('review_count')\n",
    "df = df.merge(number_of_beer_reviews.to_frame(), left_on='beer_beerid', right_index=True)"
   ]
  },
  {
   "cell_type": "code",
   "execution_count": null,
   "metadata": {},
   "outputs": [],
   "source": [
    "df.head()"
   ]
  },
  {
   "cell_type": "markdown",
   "metadata": {},
   "source": [
    "# Correlation"
   ]
  },
  {
   "cell_type": "markdown",
   "metadata": {},
   "source": [
    "### Q1: How do the different ratings and the alcohol content correlate?"
   ]
  },
  {
   "cell_type": "code",
   "execution_count": null,
   "metadata": {},
   "outputs": [],
   "source": [
    "df_beer_abv = df.groupby([\"beer_abv\"]).mean().reset_index()\n",
    "fig = px.scatter_matrix(df_beer_abv, dimensions=[\"beer_abv\", \"review_overall\", \"review_aroma\", \"review_appearance\", \"review_palate\", \"review_taste\"], height=1000)\n",
    "fig.show()"
   ]
  },
  {
   "cell_type": "code",
   "execution_count": null,
   "metadata": {},
   "outputs": [],
   "source": [
    "df.corr(method='spearman').round(decimals=2)"
   ]
  },
  {
   "cell_type": "markdown",
   "metadata": {},
   "source": [
    "# ABV"
   ]
  },
  {
   "cell_type": "markdown",
   "metadata": {},
   "source": [
    "### Q2: What is the mean alcohol content overall?"
   ]
  },
  {
   "cell_type": "code",
   "execution_count": null,
   "metadata": {},
   "outputs": [],
   "source": [
    "df.beer_abv.describe()"
   ]
  },
  {
   "cell_type": "markdown",
   "metadata": {},
   "source": [
    "### Q3: How does the detailed distribution of the alcohol content look like?"
   ]
  },
  {
   "cell_type": "code",
   "execution_count": null,
   "metadata": {},
   "outputs": [],
   "source": [
    "fig = px.histogram(data_frame=df[df['beer_abv']<20], x=\"beer_abv\", title='How strong is the beer???', nbins=50)\n",
    "fig.show()"
   ]
  },
  {
   "cell_type": "code",
   "execution_count": null,
   "metadata": {},
   "outputs": [],
   "source": [
    "fig = px.box(df[df['beer_abv']<20], x=\"beer_abv\", orientation=\"h\", title='How strong is the beer??? - as Boxplot')\n",
    "fig.show()"
   ]
  },
  {
   "cell_type": "markdown",
   "metadata": {},
   "source": [
    "### Q4: Which countries produce the strongest/weakest beer?"
   ]
  },
  {
   "cell_type": "code",
   "execution_count": 19,
   "metadata": {},
   "outputs": [],
   "source": [
    "df_country = df.groupby([\"country_plain\", \"country_alpha_3\"]).mean().reset_index().round(4)"
   ]
  },
  {
   "cell_type": "code",
   "execution_count": null,
   "metadata": {},
   "outputs": [],
   "source": [
    "df_country.sort_values(by=['beer_abv'], ascending=False).head()"
   ]
  },
  {
   "cell_type": "code",
   "execution_count": null,
   "metadata": {},
   "outputs": [],
   "source": [
    "df_country.sort_values(by=['beer_abv']).head()"
   ]
  },
  {
   "cell_type": "markdown",
   "metadata": {},
   "source": [
    "#### Map that shows an overview of the mean beer strength for the different countries"
   ]
  },
  {
   "cell_type": "code",
   "execution_count": null,
   "metadata": {},
   "outputs": [],
   "source": [
    "fig = px.choropleth(df_country, locations=\"country_alpha_3\",\n",
    "                    color=\"beer_abv\",\n",
    "                    hover_name=\"country_plain\",\n",
    "                    color_continuous_scale=px.colors.sequential.OrRd,\n",
    "                   height = 1000)\n",
    "fig.show()"
   ]
  },
  {
   "cell_type": "markdown",
   "metadata": {},
   "source": [
    "# Beer Style"
   ]
  },
  {
   "cell_type": "markdown",
   "metadata": {},
   "source": [
    "### Q5 / Q6: What is the most common beer style? / How many different beer styles are there?"
   ]
  },
  {
   "cell_type": "code",
   "execution_count": null,
   "metadata": {},
   "outputs": [],
   "source": [
    "df.beer_style.describe()"
   ]
  },
  {
   "cell_type": "markdown",
   "metadata": {},
   "source": [
    "### Q7: What are the best rated beer styles?"
   ]
  },
  {
   "cell_type": "code",
   "execution_count": null,
   "metadata": {},
   "outputs": [],
   "source": [
    "df_beer_style = df.groupby([\"beer_style\"]).mean().reset_index().round(4)\n",
    "df_beer_style.shape"
   ]
  },
  {
   "cell_type": "code",
   "execution_count": null,
   "metadata": {},
   "outputs": [],
   "source": [
    "df_beer_style_sorted = df_beer_style.sort_values(by=['review_mean'])\n",
    "df_beer_style_sorted.sort_values(by=['review_mean'], ascending=False).head()"
   ]
  },
  {
   "cell_type": "markdown",
   "metadata": {},
   "source": [
    "### Q8: How do the beer styles differ in the individual ratings?"
   ]
  },
  {
   "cell_type": "code",
   "execution_count": null,
   "metadata": {},
   "outputs": [],
   "source": [
    "fig = px.scatter(df_beer_style_sorted, x=\"beer_style\", y=\"review_mean\", height=800)\n",
    "fig.update_layout(yaxis_title=\"Rating\")\n",
    "fig.add_scatter(x=df_beer_style_sorted[\"beer_style\"], y=df_beer_style_sorted[\"review_overall\"], name=\"Overall\")\n",
    "fig.add_scatter(x=df_beer_style_sorted[\"beer_style\"], y=df_beer_style_sorted[\"review_aroma\"], name=\"Aroma\")\n",
    "fig.add_scatter(x=df_beer_style_sorted[\"beer_style\"], y=df_beer_style_sorted[\"review_appearance\"], name=\"Appearance\")\n",
    "fig.add_scatter(x=df_beer_style_sorted[\"beer_style\"], y=df_beer_style_sorted[\"review_palate\"], name=\"Palate\")\n",
    "fig.add_scatter(x=df_beer_style_sorted[\"beer_style\"], y=df_beer_style_sorted[\"review_taste\"], name=\"Taste\")\n",
    "fig.show()"
   ]
  },
  {
   "cell_type": "markdown",
   "metadata": {},
   "source": [
    "# Brewery"
   ]
  },
  {
   "cell_type": "markdown",
   "metadata": {},
   "source": [
    "### Q9: Which breweries (>500 ratings) produce the best beer?"
   ]
  },
  {
   "cell_type": "code",
   "execution_count": null,
   "metadata": {},
   "outputs": [],
   "source": [
    "df_brewery = df.groupby([\"brewery_name\", \"country_plain\"]).mean().reset_index().round(2)\n",
    "df_brewery = df_brewery[df_brewery[\"review_count\"]>500].sort_values(by=['review_mean'])\n",
    "df_brewery.sort_values(by = \"review_mean\", ascending=False).head()"
   ]
  },
  {
   "cell_type": "code",
   "execution_count": null,
   "metadata": {},
   "outputs": [],
   "source": [
    "fig = px.scatter(df_brewery, x=\"brewery_name\", y=\"review_mean\", color=\"beer_abv\", size=\"beer_abv\", height=800)\n",
    "fig.show()"
   ]
  },
  {
   "cell_type": "markdown",
   "metadata": {},
   "source": [
    "### Q10: What are the best breweries in each country?"
   ]
  },
  {
   "cell_type": "code",
   "execution_count": null,
   "metadata": {},
   "outputs": [],
   "source": [
    "df_brewery_by_country = df.groupby([\"brewery_name\", \"country_plain\"]).mean().reset_index().round(2)\n",
    "df_brewery_by_country = df_brewery_by_country[df_brewery_by_country[\"review_count\"]>10].sort_values(by=['review_mean'], ascending=False)\n",
    "df_brewery_only_best = df_brewery_by_country.groupby([\"country_plain\"]).head(1).reset_index(drop=True)\n",
    "df_brewery_only_best.head()"
   ]
  },
  {
   "cell_type": "code",
   "execution_count": null,
   "metadata": {},
   "outputs": [],
   "source": [
    "fig = px.scatter(df_brewery_only_best.sort_values(by=\"review_mean\"), x=\"brewery_name\", y=\"review_mean\", color=\"country_plain\", height=800)\n",
    "fig.show()"
   ]
  },
  {
   "cell_type": "markdown",
   "metadata": {},
   "source": [
    "# Beer"
   ]
  },
  {
   "cell_type": "markdown",
   "metadata": {},
   "source": [
    "### Q11: What are the best beers overall?"
   ]
  },
  {
   "cell_type": "code",
   "execution_count": null,
   "metadata": {},
   "outputs": [],
   "source": [
    "df_beer_name = df\n",
    "df_beer_name[\"brewery_and_beer\"] = df[\"brewery_name\"] + \": \" + df[\"beer_name\"]\n",
    "df_beer_name = df_beer_name[df_beer_name[\"review_count\"]>20].groupby([\"brewery_and_beer\", \"country_plain\"]).mean().reset_index().round(4).sort_values(by=['review_mean'])\n",
    "df_beer_name.sort_values(by=['review_mean'], ascending=False).head()"
   ]
  },
  {
   "cell_type": "code",
   "execution_count": null,
   "metadata": {},
   "outputs": [],
   "source": [
    "df_beer_name.shape"
   ]
  },
  {
   "cell_type": "markdown",
   "metadata": {},
   "source": [
    "### Q12: How to the indivitual ratings change with the overall rating increasing?"
   ]
  },
  {
   "cell_type": "code",
   "execution_count": null,
   "metadata": {},
   "outputs": [],
   "source": [
    "fig = px.scatter(df_beer_name, x=\"brewery_and_beer\", y=\"review_mean\", height=800)\n",
    "fig.update_layout(yaxis_title=\"Rating\")\n",
    "fig.add_scatter(x=df_beer_name[\"brewery_and_beer\"], y=df_beer_name[\"review_overall\"], name=\"Overall\")\n",
    "fig.add_scatter(x=df_beer_name[\"brewery_and_beer\"], y=df_beer_name[\"review_aroma\"], name=\"Aroma\")\n",
    "fig.add_scatter(x=df_beer_name[\"brewery_and_beer\"], y=df_beer_name[\"review_appearance\"], name=\"Appearance\")\n",
    "fig.add_scatter(x=df_beer_name[\"brewery_and_beer\"], y=df_beer_name[\"review_palate\"], name=\"Palate\")\n",
    "fig.add_scatter(x=df_beer_name[\"brewery_and_beer\"], y=df_beer_name[\"review_taste\"], name=\"Taste\")\n",
    "fig.show()"
   ]
  },
  {
   "cell_type": "markdown",
   "metadata": {},
   "source": [
    "### Q13: What is the best beer in each country?"
   ]
  },
  {
   "cell_type": "code",
   "execution_count": null,
   "metadata": {},
   "outputs": [],
   "source": [
    "df_beer_by_country = df.groupby([\"beer_name\", \"country_plain\"]).mean().reset_index().round(2)\n",
    "df_beer_by_country = df_beer_by_country[df_beer_by_country[\"review_count\"]>10].sort_values(by=['review_mean'], ascending=False)\n",
    "df_beer_by_country = df_beer_by_country.groupby([\"country_plain\"]).head(1).reset_index(drop=True)\n",
    "df_beer_by_country.head()"
   ]
  },
  {
   "cell_type": "code",
   "execution_count": null,
   "metadata": {},
   "outputs": [],
   "source": [
    "fig = px.scatter(df_beer_by_country.sort_values(by=\"review_mean\"), x=\"beer_name\", y=\"review_mean\", color=\"country_plain\", height=800)\n",
    "fig.show()"
   ]
  },
  {
   "cell_type": "markdown",
   "metadata": {},
   "source": [
    "### Q14: What is the best/worst famous (> 1000 ratings) beer?"
   ]
  },
  {
   "cell_type": "code",
   "execution_count": null,
   "metadata": {},
   "outputs": [],
   "source": [
    "df_with_counts = df\n",
    "df_with_counts[\"brewery_and_beer\"] = df_with_counts[\"brewery_name\"] + \": \" + df_with_counts[\"beer_name\"]\n",
    "df_beer_name_with_count = df_with_counts[df_with_counts['review_count']>1000].groupby([\"brewery_and_beer\", \"country_plain\"]).mean().reset_index().round(4)\n",
    "df_beer_name_with_count.shape"
   ]
  },
  {
   "cell_type": "code",
   "execution_count": null,
   "metadata": {},
   "outputs": [],
   "source": [
    "df_beer_name_with_count.sort_values(by=['review_mean'], ascending=False).head()"
   ]
  },
  {
   "cell_type": "code",
   "execution_count": null,
   "metadata": {},
   "outputs": [],
   "source": [
    "df_beer_name_with_count.sort_values(by=['review_mean']).head()"
   ]
  },
  {
   "cell_type": "code",
   "execution_count": null,
   "metadata": {},
   "outputs": [],
   "source": [
    "fig = px.scatter(df_beer_name_with_count.sort_values(by=['review_mean']), x=\"brewery_and_beer\", y=\"review_mean\", color=\"beer_abv\", height=500)\n",
    "fig.show()"
   ]
  },
  {
   "cell_type": "markdown",
   "metadata": {},
   "source": [
    "# Country"
   ]
  },
  {
   "cell_type": "markdown",
   "metadata": {},
   "source": [
    "### Q15: Which countries produce the best beer?"
   ]
  },
  {
   "cell_type": "code",
   "execution_count": null,
   "metadata": {},
   "outputs": [],
   "source": [
    "df_country = df[df['review_count']>50].groupby([\"country_plain\"]).mean().reset_index().round(4)\n",
    "df_country.sort_values(by=['review_mean'], ascending=False).head()"
   ]
  },
  {
   "cell_type": "markdown",
   "metadata": {},
   "source": [
    "#### Overview of top countries by review mean"
   ]
  },
  {
   "cell_type": "code",
   "execution_count": null,
   "metadata": {},
   "outputs": [],
   "source": [
    "fig = px.scatter(df_country.sort_values(by=['review_mean']), x=\"country_plain\", y=\"review_mean\", color=\"review_mean\")\n",
    "fig.show()"
   ]
  },
  {
   "cell_type": "code",
   "execution_count": null,
   "metadata": {},
   "outputs": [],
   "source": [
    "df_country_rating = df[df['review_count']>50].groupby([\"country_plain\", \"country_alpha_3\"]).mean().reset_index()\n",
    "fig = px.choropleth(df_country_rating, locations=\"country_alpha_3\",\n",
    "                    color=\"review_mean\", # lifeExp is a column of gapminder\n",
    "                    hover_name=\"country_plain\", # column to add to hover information\n",
    "                    color_continuous_scale=px.colors.sequential.Plasma,\n",
    "                   height=1000)\n",
    "fig.show()"
   ]
  },
  {
   "cell_type": "markdown",
   "metadata": {},
   "source": [
    "## Austria"
   ]
  },
  {
   "cell_type": "markdown",
   "metadata": {},
   "source": [
    "### Q16: What are the best/worst beers in Austria?"
   ]
  },
  {
   "cell_type": "code",
   "execution_count": null,
   "metadata": {},
   "outputs": [],
   "source": [
    "df_austria = df\n",
    "df_austria[\"brewery_and_beer\"] = df[\"brewery_name\"] + \": \" + df[\"beer_name\"]\n",
    "df_austria_grouped = df_austria[(df_austria['country_plain']==\"Austria\") & (df_austria['review_count']>5)].groupby([\"beer_name\", \"brewery_name\"]).mean().reset_index().round(4)\n",
    "df_austria_grouped.sort_values(by=['review_mean'], ascending=False).head()"
   ]
  },
  {
   "cell_type": "code",
   "execution_count": null,
   "metadata": {},
   "outputs": [],
   "source": [
    "df_austria_grouped.sort_values(by=['review_mean']).head()"
   ]
  },
  {
   "cell_type": "markdown",
   "metadata": {},
   "source": [
    "#### Austria beer overview by mean rating"
   ]
  },
  {
   "cell_type": "code",
   "execution_count": null,
   "metadata": {},
   "outputs": [],
   "source": [
    "fig = px.scatter(df_austria[(df_austria['country_plain']==\"Austria\") & (df_austria['review_count']>5)].groupby(\"brewery_and_beer\").mean().reset_index().round(4).sort_values(by=['review_mean']), x=\"brewery_and_beer\", y=\"review_mean\", color=\"review_mean\", height=500)\n",
    "fig.show()"
   ]
  },
  {
   "cell_type": "markdown",
   "metadata": {},
   "source": [
    "### Q17: What are the most famous beer in Austria (by number of ratings)?"
   ]
  },
  {
   "cell_type": "code",
   "execution_count": null,
   "metadata": {},
   "outputs": [],
   "source": [
    "df_austria_grouped.sort_values(by=['review_count'], ascending=False).head()"
   ]
  },
  {
   "cell_type": "markdown",
   "metadata": {},
   "source": [
    "# Machine Learning"
   ]
  },
  {
   "cell_type": "code",
   "execution_count": null,
   "metadata": {},
   "outputs": [],
   "source": [
    "df.head() "
   ]
  },
  {
   "cell_type": "code",
   "execution_count": 298,
   "metadata": {},
   "outputs": [],
   "source": [
    "df_ml = df.drop([\"review_count\", \"brewery_name\",\"review_profilename\", \"review_time\", \"beer_name\", \"country_plain\", \"review_overall\", \"review_aroma\", \"review_appearance\", \"review_palate\", \"review_taste\", \"brewery_id\", \"beer_beerid\"], axis=1)"
   ]
  },
  {
   "cell_type": "code",
   "execution_count": 299,
   "metadata": {},
   "outputs": [],
   "source": [
    "categorical_columns = [\"beer_style\", \"country_alpha_3\"]"
   ]
  },
  {
   "cell_type": "code",
   "execution_count": 300,
   "metadata": {},
   "outputs": [],
   "source": [
    "for col in categorical_columns:\n",
    "    df_ml[col] = df_ml[col].astype('category')"
   ]
  },
  {
   "cell_type": "code",
   "execution_count": null,
   "metadata": {},
   "outputs": [],
   "source": [
    "df_ml.head()"
   ]
  },
  {
   "cell_type": "code",
   "execution_count": 302,
   "metadata": {},
   "outputs": [
    {
     "data": {
      "text/plain": [
       "beer_style         category\n",
       "beer_abv            float64\n",
       "country_alpha_3    category\n",
       "review_mean         float64\n",
       "dtype: object"
      ]
     },
     "execution_count": 302,
     "metadata": {},
     "output_type": "execute_result"
    }
   ],
   "source": [
    "df_ml.dtypes"
   ]
  },
  {
   "cell_type": "code",
   "execution_count": 303,
   "metadata": {},
   "outputs": [],
   "source": [
    "df_ml = pd.get_dummies(df_ml, drop_first=True)"
   ]
  },
  {
   "cell_type": "code",
   "execution_count": 304,
   "metadata": {},
   "outputs": [
    {
     "data": {
      "text/html": [
       "<div>\n",
       "<style scoped>\n",
       "    .dataframe tbody tr th:only-of-type {\n",
       "        vertical-align: middle;\n",
       "    }\n",
       "\n",
       "    .dataframe tbody tr th {\n",
       "        vertical-align: top;\n",
       "    }\n",
       "\n",
       "    .dataframe thead th {\n",
       "        text-align: right;\n",
       "    }\n",
       "</style>\n",
       "<table border=\"1\" class=\"dataframe\">\n",
       "  <thead>\n",
       "    <tr style=\"text-align: right;\">\n",
       "      <th></th>\n",
       "      <th>beer_abv</th>\n",
       "      <th>review_mean</th>\n",
       "      <th>beer_style_American Adjunct Lager</th>\n",
       "      <th>beer_style_American Amber / Red Ale</th>\n",
       "      <th>beer_style_American Amber / Red Lager</th>\n",
       "      <th>beer_style_American Barleywine</th>\n",
       "      <th>beer_style_American Black Ale</th>\n",
       "      <th>beer_style_American Blonde Ale</th>\n",
       "      <th>beer_style_American Brown Ale</th>\n",
       "      <th>beer_style_American Dark Wheat Ale</th>\n",
       "      <th>...</th>\n",
       "      <th>country_alpha_3_USA</th>\n",
       "      <th>country_alpha_3_UZB</th>\n",
       "      <th>country_alpha_3_VCT</th>\n",
       "      <th>country_alpha_3_VEN</th>\n",
       "      <th>country_alpha_3_VIR</th>\n",
       "      <th>country_alpha_3_VNM</th>\n",
       "      <th>country_alpha_3_VUT</th>\n",
       "      <th>country_alpha_3_WSM</th>\n",
       "      <th>country_alpha_3_ZAF</th>\n",
       "      <th>country_alpha_3_ZWE</th>\n",
       "    </tr>\n",
       "  </thead>\n",
       "  <tbody>\n",
       "    <tr>\n",
       "      <th>0</th>\n",
       "      <td>5.0</td>\n",
       "      <td>1.8</td>\n",
       "      <td>0</td>\n",
       "      <td>0</td>\n",
       "      <td>0</td>\n",
       "      <td>0</td>\n",
       "      <td>0</td>\n",
       "      <td>0</td>\n",
       "      <td>0</td>\n",
       "      <td>0</td>\n",
       "      <td>...</td>\n",
       "      <td>0</td>\n",
       "      <td>0</td>\n",
       "      <td>0</td>\n",
       "      <td>0</td>\n",
       "      <td>0</td>\n",
       "      <td>0</td>\n",
       "      <td>0</td>\n",
       "      <td>0</td>\n",
       "      <td>0</td>\n",
       "      <td>0</td>\n",
       "    </tr>\n",
       "    <tr>\n",
       "      <th>1</th>\n",
       "      <td>6.2</td>\n",
       "      <td>2.9</td>\n",
       "      <td>0</td>\n",
       "      <td>0</td>\n",
       "      <td>0</td>\n",
       "      <td>0</td>\n",
       "      <td>0</td>\n",
       "      <td>0</td>\n",
       "      <td>0</td>\n",
       "      <td>0</td>\n",
       "      <td>...</td>\n",
       "      <td>0</td>\n",
       "      <td>0</td>\n",
       "      <td>0</td>\n",
       "      <td>0</td>\n",
       "      <td>0</td>\n",
       "      <td>0</td>\n",
       "      <td>0</td>\n",
       "      <td>0</td>\n",
       "      <td>0</td>\n",
       "      <td>0</td>\n",
       "    </tr>\n",
       "    <tr>\n",
       "      <th>2</th>\n",
       "      <td>6.5</td>\n",
       "      <td>2.9</td>\n",
       "      <td>0</td>\n",
       "      <td>0</td>\n",
       "      <td>0</td>\n",
       "      <td>0</td>\n",
       "      <td>0</td>\n",
       "      <td>0</td>\n",
       "      <td>0</td>\n",
       "      <td>0</td>\n",
       "      <td>...</td>\n",
       "      <td>0</td>\n",
       "      <td>0</td>\n",
       "      <td>0</td>\n",
       "      <td>0</td>\n",
       "      <td>0</td>\n",
       "      <td>0</td>\n",
       "      <td>0</td>\n",
       "      <td>0</td>\n",
       "      <td>0</td>\n",
       "      <td>0</td>\n",
       "    </tr>\n",
       "    <tr>\n",
       "      <th>3</th>\n",
       "      <td>5.0</td>\n",
       "      <td>3.0</td>\n",
       "      <td>0</td>\n",
       "      <td>0</td>\n",
       "      <td>0</td>\n",
       "      <td>0</td>\n",
       "      <td>0</td>\n",
       "      <td>0</td>\n",
       "      <td>0</td>\n",
       "      <td>0</td>\n",
       "      <td>...</td>\n",
       "      <td>0</td>\n",
       "      <td>0</td>\n",
       "      <td>0</td>\n",
       "      <td>0</td>\n",
       "      <td>0</td>\n",
       "      <td>0</td>\n",
       "      <td>0</td>\n",
       "      <td>0</td>\n",
       "      <td>0</td>\n",
       "      <td>0</td>\n",
       "    </tr>\n",
       "    <tr>\n",
       "      <th>4</th>\n",
       "      <td>7.7</td>\n",
       "      <td>4.2</td>\n",
       "      <td>0</td>\n",
       "      <td>0</td>\n",
       "      <td>0</td>\n",
       "      <td>0</td>\n",
       "      <td>0</td>\n",
       "      <td>0</td>\n",
       "      <td>0</td>\n",
       "      <td>0</td>\n",
       "      <td>...</td>\n",
       "      <td>1</td>\n",
       "      <td>0</td>\n",
       "      <td>0</td>\n",
       "      <td>0</td>\n",
       "      <td>0</td>\n",
       "      <td>0</td>\n",
       "      <td>0</td>\n",
       "      <td>0</td>\n",
       "      <td>0</td>\n",
       "      <td>0</td>\n",
       "    </tr>\n",
       "  </tbody>\n",
       "</table>\n",
       "<p>5 rows × 247 columns</p>\n",
       "</div>"
      ],
      "text/plain": [
       "   beer_abv  review_mean  beer_style_American Adjunct Lager  \\\n",
       "0       5.0          1.8                                  0   \n",
       "1       6.2          2.9                                  0   \n",
       "2       6.5          2.9                                  0   \n",
       "3       5.0          3.0                                  0   \n",
       "4       7.7          4.2                                  0   \n",
       "\n",
       "   beer_style_American Amber / Red Ale  beer_style_American Amber / Red Lager  \\\n",
       "0                                    0                                      0   \n",
       "1                                    0                                      0   \n",
       "2                                    0                                      0   \n",
       "3                                    0                                      0   \n",
       "4                                    0                                      0   \n",
       "\n",
       "   beer_style_American Barleywine  beer_style_American Black Ale  \\\n",
       "0                               0                              0   \n",
       "1                               0                              0   \n",
       "2                               0                              0   \n",
       "3                               0                              0   \n",
       "4                               0                              0   \n",
       "\n",
       "   beer_style_American Blonde Ale  beer_style_American Brown Ale  \\\n",
       "0                               0                              0   \n",
       "1                               0                              0   \n",
       "2                               0                              0   \n",
       "3                               0                              0   \n",
       "4                               0                              0   \n",
       "\n",
       "   beer_style_American Dark Wheat Ale  ...  country_alpha_3_USA  \\\n",
       "0                                   0  ...                    0   \n",
       "1                                   0  ...                    0   \n",
       "2                                   0  ...                    0   \n",
       "3                                   0  ...                    0   \n",
       "4                                   0  ...                    1   \n",
       "\n",
       "   country_alpha_3_UZB  country_alpha_3_VCT  country_alpha_3_VEN  \\\n",
       "0                    0                    0                    0   \n",
       "1                    0                    0                    0   \n",
       "2                    0                    0                    0   \n",
       "3                    0                    0                    0   \n",
       "4                    0                    0                    0   \n",
       "\n",
       "   country_alpha_3_VIR  country_alpha_3_VNM  country_alpha_3_VUT  \\\n",
       "0                    0                    0                    0   \n",
       "1                    0                    0                    0   \n",
       "2                    0                    0                    0   \n",
       "3                    0                    0                    0   \n",
       "4                    0                    0                    0   \n",
       "\n",
       "   country_alpha_3_WSM  country_alpha_3_ZAF  country_alpha_3_ZWE  \n",
       "0                    0                    0                    0  \n",
       "1                    0                    0                    0  \n",
       "2                    0                    0                    0  \n",
       "3                    0                    0                    0  \n",
       "4                    0                    0                    0  \n",
       "\n",
       "[5 rows x 247 columns]"
      ]
     },
     "execution_count": 304,
     "metadata": {},
     "output_type": "execute_result"
    }
   ],
   "source": [
    "df_ml.head()"
   ]
  },
  {
   "cell_type": "code",
   "execution_count": 383,
   "metadata": {},
   "outputs": [],
   "source": [
    "df_ml = df_ml.groupby([\"beer_abv\"]).mean().reset_index()\n",
    "y = df_ml[df_ml['beer_abv']<10].review_mean\n",
    "X = df_ml[df_ml['beer_abv']<10].drop([\"review_mean\"], axis=1)\n",
    "X_train, X_test, y_train, y_test = train_test_split(X, y, test_size=0.33, random_state=42)\n",
    "\n",
    "#X_train = preprocessing.scale(X_train)\n",
    "#X_test = preprocessing.scale(X_test)\n",
    "#y_train = preprocessing.scale(y_train)\n",
    "#y_test = preprocessing.scale(y_test)"
   ]
  },
  {
   "cell_type": "code",
   "execution_count": 367,
   "metadata": {},
   "outputs": [
    {
     "data": {
      "application/vnd.plotly.v1+json": {
       "config": {
        "plotlyServerURL": "https://plot.ly"
       },
       "data": [
        {
         "hovertemplate": "beer_abv=%{x}<br>review_mean=%{y}<extra></extra>",
         "legendgroup": "",
         "marker": {
          "color": "#636efa",
          "symbol": "circle"
         },
         "mode": "markers",
         "name": "",
         "showlegend": false,
         "type": "scatter",
         "x": [
          0.01,
          0.05,
          0.08,
          0.1,
          0.25,
          0.3,
          0.4,
          0.45,
          0.5,
          0.7,
          0.8,
          0.9,
          1,
          1.2,
          1.25,
          1.3,
          1.4,
          1.5,
          1.7,
          1.8,
          1.9,
          2,
          2.1,
          2.16,
          2.2,
          2.25,
          2.3,
          2.4,
          2.5,
          2.6,
          2.7,
          2.75,
          2.8,
          2.9,
          2.92,
          3,
          3.1,
          3.13,
          3.2,
          3.22,
          3.25,
          3.3,
          3.4,
          3.44,
          3.5,
          3.53,
          3.54,
          3.6,
          3.61,
          3.65,
          3.67,
          3.7,
          3.71,
          3.75,
          3.79,
          3.8,
          3.88,
          3.9,
          3.93,
          3.95,
          3.99,
          4,
          4.01,
          4.06,
          4.08,
          4.1,
          4.13,
          4.14,
          4.15,
          4.16,
          4.17,
          4.19,
          4.2,
          4.25,
          4.26,
          4.28,
          4.29,
          4.3,
          4.31,
          4.32,
          4.33,
          4.34,
          4.35,
          4.37,
          4.38,
          4.39,
          4.4,
          4.41,
          4.44,
          4.45,
          4.46,
          4.47,
          4.48,
          4.5,
          4.51,
          4.53,
          4.55,
          4.56,
          4.58,
          4.59,
          4.6,
          4.62,
          4.63,
          4.64,
          4.65,
          4.66,
          4.67,
          4.68,
          4.69,
          4.7,
          4.72,
          4.73,
          4.74,
          4.75,
          4.76,
          4.77,
          4.78,
          4.79,
          4.8,
          4.81,
          4.83,
          4.85,
          4.86,
          4.87,
          4.88,
          4.89,
          4.9,
          4.91,
          4.94,
          4.95,
          4.96,
          4.97,
          4.98,
          4.99,
          5,
          5.01,
          5.02,
          5.04,
          5.05,
          5.06,
          5.07,
          5.09,
          5.1,
          5.11,
          5.12,
          5.13,
          5.14,
          5.15,
          5.16,
          5.17,
          5.18,
          5.19,
          5.2,
          5.21,
          5.23,
          5.24,
          5.25,
          5.27,
          5.28,
          5.29,
          5.3,
          5.31,
          5.32,
          5.33,
          5.34,
          5.35,
          5.36,
          5.38,
          5.39,
          5.4,
          5.41,
          5.42,
          5.43,
          5.44,
          5.45,
          5.46,
          5.47,
          5.48,
          5.5,
          5.51,
          5.52,
          5.53,
          5.54,
          5.55,
          5.56,
          5.57,
          5.58,
          5.59,
          5.6,
          5.61,
          5.62,
          5.63,
          5.64,
          5.65,
          5.67,
          5.68,
          5.69,
          5.7,
          5.72,
          5.73,
          5.74,
          5.75,
          5.77,
          5.78,
          5.79,
          5.8,
          5.81,
          5.82,
          5.83,
          5.85,
          5.86,
          5.87,
          5.88,
          5.89,
          5.9,
          5.91,
          5.93,
          5.94,
          5.95,
          5.97,
          5.98,
          5.99,
          6,
          6.04,
          6.07,
          6.08,
          6.09,
          6.1,
          6.11,
          6.13,
          6.14,
          6.15,
          6.18,
          6.19,
          6.2,
          6.21,
          6.23,
          6.24,
          6.25,
          6.27,
          6.29,
          6.3,
          6.31,
          6.32,
          6.33,
          6.35,
          6.38,
          6.4,
          6.42,
          6.45,
          6.5,
          6.55,
          6.56,
          6.58,
          6.59,
          6.6,
          6.61,
          6.65,
          6.66,
          6.67,
          6.7,
          6.71,
          6.72,
          6.75,
          6.77,
          6.78,
          6.8,
          6.82,
          6.83,
          6.85,
          6.86,
          6.87,
          6.88,
          6.9,
          6.95,
          6.98,
          7,
          7.07,
          7.08,
          7.09,
          7.1,
          7.13,
          7.15,
          7.17,
          7.2,
          7.21,
          7.23,
          7.24,
          7.25,
          7.26,
          7.3,
          7.33,
          7.35,
          7.37,
          7.39,
          7.4,
          7.43,
          7.45,
          7.48,
          7.5,
          7.51,
          7.52,
          7.57,
          7.58,
          7.6,
          7.61,
          7.62,
          7.67,
          7.68,
          7.69,
          7.7,
          7.71,
          7.74,
          7.75,
          7.77,
          7.79,
          7.8,
          7.82,
          7.83,
          7.85,
          7.87,
          7.88,
          7.9,
          7.92,
          7.99,
          8,
          8.02,
          8.03,
          8.06,
          8.08,
          8.1,
          8.12,
          8.17,
          8.19,
          8.2,
          8.21,
          8.24,
          8.25,
          8.26,
          8.27,
          8.3,
          8.33,
          8.34,
          8.35,
          8.4,
          8.41,
          8.47,
          8.5,
          8.55,
          8.59,
          8.6,
          8.65,
          8.66,
          8.67,
          8.69,
          8.7,
          8.72,
          8.74,
          8.75,
          8.8,
          8.85,
          8.88,
          8.9,
          8.97,
          9,
          9.04,
          9.05,
          9.1,
          9.15,
          9.18,
          9.2,
          9.23,
          9.25,
          9.28,
          9.3,
          9.35,
          9.39,
          9.4,
          9.44,
          9.46,
          9.5,
          9.54,
          9.6,
          9.61,
          9.62,
          9.7,
          9.71,
          9.73,
          9.74,
          9.75,
          9.78,
          9.8,
          9.85,
          9.9,
          9.91,
          9.96,
          9.99,
          10,
          10.01,
          10.03,
          10.06,
          10.08,
          10.1,
          10.13,
          10.14,
          10.17,
          10.2,
          10.24,
          10.25,
          10.27,
          10.28,
          10.3,
          10.31,
          10.37,
          10.4,
          10.43,
          10.5,
          10.58,
          10.6,
          10.7,
          10.75,
          10.76,
          10.8,
          10.9,
          10.98,
          11,
          11.01,
          11.03,
          11.04,
          11.1,
          11.15,
          11.2,
          11.25,
          11.26,
          11.3,
          11.4,
          11.41,
          11.5,
          11.59,
          11.6,
          11.65,
          11.67,
          11.7,
          11.75,
          11.8,
          11.9,
          11.99,
          12,
          12.1,
          12.12,
          12.2,
          12.25,
          12.3,
          12.4,
          12.5,
          12.6,
          12.7,
          12.8,
          12.9
         ],
         "xaxis": "x",
         "y": [
          2.34,
          2.223529411764706,
          1.2,
          2.7636363636363637,
          2.3333333333333335,
          2.902564102564102,
          2.2081081081081075,
          3.0672727272727283,
          2.5896020539152778,
          3.1333333333333333,
          3.35,
          2.6999999999999997,
          2.766666666666666,
          2.722641509433962,
          2.7,
          4.1,
          3.1,
          2.2583333333333333,
          3.325,
          3.682352941176471,
          3.733333333333333,
          3.3019230769230763,
          2.4749999999999996,
          3.266666666666667,
          2.519230769230769,
          2.4000000000000004,
          2.2505882352941176,
          2.306249999999999,
          3.757876712328768,
          2.997435897435898,
          2.6102040816326535,
          3.7,
          2.719174757281553,
          3.1272727272727288,
          2.6666666666666665,
          3.475923392612861,
          3.871618037135276,
          3.2600000000000002,
          3.3293064876957486,
          2.75,
          3.6533333333333338,
          3.031837307152872,
          3.452655367231639,
          2.3666666666666667,
          3.2470630630630617,
          3.8,
          3.9,
          3.4223931623931607,
          3.1,
          3.237349397590363,
          2.9875000000000003,
          3.304104903078679,
          3.3,
          3.6906249999999994,
          2.46,
          3.501086394205899,
          2.590789473684211,
          3.389669926650368,
          2.56,
          2.4000000000000004,
          4.1,
          3.5520251744765603,
          3.016190476190474,
          3.233333333333333,
          3.66,
          3.0823682160477777,
          2.6398692810457507,
          3.7090909090909094,
          2.6777777777777776,
          3.1904761904761907,
          2.3168362627197054,
          3.2753012048192773,
          3.0779409391640913,
          3.536482939632548,
          2.7,
          3.0402061855670093,
          2.95,
          3.439311871912804,
          3.8,
          3.3949999999999996,
          3.6700000000000004,
          2.9,
          3.4336734693877524,
          3.0666666666666664,
          3.1769230769230776,
          3.73270142180095,
          3.5148456440924587,
          4.15,
          3.2,
          2.3,
          3.2375,
          3.4714285714285715,
          3.329824561403508,
          3.413250178918335,
          3.45,
          3.3374999999999995,
          3.0634920634920646,
          3.85,
          3.025,
          4,
          3.2373534105891304,
          3.295890410958904,
          3.5545454545454547,
          3.5571428571428574,
          3.2340540540540545,
          2.5828854314002814,
          3.1535714285714294,
          3.3820754716981143,
          4.074999999999999,
          3.4085815423514507,
          2.75791962174941,
          2.9796610169491524,
          3.0613433858807366,
          3.537617554858935,
          3.966666666666667,
          3.575,
          2.983505154639176,
          3.656521739130435,
          3.553728037797142,
          3.3290322580645157,
          3.888888888888889,
          3.6204705882353,
          3.066666666666666,
          3.6999999999999997,
          3.7944444444444443,
          3.4162500000000002,
          3.597928400336636,
          3.7249999999999996,
          3.676949740034662,
          3.6715094339622634,
          3.318796992481203,
          2.766666666666667,
          3.3846511627906994,
          3.533333333333333,
          3.5148149845553003,
          3.681927710843374,
          3.5818181818181816,
          3.95,
          3.687790697674416,
          3.5599999999999996,
          3.76,
          3.6,
          3.614201536807739,
          3.468965517241379,
          3.168,
          3.4981770833333345,
          3.5,
          3.844609164420482,
          3.503658536585365,
          3.9702702702702704,
          3.56530612244898,
          3.093333333333333,
          3.6385138259502923,
          3.5633986928104577,
          3.507906976744186,
          3.4023809523809527,
          3.7266384778012682,
          3.76551724137931,
          3.376470588235294,
          3.9083333333333337,
          3.6612347377472125,
          3.5624999999999982,
          4.3,
          3.1153846153846154,
          3.366363636363638,
          3.6386075949367056,
          4.5,
          3.4068965517241385,
          3.8926829268292673,
          3.698514178721339,
          3.2343358395989967,
          3.4439790575916227,
          3.994117647058823,
          3.65,
          3.774783861671472,
          3.4705263157894746,
          3.55,
          4.2,
          3.6755546516161273,
          3.5013157894736846,
          3.8333333333333313,
          4.075,
          3.5250000000000004,
          3.95,
          3.4906976744186045,
          3.573568281938326,
          3.4744680851063827,
          3.515384615384614,
          3.721489604594063,
          2.5699275362318845,
          3.304166666666667,
          3.2317073170731714,
          3.9666666666666663,
          3.562857142857144,
          4.1,
          3.7586301369863024,
          3.575,
          3.6912739208521534,
          3.5375000000000005,
          3.572189349112424,
          3.533333333333333,
          3.671595900439248,
          3.428271251193884,
          3.6750000000000003,
          3.77877358490566,
          3.8063187005531063,
          3.9555555555555566,
          4,
          3.65,
          4,
          2.9049180327868847,
          4.1,
          3.4566037735849067,
          3.8,
          3.682017392801811,
          3.8874999999999993,
          3.376907216494844,
          3.6643067846607678,
          3.8624060150375916,
          3.809090909090909,
          3.807692307692307,
          4.119999999999999,
          3.8306987487380524,
          4.1,
          3.3200000000000003,
          3.7743243243243243,
          3.9,
          3.937926271259615,
          3.7,
          3.661538461538461,
          4.066666666666666,
          3.711111111111111,
          4.2,
          4.233333333333333,
          3.8180484288198153,
          3.818681318681317,
          4.366666666666667,
          3.908000000000001,
          3.8280624999999953,
          3.9,
          4.5,
          3.804876177953094,
          3.9320000000000004,
          4.25,
          3.9714893617021265,
          3.9595744680851053,
          3.7849999999999993,
          3.820969945355192,
          3.7999999999999994,
          3.8583333333333325,
          3.8499359000869258,
          2.1625,
          4,
          3.6375,
          3.75,
          3.855021883065858,
          3.1727272727272724,
          4.1,
          3.631616341030197,
          4.025,
          3.978682429211606,
          3.7291666666666674,
          3.8823529411764706,
          3.964540956569545,
          3.883333333333333,
          4,
          3.888358489580605,
          3.6636363636363636,
          4.5687500000000005,
          3.8142857142857145,
          4.046153846153845,
          4.366666666666667,
          3.8863636363636345,
          4.004544193145525,
          3.869565217391304,
          4.05,
          3.9162954614272354,
          4.1,
          4.18,
          4.075,
          3.8803394858272893,
          3.740476190476191,
          4.037837837837841,
          4,
          3.954925626859369,
          3.8,
          3.7571428571428567,
          3.8666666666666667,
          4.121900826446288,
          4.25,
          3.8591459074733097,
          4.029166666666666,
          3.9250000000000003,
          4.2125,
          4.279999999999999,
          3.870351217410036,
          3.6901098901098903,
          4.001132075471697,
          3.8678571428571424,
          3.9340554874541254,
          4.4,
          4.233333333333333,
          3.8000000000000003,
          3.8268115942028977,
          3.888813886210215,
          3.9799999999999995,
          3.5666666666666664,
          3.9000000000000004,
          3.6090425531914905,
          3.787922705314008,
          4.057058101472982,
          3.525,
          3.6,
          4.033549959382608,
          4.0562499999999995,
          3.661739130434782,
          3.870336710369481,
          3.7454545454545456,
          3.9258389261744955,
          4.084745762711863,
          4.050000000000001,
          2.8,
          3.806167519525996,
          4.0125,
          3.75,
          3.9456533293962406,
          4.26,
          3.6935483870967736,
          4.176470588235294,
          2.3,
          3.8550991094513036,
          3.6524999999999985,
          3,
          3.6450920245398772,
          3.9378286394963076,
          3.4,
          3.85,
          3.8755301794453527,
          4.0200000000000005,
          3.658490566037737,
          4.102717233362397,
          4.08659793814433,
          3.4,
          3.4,
          3.907725907725906,
          3.681422924901187,
          3.546551724137931,
          3.968176264136271,
          4.3,
          3.75,
          3.84818661672059,
          3.865277777777778,
          4.014590747330959,
          3.6500000000000004,
          3.985922330097088,
          4.015631691648806,
          3.929467084639491,
          4.12202380952381,
          3.988131313131316,
          3.9413622011727476,
          4.175,
          3.1,
          3.980683204554702,
          4,
          4.000855148637039,
          3.8157894736842097,
          3.8333333333333335,
          4.026042957455601,
          4.202325581395349,
          4.28,
          4.042010388023196,
          4.033333333333333,
          3.82063882063882,
          4.0811320754716975,
          3.92990015764583,
          4.246478873239438,
          3.674603174603175,
          4.016267095736113,
          4.242857142857143,
          4.060504201680676,
          4.0617031208322265,
          3.92,
          4.004292505592844,
          4.35,
          4.179166666666666,
          3.9566621803499396,
          3.71875,
          3.8729166666666655,
          4,
          3.9986975397974023,
          4.300000000000001,
          3.9816673174541197,
          3.9987012987012975,
          3.862767911818735,
          4.2043750000000015,
          3.6488636363636378,
          3.938903863432162,
          4.013070546994903,
          4.0027027027027025,
          3.8177740863787384,
          4.175187969924813,
          3.761739130434782,
          3.8491195551436514,
          4.1036363636363635,
          3.9288461538461537,
          3.6,
          4.109041024301043,
          3.883333333333333,
          3.667204301075269,
          3.9,
          3.589999999999999,
          4.004412846285852,
          3.969696969696969,
          3.530769230769231,
          3.957604702424689,
          4.4595505617977516,
          4.086042988353389,
          4.6,
          4.133550913838128,
          4.018076644974694,
          4.204000000000001,
          3.8,
          3.951486697965578,
          4.093360995850622,
          4.4,
          4.060537439613533,
          4.2,
          3.8879396984924592,
          4.2,
          3.937414965986405,
          3.975,
          4.27495769881557,
          3.872043010752688,
          4.084789644012946,
          4.346747812856614,
          3.948214285714284,
          3.9,
          4.094221563710947,
          4.1,
          3.8754032258064504,
          3.35483870967742,
          4.06,
          4.069847972972969,
          3.6849999999999996,
          3.8783656672545592,
          4.022457408363442,
          3.785714285714285,
          4.045935592780143,
          3.6316666666666673,
          4.430232558139535,
          4.1965,
          3.934374999999999,
          3.9923076923076923,
          3.79,
          4.133180469382261,
          4.154651162790697,
          4.172822299651566,
          4.262162162162161,
          3.5610619469026563
         ],
         "yaxis": "y"
        }
       ],
       "layout": {
        "autosize": true,
        "legend": {
         "tracegroupgap": 0
        },
        "margin": {
         "t": 60
        },
        "template": {
         "data": {
          "bar": [
           {
            "error_x": {
             "color": "#2a3f5f"
            },
            "error_y": {
             "color": "#2a3f5f"
            },
            "marker": {
             "line": {
              "color": "#E5ECF6",
              "width": 0.5
             }
            },
            "type": "bar"
           }
          ],
          "barpolar": [
           {
            "marker": {
             "line": {
              "color": "#E5ECF6",
              "width": 0.5
             }
            },
            "type": "barpolar"
           }
          ],
          "carpet": [
           {
            "aaxis": {
             "endlinecolor": "#2a3f5f",
             "gridcolor": "white",
             "linecolor": "white",
             "minorgridcolor": "white",
             "startlinecolor": "#2a3f5f"
            },
            "baxis": {
             "endlinecolor": "#2a3f5f",
             "gridcolor": "white",
             "linecolor": "white",
             "minorgridcolor": "white",
             "startlinecolor": "#2a3f5f"
            },
            "type": "carpet"
           }
          ],
          "choropleth": [
           {
            "colorbar": {
             "outlinewidth": 0,
             "ticks": ""
            },
            "type": "choropleth"
           }
          ],
          "contour": [
           {
            "colorbar": {
             "outlinewidth": 0,
             "ticks": ""
            },
            "colorscale": [
             [
              0,
              "#0d0887"
             ],
             [
              0.1111111111111111,
              "#46039f"
             ],
             [
              0.2222222222222222,
              "#7201a8"
             ],
             [
              0.3333333333333333,
              "#9c179e"
             ],
             [
              0.4444444444444444,
              "#bd3786"
             ],
             [
              0.5555555555555556,
              "#d8576b"
             ],
             [
              0.6666666666666666,
              "#ed7953"
             ],
             [
              0.7777777777777778,
              "#fb9f3a"
             ],
             [
              0.8888888888888888,
              "#fdca26"
             ],
             [
              1,
              "#f0f921"
             ]
            ],
            "type": "contour"
           }
          ],
          "contourcarpet": [
           {
            "colorbar": {
             "outlinewidth": 0,
             "ticks": ""
            },
            "type": "contourcarpet"
           }
          ],
          "heatmap": [
           {
            "colorbar": {
             "outlinewidth": 0,
             "ticks": ""
            },
            "colorscale": [
             [
              0,
              "#0d0887"
             ],
             [
              0.1111111111111111,
              "#46039f"
             ],
             [
              0.2222222222222222,
              "#7201a8"
             ],
             [
              0.3333333333333333,
              "#9c179e"
             ],
             [
              0.4444444444444444,
              "#bd3786"
             ],
             [
              0.5555555555555556,
              "#d8576b"
             ],
             [
              0.6666666666666666,
              "#ed7953"
             ],
             [
              0.7777777777777778,
              "#fb9f3a"
             ],
             [
              0.8888888888888888,
              "#fdca26"
             ],
             [
              1,
              "#f0f921"
             ]
            ],
            "type": "heatmap"
           }
          ],
          "heatmapgl": [
           {
            "colorbar": {
             "outlinewidth": 0,
             "ticks": ""
            },
            "colorscale": [
             [
              0,
              "#0d0887"
             ],
             [
              0.1111111111111111,
              "#46039f"
             ],
             [
              0.2222222222222222,
              "#7201a8"
             ],
             [
              0.3333333333333333,
              "#9c179e"
             ],
             [
              0.4444444444444444,
              "#bd3786"
             ],
             [
              0.5555555555555556,
              "#d8576b"
             ],
             [
              0.6666666666666666,
              "#ed7953"
             ],
             [
              0.7777777777777778,
              "#fb9f3a"
             ],
             [
              0.8888888888888888,
              "#fdca26"
             ],
             [
              1,
              "#f0f921"
             ]
            ],
            "type": "heatmapgl"
           }
          ],
          "histogram": [
           {
            "marker": {
             "colorbar": {
              "outlinewidth": 0,
              "ticks": ""
             }
            },
            "type": "histogram"
           }
          ],
          "histogram2d": [
           {
            "colorbar": {
             "outlinewidth": 0,
             "ticks": ""
            },
            "colorscale": [
             [
              0,
              "#0d0887"
             ],
             [
              0.1111111111111111,
              "#46039f"
             ],
             [
              0.2222222222222222,
              "#7201a8"
             ],
             [
              0.3333333333333333,
              "#9c179e"
             ],
             [
              0.4444444444444444,
              "#bd3786"
             ],
             [
              0.5555555555555556,
              "#d8576b"
             ],
             [
              0.6666666666666666,
              "#ed7953"
             ],
             [
              0.7777777777777778,
              "#fb9f3a"
             ],
             [
              0.8888888888888888,
              "#fdca26"
             ],
             [
              1,
              "#f0f921"
             ]
            ],
            "type": "histogram2d"
           }
          ],
          "histogram2dcontour": [
           {
            "colorbar": {
             "outlinewidth": 0,
             "ticks": ""
            },
            "colorscale": [
             [
              0,
              "#0d0887"
             ],
             [
              0.1111111111111111,
              "#46039f"
             ],
             [
              0.2222222222222222,
              "#7201a8"
             ],
             [
              0.3333333333333333,
              "#9c179e"
             ],
             [
              0.4444444444444444,
              "#bd3786"
             ],
             [
              0.5555555555555556,
              "#d8576b"
             ],
             [
              0.6666666666666666,
              "#ed7953"
             ],
             [
              0.7777777777777778,
              "#fb9f3a"
             ],
             [
              0.8888888888888888,
              "#fdca26"
             ],
             [
              1,
              "#f0f921"
             ]
            ],
            "type": "histogram2dcontour"
           }
          ],
          "mesh3d": [
           {
            "colorbar": {
             "outlinewidth": 0,
             "ticks": ""
            },
            "type": "mesh3d"
           }
          ],
          "parcoords": [
           {
            "line": {
             "colorbar": {
              "outlinewidth": 0,
              "ticks": ""
             }
            },
            "type": "parcoords"
           }
          ],
          "pie": [
           {
            "automargin": true,
            "type": "pie"
           }
          ],
          "scatter": [
           {
            "marker": {
             "colorbar": {
              "outlinewidth": 0,
              "ticks": ""
             }
            },
            "type": "scatter"
           }
          ],
          "scatter3d": [
           {
            "line": {
             "colorbar": {
              "outlinewidth": 0,
              "ticks": ""
             }
            },
            "marker": {
             "colorbar": {
              "outlinewidth": 0,
              "ticks": ""
             }
            },
            "type": "scatter3d"
           }
          ],
          "scattercarpet": [
           {
            "marker": {
             "colorbar": {
              "outlinewidth": 0,
              "ticks": ""
             }
            },
            "type": "scattercarpet"
           }
          ],
          "scattergeo": [
           {
            "marker": {
             "colorbar": {
              "outlinewidth": 0,
              "ticks": ""
             }
            },
            "type": "scattergeo"
           }
          ],
          "scattergl": [
           {
            "marker": {
             "colorbar": {
              "outlinewidth": 0,
              "ticks": ""
             }
            },
            "type": "scattergl"
           }
          ],
          "scattermapbox": [
           {
            "marker": {
             "colorbar": {
              "outlinewidth": 0,
              "ticks": ""
             }
            },
            "type": "scattermapbox"
           }
          ],
          "scatterpolar": [
           {
            "marker": {
             "colorbar": {
              "outlinewidth": 0,
              "ticks": ""
             }
            },
            "type": "scatterpolar"
           }
          ],
          "scatterpolargl": [
           {
            "marker": {
             "colorbar": {
              "outlinewidth": 0,
              "ticks": ""
             }
            },
            "type": "scatterpolargl"
           }
          ],
          "scatterternary": [
           {
            "marker": {
             "colorbar": {
              "outlinewidth": 0,
              "ticks": ""
             }
            },
            "type": "scatterternary"
           }
          ],
          "surface": [
           {
            "colorbar": {
             "outlinewidth": 0,
             "ticks": ""
            },
            "colorscale": [
             [
              0,
              "#0d0887"
             ],
             [
              0.1111111111111111,
              "#46039f"
             ],
             [
              0.2222222222222222,
              "#7201a8"
             ],
             [
              0.3333333333333333,
              "#9c179e"
             ],
             [
              0.4444444444444444,
              "#bd3786"
             ],
             [
              0.5555555555555556,
              "#d8576b"
             ],
             [
              0.6666666666666666,
              "#ed7953"
             ],
             [
              0.7777777777777778,
              "#fb9f3a"
             ],
             [
              0.8888888888888888,
              "#fdca26"
             ],
             [
              1,
              "#f0f921"
             ]
            ],
            "type": "surface"
           }
          ],
          "table": [
           {
            "cells": {
             "fill": {
              "color": "#EBF0F8"
             },
             "line": {
              "color": "white"
             }
            },
            "header": {
             "fill": {
              "color": "#C8D4E3"
             },
             "line": {
              "color": "white"
             }
            },
            "type": "table"
           }
          ]
         },
         "layout": {
          "annotationdefaults": {
           "arrowcolor": "#2a3f5f",
           "arrowhead": 0,
           "arrowwidth": 1
          },
          "coloraxis": {
           "colorbar": {
            "outlinewidth": 0,
            "ticks": ""
           }
          },
          "colorscale": {
           "diverging": [
            [
             0,
             "#8e0152"
            ],
            [
             0.1,
             "#c51b7d"
            ],
            [
             0.2,
             "#de77ae"
            ],
            [
             0.3,
             "#f1b6da"
            ],
            [
             0.4,
             "#fde0ef"
            ],
            [
             0.5,
             "#f7f7f7"
            ],
            [
             0.6,
             "#e6f5d0"
            ],
            [
             0.7,
             "#b8e186"
            ],
            [
             0.8,
             "#7fbc41"
            ],
            [
             0.9,
             "#4d9221"
            ],
            [
             1,
             "#276419"
            ]
           ],
           "sequential": [
            [
             0,
             "#0d0887"
            ],
            [
             0.1111111111111111,
             "#46039f"
            ],
            [
             0.2222222222222222,
             "#7201a8"
            ],
            [
             0.3333333333333333,
             "#9c179e"
            ],
            [
             0.4444444444444444,
             "#bd3786"
            ],
            [
             0.5555555555555556,
             "#d8576b"
            ],
            [
             0.6666666666666666,
             "#ed7953"
            ],
            [
             0.7777777777777778,
             "#fb9f3a"
            ],
            [
             0.8888888888888888,
             "#fdca26"
            ],
            [
             1,
             "#f0f921"
            ]
           ],
           "sequentialminus": [
            [
             0,
             "#0d0887"
            ],
            [
             0.1111111111111111,
             "#46039f"
            ],
            [
             0.2222222222222222,
             "#7201a8"
            ],
            [
             0.3333333333333333,
             "#9c179e"
            ],
            [
             0.4444444444444444,
             "#bd3786"
            ],
            [
             0.5555555555555556,
             "#d8576b"
            ],
            [
             0.6666666666666666,
             "#ed7953"
            ],
            [
             0.7777777777777778,
             "#fb9f3a"
            ],
            [
             0.8888888888888888,
             "#fdca26"
            ],
            [
             1,
             "#f0f921"
            ]
           ]
          },
          "colorway": [
           "#636efa",
           "#EF553B",
           "#00cc96",
           "#ab63fa",
           "#FFA15A",
           "#19d3f3",
           "#FF6692",
           "#B6E880",
           "#FF97FF",
           "#FECB52"
          ],
          "font": {
           "color": "#2a3f5f"
          },
          "geo": {
           "bgcolor": "white",
           "lakecolor": "white",
           "landcolor": "#E5ECF6",
           "showlakes": true,
           "showland": true,
           "subunitcolor": "white"
          },
          "hoverlabel": {
           "align": "left"
          },
          "hovermode": "closest",
          "mapbox": {
           "style": "light"
          },
          "paper_bgcolor": "white",
          "plot_bgcolor": "#E5ECF6",
          "polar": {
           "angularaxis": {
            "gridcolor": "white",
            "linecolor": "white",
            "ticks": ""
           },
           "bgcolor": "#E5ECF6",
           "radialaxis": {
            "gridcolor": "white",
            "linecolor": "white",
            "ticks": ""
           }
          },
          "scene": {
           "xaxis": {
            "backgroundcolor": "#E5ECF6",
            "gridcolor": "white",
            "gridwidth": 2,
            "linecolor": "white",
            "showbackground": true,
            "ticks": "",
            "zerolinecolor": "white"
           },
           "yaxis": {
            "backgroundcolor": "#E5ECF6",
            "gridcolor": "white",
            "gridwidth": 2,
            "linecolor": "white",
            "showbackground": true,
            "ticks": "",
            "zerolinecolor": "white"
           },
           "zaxis": {
            "backgroundcolor": "#E5ECF6",
            "gridcolor": "white",
            "gridwidth": 2,
            "linecolor": "white",
            "showbackground": true,
            "ticks": "",
            "zerolinecolor": "white"
           }
          },
          "shapedefaults": {
           "line": {
            "color": "#2a3f5f"
           }
          },
          "ternary": {
           "aaxis": {
            "gridcolor": "white",
            "linecolor": "white",
            "ticks": ""
           },
           "baxis": {
            "gridcolor": "white",
            "linecolor": "white",
            "ticks": ""
           },
           "bgcolor": "#E5ECF6",
           "caxis": {
            "gridcolor": "white",
            "linecolor": "white",
            "ticks": ""
           }
          },
          "title": {
           "x": 0.05
          },
          "xaxis": {
           "automargin": true,
           "gridcolor": "white",
           "linecolor": "white",
           "ticks": "",
           "title": {
            "standoff": 15
           },
           "zerolinecolor": "white",
           "zerolinewidth": 2
          },
          "yaxis": {
           "automargin": true,
           "gridcolor": "white",
           "linecolor": "white",
           "ticks": "",
           "title": {
            "standoff": 15
           },
           "zerolinecolor": "white",
           "zerolinewidth": 2
          }
         }
        },
        "xaxis": {
         "anchor": "y",
         "autorange": true,
         "domain": [
          0,
          1
         ],
         "range": [
          -0.7556895596787592,
          13.665689559678759
         ],
         "title": {
          "text": "beer_abv"
         },
         "type": "linear"
        },
        "yaxis": {
         "anchor": "x",
         "autorange": true,
         "domain": [
          0,
          1
         ],
         "range": [
          0.9589318600368324,
          4.841068139963167
         ],
         "title": {
          "text": "review_mean"
         },
         "type": "linear"
        }
       }
      },
      "image/png": "[encoded data removed]",
      "text/html": [
       "<div>\n",
       "        \n",
       "        \n",
       "            <div id=\"350cdf75-3df7-4409-955e-6846990ee164\" class=\"plotly-graph-div\" style=\"height:800px; width:100%;\"></div>\n",
       "            <script type=\"text/javascript\">\n",
       "                require([\"plotly\"], function(Plotly) {\n",
       "                    window.PLOTLYENV=window.PLOTLYENV || {};\n",
       "                    \n",
       "                if (document.getElementById(\"350cdf75-3df7-4409-955e-6846990ee164\")) {\n",
       "                    Plotly.newPlot(\n",
       "                        '350cdf75-3df7-4409-955e-6846990ee164',\n",
       "                        [{\"hovertemplate\": \"beer_abv=%{x}<br>review_mean=%{y}<extra></extra>\", \"legendgroup\": \"\", \"marker\": {\"color\": \"#636efa\", \"symbol\": \"circle\"}, \"mode\": \"markers\", \"name\": \"\", \"showlegend\": false, \"type\": \"scatter\", \"x\": [0.01, 0.05, 0.08, 0.1, 0.25, 0.3, 0.4, 0.45, 0.5, 0.7, 0.8, 0.9, 1.0, 1.2, 1.25, 1.3, 1.4, 1.5, 1.7, 1.8, 1.9, 2.0, 2.1, 2.16, 2.2, 2.25, 2.3, 2.4, 2.5, 2.6, 2.7, 2.75, 2.8, 2.9, 2.92, 3.0, 3.1, 3.13, 3.2, 3.22, 3.25, 3.3, 3.4, 3.44, 3.5, 3.53, 3.54, 3.6, 3.61, 3.65, 3.67, 3.7, 3.71, 3.75, 3.79, 3.8, 3.88, 3.9, 3.93, 3.95, 3.99, 4.0, 4.01, 4.06, 4.08, 4.1, 4.13, 4.14, 4.15, 4.16, 4.17, 4.19, 4.2, 4.25, 4.26, 4.28, 4.29, 4.3, 4.31, 4.32, 4.33, 4.34, 4.35, 4.37, 4.38, 4.39, 4.4, 4.41, 4.44, 4.45, 4.46, 4.47, 4.48, 4.5, 4.51, 4.53, 4.55, 4.56, 4.58, 4.59, 4.6, 4.62, 4.63, 4.64, 4.65, 4.66, 4.67, 4.68, 4.69, 4.7, 4.72, 4.73, 4.74, 4.75, 4.76, 4.77, 4.78, 4.79, 4.8, 4.81, 4.83, 4.85, 4.86, 4.87, 4.88, 4.89, 4.9, 4.91, 4.94, 4.95, 4.96, 4.97, 4.98, 4.99, 5.0, 5.01, 5.02, 5.04, 5.05, 5.06, 5.07, 5.09, 5.1, 5.11, 5.12, 5.13, 5.14, 5.15, 5.16, 5.17, 5.18, 5.19, 5.2, 5.21, 5.23, 5.24, 5.25, 5.27, 5.28, 5.29, 5.3, 5.31, 5.32, 5.33, 5.34, 5.35, 5.36, 5.38, 5.39, 5.4, 5.41, 5.42, 5.43, 5.44, 5.45, 5.46, 5.47, 5.48, 5.5, 5.51, 5.52, 5.53, 5.54, 5.55, 5.56, 5.57, 5.58, 5.59, 5.6, 5.61, 5.62, 5.63, 5.64, 5.65, 5.67, 5.68, 5.69, 5.7, 5.72, 5.73, 5.74, 5.75, 5.77, 5.78, 5.79, 5.8, 5.81, 5.82, 5.83, 5.85, 5.86, 5.87, 5.88, 5.89, 5.9, 5.91, 5.93, 5.94, 5.95, 5.97, 5.98, 5.99, 6.0, 6.04, 6.07, 6.08, 6.09, 6.1, 6.11, 6.13, 6.14, 6.15, 6.18, 6.19, 6.2, 6.21, 6.23, 6.24, 6.25, 6.27, 6.29, 6.3, 6.31, 6.32, 6.33, 6.35, 6.38, 6.4, 6.42, 6.45, 6.5, 6.55, 6.56, 6.58, 6.59, 6.6, 6.61, 6.65, 6.66, 6.67, 6.7, 6.71, 6.72, 6.75, 6.77, 6.78, 6.8, 6.82, 6.83, 6.85, 6.86, 6.87, 6.88, 6.9, 6.95, 6.98, 7.0, 7.07, 7.08, 7.09, 7.1, 7.13, 7.15, 7.17, 7.2, 7.21, 7.23, 7.24, 7.25, 7.26, 7.3, 7.33, 7.35, 7.37, 7.39, 7.4, 7.43, 7.45, 7.48, 7.5, 7.51, 7.52, 7.57, 7.58, 7.6, 7.61, 7.62, 7.67, 7.68, 7.69, 7.7, 7.71, 7.74, 7.75, 7.77, 7.79, 7.8, 7.82, 7.83, 7.85, 7.87, 7.88, 7.9, 7.92, 7.99, 8.0, 8.02, 8.03, 8.06, 8.08, 8.1, 8.12, 8.17, 8.19, 8.2, 8.21, 8.24, 8.25, 8.26, 8.27, 8.3, 8.33, 8.34, 8.35, 8.4, 8.41, 8.47, 8.5, 8.55, 8.59, 8.6, 8.65, 8.66, 8.67, 8.69, 8.7, 8.72, 8.74, 8.75, 8.8, 8.85, 8.88, 8.9, 8.97, 9.0, 9.04, 9.05, 9.1, 9.15, 9.18, 9.2, 9.23, 9.25, 9.28, 9.3, 9.35, 9.39, 9.4, 9.44, 9.46, 9.5, 9.54, 9.6, 9.61, 9.62, 9.7, 9.71, 9.73, 9.74, 9.75, 9.78, 9.8, 9.85, 9.9, 9.91, 9.96, 9.99, 10.0, 10.01, 10.03, 10.06, 10.08, 10.1, 10.13, 10.14, 10.17, 10.2, 10.24, 10.25, 10.27, 10.28, 10.3, 10.31, 10.37, 10.4, 10.43, 10.5, 10.58, 10.6, 10.7, 10.75, 10.76, 10.8, 10.9, 10.98, 11.0, 11.01, 11.03, 11.04, 11.1, 11.15, 11.2, 11.25, 11.26, 11.3, 11.4, 11.41, 11.5, 11.59, 11.6, 11.65, 11.67, 11.7, 11.75, 11.8, 11.9, 11.99, 12.0, 12.1, 12.12, 12.2, 12.25, 12.3, 12.4, 12.5, 12.6, 12.7, 12.8, 12.9], \"xaxis\": \"x\", \"y\": [2.34, 2.223529411764706, 1.2, 2.7636363636363637, 2.3333333333333335, 2.902564102564102, 2.2081081081081075, 3.0672727272727283, 2.5896020539152778, 3.1333333333333333, 3.35, 2.6999999999999997, 2.766666666666666, 2.722641509433962, 2.7, 4.1, 3.1, 2.2583333333333333, 3.325, 3.682352941176471, 3.733333333333333, 3.3019230769230763, 2.4749999999999996, 3.266666666666667, 2.519230769230769, 2.4000000000000004, 2.2505882352941176, 2.306249999999999, 3.757876712328768, 2.997435897435898, 2.6102040816326535, 3.7, 2.719174757281553, 3.1272727272727288, 2.6666666666666665, 3.475923392612861, 3.871618037135276, 3.2600000000000002, 3.3293064876957486, 2.75, 3.6533333333333338, 3.031837307152872, 3.452655367231639, 2.3666666666666667, 3.2470630630630617, 3.8, 3.9, 3.4223931623931607, 3.1, 3.237349397590363, 2.9875000000000003, 3.304104903078679, 3.3, 3.6906249999999994, 2.46, 3.501086394205899, 2.590789473684211, 3.389669926650368, 2.56, 2.4000000000000004, 4.1, 3.5520251744765603, 3.016190476190474, 3.233333333333333, 3.66, 3.0823682160477777, 2.6398692810457507, 3.7090909090909094, 2.6777777777777776, 3.1904761904761907, 2.3168362627197054, 3.2753012048192773, 3.0779409391640913, 3.536482939632548, 2.7, 3.0402061855670093, 2.95, 3.439311871912804, 3.8, 3.3949999999999996, 3.6700000000000004, 2.9, 3.4336734693877524, 3.0666666666666664, 3.1769230769230776, 3.73270142180095, 3.5148456440924587, 4.15, 3.2, 2.3, 3.2375, 3.4714285714285715, 3.329824561403508, 3.413250178918335, 3.45, 3.3374999999999995, 3.0634920634920646, 3.85, 3.025, 4.0, 3.2373534105891304, 3.295890410958904, 3.5545454545454547, 3.5571428571428574, 3.2340540540540545, 2.5828854314002814, 3.1535714285714294, 3.3820754716981143, 4.074999999999999, 3.4085815423514507, 2.75791962174941, 2.9796610169491524, 3.0613433858807366, 3.537617554858935, 3.966666666666667, 3.575, 2.983505154639176, 3.656521739130435, 3.553728037797142, 3.3290322580645157, 3.888888888888889, 3.6204705882353, 3.066666666666666, 3.6999999999999997, 3.7944444444444443, 3.4162500000000002, 3.597928400336636, 3.7249999999999996, 3.676949740034662, 3.6715094339622634, 3.318796992481203, 2.766666666666667, 3.3846511627906994, 3.533333333333333, 3.5148149845553003, 3.681927710843374, 3.5818181818181816, 3.95, 3.687790697674416, 3.5599999999999996, 3.76, 3.6, 3.614201536807739, 3.468965517241379, 3.168, 3.4981770833333345, 3.5, 3.844609164420482, 3.503658536585365, 3.9702702702702704, 3.56530612244898, 3.093333333333333, 3.6385138259502923, 3.5633986928104577, 3.507906976744186, 3.4023809523809527, 3.7266384778012682, 3.76551724137931, 3.376470588235294, 3.9083333333333337, 3.6612347377472125, 3.5624999999999982, 4.3, 3.1153846153846154, 3.366363636363638, 3.6386075949367056, 4.5, 3.4068965517241385, 3.8926829268292673, 3.698514178721339, 3.2343358395989967, 3.4439790575916227, 3.994117647058823, 3.65, 3.774783861671472, 3.4705263157894746, 3.55, 4.2, 3.6755546516161273, 3.5013157894736846, 3.8333333333333313, 4.075, 3.5250000000000004, 3.95, 3.4906976744186045, 3.573568281938326, 3.4744680851063827, 3.515384615384614, 3.721489604594063, 2.5699275362318845, 3.304166666666667, 3.2317073170731714, 3.9666666666666663, 3.562857142857144, 4.1, 3.7586301369863024, 3.575, 3.6912739208521534, 3.5375000000000005, 3.572189349112424, 3.533333333333333, 3.671595900439248, 3.428271251193884, 3.6750000000000003, 3.77877358490566, 3.8063187005531063, 3.9555555555555566, 4.0, 3.65, 4.0, 2.9049180327868847, 4.1, 3.4566037735849067, 3.8, 3.682017392801811, 3.8874999999999993, 3.376907216494844, 3.6643067846607678, 3.8624060150375916, 3.809090909090909, 3.807692307692307, 4.119999999999999, 3.8306987487380524, 4.1, 3.3200000000000003, 3.7743243243243243, 3.9, 3.937926271259615, 3.7, 3.661538461538461, 4.066666666666666, 3.711111111111111, 4.2, 4.233333333333333, 3.8180484288198153, 3.818681318681317, 4.366666666666667, 3.908000000000001, 3.8280624999999953, 3.9, 4.5, 3.804876177953094, 3.9320000000000004, 4.25, 3.9714893617021265, 3.9595744680851053, 3.7849999999999993, 3.820969945355192, 3.7999999999999994, 3.8583333333333325, 3.8499359000869258, 2.1625, 4.0, 3.6375, 3.75, 3.855021883065858, 3.1727272727272724, 4.1, 3.631616341030197, 4.025, 3.978682429211606, 3.7291666666666674, 3.8823529411764706, 3.964540956569545, 3.883333333333333, 4.0, 3.888358489580605, 3.6636363636363636, 4.5687500000000005, 3.8142857142857145, 4.046153846153845, 4.366666666666667, 3.8863636363636345, 4.004544193145525, 3.869565217391304, 4.05, 3.9162954614272354, 4.1, 4.18, 4.075, 3.8803394858272893, 3.740476190476191, 4.037837837837841, 4.0, 3.954925626859369, 3.8, 3.7571428571428567, 3.8666666666666667, 4.121900826446288, 4.25, 3.8591459074733097, 4.029166666666666, 3.9250000000000003, 4.2125, 4.279999999999999, 3.870351217410036, 3.6901098901098903, 4.001132075471697, 3.8678571428571424, 3.9340554874541254, 4.4, 4.233333333333333, 3.8000000000000003, 3.8268115942028977, 3.888813886210215, 3.9799999999999995, 3.5666666666666664, 3.9000000000000004, 3.6090425531914905, 3.787922705314008, 4.057058101472982, 3.525, 3.6, 4.033549959382608, 4.0562499999999995, 3.661739130434782, 3.870336710369481, 3.7454545454545456, 3.9258389261744955, 4.084745762711863, 4.050000000000001, 2.8, 3.806167519525996, 4.0125, 3.75, 3.9456533293962406, 4.26, 3.6935483870967736, 4.176470588235294, 2.3, 3.8550991094513036, 3.6524999999999985, 3.0, 3.6450920245398772, 3.9378286394963076, 3.4, 3.85, 3.8755301794453527, 4.0200000000000005, 3.658490566037737, 4.102717233362397, 4.08659793814433, 3.4, 3.4, 3.907725907725906, 3.681422924901187, 3.546551724137931, 3.968176264136271, 4.3, 3.75, 3.84818661672059, 3.865277777777778, 4.014590747330959, 3.6500000000000004, 3.985922330097088, 4.015631691648806, 3.929467084639491, 4.12202380952381, 3.988131313131316, 3.9413622011727476, 4.175, 3.1, 3.980683204554702, 4.0, 4.000855148637039, 3.8157894736842097, 3.8333333333333335, 4.026042957455601, 4.202325581395349, 4.28, 4.042010388023196, 4.033333333333333, 3.82063882063882, 4.0811320754716975, 3.92990015764583, 4.246478873239438, 3.674603174603175, 4.016267095736113, 4.242857142857143, 4.060504201680676, 4.0617031208322265, 3.92, 4.004292505592844, 4.35, 4.179166666666666, 3.9566621803499396, 3.71875, 3.8729166666666655, 4.0, 3.9986975397974023, 4.300000000000001, 3.9816673174541197, 3.9987012987012975, 3.862767911818735, 4.2043750000000015, 3.6488636363636378, 3.938903863432162, 4.013070546994903, 4.0027027027027025, 3.8177740863787384, 4.175187969924813, 3.761739130434782, 3.8491195551436514, 4.1036363636363635, 3.9288461538461537, 3.6, 4.109041024301043, 3.883333333333333, 3.667204301075269, 3.9, 3.589999999999999, 4.004412846285852, 3.969696969696969, 3.530769230769231, 3.957604702424689, 4.4595505617977516, 4.086042988353389, 4.6, 4.133550913838128, 4.018076644974694, 4.204000000000001, 3.8, 3.951486697965578, 4.093360995850622, 4.4, 4.060537439613533, 4.2, 3.8879396984924592, 4.2, 3.937414965986405, 3.975, 4.27495769881557, 3.872043010752688, 4.084789644012946, 4.346747812856614, 3.948214285714284, 3.9, 4.094221563710947, 4.1, 3.8754032258064504, 3.35483870967742, 4.06, 4.069847972972969, 3.6849999999999996, 3.8783656672545592, 4.022457408363442, 3.785714285714285, 4.045935592780143, 3.6316666666666673, 4.430232558139535, 4.1965, 3.934374999999999, 3.9923076923076923, 3.79, 4.133180469382261, 4.154651162790697, 4.172822299651566, 4.262162162162161, 3.5610619469026563], \"yaxis\": \"y\"}],\n",
       "                        {\"height\": 800, \"legend\": {\"tracegroupgap\": 0}, \"margin\": {\"t\": 60}, \"template\": {\"data\": {\"bar\": [{\"error_x\": {\"color\": \"#2a3f5f\"}, \"error_y\": {\"color\": \"#2a3f5f\"}, \"marker\": {\"line\": {\"color\": \"#E5ECF6\", \"width\": 0.5}}, \"type\": \"bar\"}], \"barpolar\": [{\"marker\": {\"line\": {\"color\": \"#E5ECF6\", \"width\": 0.5}}, \"type\": \"barpolar\"}], \"carpet\": [{\"aaxis\": {\"endlinecolor\": \"#2a3f5f\", \"gridcolor\": \"white\", \"linecolor\": \"white\", \"minorgridcolor\": \"white\", \"startlinecolor\": \"#2a3f5f\"}, \"baxis\": {\"endlinecolor\": \"#2a3f5f\", \"gridcolor\": \"white\", \"linecolor\": \"white\", \"minorgridcolor\": \"white\", \"startlinecolor\": \"#2a3f5f\"}, \"type\": \"carpet\"}], \"choropleth\": [{\"colorbar\": {\"outlinewidth\": 0, \"ticks\": \"\"}, \"type\": \"choropleth\"}], \"contour\": [{\"colorbar\": {\"outlinewidth\": 0, \"ticks\": \"\"}, \"colorscale\": [[0.0, \"#0d0887\"], [0.1111111111111111, \"#46039f\"], [0.2222222222222222, \"#7201a8\"], [0.3333333333333333, \"#9c179e\"], [0.4444444444444444, \"#bd3786\"], [0.5555555555555556, \"#d8576b\"], [0.6666666666666666, \"#ed7953\"], [0.7777777777777778, \"#fb9f3a\"], [0.8888888888888888, \"#fdca26\"], [1.0, \"#f0f921\"]], \"type\": \"contour\"}], \"contourcarpet\": [{\"colorbar\": {\"outlinewidth\": 0, \"ticks\": \"\"}, \"type\": \"contourcarpet\"}], \"heatmap\": [{\"colorbar\": {\"outlinewidth\": 0, \"ticks\": \"\"}, \"colorscale\": [[0.0, \"#0d0887\"], [0.1111111111111111, \"#46039f\"], [0.2222222222222222, \"#7201a8\"], [0.3333333333333333, \"#9c179e\"], [0.4444444444444444, \"#bd3786\"], [0.5555555555555556, \"#d8576b\"], [0.6666666666666666, \"#ed7953\"], [0.7777777777777778, \"#fb9f3a\"], [0.8888888888888888, \"#fdca26\"], [1.0, \"#f0f921\"]], \"type\": \"heatmap\"}], \"heatmapgl\": [{\"colorbar\": {\"outlinewidth\": 0, \"ticks\": \"\"}, \"colorscale\": [[0.0, \"#0d0887\"], [0.1111111111111111, \"#46039f\"], [0.2222222222222222, \"#7201a8\"], [0.3333333333333333, \"#9c179e\"], [0.4444444444444444, \"#bd3786\"], [0.5555555555555556, \"#d8576b\"], [0.6666666666666666, \"#ed7953\"], [0.7777777777777778, \"#fb9f3a\"], [0.8888888888888888, \"#fdca26\"], [1.0, \"#f0f921\"]], \"type\": \"heatmapgl\"}], \"histogram\": [{\"marker\": {\"colorbar\": {\"outlinewidth\": 0, \"ticks\": \"\"}}, \"type\": \"histogram\"}], \"histogram2d\": [{\"colorbar\": {\"outlinewidth\": 0, \"ticks\": \"\"}, \"colorscale\": [[0.0, \"#0d0887\"], [0.1111111111111111, \"#46039f\"], [0.2222222222222222, \"#7201a8\"], [0.3333333333333333, \"#9c179e\"], [0.4444444444444444, \"#bd3786\"], [0.5555555555555556, \"#d8576b\"], [0.6666666666666666, \"#ed7953\"], [0.7777777777777778, \"#fb9f3a\"], [0.8888888888888888, \"#fdca26\"], [1.0, \"#f0f921\"]], \"type\": \"histogram2d\"}], \"histogram2dcontour\": [{\"colorbar\": {\"outlinewidth\": 0, \"ticks\": \"\"}, \"colorscale\": [[0.0, \"#0d0887\"], [0.1111111111111111, \"#46039f\"], [0.2222222222222222, \"#7201a8\"], [0.3333333333333333, \"#9c179e\"], [0.4444444444444444, \"#bd3786\"], [0.5555555555555556, \"#d8576b\"], [0.6666666666666666, \"#ed7953\"], [0.7777777777777778, \"#fb9f3a\"], [0.8888888888888888, \"#fdca26\"], [1.0, \"#f0f921\"]], \"type\": \"histogram2dcontour\"}], \"mesh3d\": [{\"colorbar\": {\"outlinewidth\": 0, \"ticks\": \"\"}, \"type\": \"mesh3d\"}], \"parcoords\": [{\"line\": {\"colorbar\": {\"outlinewidth\": 0, \"ticks\": \"\"}}, \"type\": \"parcoords\"}], \"pie\": [{\"automargin\": true, \"type\": \"pie\"}], \"scatter\": [{\"marker\": {\"colorbar\": {\"outlinewidth\": 0, \"ticks\": \"\"}}, \"type\": \"scatter\"}], \"scatter3d\": [{\"line\": {\"colorbar\": {\"outlinewidth\": 0, \"ticks\": \"\"}}, \"marker\": {\"colorbar\": {\"outlinewidth\": 0, \"ticks\": \"\"}}, \"type\": \"scatter3d\"}], \"scattercarpet\": [{\"marker\": {\"colorbar\": {\"outlinewidth\": 0, \"ticks\": \"\"}}, \"type\": \"scattercarpet\"}], \"scattergeo\": [{\"marker\": {\"colorbar\": {\"outlinewidth\": 0, \"ticks\": \"\"}}, \"type\": \"scattergeo\"}], \"scattergl\": [{\"marker\": {\"colorbar\": {\"outlinewidth\": 0, \"ticks\": \"\"}}, \"type\": \"scattergl\"}], \"scattermapbox\": [{\"marker\": {\"colorbar\": {\"outlinewidth\": 0, \"ticks\": \"\"}}, \"type\": \"scattermapbox\"}], \"scatterpolar\": [{\"marker\": {\"colorbar\": {\"outlinewidth\": 0, \"ticks\": \"\"}}, \"type\": \"scatterpolar\"}], \"scatterpolargl\": [{\"marker\": {\"colorbar\": {\"outlinewidth\": 0, \"ticks\": \"\"}}, \"type\": \"scatterpolargl\"}], \"scatterternary\": [{\"marker\": {\"colorbar\": {\"outlinewidth\": 0, \"ticks\": \"\"}}, \"type\": \"scatterternary\"}], \"surface\": [{\"colorbar\": {\"outlinewidth\": 0, \"ticks\": \"\"}, \"colorscale\": [[0.0, \"#0d0887\"], [0.1111111111111111, \"#46039f\"], [0.2222222222222222, \"#7201a8\"], [0.3333333333333333, \"#9c179e\"], [0.4444444444444444, \"#bd3786\"], [0.5555555555555556, \"#d8576b\"], [0.6666666666666666, \"#ed7953\"], [0.7777777777777778, \"#fb9f3a\"], [0.8888888888888888, \"#fdca26\"], [1.0, \"#f0f921\"]], \"type\": \"surface\"}], \"table\": [{\"cells\": {\"fill\": {\"color\": \"#EBF0F8\"}, \"line\": {\"color\": \"white\"}}, \"header\": {\"fill\": {\"color\": \"#C8D4E3\"}, \"line\": {\"color\": \"white\"}}, \"type\": \"table\"}]}, \"layout\": {\"annotationdefaults\": {\"arrowcolor\": \"#2a3f5f\", \"arrowhead\": 0, \"arrowwidth\": 1}, \"coloraxis\": {\"colorbar\": {\"outlinewidth\": 0, \"ticks\": \"\"}}, \"colorscale\": {\"diverging\": [[0, \"#8e0152\"], [0.1, \"#c51b7d\"], [0.2, \"#de77ae\"], [0.3, \"#f1b6da\"], [0.4, \"#fde0ef\"], [0.5, \"#f7f7f7\"], [0.6, \"#e6f5d0\"], [0.7, \"#b8e186\"], [0.8, \"#7fbc41\"], [0.9, \"#4d9221\"], [1, \"#276419\"]], \"sequential\": [[0.0, \"#0d0887\"], [0.1111111111111111, \"#46039f\"], [0.2222222222222222, \"#7201a8\"], [0.3333333333333333, \"#9c179e\"], [0.4444444444444444, \"#bd3786\"], [0.5555555555555556, \"#d8576b\"], [0.6666666666666666, \"#ed7953\"], [0.7777777777777778, \"#fb9f3a\"], [0.8888888888888888, \"#fdca26\"], [1.0, \"#f0f921\"]], \"sequentialminus\": [[0.0, \"#0d0887\"], [0.1111111111111111, \"#46039f\"], [0.2222222222222222, \"#7201a8\"], [0.3333333333333333, \"#9c179e\"], [0.4444444444444444, \"#bd3786\"], [0.5555555555555556, \"#d8576b\"], [0.6666666666666666, \"#ed7953\"], [0.7777777777777778, \"#fb9f3a\"], [0.8888888888888888, \"#fdca26\"], [1.0, \"#f0f921\"]]}, \"colorway\": [\"#636efa\", \"#EF553B\", \"#00cc96\", \"#ab63fa\", \"#FFA15A\", \"#19d3f3\", \"#FF6692\", \"#B6E880\", \"#FF97FF\", \"#FECB52\"], \"font\": {\"color\": \"#2a3f5f\"}, \"geo\": {\"bgcolor\": \"white\", \"lakecolor\": \"white\", \"landcolor\": \"#E5ECF6\", \"showlakes\": true, \"showland\": true, \"subunitcolor\": \"white\"}, \"hoverlabel\": {\"align\": \"left\"}, \"hovermode\": \"closest\", \"mapbox\": {\"style\": \"light\"}, \"paper_bgcolor\": \"white\", \"plot_bgcolor\": \"#E5ECF6\", \"polar\": {\"angularaxis\": {\"gridcolor\": \"white\", \"linecolor\": \"white\", \"ticks\": \"\"}, \"bgcolor\": \"#E5ECF6\", \"radialaxis\": {\"gridcolor\": \"white\", \"linecolor\": \"white\", \"ticks\": \"\"}}, \"scene\": {\"xaxis\": {\"backgroundcolor\": \"#E5ECF6\", \"gridcolor\": \"white\", \"gridwidth\": 2, \"linecolor\": \"white\", \"showbackground\": true, \"ticks\": \"\", \"zerolinecolor\": \"white\"}, \"yaxis\": {\"backgroundcolor\": \"#E5ECF6\", \"gridcolor\": \"white\", \"gridwidth\": 2, \"linecolor\": \"white\", \"showbackground\": true, \"ticks\": \"\", \"zerolinecolor\": \"white\"}, \"zaxis\": {\"backgroundcolor\": \"#E5ECF6\", \"gridcolor\": \"white\", \"gridwidth\": 2, \"linecolor\": \"white\", \"showbackground\": true, \"ticks\": \"\", \"zerolinecolor\": \"white\"}}, \"shapedefaults\": {\"line\": {\"color\": \"#2a3f5f\"}}, \"ternary\": {\"aaxis\": {\"gridcolor\": \"white\", \"linecolor\": \"white\", \"ticks\": \"\"}, \"baxis\": {\"gridcolor\": \"white\", \"linecolor\": \"white\", \"ticks\": \"\"}, \"bgcolor\": \"#E5ECF6\", \"caxis\": {\"gridcolor\": \"white\", \"linecolor\": \"white\", \"ticks\": \"\"}}, \"title\": {\"x\": 0.05}, \"xaxis\": {\"automargin\": true, \"gridcolor\": \"white\", \"linecolor\": \"white\", \"ticks\": \"\", \"title\": {\"standoff\": 15}, \"zerolinecolor\": \"white\", \"zerolinewidth\": 2}, \"yaxis\": {\"automargin\": true, \"gridcolor\": \"white\", \"linecolor\": \"white\", \"ticks\": \"\", \"title\": {\"standoff\": 15}, \"zerolinecolor\": \"white\", \"zerolinewidth\": 2}}}, \"xaxis\": {\"anchor\": \"y\", \"domain\": [0.0, 1.0], \"title\": {\"text\": \"beer_abv\"}}, \"yaxis\": {\"anchor\": \"x\", \"domain\": [0.0, 1.0], \"title\": {\"text\": \"review_mean\"}}},\n",
       "                        {\"responsive\": true}\n",
       "                    ).then(function(){\n",
       "                            \n",
       "var gd = document.getElementById('350cdf75-3df7-4409-955e-6846990ee164');\n",
       "var x = new MutationObserver(function (mutations, observer) {{\n",
       "        var display = window.getComputedStyle(gd).display;\n",
       "        if (!display || display === 'none') {{\n",
       "            console.log([gd, 'removed!']);\n",
       "            Plotly.purge(gd);\n",
       "            observer.disconnect();\n",
       "        }}\n",
       "}});\n",
       "\n",
       "// Listen for the removal of the full notebook cells\n",
       "var notebookContainer = gd.closest('#notebook-container');\n",
       "if (notebookContainer) {{\n",
       "    x.observe(notebookContainer, {childList: true});\n",
       "}}\n",
       "\n",
       "// Listen for the clearing of the current output cell\n",
       "var outputEl = gd.closest('.output');\n",
       "if (outputEl) {{\n",
       "    x.observe(outputEl, {childList: true});\n",
       "}}\n",
       "\n",
       "                        })\n",
       "                };\n",
       "                });\n",
       "            </script>\n",
       "        </div>"
      ]
     },
     "metadata": {},
     "output_type": "display_data"
    }
   ],
   "source": [
    "fig = px.scatter(df_ml[df_ml['beer_abv']<13], x=\"beer_abv\", y=\"review_mean\", height=800)\n",
    "fig.show()"
   ]
  },
  {
   "cell_type": "code",
   "execution_count": 384,
   "metadata": {},
   "outputs": [
    {
     "data": {
      "text/plain": [
       "0.8167743326148521"
      ]
     },
     "execution_count": 384,
     "metadata": {},
     "output_type": "execute_result"
    }
   ],
   "source": [
    "reg = LinearRegression().fit(X_train, y_train)\n",
    "reg.score(X_train, y_train)"
   ]
  },
  {
   "cell_type": "code",
   "execution_count": 391,
   "metadata": {},
   "outputs": [
    {
     "name": "stdout",
     "output_type": "stream",
     "text": [
      "0.28116901422152896\n",
      "0.684578361149765\n",
      "0.3927831786428722\n",
      "0.3137881703834138\n"
     ]
    }
   ],
   "source": [
    "mlp = MLPRegressor(hidden_layer_sizes=(128, 256, 256,), activation='relu', solver='adam', alpha=0.02, batch_size=200,\n",
    "                   learning_rate='constant', learning_rate_init=0.01, power_t=0.5, max_iter=1000, shuffle=True,\n",
    "                   random_state=10, tol=0.0001, verbose=False, warm_start=False, momentum=0.9, nesterovs_momentum=True,\n",
    "                   early_stopping=False, validation_fraction=0.1, beta_1=0.9, beta_2=0.999,\n",
    "                   epsilon=1e-08, n_iter_no_change=10, max_fun=15000).fit(X_train, y_train)\n",
    "\n",
    "pred_train_mlp = mlp.predict(X_train)\n",
    "print(np.sqrt(mean_squared_error(y_train,pred_train_mlp)))\n",
    "print(r2_score(y_train, pred_train_mlp))\n",
    "\n",
    "pred_test_mlp = mlp.predict(X_test)\n",
    "print(np.sqrt(mean_squared_error(y_test,pred_test_mlp))) \n",
    "print(r2_score(y_test, pred_test_mlp))\n",
    "\n",
    "#fig = px.scatter(x=df_ml[df_ml['beer_abv']<20].beer_abv, y=pred_train_mlp, height=800)\n",
    "#fig.show()\n"
   ]
  },
  {
   "cell_type": "code",
   "execution_count": 280,
   "metadata": {},
   "outputs": [
    {
     "name": "stdout",
     "output_type": "stream",
     "text": [
      "0.7466306225552394\n",
      "0.4425427134627756\n",
      "0.7037628891364966\n",
      "0.5047177958742514\n"
     ]
    }
   ],
   "source": [
    "# dtree = DecisionTreeRegressor(max_depth=5, min_samples_leaf=0.13, random_state=3)\n",
    "dtree.fit(X_train, y_train)\n",
    "pred_train_tree= dtree.predict(X_train)\n",
    "print(np.sqrt(mean_squared_error(y_train,pred_train_tree)))\n",
    "print(r2_score(y_train, pred_train_tree))\n",
    "\n",
    "pred_test_tree= dtree.predict(X_test)\n",
    "print(np.sqrt(mean_squared_error(y_test,pred_test_tree))) \n",
    "print(r2_score(y_test, pred_test_tree))"
   ]
  },
  {
   "cell_type": "code",
   "execution_count": 385,
   "metadata": {},
   "outputs": [
    {
     "name": "stdout",
     "output_type": "stream",
     "text": [
      "0.14265131835419445\n",
      "0.9188089520983078\n",
      "0.32622266058114624\n",
      "0.5266518429248781\n"
     ]
    }
   ],
   "source": [
    "model_rf = RandomForestRegressor(n_estimators=100, oob_score=True, random_state=42)\n",
    "model_rf.fit(X_train, y_train) \n",
    "pred_train_rf= model_rf.predict(X_train)\n",
    "print(np.sqrt(mean_squared_error(y_train,pred_train_rf)))\n",
    "print(r2_score(y_train, pred_train_rf))\n",
    "\n",
    "pred_test_rf = model_rf.predict(X_test)\n",
    "print(np.sqrt(mean_squared_error(y_test,pred_test_rf)))\n",
    "print(r2_score(y_test, pred_test_rf))"
   ]
  },
  {
   "cell_type": "code",
   "execution_count": 388,
   "metadata": {},
   "outputs": [],
   "source": [
    "df_test = pd.DataFrame(data=X_test)\n",
    "df_train = pd.DataFrame(data=X_train)"
   ]
  },
  {
   "cell_type": "code",
   "execution_count": 390,
   "metadata": {},
   "outputs": [
    {
     "data": {
      "application/vnd.plotly.v1+json": {
       "config": {
        "plotlyServerURL": "https://plot.ly"
       },
       "data": [
        {
         "hovertemplate": "x=%{x}<br>y=%{y}<extra></extra>",
         "legendgroup": "",
         "marker": {
          "color": "#636efa",
          "symbol": "circle"
         },
         "mode": "markers",
         "name": "",
         "showlegend": false,
         "type": "scatter",
         "x": [
          4.76,
          7.08,
          6.24,
          3.9,
          4.2,
          8.69,
          4.25,
          5.27,
          5.21,
          8.75,
          0.7,
          9.74,
          4.62,
          4.17,
          9.18,
          5.54,
          3.4,
          6.95,
          7.15,
          5.69,
          1.3,
          6.42,
          8.03,
          0.01,
          4.65,
          8.85,
          4.31,
          2.9,
          6.19,
          7.45,
          4.38,
          8.17,
          8.24,
          3.88,
          4.3,
          7.99,
          6.71,
          5.44,
          7.83,
          4.97,
          2.25,
          7.74,
          3.8,
          9.7,
          5.16,
          4.29,
          4.51,
          3.54,
          7.82,
          4.35,
          6.4,
          3.22,
          6.45,
          4.46,
          2.7,
          7.24,
          5.52,
          6.11,
          5.38,
          5.28,
          2.1,
          2.75,
          9.71,
          4.8,
          6.87,
          5.13,
          7.9,
          9.85,
          5.48,
          5.07,
          0.3,
          3.53,
          9.62,
          8.74,
          6,
          9.05,
          8.3,
          4.98,
          0.1,
          1.7,
          6.72,
          4.75,
          5.47,
          4.06,
          6.35,
          4.5,
          9.9,
          4.88,
          9.15,
          5.68,
          4.78,
          7.07,
          6.88,
          8.41,
          9.2,
          6.6,
          7.2,
          4.28,
          8.19,
          4.69,
          1.4,
          4.13,
          9.46,
          0.45,
          1.8,
          5.98,
          8.66,
          8.47,
          4.72,
          5.53,
          7.3,
          9.61,
          8.72,
          3.99,
          4.32,
          7.17,
          9.35,
          6.58,
          8.12,
          4.7,
          1.5,
          5.39,
          2.2,
          4.9,
          9.96,
          7.5,
          5.04,
          7.71,
          7.77,
          5.24,
          5.85,
          6.27
         ],
         "xaxis": "x",
         "y": [
          3.4161327195162396,
          4.044528483004128,
          4.131125564248007,
          3.506073460111821,
          3.347403214501792,
          3.926064338560602,
          3.3787596980631607,
          3.605062810199496,
          3.5804883855370417,
          3.9560234713012545,
          2.6791851724016693,
          3.9852026170434205,
          3.5678391702163093,
          2.743428523246304,
          3.7566136975077726,
          3.5662776886182814,
          3.341547314143416,
          3.854105432280172,
          3.97209805416282,
          3.6147887032859525,
          2.8548635944105847,
          3.9413225908488716,
          3.9875497469260277,
          1.9483821923155136,
          3.061318420052663,
          3.8971808343153787,
          3.2121184762904558,
          3.1665707830563155,
          3.813750334679481,
          3.9247296268950236,
          3.417363796288949,
          3.9610025546477488,
          3.9550159716021223,
          2.68523935742972,
          3.441550416423581,
          4.00620637746928,
          3.964466976262959,
          3.57480989216628,
          4.121101123588096,
          3.5299908062065324,
          3.0745086425937598,
          3.858592161474137,
          3.381982034454126,
          3.9654480585858796,
          3.5510051979235464,
          2.904143758584121,
          3.3292214763661874,
          3.397784099562108,
          3.966007826087499,
          3.2835998629773804,
          3.8602893819929225,
          2.984204718453052,
          4.002878827962249,
          3.530762503826817,
          2.812606439039019,
          3.928169635492223,
          3.7406162928371667,
          3.660618860499444,
          3.6832142148503095,
          3.542989195184727,
          2.7506043106201408,
          3.3934554807477664,
          4.008434363715074,
          3.6206338498624215,
          4.010014743589745,
          3.536789084518261,
          3.9122026155677543,
          4.029065296119658,
          3.712717563908441,
          3.582852087981612,
          2.201663371231989,
          3.255008105495631,
          3.799371463211607,
          3.9415324431932595,
          3.7804062870014743,
          3.997862603982022,
          3.9500005590150136,
          3.4478261223607922,
          1.8599059785451817,
          3.250088637559659,
          3.9969134466741,
          3.6029652058869335,
          3.5466019704028264,
          2.7741396343574154,
          4.017508152841178,
          3.4593598867925386,
          4.043981301977983,
          3.617437745335681,
          3.9731285983858795,
          3.5983460343213833,
          3.096637774116601,
          4.0015559523809525,
          4.001784946524514,
          3.833208729270357,
          3.9486536950550435,
          3.812870825326255,
          3.9164564284740466,
          3.0448818256985493,
          4.108261450235633,
          3.4465835247593954,
          2.8339668474192465,
          2.720816669837088,
          3.7635684662327673,
          2.321543180422263,
          3.0756783806070955,
          3.873908395015337,
          3.681784145914744,
          3.839156631860452,
          2.9989044017989333,
          3.6070977614649866,
          3.9665262781140043,
          4.025993496380941,
          3.6799572580428914,
          3.2473477470540115,
          3.3582082982864283,
          3.8768234498033274,
          3.771252403099335,
          3.933816052033075,
          3.9137449858208897,
          3.415103401939262,
          2.6263335821966725,
          3.710337483502502,
          3.08949220558119,
          3.626375809133096,
          3.832314186574538,
          3.8906566806076195,
          3.5718188367032595,
          3.7611936508531296,
          3.882029435887302,
          3.559405129090253,
          3.7231359657876224,
          4.185295548682253
         ],
         "yaxis": "y"
        }
       ],
       "layout": {
        "autosize": true,
        "legend": {
         "tracegroupgap": 0
        },
        "margin": {
         "t": 60
        },
        "template": {
         "data": {
          "bar": [
           {
            "error_x": {
             "color": "#2a3f5f"
            },
            "error_y": {
             "color": "#2a3f5f"
            },
            "marker": {
             "line": {
              "color": "#E5ECF6",
              "width": 0.5
             }
            },
            "type": "bar"
           }
          ],
          "barpolar": [
           {
            "marker": {
             "line": {
              "color": "#E5ECF6",
              "width": 0.5
             }
            },
            "type": "barpolar"
           }
          ],
          "carpet": [
           {
            "aaxis": {
             "endlinecolor": "#2a3f5f",
             "gridcolor": "white",
             "linecolor": "white",
             "minorgridcolor": "white",
             "startlinecolor": "#2a3f5f"
            },
            "baxis": {
             "endlinecolor": "#2a3f5f",
             "gridcolor": "white",
             "linecolor": "white",
             "minorgridcolor": "white",
             "startlinecolor": "#2a3f5f"
            },
            "type": "carpet"
           }
          ],
          "choropleth": [
           {
            "colorbar": {
             "outlinewidth": 0,
             "ticks": ""
            },
            "type": "choropleth"
           }
          ],
          "contour": [
           {
            "colorbar": {
             "outlinewidth": 0,
             "ticks": ""
            },
            "colorscale": [
             [
              0,
              "#0d0887"
             ],
             [
              0.1111111111111111,
              "#46039f"
             ],
             [
              0.2222222222222222,
              "#7201a8"
             ],
             [
              0.3333333333333333,
              "#9c179e"
             ],
             [
              0.4444444444444444,
              "#bd3786"
             ],
             [
              0.5555555555555556,
              "#d8576b"
             ],
             [
              0.6666666666666666,
              "#ed7953"
             ],
             [
              0.7777777777777778,
              "#fb9f3a"
             ],
             [
              0.8888888888888888,
              "#fdca26"
             ],
             [
              1,
              "#f0f921"
             ]
            ],
            "type": "contour"
           }
          ],
          "contourcarpet": [
           {
            "colorbar": {
             "outlinewidth": 0,
             "ticks": ""
            },
            "type": "contourcarpet"
           }
          ],
          "heatmap": [
           {
            "colorbar": {
             "outlinewidth": 0,
             "ticks": ""
            },
            "colorscale": [
             [
              0,
              "#0d0887"
             ],
             [
              0.1111111111111111,
              "#46039f"
             ],
             [
              0.2222222222222222,
              "#7201a8"
             ],
             [
              0.3333333333333333,
              "#9c179e"
             ],
             [
              0.4444444444444444,
              "#bd3786"
             ],
             [
              0.5555555555555556,
              "#d8576b"
             ],
             [
              0.6666666666666666,
              "#ed7953"
             ],
             [
              0.7777777777777778,
              "#fb9f3a"
             ],
             [
              0.8888888888888888,
              "#fdca26"
             ],
             [
              1,
              "#f0f921"
             ]
            ],
            "type": "heatmap"
           }
          ],
          "heatmapgl": [
           {
            "colorbar": {
             "outlinewidth": 0,
             "ticks": ""
            },
            "colorscale": [
             [
              0,
              "#0d0887"
             ],
             [
              0.1111111111111111,
              "#46039f"
             ],
             [
              0.2222222222222222,
              "#7201a8"
             ],
             [
              0.3333333333333333,
              "#9c179e"
             ],
             [
              0.4444444444444444,
              "#bd3786"
             ],
             [
              0.5555555555555556,
              "#d8576b"
             ],
             [
              0.6666666666666666,
              "#ed7953"
             ],
             [
              0.7777777777777778,
              "#fb9f3a"
             ],
             [
              0.8888888888888888,
              "#fdca26"
             ],
             [
              1,
              "#f0f921"
             ]
            ],
            "type": "heatmapgl"
           }
          ],
          "histogram": [
           {
            "marker": {
             "colorbar": {
              "outlinewidth": 0,
              "ticks": ""
             }
            },
            "type": "histogram"
           }
          ],
          "histogram2d": [
           {
            "colorbar": {
             "outlinewidth": 0,
             "ticks": ""
            },
            "colorscale": [
             [
              0,
              "#0d0887"
             ],
             [
              0.1111111111111111,
              "#46039f"
             ],
             [
              0.2222222222222222,
              "#7201a8"
             ],
             [
              0.3333333333333333,
              "#9c179e"
             ],
             [
              0.4444444444444444,
              "#bd3786"
             ],
             [
              0.5555555555555556,
              "#d8576b"
             ],
             [
              0.6666666666666666,
              "#ed7953"
             ],
             [
              0.7777777777777778,
              "#fb9f3a"
             ],
             [
              0.8888888888888888,
              "#fdca26"
             ],
             [
              1,
              "#f0f921"
             ]
            ],
            "type": "histogram2d"
           }
          ],
          "histogram2dcontour": [
           {
            "colorbar": {
             "outlinewidth": 0,
             "ticks": ""
            },
            "colorscale": [
             [
              0,
              "#0d0887"
             ],
             [
              0.1111111111111111,
              "#46039f"
             ],
             [
              0.2222222222222222,
              "#7201a8"
             ],
             [
              0.3333333333333333,
              "#9c179e"
             ],
             [
              0.4444444444444444,
              "#bd3786"
             ],
             [
              0.5555555555555556,
              "#d8576b"
             ],
             [
              0.6666666666666666,
              "#ed7953"
             ],
             [
              0.7777777777777778,
              "#fb9f3a"
             ],
             [
              0.8888888888888888,
              "#fdca26"
             ],
             [
              1,
              "#f0f921"
             ]
            ],
            "type": "histogram2dcontour"
           }
          ],
          "mesh3d": [
           {
            "colorbar": {
             "outlinewidth": 0,
             "ticks": ""
            },
            "type": "mesh3d"
           }
          ],
          "parcoords": [
           {
            "line": {
             "colorbar": {
              "outlinewidth": 0,
              "ticks": ""
             }
            },
            "type": "parcoords"
           }
          ],
          "pie": [
           {
            "automargin": true,
            "type": "pie"
           }
          ],
          "scatter": [
           {
            "marker": {
             "colorbar": {
              "outlinewidth": 0,
              "ticks": ""
             }
            },
            "type": "scatter"
           }
          ],
          "scatter3d": [
           {
            "line": {
             "colorbar": {
              "outlinewidth": 0,
              "ticks": ""
             }
            },
            "marker": {
             "colorbar": {
              "outlinewidth": 0,
              "ticks": ""
             }
            },
            "type": "scatter3d"
           }
          ],
          "scattercarpet": [
           {
            "marker": {
             "colorbar": {
              "outlinewidth": 0,
              "ticks": ""
             }
            },
            "type": "scattercarpet"
           }
          ],
          "scattergeo": [
           {
            "marker": {
             "colorbar": {
              "outlinewidth": 0,
              "ticks": ""
             }
            },
            "type": "scattergeo"
           }
          ],
          "scattergl": [
           {
            "marker": {
             "colorbar": {
              "outlinewidth": 0,
              "ticks": ""
             }
            },
            "type": "scattergl"
           }
          ],
          "scattermapbox": [
           {
            "marker": {
             "colorbar": {
              "outlinewidth": 0,
              "ticks": ""
             }
            },
            "type": "scattermapbox"
           }
          ],
          "scatterpolar": [
           {
            "marker": {
             "colorbar": {
              "outlinewidth": 0,
              "ticks": ""
             }
            },
            "type": "scatterpolar"
           }
          ],
          "scatterpolargl": [
           {
            "marker": {
             "colorbar": {
              "outlinewidth": 0,
              "ticks": ""
             }
            },
            "type": "scatterpolargl"
           }
          ],
          "scatterternary": [
           {
            "marker": {
             "colorbar": {
              "outlinewidth": 0,
              "ticks": ""
             }
            },
            "type": "scatterternary"
           }
          ],
          "surface": [
           {
            "colorbar": {
             "outlinewidth": 0,
             "ticks": ""
            },
            "colorscale": [
             [
              0,
              "#0d0887"
             ],
             [
              0.1111111111111111,
              "#46039f"
             ],
             [
              0.2222222222222222,
              "#7201a8"
             ],
             [
              0.3333333333333333,
              "#9c179e"
             ],
             [
              0.4444444444444444,
              "#bd3786"
             ],
             [
              0.5555555555555556,
              "#d8576b"
             ],
             [
              0.6666666666666666,
              "#ed7953"
             ],
             [
              0.7777777777777778,
              "#fb9f3a"
             ],
             [
              0.8888888888888888,
              "#fdca26"
             ],
             [
              1,
              "#f0f921"
             ]
            ],
            "type": "surface"
           }
          ],
          "table": [
           {
            "cells": {
             "fill": {
              "color": "#EBF0F8"
             },
             "line": {
              "color": "white"
             }
            },
            "header": {
             "fill": {
              "color": "#C8D4E3"
             },
             "line": {
              "color": "white"
             }
            },
            "type": "table"
           }
          ]
         },
         "layout": {
          "annotationdefaults": {
           "arrowcolor": "#2a3f5f",
           "arrowhead": 0,
           "arrowwidth": 1
          },
          "coloraxis": {
           "colorbar": {
            "outlinewidth": 0,
            "ticks": ""
           }
          },
          "colorscale": {
           "diverging": [
            [
             0,
             "#8e0152"
            ],
            [
             0.1,
             "#c51b7d"
            ],
            [
             0.2,
             "#de77ae"
            ],
            [
             0.3,
             "#f1b6da"
            ],
            [
             0.4,
             "#fde0ef"
            ],
            [
             0.5,
             "#f7f7f7"
            ],
            [
             0.6,
             "#e6f5d0"
            ],
            [
             0.7,
             "#b8e186"
            ],
            [
             0.8,
             "#7fbc41"
            ],
            [
             0.9,
             "#4d9221"
            ],
            [
             1,
             "#276419"
            ]
           ],
           "sequential": [
            [
             0,
             "#0d0887"
            ],
            [
             0.1111111111111111,
             "#46039f"
            ],
            [
             0.2222222222222222,
             "#7201a8"
            ],
            [
             0.3333333333333333,
             "#9c179e"
            ],
            [
             0.4444444444444444,
             "#bd3786"
            ],
            [
             0.5555555555555556,
             "#d8576b"
            ],
            [
             0.6666666666666666,
             "#ed7953"
            ],
            [
             0.7777777777777778,
             "#fb9f3a"
            ],
            [
             0.8888888888888888,
             "#fdca26"
            ],
            [
             1,
             "#f0f921"
            ]
           ],
           "sequentialminus": [
            [
             0,
             "#0d0887"
            ],
            [
             0.1111111111111111,
             "#46039f"
            ],
            [
             0.2222222222222222,
             "#7201a8"
            ],
            [
             0.3333333333333333,
             "#9c179e"
            ],
            [
             0.4444444444444444,
             "#bd3786"
            ],
            [
             0.5555555555555556,
             "#d8576b"
            ],
            [
             0.6666666666666666,
             "#ed7953"
            ],
            [
             0.7777777777777778,
             "#fb9f3a"
            ],
            [
             0.8888888888888888,
             "#fdca26"
            ],
            [
             1,
             "#f0f921"
            ]
           ]
          },
          "colorway": [
           "#636efa",
           "#EF553B",
           "#00cc96",
           "#ab63fa",
           "#FFA15A",
           "#19d3f3",
           "#FF6692",
           "#B6E880",
           "#FF97FF",
           "#FECB52"
          ],
          "font": {
           "color": "#2a3f5f"
          },
          "geo": {
           "bgcolor": "white",
           "lakecolor": "white",
           "landcolor": "#E5ECF6",
           "showlakes": true,
           "showland": true,
           "subunitcolor": "white"
          },
          "hoverlabel": {
           "align": "left"
          },
          "hovermode": "closest",
          "mapbox": {
           "style": "light"
          },
          "paper_bgcolor": "white",
          "plot_bgcolor": "#E5ECF6",
          "polar": {
           "angularaxis": {
            "gridcolor": "white",
            "linecolor": "white",
            "ticks": ""
           },
           "bgcolor": "#E5ECF6",
           "radialaxis": {
            "gridcolor": "white",
            "linecolor": "white",
            "ticks": ""
           }
          },
          "scene": {
           "xaxis": {
            "backgroundcolor": "#E5ECF6",
            "gridcolor": "white",
            "gridwidth": 2,
            "linecolor": "white",
            "showbackground": true,
            "ticks": "",
            "zerolinecolor": "white"
           },
           "yaxis": {
            "backgroundcolor": "#E5ECF6",
            "gridcolor": "white",
            "gridwidth": 2,
            "linecolor": "white",
            "showbackground": true,
            "ticks": "",
            "zerolinecolor": "white"
           },
           "zaxis": {
            "backgroundcolor": "#E5ECF6",
            "gridcolor": "white",
            "gridwidth": 2,
            "linecolor": "white",
            "showbackground": true,
            "ticks": "",
            "zerolinecolor": "white"
           }
          },
          "shapedefaults": {
           "line": {
            "color": "#2a3f5f"
           }
          },
          "ternary": {
           "aaxis": {
            "gridcolor": "white",
            "linecolor": "white",
            "ticks": ""
           },
           "baxis": {
            "gridcolor": "white",
            "linecolor": "white",
            "ticks": ""
           },
           "bgcolor": "#E5ECF6",
           "caxis": {
            "gridcolor": "white",
            "linecolor": "white",
            "ticks": ""
           }
          },
          "title": {
           "x": 0.05
          },
          "xaxis": {
           "automargin": true,
           "gridcolor": "white",
           "linecolor": "white",
           "ticks": "",
           "title": {
            "standoff": 15
           },
           "zerolinecolor": "white",
           "zerolinewidth": 2
          },
          "yaxis": {
           "automargin": true,
           "gridcolor": "white",
           "linecolor": "white",
           "ticks": "",
           "title": {
            "standoff": 15
           },
           "zerolinecolor": "white",
           "zerolinewidth": 2
          }
         }
        },
        "xaxis": {
         "anchor": "y",
         "autorange": true,
         "domain": [
          0,
          1
         ],
         "range": [
          -0.5810481860980337,
          10.551048186098035
         ],
         "title": {
          "text": "x"
         },
         "type": "linear"
        },
        "yaxis": {
         "anchor": "x",
         "autorange": true,
         "domain": [
          0,
          1
         ],
         "range": [
          1.6950302907914483,
          4.350171236435987
         ],
         "title": {
          "text": "y"
         },
         "type": "linear"
        }
       }
      },
      "image/png": "[encoded data removed]",
      "text/html": [
       "<div>\n",
       "        \n",
       "        \n",
       "            <div id=\"32dd8e3a-bc11-4e29-a498-4de980a507d2\" class=\"plotly-graph-div\" style=\"height:800px; width:100%;\"></div>\n",
       "            <script type=\"text/javascript\">\n",
       "                require([\"plotly\"], function(Plotly) {\n",
       "                    window.PLOTLYENV=window.PLOTLYENV || {};\n",
       "                    \n",
       "                if (document.getElementById(\"32dd8e3a-bc11-4e29-a498-4de980a507d2\")) {\n",
       "                    Plotly.newPlot(\n",
       "                        '32dd8e3a-bc11-4e29-a498-4de980a507d2',\n",
       "                        [{\"hovertemplate\": \"x=%{x}<br>y=%{y}<extra></extra>\", \"legendgroup\": \"\", \"marker\": {\"color\": \"#636efa\", \"symbol\": \"circle\"}, \"mode\": \"markers\", \"name\": \"\", \"showlegend\": false, \"type\": \"scatter\", \"x\": [4.76, 7.08, 6.24, 3.9, 4.2, 8.69, 4.25, 5.27, 5.21, 8.75, 0.7, 9.74, 4.62, 4.17, 9.18, 5.54, 3.4, 6.95, 7.15, 5.69, 1.3, 6.42, 8.03, 0.01, 4.65, 8.85, 4.31, 2.9, 6.19, 7.45, 4.38, 8.17, 8.24, 3.88, 4.3, 7.99, 6.71, 5.44, 7.83, 4.97, 2.25, 7.74, 3.8, 9.7, 5.16, 4.29, 4.51, 3.54, 7.82, 4.35, 6.4, 3.22, 6.45, 4.46, 2.7, 7.24, 5.52, 6.11, 5.38, 5.28, 2.1, 2.75, 9.71, 4.8, 6.87, 5.13, 7.9, 9.85, 5.48, 5.07, 0.3, 3.53, 9.62, 8.74, 6.0, 9.05, 8.3, 4.98, 0.1, 1.7, 6.72, 4.75, 5.47, 4.06, 6.35, 4.5, 9.9, 4.88, 9.15, 5.68, 4.78, 7.07, 6.88, 8.41, 9.2, 6.6, 7.2, 4.28, 8.19, 4.69, 1.4, 4.13, 9.46, 0.45, 1.8, 5.98, 8.66, 8.47, 4.72, 5.53, 7.3, 9.61, 8.72, 3.99, 4.32, 7.17, 9.35, 6.58, 8.12, 4.7, 1.5, 5.39, 2.2, 4.9, 9.96, 7.5, 5.04, 7.71, 7.77, 5.24, 5.85, 6.27], \"xaxis\": \"x\", \"y\": [3.4161327195162396, 4.044528483004128, 4.131125564248007, 3.506073460111821, 3.347403214501792, 3.926064338560602, 3.3787596980631607, 3.605062810199496, 3.5804883855370417, 3.9560234713012545, 2.6791851724016693, 3.9852026170434205, 3.5678391702163093, 2.743428523246304, 3.7566136975077726, 3.5662776886182814, 3.341547314143416, 3.854105432280172, 3.97209805416282, 3.6147887032859525, 2.8548635944105847, 3.9413225908488716, 3.9875497469260277, 1.9483821923155136, 3.061318420052663, 3.8971808343153787, 3.2121184762904558, 3.1665707830563155, 3.813750334679481, 3.9247296268950236, 3.417363796288949, 3.9610025546477488, 3.9550159716021223, 2.68523935742972, 3.441550416423581, 4.00620637746928, 3.964466976262959, 3.57480989216628, 4.121101123588096, 3.5299908062065324, 3.0745086425937598, 3.858592161474137, 3.381982034454126, 3.9654480585858796, 3.5510051979235464, 2.904143758584121, 3.3292214763661874, 3.397784099562108, 3.966007826087499, 3.2835998629773804, 3.8602893819929225, 2.984204718453052, 4.002878827962249, 3.530762503826817, 2.812606439039019, 3.928169635492223, 3.7406162928371667, 3.660618860499444, 3.6832142148503095, 3.542989195184727, 2.7506043106201408, 3.3934554807477664, 4.008434363715074, 3.6206338498624215, 4.010014743589745, 3.536789084518261, 3.9122026155677543, 4.029065296119658, 3.712717563908441, 3.582852087981612, 2.201663371231989, 3.255008105495631, 3.799371463211607, 3.9415324431932595, 3.7804062870014743, 3.997862603982022, 3.9500005590150136, 3.4478261223607922, 1.8599059785451817, 3.250088637559659, 3.9969134466741, 3.6029652058869335, 3.5466019704028264, 2.7741396343574154, 4.017508152841178, 3.4593598867925386, 4.043981301977983, 3.617437745335681, 3.9731285983858795, 3.5983460343213833, 3.096637774116601, 4.0015559523809525, 4.001784946524514, 3.833208729270357, 3.9486536950550435, 3.812870825326255, 3.9164564284740466, 3.0448818256985493, 4.108261450235633, 3.4465835247593954, 2.8339668474192465, 2.720816669837088, 3.7635684662327673, 2.321543180422263, 3.0756783806070955, 3.873908395015337, 3.681784145914744, 3.839156631860452, 2.9989044017989333, 3.6070977614649866, 3.9665262781140043, 4.025993496380941, 3.6799572580428914, 3.2473477470540115, 3.3582082982864283, 3.8768234498033274, 3.771252403099335, 3.933816052033075, 3.9137449858208897, 3.415103401939262, 2.6263335821966725, 3.710337483502502, 3.08949220558119, 3.626375809133096, 3.832314186574538, 3.8906566806076195, 3.5718188367032595, 3.7611936508531296, 3.882029435887302, 3.559405129090253, 3.7231359657876224, 4.185295548682253], \"yaxis\": \"y\"}],\n",
       "                        {\"height\": 800, \"legend\": {\"tracegroupgap\": 0}, \"margin\": {\"t\": 60}, \"template\": {\"data\": {\"bar\": [{\"error_x\": {\"color\": \"#2a3f5f\"}, \"error_y\": {\"color\": \"#2a3f5f\"}, \"marker\": {\"line\": {\"color\": \"#E5ECF6\", \"width\": 0.5}}, \"type\": \"bar\"}], \"barpolar\": [{\"marker\": {\"line\": {\"color\": \"#E5ECF6\", \"width\": 0.5}}, \"type\": \"barpolar\"}], \"carpet\": [{\"aaxis\": {\"endlinecolor\": \"#2a3f5f\", \"gridcolor\": \"white\", \"linecolor\": \"white\", \"minorgridcolor\": \"white\", \"startlinecolor\": \"#2a3f5f\"}, \"baxis\": {\"endlinecolor\": \"#2a3f5f\", \"gridcolor\": \"white\", \"linecolor\": \"white\", \"minorgridcolor\": \"white\", \"startlinecolor\": \"#2a3f5f\"}, \"type\": \"carpet\"}], \"choropleth\": [{\"colorbar\": {\"outlinewidth\": 0, \"ticks\": \"\"}, \"type\": \"choropleth\"}], \"contour\": [{\"colorbar\": {\"outlinewidth\": 0, \"ticks\": \"\"}, \"colorscale\": [[0.0, \"#0d0887\"], [0.1111111111111111, \"#46039f\"], [0.2222222222222222, \"#7201a8\"], [0.3333333333333333, \"#9c179e\"], [0.4444444444444444, \"#bd3786\"], [0.5555555555555556, \"#d8576b\"], [0.6666666666666666, \"#ed7953\"], [0.7777777777777778, \"#fb9f3a\"], [0.8888888888888888, \"#fdca26\"], [1.0, \"#f0f921\"]], \"type\": \"contour\"}], \"contourcarpet\": [{\"colorbar\": {\"outlinewidth\": 0, \"ticks\": \"\"}, \"type\": \"contourcarpet\"}], \"heatmap\": [{\"colorbar\": {\"outlinewidth\": 0, \"ticks\": \"\"}, \"colorscale\": [[0.0, \"#0d0887\"], [0.1111111111111111, \"#46039f\"], [0.2222222222222222, \"#7201a8\"], [0.3333333333333333, \"#9c179e\"], [0.4444444444444444, \"#bd3786\"], [0.5555555555555556, \"#d8576b\"], [0.6666666666666666, \"#ed7953\"], [0.7777777777777778, \"#fb9f3a\"], [0.8888888888888888, \"#fdca26\"], [1.0, \"#f0f921\"]], \"type\": \"heatmap\"}], \"heatmapgl\": [{\"colorbar\": {\"outlinewidth\": 0, \"ticks\": \"\"}, \"colorscale\": [[0.0, \"#0d0887\"], [0.1111111111111111, \"#46039f\"], [0.2222222222222222, \"#7201a8\"], [0.3333333333333333, \"#9c179e\"], [0.4444444444444444, \"#bd3786\"], [0.5555555555555556, \"#d8576b\"], [0.6666666666666666, \"#ed7953\"], [0.7777777777777778, \"#fb9f3a\"], [0.8888888888888888, \"#fdca26\"], [1.0, \"#f0f921\"]], \"type\": \"heatmapgl\"}], \"histogram\": [{\"marker\": {\"colorbar\": {\"outlinewidth\": 0, \"ticks\": \"\"}}, \"type\": \"histogram\"}], \"histogram2d\": [{\"colorbar\": {\"outlinewidth\": 0, \"ticks\": \"\"}, \"colorscale\": [[0.0, \"#0d0887\"], [0.1111111111111111, \"#46039f\"], [0.2222222222222222, \"#7201a8\"], [0.3333333333333333, \"#9c179e\"], [0.4444444444444444, \"#bd3786\"], [0.5555555555555556, \"#d8576b\"], [0.6666666666666666, \"#ed7953\"], [0.7777777777777778, \"#fb9f3a\"], [0.8888888888888888, \"#fdca26\"], [1.0, \"#f0f921\"]], \"type\": \"histogram2d\"}], \"histogram2dcontour\": [{\"colorbar\": {\"outlinewidth\": 0, \"ticks\": \"\"}, \"colorscale\": [[0.0, \"#0d0887\"], [0.1111111111111111, \"#46039f\"], [0.2222222222222222, \"#7201a8\"], [0.3333333333333333, \"#9c179e\"], [0.4444444444444444, \"#bd3786\"], [0.5555555555555556, \"#d8576b\"], [0.6666666666666666, \"#ed7953\"], [0.7777777777777778, \"#fb9f3a\"], [0.8888888888888888, \"#fdca26\"], [1.0, \"#f0f921\"]], \"type\": \"histogram2dcontour\"}], \"mesh3d\": [{\"colorbar\": {\"outlinewidth\": 0, \"ticks\": \"\"}, \"type\": \"mesh3d\"}], \"parcoords\": [{\"line\": {\"colorbar\": {\"outlinewidth\": 0, \"ticks\": \"\"}}, \"type\": \"parcoords\"}], \"pie\": [{\"automargin\": true, \"type\": \"pie\"}], \"scatter\": [{\"marker\": {\"colorbar\": {\"outlinewidth\": 0, \"ticks\": \"\"}}, \"type\": \"scatter\"}], \"scatter3d\": [{\"line\": {\"colorbar\": {\"outlinewidth\": 0, \"ticks\": \"\"}}, \"marker\": {\"colorbar\": {\"outlinewidth\": 0, \"ticks\": \"\"}}, \"type\": \"scatter3d\"}], \"scattercarpet\": [{\"marker\": {\"colorbar\": {\"outlinewidth\": 0, \"ticks\": \"\"}}, \"type\": \"scattercarpet\"}], \"scattergeo\": [{\"marker\": {\"colorbar\": {\"outlinewidth\": 0, \"ticks\": \"\"}}, \"type\": \"scattergeo\"}], \"scattergl\": [{\"marker\": {\"colorbar\": {\"outlinewidth\": 0, \"ticks\": \"\"}}, \"type\": \"scattergl\"}], \"scattermapbox\": [{\"marker\": {\"colorbar\": {\"outlinewidth\": 0, \"ticks\": \"\"}}, \"type\": \"scattermapbox\"}], \"scatterpolar\": [{\"marker\": {\"colorbar\": {\"outlinewidth\": 0, \"ticks\": \"\"}}, \"type\": \"scatterpolar\"}], \"scatterpolargl\": [{\"marker\": {\"colorbar\": {\"outlinewidth\": 0, \"ticks\": \"\"}}, \"type\": \"scatterpolargl\"}], \"scatterternary\": [{\"marker\": {\"colorbar\": {\"outlinewidth\": 0, \"ticks\": \"\"}}, \"type\": \"scatterternary\"}], \"surface\": [{\"colorbar\": {\"outlinewidth\": 0, \"ticks\": \"\"}, \"colorscale\": [[0.0, \"#0d0887\"], [0.1111111111111111, \"#46039f\"], [0.2222222222222222, \"#7201a8\"], [0.3333333333333333, \"#9c179e\"], [0.4444444444444444, \"#bd3786\"], [0.5555555555555556, \"#d8576b\"], [0.6666666666666666, \"#ed7953\"], [0.7777777777777778, \"#fb9f3a\"], [0.8888888888888888, \"#fdca26\"], [1.0, \"#f0f921\"]], \"type\": \"surface\"}], \"table\": [{\"cells\": {\"fill\": {\"color\": \"#EBF0F8\"}, \"line\": {\"color\": \"white\"}}, \"header\": {\"fill\": {\"color\": \"#C8D4E3\"}, \"line\": {\"color\": \"white\"}}, \"type\": \"table\"}]}, \"layout\": {\"annotationdefaults\": {\"arrowcolor\": \"#2a3f5f\", \"arrowhead\": 0, \"arrowwidth\": 1}, \"coloraxis\": {\"colorbar\": {\"outlinewidth\": 0, \"ticks\": \"\"}}, \"colorscale\": {\"diverging\": [[0, \"#8e0152\"], [0.1, \"#c51b7d\"], [0.2, \"#de77ae\"], [0.3, \"#f1b6da\"], [0.4, \"#fde0ef\"], [0.5, \"#f7f7f7\"], [0.6, \"#e6f5d0\"], [0.7, \"#b8e186\"], [0.8, \"#7fbc41\"], [0.9, \"#4d9221\"], [1, \"#276419\"]], \"sequential\": [[0.0, \"#0d0887\"], [0.1111111111111111, \"#46039f\"], [0.2222222222222222, \"#7201a8\"], [0.3333333333333333, \"#9c179e\"], [0.4444444444444444, \"#bd3786\"], [0.5555555555555556, \"#d8576b\"], [0.6666666666666666, \"#ed7953\"], [0.7777777777777778, \"#fb9f3a\"], [0.8888888888888888, \"#fdca26\"], [1.0, \"#f0f921\"]], \"sequentialminus\": [[0.0, \"#0d0887\"], [0.1111111111111111, \"#46039f\"], [0.2222222222222222, \"#7201a8\"], [0.3333333333333333, \"#9c179e\"], [0.4444444444444444, \"#bd3786\"], [0.5555555555555556, \"#d8576b\"], [0.6666666666666666, \"#ed7953\"], [0.7777777777777778, \"#fb9f3a\"], [0.8888888888888888, \"#fdca26\"], [1.0, \"#f0f921\"]]}, \"colorway\": [\"#636efa\", \"#EF553B\", \"#00cc96\", \"#ab63fa\", \"#FFA15A\", \"#19d3f3\", \"#FF6692\", \"#B6E880\", \"#FF97FF\", \"#FECB52\"], \"font\": {\"color\": \"#2a3f5f\"}, \"geo\": {\"bgcolor\": \"white\", \"lakecolor\": \"white\", \"landcolor\": \"#E5ECF6\", \"showlakes\": true, \"showland\": true, \"subunitcolor\": \"white\"}, \"hoverlabel\": {\"align\": \"left\"}, \"hovermode\": \"closest\", \"mapbox\": {\"style\": \"light\"}, \"paper_bgcolor\": \"white\", \"plot_bgcolor\": \"#E5ECF6\", \"polar\": {\"angularaxis\": {\"gridcolor\": \"white\", \"linecolor\": \"white\", \"ticks\": \"\"}, \"bgcolor\": \"#E5ECF6\", \"radialaxis\": {\"gridcolor\": \"white\", \"linecolor\": \"white\", \"ticks\": \"\"}}, \"scene\": {\"xaxis\": {\"backgroundcolor\": \"#E5ECF6\", \"gridcolor\": \"white\", \"gridwidth\": 2, \"linecolor\": \"white\", \"showbackground\": true, \"ticks\": \"\", \"zerolinecolor\": \"white\"}, \"yaxis\": {\"backgroundcolor\": \"#E5ECF6\", \"gridcolor\": \"white\", \"gridwidth\": 2, \"linecolor\": \"white\", \"showbackground\": true, \"ticks\": \"\", \"zerolinecolor\": \"white\"}, \"zaxis\": {\"backgroundcolor\": \"#E5ECF6\", \"gridcolor\": \"white\", \"gridwidth\": 2, \"linecolor\": \"white\", \"showbackground\": true, \"ticks\": \"\", \"zerolinecolor\": \"white\"}}, \"shapedefaults\": {\"line\": {\"color\": \"#2a3f5f\"}}, \"ternary\": {\"aaxis\": {\"gridcolor\": \"white\", \"linecolor\": \"white\", \"ticks\": \"\"}, \"baxis\": {\"gridcolor\": \"white\", \"linecolor\": \"white\", \"ticks\": \"\"}, \"bgcolor\": \"#E5ECF6\", \"caxis\": {\"gridcolor\": \"white\", \"linecolor\": \"white\", \"ticks\": \"\"}}, \"title\": {\"x\": 0.05}, \"xaxis\": {\"automargin\": true, \"gridcolor\": \"white\", \"linecolor\": \"white\", \"ticks\": \"\", \"title\": {\"standoff\": 15}, \"zerolinecolor\": \"white\", \"zerolinewidth\": 2}, \"yaxis\": {\"automargin\": true, \"gridcolor\": \"white\", \"linecolor\": \"white\", \"ticks\": \"\", \"title\": {\"standoff\": 15}, \"zerolinecolor\": \"white\", \"zerolinewidth\": 2}}}, \"xaxis\": {\"anchor\": \"y\", \"domain\": [0.0, 1.0], \"title\": {\"text\": \"x\"}}, \"yaxis\": {\"anchor\": \"x\", \"domain\": [0.0, 1.0], \"title\": {\"text\": \"y\"}}},\n",
       "                        {\"responsive\": true}\n",
       "                    ).then(function(){\n",
       "                            \n",
       "var gd = document.getElementById('32dd8e3a-bc11-4e29-a498-4de980a507d2');\n",
       "var x = new MutationObserver(function (mutations, observer) {{\n",
       "        var display = window.getComputedStyle(gd).display;\n",
       "        if (!display || display === 'none') {{\n",
       "            console.log([gd, 'removed!']);\n",
       "            Plotly.purge(gd);\n",
       "            observer.disconnect();\n",
       "        }}\n",
       "}});\n",
       "\n",
       "// Listen for the removal of the full notebook cells\n",
       "var notebookContainer = gd.closest('#notebook-container');\n",
       "if (notebookContainer) {{\n",
       "    x.observe(notebookContainer, {childList: true});\n",
       "}}\n",
       "\n",
       "// Listen for the clearing of the current output cell\n",
       "var outputEl = gd.closest('.output');\n",
       "if (outputEl) {{\n",
       "    x.observe(outputEl, {childList: true});\n",
       "}}\n",
       "\n",
       "                        })\n",
       "                };\n",
       "                });\n",
       "            </script>\n",
       "        </div>"
      ]
     },
     "metadata": {},
     "output_type": "display_data"
    }
   ],
   "source": [
    "fig = px.scatter(x=df_test[\"beer_abv\"], y=pred_test_rf, height=800)\n",
    "fig.show()"
   ]
  },
  {
   "cell_type": "markdown",
   "metadata": {},
   "source": [
    "# Recommender System"
   ]
  },
  {
   "cell_type": "markdown",
   "metadata": {},
   "source": [
    "Adapted from: https://towardsdatascience.com/how-to-build-a-simple-recommender-system-in-python-375093c3fb7d"
   ]
  },
  {
   "cell_type": "code",
   "execution_count": 9,
   "metadata": {},
   "outputs": [],
   "source": [
    "df_recommender = df[df.review_count>100]"
   ]
  },
  {
   "cell_type": "code",
   "execution_count": 10,
   "metadata": {},
   "outputs": [],
   "source": [
    "warnings.filterwarnings('ignore')"
   ]
  },
  {
   "cell_type": "code",
   "execution_count": 11,
   "metadata": {},
   "outputs": [
    {
     "data": {
      "text/html": [
       "<div>\n",
       "<style scoped>\n",
       "    .dataframe tbody tr th:only-of-type {\n",
       "        vertical-align: middle;\n",
       "    }\n",
       "\n",
       "    .dataframe tbody tr th {\n",
       "        vertical-align: top;\n",
       "    }\n",
       "\n",
       "    .dataframe thead th {\n",
       "        text-align: right;\n",
       "    }\n",
       "</style>\n",
       "<table border=\"1\" class=\"dataframe\">\n",
       "  <thead>\n",
       "    <tr style=\"text-align: right;\">\n",
       "      <th>beer_beerid</th>\n",
       "      <th>5</th>\n",
       "      <th>6</th>\n",
       "      <th>7</th>\n",
       "      <th>9</th>\n",
       "      <th>10</th>\n",
       "      <th>14</th>\n",
       "      <th>15</th>\n",
       "      <th>17</th>\n",
       "      <th>19</th>\n",
       "      <th>23</th>\n",
       "      <th>...</th>\n",
       "      <th>74323</th>\n",
       "      <th>74390</th>\n",
       "      <th>74491</th>\n",
       "      <th>74530</th>\n",
       "      <th>74548</th>\n",
       "      <th>74579</th>\n",
       "      <th>74904</th>\n",
       "      <th>74986</th>\n",
       "      <th>75013</th>\n",
       "      <th>75086</th>\n",
       "    </tr>\n",
       "    <tr>\n",
       "      <th>review_profilename</th>\n",
       "      <th></th>\n",
       "      <th></th>\n",
       "      <th></th>\n",
       "      <th></th>\n",
       "      <th></th>\n",
       "      <th></th>\n",
       "      <th></th>\n",
       "      <th></th>\n",
       "      <th></th>\n",
       "      <th></th>\n",
       "      <th></th>\n",
       "      <th></th>\n",
       "      <th></th>\n",
       "      <th></th>\n",
       "      <th></th>\n",
       "      <th></th>\n",
       "      <th></th>\n",
       "      <th></th>\n",
       "      <th></th>\n",
       "      <th></th>\n",
       "      <th></th>\n",
       "    </tr>\n",
       "  </thead>\n",
       "  <tbody>\n",
       "    <tr>\n",
       "      <th>0110x011</th>\n",
       "      <td>NaN</td>\n",
       "      <td>NaN</td>\n",
       "      <td>NaN</td>\n",
       "      <td>NaN</td>\n",
       "      <td>NaN</td>\n",
       "      <td>NaN</td>\n",
       "      <td>NaN</td>\n",
       "      <td>NaN</td>\n",
       "      <td>NaN</td>\n",
       "      <td>3.4</td>\n",
       "      <td>...</td>\n",
       "      <td>NaN</td>\n",
       "      <td>NaN</td>\n",
       "      <td>NaN</td>\n",
       "      <td>NaN</td>\n",
       "      <td>NaN</td>\n",
       "      <td>NaN</td>\n",
       "      <td>NaN</td>\n",
       "      <td>NaN</td>\n",
       "      <td>NaN</td>\n",
       "      <td>NaN</td>\n",
       "    </tr>\n",
       "    <tr>\n",
       "      <th>01Ryan10</th>\n",
       "      <td>NaN</td>\n",
       "      <td>NaN</td>\n",
       "      <td>NaN</td>\n",
       "      <td>NaN</td>\n",
       "      <td>NaN</td>\n",
       "      <td>NaN</td>\n",
       "      <td>NaN</td>\n",
       "      <td>NaN</td>\n",
       "      <td>NaN</td>\n",
       "      <td>NaN</td>\n",
       "      <td>...</td>\n",
       "      <td>NaN</td>\n",
       "      <td>NaN</td>\n",
       "      <td>NaN</td>\n",
       "      <td>NaN</td>\n",
       "      <td>NaN</td>\n",
       "      <td>NaN</td>\n",
       "      <td>NaN</td>\n",
       "      <td>NaN</td>\n",
       "      <td>NaN</td>\n",
       "      <td>NaN</td>\n",
       "    </tr>\n",
       "    <tr>\n",
       "      <th>02maxima</th>\n",
       "      <td>NaN</td>\n",
       "      <td>NaN</td>\n",
       "      <td>NaN</td>\n",
       "      <td>NaN</td>\n",
       "      <td>NaN</td>\n",
       "      <td>NaN</td>\n",
       "      <td>NaN</td>\n",
       "      <td>NaN</td>\n",
       "      <td>NaN</td>\n",
       "      <td>NaN</td>\n",
       "      <td>...</td>\n",
       "      <td>NaN</td>\n",
       "      <td>NaN</td>\n",
       "      <td>NaN</td>\n",
       "      <td>NaN</td>\n",
       "      <td>NaN</td>\n",
       "      <td>NaN</td>\n",
       "      <td>NaN</td>\n",
       "      <td>NaN</td>\n",
       "      <td>NaN</td>\n",
       "      <td>NaN</td>\n",
       "    </tr>\n",
       "    <tr>\n",
       "      <th>03SVTCobra</th>\n",
       "      <td>NaN</td>\n",
       "      <td>NaN</td>\n",
       "      <td>NaN</td>\n",
       "      <td>NaN</td>\n",
       "      <td>NaN</td>\n",
       "      <td>NaN</td>\n",
       "      <td>NaN</td>\n",
       "      <td>NaN</td>\n",
       "      <td>NaN</td>\n",
       "      <td>NaN</td>\n",
       "      <td>...</td>\n",
       "      <td>NaN</td>\n",
       "      <td>NaN</td>\n",
       "      <td>NaN</td>\n",
       "      <td>NaN</td>\n",
       "      <td>NaN</td>\n",
       "      <td>NaN</td>\n",
       "      <td>NaN</td>\n",
       "      <td>NaN</td>\n",
       "      <td>NaN</td>\n",
       "      <td>NaN</td>\n",
       "    </tr>\n",
       "    <tr>\n",
       "      <th>04101Brewer</th>\n",
       "      <td>NaN</td>\n",
       "      <td>NaN</td>\n",
       "      <td>NaN</td>\n",
       "      <td>NaN</td>\n",
       "      <td>NaN</td>\n",
       "      <td>NaN</td>\n",
       "      <td>NaN</td>\n",
       "      <td>NaN</td>\n",
       "      <td>NaN</td>\n",
       "      <td>NaN</td>\n",
       "      <td>...</td>\n",
       "      <td>NaN</td>\n",
       "      <td>NaN</td>\n",
       "      <td>NaN</td>\n",
       "      <td>NaN</td>\n",
       "      <td>NaN</td>\n",
       "      <td>NaN</td>\n",
       "      <td>NaN</td>\n",
       "      <td>NaN</td>\n",
       "      <td>NaN</td>\n",
       "      <td>NaN</td>\n",
       "    </tr>\n",
       "  </tbody>\n",
       "</table>\n",
       "<p>5 rows × 3060 columns</p>\n",
       "</div>"
      ],
      "text/plain": [
       "beer_beerid         5      6      7      9      10     14     15     17     \\\n",
       "review_profilename                                                           \n",
       "0110x011              NaN    NaN    NaN    NaN    NaN    NaN    NaN    NaN   \n",
       "01Ryan10              NaN    NaN    NaN    NaN    NaN    NaN    NaN    NaN   \n",
       "02maxima              NaN    NaN    NaN    NaN    NaN    NaN    NaN    NaN   \n",
       "03SVTCobra            NaN    NaN    NaN    NaN    NaN    NaN    NaN    NaN   \n",
       "04101Brewer           NaN    NaN    NaN    NaN    NaN    NaN    NaN    NaN   \n",
       "\n",
       "beer_beerid         19     23     ...  74323  74390  74491  74530  74548  \\\n",
       "review_profilename                ...                                      \n",
       "0110x011              NaN    3.4  ...    NaN    NaN    NaN    NaN    NaN   \n",
       "01Ryan10              NaN    NaN  ...    NaN    NaN    NaN    NaN    NaN   \n",
       "02maxima              NaN    NaN  ...    NaN    NaN    NaN    NaN    NaN   \n",
       "03SVTCobra            NaN    NaN  ...    NaN    NaN    NaN    NaN    NaN   \n",
       "04101Brewer           NaN    NaN  ...    NaN    NaN    NaN    NaN    NaN   \n",
       "\n",
       "beer_beerid         74579  74904  74986  75013  75086  \n",
       "review_profilename                                     \n",
       "0110x011              NaN    NaN    NaN    NaN    NaN  \n",
       "01Ryan10              NaN    NaN    NaN    NaN    NaN  \n",
       "02maxima              NaN    NaN    NaN    NaN    NaN  \n",
       "03SVTCobra            NaN    NaN    NaN    NaN    NaN  \n",
       "04101Brewer           NaN    NaN    NaN    NaN    NaN  \n",
       "\n",
       "[5 rows x 3060 columns]"
      ]
     },
     "execution_count": 11,
     "metadata": {},
     "output_type": "execute_result"
    }
   ],
   "source": [
    "beer_matrix = df_recommender.pivot_table(index='review_profilename', columns='beer_beerid', values='review_mean')\n",
    "beer_matrix.head()"
   ]
  },
  {
   "cell_type": "code",
   "execution_count": 12,
   "metadata": {},
   "outputs": [
    {
     "data": {
      "text/html": [
       "<div>\n",
       "<style scoped>\n",
       "    .dataframe tbody tr th:only-of-type {\n",
       "        vertical-align: middle;\n",
       "    }\n",
       "\n",
       "    .dataframe tbody tr th {\n",
       "        vertical-align: top;\n",
       "    }\n",
       "\n",
       "    .dataframe thead th {\n",
       "        text-align: right;\n",
       "    }\n",
       "</style>\n",
       "<table border=\"1\" class=\"dataframe\">\n",
       "  <thead>\n",
       "    <tr style=\"text-align: right;\">\n",
       "      <th></th>\n",
       "      <th>review_overall</th>\n",
       "      <th>review_aroma</th>\n",
       "      <th>review_appearance</th>\n",
       "      <th>review_palate</th>\n",
       "      <th>review_taste</th>\n",
       "      <th>beer_abv</th>\n",
       "      <th>review_mean</th>\n",
       "      <th>review_count</th>\n",
       "    </tr>\n",
       "    <tr>\n",
       "      <th>beer_beerid</th>\n",
       "      <th></th>\n",
       "      <th></th>\n",
       "      <th></th>\n",
       "      <th></th>\n",
       "      <th></th>\n",
       "      <th></th>\n",
       "      <th></th>\n",
       "      <th></th>\n",
       "    </tr>\n",
       "  </thead>\n",
       "  <tbody>\n",
       "    <tr>\n",
       "      <th>5</th>\n",
       "      <td>3.549528</td>\n",
       "      <td>3.205189</td>\n",
       "      <td>3.485849</td>\n",
       "      <td>3.318396</td>\n",
       "      <td>3.340802</td>\n",
       "      <td>4.5</td>\n",
       "      <td>3.379953</td>\n",
       "      <td>424</td>\n",
       "    </tr>\n",
       "    <tr>\n",
       "      <th>6</th>\n",
       "      <td>3.706956</td>\n",
       "      <td>3.515964</td>\n",
       "      <td>3.836374</td>\n",
       "      <td>3.513113</td>\n",
       "      <td>3.645382</td>\n",
       "      <td>5.6</td>\n",
       "      <td>3.643558</td>\n",
       "      <td>877</td>\n",
       "    </tr>\n",
       "    <tr>\n",
       "      <th>7</th>\n",
       "      <td>3.266313</td>\n",
       "      <td>3.179059</td>\n",
       "      <td>3.251138</td>\n",
       "      <td>3.106980</td>\n",
       "      <td>3.101669</td>\n",
       "      <td>4.2</td>\n",
       "      <td>3.181032</td>\n",
       "      <td>659</td>\n",
       "    </tr>\n",
       "    <tr>\n",
       "      <th>9</th>\n",
       "      <td>3.400862</td>\n",
       "      <td>2.853448</td>\n",
       "      <td>3.051724</td>\n",
       "      <td>3.103448</td>\n",
       "      <td>3.043103</td>\n",
       "      <td>4.2</td>\n",
       "      <td>3.090517</td>\n",
       "      <td>116</td>\n",
       "    </tr>\n",
       "    <tr>\n",
       "      <th>10</th>\n",
       "      <td>3.826117</td>\n",
       "      <td>3.747207</td>\n",
       "      <td>3.936453</td>\n",
       "      <td>3.742318</td>\n",
       "      <td>3.767458</td>\n",
       "      <td>7.0</td>\n",
       "      <td>3.803911</td>\n",
       "      <td>716</td>\n",
       "    </tr>\n",
       "  </tbody>\n",
       "</table>\n",
       "</div>"
      ],
      "text/plain": [
       "             review_overall  review_aroma  review_appearance  review_palate  \\\n",
       "beer_beerid                                                                   \n",
       "5                  3.549528      3.205189           3.485849       3.318396   \n",
       "6                  3.706956      3.515964           3.836374       3.513113   \n",
       "7                  3.266313      3.179059           3.251138       3.106980   \n",
       "9                  3.400862      2.853448           3.051724       3.103448   \n",
       "10                 3.826117      3.747207           3.936453       3.742318   \n",
       "\n",
       "             review_taste  beer_abv  review_mean  review_count  \n",
       "beer_beerid                                                     \n",
       "5                3.340802       4.5     3.379953           424  \n",
       "6                3.645382       5.6     3.643558           877  \n",
       "7                3.101669       4.2     3.181032           659  \n",
       "9                3.043103       4.2     3.090517           116  \n",
       "10               3.767458       7.0     3.803911           716  "
      ]
     },
     "execution_count": 12,
     "metadata": {},
     "output_type": "execute_result"
    }
   ],
   "source": [
    "ratings = pd.DataFrame(df_recommender.groupby('beer_beerid').mean())\n",
    "ratings.head()"
   ]
  },
  {
   "cell_type": "code",
   "execution_count": 13,
   "metadata": {},
   "outputs": [],
   "source": [
    "words = {}\n",
    "\n",
    "def get_words():\n",
    "    unique_beer_names = df_recommender.beer_name.unique()\n",
    "    for beer_name in unique_beer_names:\n",
    "        words[beer_name] = {}\n",
    "\n",
    "get_words()\n",
    "\n",
    "autocomplete = AutoComplete(words=words)"
   ]
  },
  {
   "cell_type": "code",
   "execution_count": 14,
   "metadata": {},
   "outputs": [],
   "source": [
    "outs = []\n",
    "\n",
    "def lookup_beer(beer_name):\n",
    "    if (len(outs) > 0):\n",
    "        for out in outs:\n",
    "            out.clear_output()\n",
    "    out_lookup = widgets.Output()\n",
    "    basis_beer = df_recommender[df_recommender.beer_name.str.lower() == beer_name.lower()]\n",
    "    basis_beer_id = basis_beer.beer_beerid.iloc[0]\n",
    "    \n",
    "    user_rating = beer_matrix[basis_beer_id]\n",
    "    # user_rating.head()\n",
    "    \n",
    "    similar_to_beer=beer_matrix.corrwith(user_rating)\n",
    "    # similar_to_beer.head()\n",
    "    \n",
    "    corr = pd.DataFrame(similar_to_beer, columns=['Correlation'])\n",
    "    corr.dropna(inplace=True)\n",
    "    # corr.head()\n",
    "    \n",
    "    corr = corr.join(ratings['review_count'])\n",
    "    # corr.sort_values(by='Correlation', ascending=False).head(10)\n",
    "    \n",
    "    basis_beer = df_recommender[df_recommender.beer_beerid == basis_beer_id]\n",
    "\n",
    "    recommended_beer_id = corr.sort_values(by='Correlation', ascending=False).index.values[1]\n",
    "    recommended_beer = df_recommender[df_recommender.beer_beerid == recommended_beer_id]\n",
    "    #basis_beer = df[df.beer_beerid == corr_2093.iloc[1]]\n",
    "    with out_lookup:\n",
    "        display(HTML(\"<p>You might like \" + str(recommended_beer.beer_name.iloc[0]) + \".  Cheers!!</p>\"))\n",
    "        brewery_id = str(recommended_beer.brewery_id.iloc[0])\n",
    "        link = \"https://www.beeradvocate.com/beer/profile/\" + brewery_id + \"/\" + str(recommended_beer_id)\n",
    "        display(HTML('<a href = \"' + link + '\" target=\"_blank\">' + recommended_beer.beer_name.iloc[0] + '</a> (on beeradvocate.com)'))\n",
    "    display(out_lookup)\n",
    "    outs.append(out_lookup)\n",
    "\n",
    "    "
   ]
  },
  {
   "cell_type": "code",
   "execution_count": 15,
   "metadata": {},
   "outputs": [
    {
     "data": {
      "text/html": [
       "<h1>Beer Machine</h1>"
      ],
      "text/plain": [
       "<IPython.core.display.HTML object>"
      ]
     },
     "metadata": {},
     "output_type": "display_data"
    },
    {
     "data": {
      "text/html": [
       "<p>Type in the name of the beer you are currently enjoying and our system will recommend you a new one.</p>"
      ],
      "text/plain": [
       "<IPython.core.display.HTML object>"
      ]
     },
     "metadata": {},
     "output_type": "display_data"
    },
    {
     "data": {
      "application/vnd.jupyter.widget-view+json": {
       "model_id": "0ce6632a2eac4572b25eb9ec8ea4e07d",
       "version_major": 2,
       "version_minor": 0
      },
      "text/plain": [
       "Text(value='', description='Beer name:', placeholder='90 Minute IPA')"
      ]
     },
     "metadata": {},
     "output_type": "display_data"
    },
    {
     "data": {
      "application/vnd.jupyter.widget-view+json": {
       "model_id": "8a1c3c6a895b4d22b490ec8ea1a6890e",
       "version_major": 2,
       "version_minor": 0
      },
      "text/plain": [
       "Text(value='', description='Auto:', placeholder='Magic')"
      ]
     },
     "metadata": {},
     "output_type": "display_data"
    },
    {
     "data": {
      "application/vnd.jupyter.widget-view+json": {
       "model_id": "73941ac9bcde449487625dd88041b191",
       "version_major": 2,
       "version_minor": 0
      },
      "text/plain": [
       "Button(description='Search', icon='beer', style=ButtonStyle(), tooltip='Click me to get a beer recommendation'…"
      ]
     },
     "metadata": {},
     "output_type": "display_data"
    },
    {
     "data": {
      "text/html": [
       "<p></br>Alternatively you can give one of the suggested beers a try.</p>"
      ],
      "text/plain": [
       "<IPython.core.display.HTML object>"
      ]
     },
     "metadata": {},
     "output_type": "display_data"
    },
    {
     "data": {
      "application/vnd.jupyter.widget-view+json": {
       "model_id": "20be71c2afdd42e7a907903a06ec4fa9",
       "version_major": 2,
       "version_minor": 0
      },
      "text/plain": [
       "IntSlider(value=7, continuous_update=False, description='#Suggestions:', max=50, min=1)"
      ]
     },
     "metadata": {},
     "output_type": "display_data"
    },
    {
     "data": {
      "application/vnd.jupyter.widget-view+json": {
       "model_id": "734b74b07e5743f4888446b5e07ad84f",
       "version_major": 2,
       "version_minor": 0
      },
      "text/plain": [
       "Dropdown(description='Sort by:', index=7, options=('review_overall', 'review_aroma', 'review_appearance', 'rev…"
      ]
     },
     "metadata": {},
     "output_type": "display_data"
    },
    {
     "data": {
      "application/vnd.jupyter.widget-view+json": {
       "model_id": "2a02334e9321475e9018f3600b27d4cf",
       "version_major": 2,
       "version_minor": 0
      },
      "text/plain": [
       "Dropdown(description='Suggested:', options=('', '', '', '', '', '', ''), value='')"
      ]
     },
     "metadata": {},
     "output_type": "display_data"
    },
    {
     "data": {
      "application/vnd.jupyter.widget-view+json": {
       "model_id": "7ee9381cd6bc4505a1de682250f1127c",
       "version_major": 2,
       "version_minor": 0
      },
      "text/plain": [
       "Button(description='Search', icon='beer', style=ButtonStyle(), tooltip='Click me to get a beer recommendation'…"
      ]
     },
     "metadata": {},
     "output_type": "display_data"
    },
    {
     "data": {
      "application/vnd.jupyter.widget-view+json": {
       "model_id": "f905701a2fb74b0c8ae21de44ca6a958",
       "version_major": 2,
       "version_minor": 0
      },
      "text/plain": [
       "Output()"
      ]
     },
     "metadata": {},
     "output_type": "display_data"
    },
    {
     "data": {
      "application/vnd.jupyter.widget-view+json": {
       "model_id": "ed51b528936f4a248fe37c9a8bb84835",
       "version_major": 2,
       "version_minor": 0
      },
      "text/plain": [
       "Output()"
      ]
     },
     "metadata": {},
     "output_type": "display_data"
    },
    {
     "data": {
      "application/vnd.jupyter.widget-view+json": {
       "model_id": "6973f053cf0e48c685ad05af7983fd16",
       "version_major": 2,
       "version_minor": 0
      },
      "text/plain": [
       "HBox(children=(FloatProgress(value=0.0, max=7.0), HTML(value='')))"
      ]
     },
     "metadata": {},
     "output_type": "display_data"
    },
    {
     "name": "stdout",
     "output_type": "stream",
     "text": [
      "\n"
     ]
    },
    {
     "data": {
      "application/vnd.jupyter.widget-view+json": {
       "model_id": "2cafb2b8b0cd41a78f65ab9630e6d408",
       "version_major": 2,
       "version_minor": 0
      },
      "text/plain": [
       "Output()"
      ]
     },
     "metadata": {},
     "output_type": "display_data"
    },
    {
     "data": {
      "application/vnd.jupyter.widget-view+json": {
       "model_id": "a15335aa6ac949cc872e2b1f30f826ef",
       "version_major": 2,
       "version_minor": 0
      },
      "text/plain": [
       "Output()"
      ]
     },
     "metadata": {},
     "output_type": "display_data"
    },
    {
     "data": {
      "application/vnd.jupyter.widget-view+json": {
       "model_id": "920cab41f36248f5b9deee99c695f3ac",
       "version_major": 2,
       "version_minor": 0
      },
      "text/plain": [
       "Output()"
      ]
     },
     "metadata": {},
     "output_type": "display_data"
    },
    {
     "data": {
      "application/vnd.jupyter.widget-view+json": {
       "model_id": "9f8f1c274f714f37b915741dce34a472",
       "version_major": 2,
       "version_minor": 0
      },
      "text/plain": [
       "Output()"
      ]
     },
     "metadata": {},
     "output_type": "display_data"
    },
    {
     "data": {
      "application/vnd.jupyter.widget-view+json": {
       "model_id": "f632f361660d41f7b9dc6c9c7fd0668f",
       "version_major": 2,
       "version_minor": 0
      },
      "text/plain": [
       "HBox(children=(FloatProgress(value=0.0, max=7.0), HTML(value='')))"
      ]
     },
     "metadata": {},
     "output_type": "display_data"
    },
    {
     "name": "stdout",
     "output_type": "stream",
     "text": [
      "\n"
     ]
    },
    {
     "data": {
      "application/vnd.jupyter.widget-view+json": {
       "model_id": "eec9ae778cbc4e92964a5a0dc94cfcf6",
       "version_major": 2,
       "version_minor": 0
      },
      "text/plain": [
       "Output()"
      ]
     },
     "metadata": {},
     "output_type": "display_data"
    },
    {
     "data": {
      "application/vnd.jupyter.widget-view+json": {
       "model_id": "58a02ce90ff248dd94b4a9e6e906d76a",
       "version_major": 2,
       "version_minor": 0
      },
      "text/plain": [
       "Output()"
      ]
     },
     "metadata": {},
     "output_type": "display_data"
    }
   ],
   "source": [
    "# TODO: This only works in Notebook but not in JupyterLab Yet..\n",
    "out = widgets.Output()\n",
    "\n",
    "n_of_suggestions = widgets.IntSlider(\n",
    "    value=7,\n",
    "    min=1,\n",
    "    max=50,\n",
    "    step=1,\n",
    "    description='#Suggestions:',\n",
    "    disabled=False,\n",
    "    continuous_update=False,\n",
    "    orientation='horizontal',\n",
    "    readout=True,\n",
    "    readout_format='d'\n",
    ")\n",
    "\n",
    "suggestions = [\"\" for i in range(n_of_suggestions.value)]\n",
    "\n",
    "def sort(change): \n",
    "    if change['type'] == 'change' and change['name'] == 'value':\n",
    "        sorted_ratings = ratings.sort_values(suggestion_criterion.value, ascending=False)\n",
    "        \n",
    "        suggestions = [\"\" for i in range(n_of_suggestions.value)]\n",
    "        \n",
    "        for i in tqdm(range(n_of_suggestions.value)):\n",
    "            suggested_beer_id = sorted_ratings.index.values[i]\n",
    "            suggested_beer = df_recommender[df_recommender.beer_beerid == suggested_beer_id]\n",
    "            suggestions[i] = suggested_beer.beer_name.iloc[0]\n",
    "        \n",
    "        suggestion.options = suggestions\n",
    "        \n",
    "suggestion_criterion = widgets.Dropdown(\n",
    "    options=[\"review_overall\", \"review_aroma\", \"review_appearance\", \"review_palate\", \"review_taste\", \"beer_abv\", \"review_mean\", \"review_count\"],\n",
    "    value='review_count',\n",
    "    description='Sort by:',\n",
    "    disabled=False,\n",
    ")\n",
    "\n",
    "\n",
    "suggestion_criterion.observe(sort)\n",
    "\n",
    "# --------------------------------------------------------------------------------------\n",
    "\n",
    "display(HTML(\"<h1>Beer Machine</h1>\"))\n",
    "display(HTML(\"<p>Type in the name of the beer you are currently enjoying and our system will recommend you a new one.</p>\"))\n",
    "basis_beer_name = widgets.Text(placeholder='90 Minute IPA',\n",
    "    description='Beer name:')\n",
    "\n",
    "autocomplete_beer_name = widgets.Text(placeholder='Magic',\n",
    "    description='Auto:')\n",
    "\n",
    "\n",
    "def complete(change):\n",
    "    if change['type'] == 'change' and change['name'] == 'value':\n",
    "        search = autocomplete.search(word=basis_beer_name.value, max_cost=3, size=3)\n",
    "        if (len(search) > 0 and len(search[0]) > 0):\n",
    "            autocomplete_beer_name.value = search[0][0]\n",
    "\n",
    "basis_beer_name.observe(complete)\n",
    "\n",
    "display(basis_beer_name)\n",
    "display(autocomplete_beer_name)\n",
    "\n",
    "button_manual = widgets.Button(\n",
    "    description='Search',\n",
    "    disabled=False,\n",
    "    button_style='', # 'success', 'info', 'warning', 'danger' or ''\n",
    "    tooltip='Click me to get a beer recommendation',\n",
    "    icon='beer' # (FontAwesome names without the `fa-` prefix)\n",
    ")\n",
    "\n",
    "display(button_manual)\n",
    "\n",
    "def handle_submit(sender):\n",
    "    out = widgets.Output()\n",
    "    if (len(autocomplete_beer_name.value) == 0):\n",
    "        print(\"Type in the name of a beer first!\")\n",
    "        return\n",
    "    with out:\n",
    "        display(HTML(\"<p>Looking for a recommendation based on the beer: \" + autocomplete_beer_name.value + \"</p>\"))\n",
    "        display(HTML('<img src=\"https://media.giphy.com/media/luSZvotp8VSGA/giphy.gif\" alt=\"this slowpoke moves\"  width=250/>'))\n",
    "    display(out)\n",
    "    lookup_beer(autocomplete_beer_name.value)\n",
    "    out.clear_output()\n",
    "    \n",
    "button_manual.on_click(handle_submit)\n",
    "\n",
    "display(HTML(\"<p></br>Alternatively you can give one of the suggested beers a try.</p>\"))\n",
    "\n",
    "suggestion = widgets.Dropdown(\n",
    "    options=suggestions,\n",
    "    value=suggestions[0],\n",
    "    description='Suggested:',\n",
    "    disabled=False,\n",
    ")\n",
    "display(n_of_suggestions)\n",
    "display(suggestion_criterion)\n",
    "display(suggestion)\n",
    "\n",
    "button_suggested = widgets.Button(\n",
    "    description='Search',\n",
    "    disabled=False,\n",
    "    button_style='', # 'success', 'info', 'warning', 'danger' or ''\n",
    "    tooltip='Click me to get a beer recommendation',\n",
    "    icon='beer' # (FontAwesome names without the `fa-` prefix)\n",
    ")\n",
    "\n",
    "display(button_suggested)\n",
    "\n",
    "def handle_submit_suggested(sender):\n",
    "    out = widgets.Output()\n",
    "    with out:\n",
    "        display(HTML(\"<p>Looking for a recommendation based on the beer: \" + suggestion.value + \"</p>\"))\n",
    "        display(HTML('<img src=\"https://media.giphy.com/media/luSZvotp8VSGA/giphy.gif\" alt=\"this slowpoke moves\"  width=250/>'))\n",
    "    display(out)\n",
    "    lookup_beer(suggestion.value)\n",
    "    out.clear_output()\n",
    "    \n",
    "button_suggested.on_click(handle_submit_suggested)"
   ]
  },
  {
   "cell_type": "code",
   "execution_count": null,
   "metadata": {},
   "outputs": [],
   "source": []
  }
 ],
 "metadata": {
  "kernelspec": {
   "display_name": "Python 3",
   "language": "python",
   "name": "python3"
  },
  "language_info": {
   "codemirror_mode": {
    "name": "ipython",
    "version": 3
   },
   "file_extension": ".py",
   "mimetype": "text/x-python",
   "name": "python",
   "nbconvert_exporter": "python",
   "pygments_lexer": "ipython3",
   "version": "3.7.1"
  }
 },
 "nbformat": 4,
 "nbformat_minor": 4
}
